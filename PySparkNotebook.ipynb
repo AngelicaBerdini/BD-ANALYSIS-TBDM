{
  "metadata": {
    "kernelspec": {
      "language": "python",
      "display_name": "Python 3",
      "name": "python3"
    },
    "language_info": {
      "name": "python",
      "version": "3.7.6",
      "mimetype": "text/x-python",
      "codemirror_mode": {
        "name": "ipython",
        "version": 3
      },
      "pygments_lexer": "ipython3",
      "nbconvert_exporter": "python",
      "file_extension": ".py"
    },
    "kaggle": {
      "accelerator": "none",
      "dataSources": [
        {
          "sourceId": 1337131,
          "sourceType": "datasetVersion",
          "datasetId": 776642
        },
        {
          "sourceId": 1337140,
          "sourceType": "datasetVersion",
          "datasetId": 776647
        },
        {
          "sourceId": 3316532,
          "sourceType": "datasetVersion",
          "datasetId": 10100
        }
      ],
      "dockerImageVersionId": 29980,
      "isInternetEnabled": true,
      "language": "python",
      "sourceType": "notebook",
      "isGpuEnabled": false
    },
    "colab": {
      "name": "ALS Model in PySpark",
      "provenance": [],
      "include_colab_link": true
    },
    "widgets": {
      "application/vnd.jupyter.widget-state+json": {
        "f5cb13668d2b4608bc7819a2ee62c840": {
          "model_module": "@jupyter-widgets/controls",
          "model_name": "HBoxModel",
          "model_module_version": "1.5.0",
          "state": {
            "_dom_classes": [],
            "_model_module": "@jupyter-widgets/controls",
            "_model_module_version": "1.5.0",
            "_model_name": "HBoxModel",
            "_view_count": null,
            "_view_module": "@jupyter-widgets/controls",
            "_view_module_version": "1.5.0",
            "_view_name": "HBoxView",
            "box_style": "",
            "children": [
              "IPY_MODEL_c6eef241172d4937840a9686900291f6",
              "IPY_MODEL_140a500a6beb488ba7ab46fa608033c0",
              "IPY_MODEL_32b5b950aef84aa58ca0609f00e940a4"
            ],
            "layout": "IPY_MODEL_ad0141f96c58453bb7dc5b6efa47ecc0"
          }
        },
        "c6eef241172d4937840a9686900291f6": {
          "model_module": "@jupyter-widgets/controls",
          "model_name": "HTMLModel",
          "model_module_version": "1.5.0",
          "state": {
            "_dom_classes": [],
            "_model_module": "@jupyter-widgets/controls",
            "_model_module_version": "1.5.0",
            "_model_name": "HTMLModel",
            "_view_count": null,
            "_view_module": "@jupyter-widgets/controls",
            "_view_module_version": "1.5.0",
            "_view_name": "HTMLView",
            "description": "",
            "description_tooltip": null,
            "layout": "IPY_MODEL_80e0b146270a48d2b156a98a4f13eb0a",
            "placeholder": "​",
            "style": "IPY_MODEL_8540ed20a3ad45d2839a2167dc55f3dc",
            "value": "config.json: 100%"
          }
        },
        "140a500a6beb488ba7ab46fa608033c0": {
          "model_module": "@jupyter-widgets/controls",
          "model_name": "FloatProgressModel",
          "model_module_version": "1.5.0",
          "state": {
            "_dom_classes": [],
            "_model_module": "@jupyter-widgets/controls",
            "_model_module_version": "1.5.0",
            "_model_name": "FloatProgressModel",
            "_view_count": null,
            "_view_module": "@jupyter-widgets/controls",
            "_view_module_version": "1.5.0",
            "_view_name": "ProgressView",
            "bar_style": "success",
            "description": "",
            "description_tooltip": null,
            "layout": "IPY_MODEL_7a15109300c441c3909a5e77ef7c7c15",
            "max": 629,
            "min": 0,
            "orientation": "horizontal",
            "style": "IPY_MODEL_c1e6f5fac2bd4216bd6a2bbf1575865c",
            "value": 629
          }
        },
        "32b5b950aef84aa58ca0609f00e940a4": {
          "model_module": "@jupyter-widgets/controls",
          "model_name": "HTMLModel",
          "model_module_version": "1.5.0",
          "state": {
            "_dom_classes": [],
            "_model_module": "@jupyter-widgets/controls",
            "_model_module_version": "1.5.0",
            "_model_name": "HTMLModel",
            "_view_count": null,
            "_view_module": "@jupyter-widgets/controls",
            "_view_module_version": "1.5.0",
            "_view_name": "HTMLView",
            "description": "",
            "description_tooltip": null,
            "layout": "IPY_MODEL_5a727a7ca41f4bcc823ca1e837dc198b",
            "placeholder": "​",
            "style": "IPY_MODEL_b55fc655f6a547fd979ae50056daab8c",
            "value": " 629/629 [00:00&lt;00:00, 8.24kB/s]"
          }
        },
        "ad0141f96c58453bb7dc5b6efa47ecc0": {
          "model_module": "@jupyter-widgets/base",
          "model_name": "LayoutModel",
          "model_module_version": "1.2.0",
          "state": {
            "_model_module": "@jupyter-widgets/base",
            "_model_module_version": "1.2.0",
            "_model_name": "LayoutModel",
            "_view_count": null,
            "_view_module": "@jupyter-widgets/base",
            "_view_module_version": "1.2.0",
            "_view_name": "LayoutView",
            "align_content": null,
            "align_items": null,
            "align_self": null,
            "border": null,
            "bottom": null,
            "display": null,
            "flex": null,
            "flex_flow": null,
            "grid_area": null,
            "grid_auto_columns": null,
            "grid_auto_flow": null,
            "grid_auto_rows": null,
            "grid_column": null,
            "grid_gap": null,
            "grid_row": null,
            "grid_template_areas": null,
            "grid_template_columns": null,
            "grid_template_rows": null,
            "height": null,
            "justify_content": null,
            "justify_items": null,
            "left": null,
            "margin": null,
            "max_height": null,
            "max_width": null,
            "min_height": null,
            "min_width": null,
            "object_fit": null,
            "object_position": null,
            "order": null,
            "overflow": null,
            "overflow_x": null,
            "overflow_y": null,
            "padding": null,
            "right": null,
            "top": null,
            "visibility": null,
            "width": null
          }
        },
        "80e0b146270a48d2b156a98a4f13eb0a": {
          "model_module": "@jupyter-widgets/base",
          "model_name": "LayoutModel",
          "model_module_version": "1.2.0",
          "state": {
            "_model_module": "@jupyter-widgets/base",
            "_model_module_version": "1.2.0",
            "_model_name": "LayoutModel",
            "_view_count": null,
            "_view_module": "@jupyter-widgets/base",
            "_view_module_version": "1.2.0",
            "_view_name": "LayoutView",
            "align_content": null,
            "align_items": null,
            "align_self": null,
            "border": null,
            "bottom": null,
            "display": null,
            "flex": null,
            "flex_flow": null,
            "grid_area": null,
            "grid_auto_columns": null,
            "grid_auto_flow": null,
            "grid_auto_rows": null,
            "grid_column": null,
            "grid_gap": null,
            "grid_row": null,
            "grid_template_areas": null,
            "grid_template_columns": null,
            "grid_template_rows": null,
            "height": null,
            "justify_content": null,
            "justify_items": null,
            "left": null,
            "margin": null,
            "max_height": null,
            "max_width": null,
            "min_height": null,
            "min_width": null,
            "object_fit": null,
            "object_position": null,
            "order": null,
            "overflow": null,
            "overflow_x": null,
            "overflow_y": null,
            "padding": null,
            "right": null,
            "top": null,
            "visibility": null,
            "width": null
          }
        },
        "8540ed20a3ad45d2839a2167dc55f3dc": {
          "model_module": "@jupyter-widgets/controls",
          "model_name": "DescriptionStyleModel",
          "model_module_version": "1.5.0",
          "state": {
            "_model_module": "@jupyter-widgets/controls",
            "_model_module_version": "1.5.0",
            "_model_name": "DescriptionStyleModel",
            "_view_count": null,
            "_view_module": "@jupyter-widgets/base",
            "_view_module_version": "1.2.0",
            "_view_name": "StyleView",
            "description_width": ""
          }
        },
        "7a15109300c441c3909a5e77ef7c7c15": {
          "model_module": "@jupyter-widgets/base",
          "model_name": "LayoutModel",
          "model_module_version": "1.2.0",
          "state": {
            "_model_module": "@jupyter-widgets/base",
            "_model_module_version": "1.2.0",
            "_model_name": "LayoutModel",
            "_view_count": null,
            "_view_module": "@jupyter-widgets/base",
            "_view_module_version": "1.2.0",
            "_view_name": "LayoutView",
            "align_content": null,
            "align_items": null,
            "align_self": null,
            "border": null,
            "bottom": null,
            "display": null,
            "flex": null,
            "flex_flow": null,
            "grid_area": null,
            "grid_auto_columns": null,
            "grid_auto_flow": null,
            "grid_auto_rows": null,
            "grid_column": null,
            "grid_gap": null,
            "grid_row": null,
            "grid_template_areas": null,
            "grid_template_columns": null,
            "grid_template_rows": null,
            "height": null,
            "justify_content": null,
            "justify_items": null,
            "left": null,
            "margin": null,
            "max_height": null,
            "max_width": null,
            "min_height": null,
            "min_width": null,
            "object_fit": null,
            "object_position": null,
            "order": null,
            "overflow": null,
            "overflow_x": null,
            "overflow_y": null,
            "padding": null,
            "right": null,
            "top": null,
            "visibility": null,
            "width": null
          }
        },
        "c1e6f5fac2bd4216bd6a2bbf1575865c": {
          "model_module": "@jupyter-widgets/controls",
          "model_name": "ProgressStyleModel",
          "model_module_version": "1.5.0",
          "state": {
            "_model_module": "@jupyter-widgets/controls",
            "_model_module_version": "1.5.0",
            "_model_name": "ProgressStyleModel",
            "_view_count": null,
            "_view_module": "@jupyter-widgets/base",
            "_view_module_version": "1.2.0",
            "_view_name": "StyleView",
            "bar_color": null,
            "description_width": ""
          }
        },
        "5a727a7ca41f4bcc823ca1e837dc198b": {
          "model_module": "@jupyter-widgets/base",
          "model_name": "LayoutModel",
          "model_module_version": "1.2.0",
          "state": {
            "_model_module": "@jupyter-widgets/base",
            "_model_module_version": "1.2.0",
            "_model_name": "LayoutModel",
            "_view_count": null,
            "_view_module": "@jupyter-widgets/base",
            "_view_module_version": "1.2.0",
            "_view_name": "LayoutView",
            "align_content": null,
            "align_items": null,
            "align_self": null,
            "border": null,
            "bottom": null,
            "display": null,
            "flex": null,
            "flex_flow": null,
            "grid_area": null,
            "grid_auto_columns": null,
            "grid_auto_flow": null,
            "grid_auto_rows": null,
            "grid_column": null,
            "grid_gap": null,
            "grid_row": null,
            "grid_template_areas": null,
            "grid_template_columns": null,
            "grid_template_rows": null,
            "height": null,
            "justify_content": null,
            "justify_items": null,
            "left": null,
            "margin": null,
            "max_height": null,
            "max_width": null,
            "min_height": null,
            "min_width": null,
            "object_fit": null,
            "object_position": null,
            "order": null,
            "overflow": null,
            "overflow_x": null,
            "overflow_y": null,
            "padding": null,
            "right": null,
            "top": null,
            "visibility": null,
            "width": null
          }
        },
        "b55fc655f6a547fd979ae50056daab8c": {
          "model_module": "@jupyter-widgets/controls",
          "model_name": "DescriptionStyleModel",
          "model_module_version": "1.5.0",
          "state": {
            "_model_module": "@jupyter-widgets/controls",
            "_model_module_version": "1.5.0",
            "_model_name": "DescriptionStyleModel",
            "_view_count": null,
            "_view_module": "@jupyter-widgets/base",
            "_view_module_version": "1.2.0",
            "_view_name": "StyleView",
            "description_width": ""
          }
        },
        "4e320d4f566c4d6f8f07ca1c4a5072b0": {
          "model_module": "@jupyter-widgets/controls",
          "model_name": "HBoxModel",
          "model_module_version": "1.5.0",
          "state": {
            "_dom_classes": [],
            "_model_module": "@jupyter-widgets/controls",
            "_model_module_version": "1.5.0",
            "_model_name": "HBoxModel",
            "_view_count": null,
            "_view_module": "@jupyter-widgets/controls",
            "_view_module_version": "1.5.0",
            "_view_name": "HBoxView",
            "box_style": "",
            "children": [
              "IPY_MODEL_88c197fa27de4401b4aa3fa5e5e9fee3",
              "IPY_MODEL_ded369f70b4f4e5cbd40e71a862d8567",
              "IPY_MODEL_e26f5c9140724e3589755ce06f7afa1c"
            ],
            "layout": "IPY_MODEL_2945a02d639647c6b5e5d3c276d96e36"
          }
        },
        "88c197fa27de4401b4aa3fa5e5e9fee3": {
          "model_module": "@jupyter-widgets/controls",
          "model_name": "HTMLModel",
          "model_module_version": "1.5.0",
          "state": {
            "_dom_classes": [],
            "_model_module": "@jupyter-widgets/controls",
            "_model_module_version": "1.5.0",
            "_model_name": "HTMLModel",
            "_view_count": null,
            "_view_module": "@jupyter-widgets/controls",
            "_view_module_version": "1.5.0",
            "_view_name": "HTMLView",
            "description": "",
            "description_tooltip": null,
            "layout": "IPY_MODEL_d6d61c23d55c462792cde2ac3db3fe02",
            "placeholder": "​",
            "style": "IPY_MODEL_b7d3046655e048d9b21aeaabf3c5a270",
            "value": "model.safetensors: 100%"
          }
        },
        "ded369f70b4f4e5cbd40e71a862d8567": {
          "model_module": "@jupyter-widgets/controls",
          "model_name": "FloatProgressModel",
          "model_module_version": "1.5.0",
          "state": {
            "_dom_classes": [],
            "_model_module": "@jupyter-widgets/controls",
            "_model_module_version": "1.5.0",
            "_model_name": "FloatProgressModel",
            "_view_count": null,
            "_view_module": "@jupyter-widgets/controls",
            "_view_module_version": "1.5.0",
            "_view_name": "ProgressView",
            "bar_style": "success",
            "description": "",
            "description_tooltip": null,
            "layout": "IPY_MODEL_3385321ca49546d6972dcae5a5c0f72b",
            "max": 267832558,
            "min": 0,
            "orientation": "horizontal",
            "style": "IPY_MODEL_8203c37b462d4b15884e948aaff01262",
            "value": 267832558
          }
        },
        "e26f5c9140724e3589755ce06f7afa1c": {
          "model_module": "@jupyter-widgets/controls",
          "model_name": "HTMLModel",
          "model_module_version": "1.5.0",
          "state": {
            "_dom_classes": [],
            "_model_module": "@jupyter-widgets/controls",
            "_model_module_version": "1.5.0",
            "_model_name": "HTMLModel",
            "_view_count": null,
            "_view_module": "@jupyter-widgets/controls",
            "_view_module_version": "1.5.0",
            "_view_name": "HTMLView",
            "description": "",
            "description_tooltip": null,
            "layout": "IPY_MODEL_a91d6166382e4887ad031224d3df9674",
            "placeholder": "​",
            "style": "IPY_MODEL_69aa1b25bf8344e685894eaecff888a0",
            "value": " 268M/268M [00:02&lt;00:00, 122MB/s]"
          }
        },
        "2945a02d639647c6b5e5d3c276d96e36": {
          "model_module": "@jupyter-widgets/base",
          "model_name": "LayoutModel",
          "model_module_version": "1.2.0",
          "state": {
            "_model_module": "@jupyter-widgets/base",
            "_model_module_version": "1.2.0",
            "_model_name": "LayoutModel",
            "_view_count": null,
            "_view_module": "@jupyter-widgets/base",
            "_view_module_version": "1.2.0",
            "_view_name": "LayoutView",
            "align_content": null,
            "align_items": null,
            "align_self": null,
            "border": null,
            "bottom": null,
            "display": null,
            "flex": null,
            "flex_flow": null,
            "grid_area": null,
            "grid_auto_columns": null,
            "grid_auto_flow": null,
            "grid_auto_rows": null,
            "grid_column": null,
            "grid_gap": null,
            "grid_row": null,
            "grid_template_areas": null,
            "grid_template_columns": null,
            "grid_template_rows": null,
            "height": null,
            "justify_content": null,
            "justify_items": null,
            "left": null,
            "margin": null,
            "max_height": null,
            "max_width": null,
            "min_height": null,
            "min_width": null,
            "object_fit": null,
            "object_position": null,
            "order": null,
            "overflow": null,
            "overflow_x": null,
            "overflow_y": null,
            "padding": null,
            "right": null,
            "top": null,
            "visibility": null,
            "width": null
          }
        },
        "d6d61c23d55c462792cde2ac3db3fe02": {
          "model_module": "@jupyter-widgets/base",
          "model_name": "LayoutModel",
          "model_module_version": "1.2.0",
          "state": {
            "_model_module": "@jupyter-widgets/base",
            "_model_module_version": "1.2.0",
            "_model_name": "LayoutModel",
            "_view_count": null,
            "_view_module": "@jupyter-widgets/base",
            "_view_module_version": "1.2.0",
            "_view_name": "LayoutView",
            "align_content": null,
            "align_items": null,
            "align_self": null,
            "border": null,
            "bottom": null,
            "display": null,
            "flex": null,
            "flex_flow": null,
            "grid_area": null,
            "grid_auto_columns": null,
            "grid_auto_flow": null,
            "grid_auto_rows": null,
            "grid_column": null,
            "grid_gap": null,
            "grid_row": null,
            "grid_template_areas": null,
            "grid_template_columns": null,
            "grid_template_rows": null,
            "height": null,
            "justify_content": null,
            "justify_items": null,
            "left": null,
            "margin": null,
            "max_height": null,
            "max_width": null,
            "min_height": null,
            "min_width": null,
            "object_fit": null,
            "object_position": null,
            "order": null,
            "overflow": null,
            "overflow_x": null,
            "overflow_y": null,
            "padding": null,
            "right": null,
            "top": null,
            "visibility": null,
            "width": null
          }
        },
        "b7d3046655e048d9b21aeaabf3c5a270": {
          "model_module": "@jupyter-widgets/controls",
          "model_name": "DescriptionStyleModel",
          "model_module_version": "1.5.0",
          "state": {
            "_model_module": "@jupyter-widgets/controls",
            "_model_module_version": "1.5.0",
            "_model_name": "DescriptionStyleModel",
            "_view_count": null,
            "_view_module": "@jupyter-widgets/base",
            "_view_module_version": "1.2.0",
            "_view_name": "StyleView",
            "description_width": ""
          }
        },
        "3385321ca49546d6972dcae5a5c0f72b": {
          "model_module": "@jupyter-widgets/base",
          "model_name": "LayoutModel",
          "model_module_version": "1.2.0",
          "state": {
            "_model_module": "@jupyter-widgets/base",
            "_model_module_version": "1.2.0",
            "_model_name": "LayoutModel",
            "_view_count": null,
            "_view_module": "@jupyter-widgets/base",
            "_view_module_version": "1.2.0",
            "_view_name": "LayoutView",
            "align_content": null,
            "align_items": null,
            "align_self": null,
            "border": null,
            "bottom": null,
            "display": null,
            "flex": null,
            "flex_flow": null,
            "grid_area": null,
            "grid_auto_columns": null,
            "grid_auto_flow": null,
            "grid_auto_rows": null,
            "grid_column": null,
            "grid_gap": null,
            "grid_row": null,
            "grid_template_areas": null,
            "grid_template_columns": null,
            "grid_template_rows": null,
            "height": null,
            "justify_content": null,
            "justify_items": null,
            "left": null,
            "margin": null,
            "max_height": null,
            "max_width": null,
            "min_height": null,
            "min_width": null,
            "object_fit": null,
            "object_position": null,
            "order": null,
            "overflow": null,
            "overflow_x": null,
            "overflow_y": null,
            "padding": null,
            "right": null,
            "top": null,
            "visibility": null,
            "width": null
          }
        },
        "8203c37b462d4b15884e948aaff01262": {
          "model_module": "@jupyter-widgets/controls",
          "model_name": "ProgressStyleModel",
          "model_module_version": "1.5.0",
          "state": {
            "_model_module": "@jupyter-widgets/controls",
            "_model_module_version": "1.5.0",
            "_model_name": "ProgressStyleModel",
            "_view_count": null,
            "_view_module": "@jupyter-widgets/base",
            "_view_module_version": "1.2.0",
            "_view_name": "StyleView",
            "bar_color": null,
            "description_width": ""
          }
        },
        "a91d6166382e4887ad031224d3df9674": {
          "model_module": "@jupyter-widgets/base",
          "model_name": "LayoutModel",
          "model_module_version": "1.2.0",
          "state": {
            "_model_module": "@jupyter-widgets/base",
            "_model_module_version": "1.2.0",
            "_model_name": "LayoutModel",
            "_view_count": null,
            "_view_module": "@jupyter-widgets/base",
            "_view_module_version": "1.2.0",
            "_view_name": "LayoutView",
            "align_content": null,
            "align_items": null,
            "align_self": null,
            "border": null,
            "bottom": null,
            "display": null,
            "flex": null,
            "flex_flow": null,
            "grid_area": null,
            "grid_auto_columns": null,
            "grid_auto_flow": null,
            "grid_auto_rows": null,
            "grid_column": null,
            "grid_gap": null,
            "grid_row": null,
            "grid_template_areas": null,
            "grid_template_columns": null,
            "grid_template_rows": null,
            "height": null,
            "justify_content": null,
            "justify_items": null,
            "left": null,
            "margin": null,
            "max_height": null,
            "max_width": null,
            "min_height": null,
            "min_width": null,
            "object_fit": null,
            "object_position": null,
            "order": null,
            "overflow": null,
            "overflow_x": null,
            "overflow_y": null,
            "padding": null,
            "right": null,
            "top": null,
            "visibility": null,
            "width": null
          }
        },
        "69aa1b25bf8344e685894eaecff888a0": {
          "model_module": "@jupyter-widgets/controls",
          "model_name": "DescriptionStyleModel",
          "model_module_version": "1.5.0",
          "state": {
            "_model_module": "@jupyter-widgets/controls",
            "_model_module_version": "1.5.0",
            "_model_name": "DescriptionStyleModel",
            "_view_count": null,
            "_view_module": "@jupyter-widgets/base",
            "_view_module_version": "1.2.0",
            "_view_name": "StyleView",
            "description_width": ""
          }
        },
        "4d5d9f7135524a2d9f001c93cb1dbacf": {
          "model_module": "@jupyter-widgets/controls",
          "model_name": "HBoxModel",
          "model_module_version": "1.5.0",
          "state": {
            "_dom_classes": [],
            "_model_module": "@jupyter-widgets/controls",
            "_model_module_version": "1.5.0",
            "_model_name": "HBoxModel",
            "_view_count": null,
            "_view_module": "@jupyter-widgets/controls",
            "_view_module_version": "1.5.0",
            "_view_name": "HBoxView",
            "box_style": "",
            "children": [
              "IPY_MODEL_73b5720f59bd43069b794773820bb8e5",
              "IPY_MODEL_337f3942c5c84a59b688d6531383f393",
              "IPY_MODEL_2aa76abe4a2344cd8334a01bb753b989"
            ],
            "layout": "IPY_MODEL_7348816a2e24425eacf537c7184bdb6f"
          }
        },
        "73b5720f59bd43069b794773820bb8e5": {
          "model_module": "@jupyter-widgets/controls",
          "model_name": "HTMLModel",
          "model_module_version": "1.5.0",
          "state": {
            "_dom_classes": [],
            "_model_module": "@jupyter-widgets/controls",
            "_model_module_version": "1.5.0",
            "_model_name": "HTMLModel",
            "_view_count": null,
            "_view_module": "@jupyter-widgets/controls",
            "_view_module_version": "1.5.0",
            "_view_name": "HTMLView",
            "description": "",
            "description_tooltip": null,
            "layout": "IPY_MODEL_f2ee22ef49dc494399b5a62db5c5b1c6",
            "placeholder": "​",
            "style": "IPY_MODEL_2d9b31ac4f9c459aa23bc627f5f2d339",
            "value": "tokenizer_config.json: 100%"
          }
        },
        "337f3942c5c84a59b688d6531383f393": {
          "model_module": "@jupyter-widgets/controls",
          "model_name": "FloatProgressModel",
          "model_module_version": "1.5.0",
          "state": {
            "_dom_classes": [],
            "_model_module": "@jupyter-widgets/controls",
            "_model_module_version": "1.5.0",
            "_model_name": "FloatProgressModel",
            "_view_count": null,
            "_view_module": "@jupyter-widgets/controls",
            "_view_module_version": "1.5.0",
            "_view_name": "ProgressView",
            "bar_style": "success",
            "description": "",
            "description_tooltip": null,
            "layout": "IPY_MODEL_34d7f5cb03104feeac42b3dd01fb4e44",
            "max": 48,
            "min": 0,
            "orientation": "horizontal",
            "style": "IPY_MODEL_ea2dd48c9ed94d2fa4f538f5f06c98d7",
            "value": 48
          }
        },
        "2aa76abe4a2344cd8334a01bb753b989": {
          "model_module": "@jupyter-widgets/controls",
          "model_name": "HTMLModel",
          "model_module_version": "1.5.0",
          "state": {
            "_dom_classes": [],
            "_model_module": "@jupyter-widgets/controls",
            "_model_module_version": "1.5.0",
            "_model_name": "HTMLModel",
            "_view_count": null,
            "_view_module": "@jupyter-widgets/controls",
            "_view_module_version": "1.5.0",
            "_view_name": "HTMLView",
            "description": "",
            "description_tooltip": null,
            "layout": "IPY_MODEL_50e6d397b24945acadd76d4707ee5fb3",
            "placeholder": "​",
            "style": "IPY_MODEL_d96e8e4214bc4374bbf9aa5d947ae26c",
            "value": " 48.0/48.0 [00:00&lt;00:00, 446B/s]"
          }
        },
        "7348816a2e24425eacf537c7184bdb6f": {
          "model_module": "@jupyter-widgets/base",
          "model_name": "LayoutModel",
          "model_module_version": "1.2.0",
          "state": {
            "_model_module": "@jupyter-widgets/base",
            "_model_module_version": "1.2.0",
            "_model_name": "LayoutModel",
            "_view_count": null,
            "_view_module": "@jupyter-widgets/base",
            "_view_module_version": "1.2.0",
            "_view_name": "LayoutView",
            "align_content": null,
            "align_items": null,
            "align_self": null,
            "border": null,
            "bottom": null,
            "display": null,
            "flex": null,
            "flex_flow": null,
            "grid_area": null,
            "grid_auto_columns": null,
            "grid_auto_flow": null,
            "grid_auto_rows": null,
            "grid_column": null,
            "grid_gap": null,
            "grid_row": null,
            "grid_template_areas": null,
            "grid_template_columns": null,
            "grid_template_rows": null,
            "height": null,
            "justify_content": null,
            "justify_items": null,
            "left": null,
            "margin": null,
            "max_height": null,
            "max_width": null,
            "min_height": null,
            "min_width": null,
            "object_fit": null,
            "object_position": null,
            "order": null,
            "overflow": null,
            "overflow_x": null,
            "overflow_y": null,
            "padding": null,
            "right": null,
            "top": null,
            "visibility": null,
            "width": null
          }
        },
        "f2ee22ef49dc494399b5a62db5c5b1c6": {
          "model_module": "@jupyter-widgets/base",
          "model_name": "LayoutModel",
          "model_module_version": "1.2.0",
          "state": {
            "_model_module": "@jupyter-widgets/base",
            "_model_module_version": "1.2.0",
            "_model_name": "LayoutModel",
            "_view_count": null,
            "_view_module": "@jupyter-widgets/base",
            "_view_module_version": "1.2.0",
            "_view_name": "LayoutView",
            "align_content": null,
            "align_items": null,
            "align_self": null,
            "border": null,
            "bottom": null,
            "display": null,
            "flex": null,
            "flex_flow": null,
            "grid_area": null,
            "grid_auto_columns": null,
            "grid_auto_flow": null,
            "grid_auto_rows": null,
            "grid_column": null,
            "grid_gap": null,
            "grid_row": null,
            "grid_template_areas": null,
            "grid_template_columns": null,
            "grid_template_rows": null,
            "height": null,
            "justify_content": null,
            "justify_items": null,
            "left": null,
            "margin": null,
            "max_height": null,
            "max_width": null,
            "min_height": null,
            "min_width": null,
            "object_fit": null,
            "object_position": null,
            "order": null,
            "overflow": null,
            "overflow_x": null,
            "overflow_y": null,
            "padding": null,
            "right": null,
            "top": null,
            "visibility": null,
            "width": null
          }
        },
        "2d9b31ac4f9c459aa23bc627f5f2d339": {
          "model_module": "@jupyter-widgets/controls",
          "model_name": "DescriptionStyleModel",
          "model_module_version": "1.5.0",
          "state": {
            "_model_module": "@jupyter-widgets/controls",
            "_model_module_version": "1.5.0",
            "_model_name": "DescriptionStyleModel",
            "_view_count": null,
            "_view_module": "@jupyter-widgets/base",
            "_view_module_version": "1.2.0",
            "_view_name": "StyleView",
            "description_width": ""
          }
        },
        "34d7f5cb03104feeac42b3dd01fb4e44": {
          "model_module": "@jupyter-widgets/base",
          "model_name": "LayoutModel",
          "model_module_version": "1.2.0",
          "state": {
            "_model_module": "@jupyter-widgets/base",
            "_model_module_version": "1.2.0",
            "_model_name": "LayoutModel",
            "_view_count": null,
            "_view_module": "@jupyter-widgets/base",
            "_view_module_version": "1.2.0",
            "_view_name": "LayoutView",
            "align_content": null,
            "align_items": null,
            "align_self": null,
            "border": null,
            "bottom": null,
            "display": null,
            "flex": null,
            "flex_flow": null,
            "grid_area": null,
            "grid_auto_columns": null,
            "grid_auto_flow": null,
            "grid_auto_rows": null,
            "grid_column": null,
            "grid_gap": null,
            "grid_row": null,
            "grid_template_areas": null,
            "grid_template_columns": null,
            "grid_template_rows": null,
            "height": null,
            "justify_content": null,
            "justify_items": null,
            "left": null,
            "margin": null,
            "max_height": null,
            "max_width": null,
            "min_height": null,
            "min_width": null,
            "object_fit": null,
            "object_position": null,
            "order": null,
            "overflow": null,
            "overflow_x": null,
            "overflow_y": null,
            "padding": null,
            "right": null,
            "top": null,
            "visibility": null,
            "width": null
          }
        },
        "ea2dd48c9ed94d2fa4f538f5f06c98d7": {
          "model_module": "@jupyter-widgets/controls",
          "model_name": "ProgressStyleModel",
          "model_module_version": "1.5.0",
          "state": {
            "_model_module": "@jupyter-widgets/controls",
            "_model_module_version": "1.5.0",
            "_model_name": "ProgressStyleModel",
            "_view_count": null,
            "_view_module": "@jupyter-widgets/base",
            "_view_module_version": "1.2.0",
            "_view_name": "StyleView",
            "bar_color": null,
            "description_width": ""
          }
        },
        "50e6d397b24945acadd76d4707ee5fb3": {
          "model_module": "@jupyter-widgets/base",
          "model_name": "LayoutModel",
          "model_module_version": "1.2.0",
          "state": {
            "_model_module": "@jupyter-widgets/base",
            "_model_module_version": "1.2.0",
            "_model_name": "LayoutModel",
            "_view_count": null,
            "_view_module": "@jupyter-widgets/base",
            "_view_module_version": "1.2.0",
            "_view_name": "LayoutView",
            "align_content": null,
            "align_items": null,
            "align_self": null,
            "border": null,
            "bottom": null,
            "display": null,
            "flex": null,
            "flex_flow": null,
            "grid_area": null,
            "grid_auto_columns": null,
            "grid_auto_flow": null,
            "grid_auto_rows": null,
            "grid_column": null,
            "grid_gap": null,
            "grid_row": null,
            "grid_template_areas": null,
            "grid_template_columns": null,
            "grid_template_rows": null,
            "height": null,
            "justify_content": null,
            "justify_items": null,
            "left": null,
            "margin": null,
            "max_height": null,
            "max_width": null,
            "min_height": null,
            "min_width": null,
            "object_fit": null,
            "object_position": null,
            "order": null,
            "overflow": null,
            "overflow_x": null,
            "overflow_y": null,
            "padding": null,
            "right": null,
            "top": null,
            "visibility": null,
            "width": null
          }
        },
        "d96e8e4214bc4374bbf9aa5d947ae26c": {
          "model_module": "@jupyter-widgets/controls",
          "model_name": "DescriptionStyleModel",
          "model_module_version": "1.5.0",
          "state": {
            "_model_module": "@jupyter-widgets/controls",
            "_model_module_version": "1.5.0",
            "_model_name": "DescriptionStyleModel",
            "_view_count": null,
            "_view_module": "@jupyter-widgets/base",
            "_view_module_version": "1.2.0",
            "_view_name": "StyleView",
            "description_width": ""
          }
        },
        "1e89c29a7ef8421e89f900ae557b12e8": {
          "model_module": "@jupyter-widgets/controls",
          "model_name": "HBoxModel",
          "model_module_version": "1.5.0",
          "state": {
            "_dom_classes": [],
            "_model_module": "@jupyter-widgets/controls",
            "_model_module_version": "1.5.0",
            "_model_name": "HBoxModel",
            "_view_count": null,
            "_view_module": "@jupyter-widgets/controls",
            "_view_module_version": "1.5.0",
            "_view_name": "HBoxView",
            "box_style": "",
            "children": [
              "IPY_MODEL_a7b1519419aa467fb608a7014365e577",
              "IPY_MODEL_6c5809ba0c6a498286f36a3129b01574",
              "IPY_MODEL_8d52f4cde03c4b5ebdcb90c66302759f"
            ],
            "layout": "IPY_MODEL_1c8986c7fbad42598eef4c1504555fe5"
          }
        },
        "a7b1519419aa467fb608a7014365e577": {
          "model_module": "@jupyter-widgets/controls",
          "model_name": "HTMLModel",
          "model_module_version": "1.5.0",
          "state": {
            "_dom_classes": [],
            "_model_module": "@jupyter-widgets/controls",
            "_model_module_version": "1.5.0",
            "_model_name": "HTMLModel",
            "_view_count": null,
            "_view_module": "@jupyter-widgets/controls",
            "_view_module_version": "1.5.0",
            "_view_name": "HTMLView",
            "description": "",
            "description_tooltip": null,
            "layout": "IPY_MODEL_e36f6653b8ef4658b8837f13ba612e3e",
            "placeholder": "​",
            "style": "IPY_MODEL_9ac12125514b49939b5519b0b45ac972",
            "value": "vocab.txt: 100%"
          }
        },
        "6c5809ba0c6a498286f36a3129b01574": {
          "model_module": "@jupyter-widgets/controls",
          "model_name": "FloatProgressModel",
          "model_module_version": "1.5.0",
          "state": {
            "_dom_classes": [],
            "_model_module": "@jupyter-widgets/controls",
            "_model_module_version": "1.5.0",
            "_model_name": "FloatProgressModel",
            "_view_count": null,
            "_view_module": "@jupyter-widgets/controls",
            "_view_module_version": "1.5.0",
            "_view_name": "ProgressView",
            "bar_style": "success",
            "description": "",
            "description_tooltip": null,
            "layout": "IPY_MODEL_899eae178bef41e6ba0d4c4a96f10442",
            "max": 231508,
            "min": 0,
            "orientation": "horizontal",
            "style": "IPY_MODEL_1b34e7c314b34829a759e70b1a6d28e4",
            "value": 231508
          }
        },
        "8d52f4cde03c4b5ebdcb90c66302759f": {
          "model_module": "@jupyter-widgets/controls",
          "model_name": "HTMLModel",
          "model_module_version": "1.5.0",
          "state": {
            "_dom_classes": [],
            "_model_module": "@jupyter-widgets/controls",
            "_model_module_version": "1.5.0",
            "_model_name": "HTMLModel",
            "_view_count": null,
            "_view_module": "@jupyter-widgets/controls",
            "_view_module_version": "1.5.0",
            "_view_name": "HTMLView",
            "description": "",
            "description_tooltip": null,
            "layout": "IPY_MODEL_651a24cf6db54c1cae90aa0fc353d14d",
            "placeholder": "​",
            "style": "IPY_MODEL_b82b2c4fddb349d698454adc5831da42",
            "value": " 232k/232k [00:00&lt;00:00, 3.79MB/s]"
          }
        },
        "1c8986c7fbad42598eef4c1504555fe5": {
          "model_module": "@jupyter-widgets/base",
          "model_name": "LayoutModel",
          "model_module_version": "1.2.0",
          "state": {
            "_model_module": "@jupyter-widgets/base",
            "_model_module_version": "1.2.0",
            "_model_name": "LayoutModel",
            "_view_count": null,
            "_view_module": "@jupyter-widgets/base",
            "_view_module_version": "1.2.0",
            "_view_name": "LayoutView",
            "align_content": null,
            "align_items": null,
            "align_self": null,
            "border": null,
            "bottom": null,
            "display": null,
            "flex": null,
            "flex_flow": null,
            "grid_area": null,
            "grid_auto_columns": null,
            "grid_auto_flow": null,
            "grid_auto_rows": null,
            "grid_column": null,
            "grid_gap": null,
            "grid_row": null,
            "grid_template_areas": null,
            "grid_template_columns": null,
            "grid_template_rows": null,
            "height": null,
            "justify_content": null,
            "justify_items": null,
            "left": null,
            "margin": null,
            "max_height": null,
            "max_width": null,
            "min_height": null,
            "min_width": null,
            "object_fit": null,
            "object_position": null,
            "order": null,
            "overflow": null,
            "overflow_x": null,
            "overflow_y": null,
            "padding": null,
            "right": null,
            "top": null,
            "visibility": null,
            "width": null
          }
        },
        "e36f6653b8ef4658b8837f13ba612e3e": {
          "model_module": "@jupyter-widgets/base",
          "model_name": "LayoutModel",
          "model_module_version": "1.2.0",
          "state": {
            "_model_module": "@jupyter-widgets/base",
            "_model_module_version": "1.2.0",
            "_model_name": "LayoutModel",
            "_view_count": null,
            "_view_module": "@jupyter-widgets/base",
            "_view_module_version": "1.2.0",
            "_view_name": "LayoutView",
            "align_content": null,
            "align_items": null,
            "align_self": null,
            "border": null,
            "bottom": null,
            "display": null,
            "flex": null,
            "flex_flow": null,
            "grid_area": null,
            "grid_auto_columns": null,
            "grid_auto_flow": null,
            "grid_auto_rows": null,
            "grid_column": null,
            "grid_gap": null,
            "grid_row": null,
            "grid_template_areas": null,
            "grid_template_columns": null,
            "grid_template_rows": null,
            "height": null,
            "justify_content": null,
            "justify_items": null,
            "left": null,
            "margin": null,
            "max_height": null,
            "max_width": null,
            "min_height": null,
            "min_width": null,
            "object_fit": null,
            "object_position": null,
            "order": null,
            "overflow": null,
            "overflow_x": null,
            "overflow_y": null,
            "padding": null,
            "right": null,
            "top": null,
            "visibility": null,
            "width": null
          }
        },
        "9ac12125514b49939b5519b0b45ac972": {
          "model_module": "@jupyter-widgets/controls",
          "model_name": "DescriptionStyleModel",
          "model_module_version": "1.5.0",
          "state": {
            "_model_module": "@jupyter-widgets/controls",
            "_model_module_version": "1.5.0",
            "_model_name": "DescriptionStyleModel",
            "_view_count": null,
            "_view_module": "@jupyter-widgets/base",
            "_view_module_version": "1.2.0",
            "_view_name": "StyleView",
            "description_width": ""
          }
        },
        "899eae178bef41e6ba0d4c4a96f10442": {
          "model_module": "@jupyter-widgets/base",
          "model_name": "LayoutModel",
          "model_module_version": "1.2.0",
          "state": {
            "_model_module": "@jupyter-widgets/base",
            "_model_module_version": "1.2.0",
            "_model_name": "LayoutModel",
            "_view_count": null,
            "_view_module": "@jupyter-widgets/base",
            "_view_module_version": "1.2.0",
            "_view_name": "LayoutView",
            "align_content": null,
            "align_items": null,
            "align_self": null,
            "border": null,
            "bottom": null,
            "display": null,
            "flex": null,
            "flex_flow": null,
            "grid_area": null,
            "grid_auto_columns": null,
            "grid_auto_flow": null,
            "grid_auto_rows": null,
            "grid_column": null,
            "grid_gap": null,
            "grid_row": null,
            "grid_template_areas": null,
            "grid_template_columns": null,
            "grid_template_rows": null,
            "height": null,
            "justify_content": null,
            "justify_items": null,
            "left": null,
            "margin": null,
            "max_height": null,
            "max_width": null,
            "min_height": null,
            "min_width": null,
            "object_fit": null,
            "object_position": null,
            "order": null,
            "overflow": null,
            "overflow_x": null,
            "overflow_y": null,
            "padding": null,
            "right": null,
            "top": null,
            "visibility": null,
            "width": null
          }
        },
        "1b34e7c314b34829a759e70b1a6d28e4": {
          "model_module": "@jupyter-widgets/controls",
          "model_name": "ProgressStyleModel",
          "model_module_version": "1.5.0",
          "state": {
            "_model_module": "@jupyter-widgets/controls",
            "_model_module_version": "1.5.0",
            "_model_name": "ProgressStyleModel",
            "_view_count": null,
            "_view_module": "@jupyter-widgets/base",
            "_view_module_version": "1.2.0",
            "_view_name": "StyleView",
            "bar_color": null,
            "description_width": ""
          }
        },
        "651a24cf6db54c1cae90aa0fc353d14d": {
          "model_module": "@jupyter-widgets/base",
          "model_name": "LayoutModel",
          "model_module_version": "1.2.0",
          "state": {
            "_model_module": "@jupyter-widgets/base",
            "_model_module_version": "1.2.0",
            "_model_name": "LayoutModel",
            "_view_count": null,
            "_view_module": "@jupyter-widgets/base",
            "_view_module_version": "1.2.0",
            "_view_name": "LayoutView",
            "align_content": null,
            "align_items": null,
            "align_self": null,
            "border": null,
            "bottom": null,
            "display": null,
            "flex": null,
            "flex_flow": null,
            "grid_area": null,
            "grid_auto_columns": null,
            "grid_auto_flow": null,
            "grid_auto_rows": null,
            "grid_column": null,
            "grid_gap": null,
            "grid_row": null,
            "grid_template_areas": null,
            "grid_template_columns": null,
            "grid_template_rows": null,
            "height": null,
            "justify_content": null,
            "justify_items": null,
            "left": null,
            "margin": null,
            "max_height": null,
            "max_width": null,
            "min_height": null,
            "min_width": null,
            "object_fit": null,
            "object_position": null,
            "order": null,
            "overflow": null,
            "overflow_x": null,
            "overflow_y": null,
            "padding": null,
            "right": null,
            "top": null,
            "visibility": null,
            "width": null
          }
        },
        "b82b2c4fddb349d698454adc5831da42": {
          "model_module": "@jupyter-widgets/controls",
          "model_name": "DescriptionStyleModel",
          "model_module_version": "1.5.0",
          "state": {
            "_model_module": "@jupyter-widgets/controls",
            "_model_module_version": "1.5.0",
            "_model_name": "DescriptionStyleModel",
            "_view_count": null,
            "_view_module": "@jupyter-widgets/base",
            "_view_module_version": "1.2.0",
            "_view_name": "StyleView",
            "description_width": ""
          }
        }
      }
    }
  },
  "nbformat_minor": 0,
  "nbformat": 4,
  "cells": [
    {
      "cell_type": "markdown",
      "metadata": {
        "id": "view-in-github",
        "colab_type": "text"
      },
      "source": [
        "<a href=\"https://colab.research.google.com/github/AngelicaBerdini/BD-ANALYSIS-TBDM/blob/main/PySparkNotebook.ipynb\" target=\"_parent\"><img src=\"https://colab.research.google.com/assets/colab-badge.svg\" alt=\"Open In Colab\"/></a>"
      ]
    },
    {
      "cell_type": "markdown",
      "source": [
        "# Kaggle notebook\n",
        "This first cell was created only to download in memory the dataset from Kaggle.\n",
        "The datasets can't be loaded into the repository since they are too big."
      ],
      "metadata": {
        "id": "W5moZ4Ry2srf"
      }
    },
    {
      "source": [
        "\n",
        "# IMPORTANT: RUN THIS CELL IN ORDER TO IMPORT YOUR KAGGLE DATA SOURCES\n",
        "# TO THE CORRECT LOCATION (/kaggle/input) IN YOUR NOTEBOOK,\n",
        "# THEN FEEL FREE TO DELETE THIS CELL.\n",
        "# NOTE: THIS NOTEBOOK ENVIRONMENT DIFFERS FROM KAGGLE'S PYTHON\n",
        "# ENVIRONMENT SO THERE MAY BE MISSING LIBRARIES USED BY YOUR\n",
        "# NOTEBOOK.\n",
        "\n",
        "import os\n",
        "import sys\n",
        "from tempfile import NamedTemporaryFile\n",
        "from urllib.request import urlopen\n",
        "from urllib.parse import unquote, urlparse\n",
        "from urllib.error import HTTPError\n",
        "from zipfile import ZipFile\n",
        "import tarfile\n",
        "import shutil\n",
        "\n",
        "CHUNK_SIZE = 40960\n",
        "DATA_SOURCE_MAPPING = 'yelp-dataset:https%3A%2F%2Fstorage.googleapis.com%2Fkaggle-data-sets%2F10100%2F3316532%2Fbundle%2Farchive.zip%3FX-Goog-Algorithm%3DGOOG4-RSA-SHA256%26X-Goog-Credential%3Dgcp-kaggle-com%2540kaggle-161607.iam.gserviceaccount.com%252F20240228%252Fauto%252Fstorage%252Fgoog4_request%26X-Goog-Date%3D20240228T142220Z%26X-Goog-Expires%3D259200%26X-Goog-SignedHeaders%3Dhost%26X-Goog-Signature%3D349486e4aec7c30ffac1fcbd1e56b5efd63ca546aa49a5b716aa1fd3138da4416f32e05675c0c9ce51bc91ad566db5514309119ecb0943b3f4913a56b426db6199e67ba5d4136e449dd090b6f281c67e46532fdf179a336cbf8943d0fd88fcbac4dbf18b8e679c2b808c091ec5d5d98e0f6e4b84d86dc626c8a01b1dabc323c4e51a0d6d93fc18af776d15b25b60966349ceeaf5778e142ac6720e9b1d97a43e0f688db45f9245cee05d8ae07ee85ae0ce7867275432685832e5d3f8c39ca576da96ef0657e99f6394bdb70228e692d720abb8d98bf6003629bb4dcd15efd2ad9f81d36d6010a6799dfe270090ea21d14c226ccfddee81081841c62f5492a333'\n",
        "\n",
        "KAGGLE_INPUT_PATH='/kaggle/input'\n",
        "KAGGLE_WORKING_PATH='/kaggle/working'\n",
        "KAGGLE_SYMLINK='kaggle'\n",
        "\n",
        "!umount /kaggle/input/ 2> /dev/null\n",
        "shutil.rmtree('/kaggle/input', ignore_errors=True)\n",
        "os.makedirs(KAGGLE_INPUT_PATH, 0o777, exist_ok=True)\n",
        "os.makedirs(KAGGLE_WORKING_PATH, 0o777, exist_ok=True)\n",
        "\n",
        "try:\n",
        "  os.symlink(KAGGLE_INPUT_PATH, os.path.join(\"..\", 'input'), target_is_directory=True)\n",
        "except FileExistsError:\n",
        "  pass\n",
        "try:\n",
        "  os.symlink(KAGGLE_WORKING_PATH, os.path.join(\"..\", 'working'), target_is_directory=True)\n",
        "except FileExistsError:\n",
        "  pass\n",
        "\n",
        "for data_source_mapping in DATA_SOURCE_MAPPING.split(','):\n",
        "    directory, download_url_encoded = data_source_mapping.split(':')\n",
        "    download_url = unquote(download_url_encoded)\n",
        "    filename = urlparse(download_url).path\n",
        "    destination_path = os.path.join(KAGGLE_INPUT_PATH, directory)\n",
        "    try:\n",
        "        with urlopen(download_url) as fileres, NamedTemporaryFile() as tfile:\n",
        "            total_length = fileres.headers['content-length']\n",
        "            print(f'Downloading {directory}, {total_length} bytes compressed')\n",
        "            dl = 0\n",
        "            data = fileres.read(CHUNK_SIZE)\n",
        "            while len(data) > 0:\n",
        "                dl += len(data)\n",
        "                tfile.write(data)\n",
        "                done = int(50 * dl / int(total_length))\n",
        "                sys.stdout.write(f\"\\r[{'=' * done}{' ' * (50-done)}] {dl} bytes downloaded\")\n",
        "                sys.stdout.flush()\n",
        "                data = fileres.read(CHUNK_SIZE)\n",
        "            if filename.endswith('.zip'):\n",
        "              with ZipFile(tfile) as zfile:\n",
        "                zfile.extractall(destination_path)\n",
        "            else:\n",
        "              with tarfile.open(tfile.name) as tarfile:\n",
        "                tarfile.extractall(destination_path)\n",
        "            print(f'\\nDownloaded and uncompressed: {directory}')\n",
        "    except HTTPError as e:\n",
        "        print(f'Failed to load (likely expired) {download_url} to path {destination_path}')\n",
        "        continue\n",
        "    except OSError as e:\n",
        "        print(f'Failed to load {download_url} to path {destination_path}')\n",
        "        continue\n",
        "\n",
        "print('Data source import complete.')\n"
      ],
      "metadata": {
        "colab": {
          "base_uri": "https://localhost:8080/"
        },
        "id": "vUZrmyfX1sLx",
        "outputId": "e06d95be-dc29-4f5a-f1f3-73abeaa75dcd"
      },
      "cell_type": "code",
      "outputs": [
        {
          "output_type": "stream",
          "name": "stdout",
          "text": [
            "Downloading yelp-dataset, 4374983563 bytes compressed\n",
            "[==================================================] 4374983563 bytes downloaded\n",
            "Downloaded and uncompressed: yelp-dataset\n",
            "Data source import complete.\n"
          ]
        }
      ],
      "execution_count": 1
    },
    {
      "cell_type": "markdown",
      "source": [
        "# GitHub Section\n",
        "This section is used only in the case a different file from the following *PySparkNotebook.ipynb* has been modified.\n",
        "- The first cell is used to clone the repository.\n",
        "Execute it only if it's needed access to another element of the repository.\n",
        "- The second cell is used to pull changes from the repository in case there are.\n",
        "- The third should be executed only in the case there has been some changes on other files other than the current one. (Remember to modify the message of the commit)\n",
        "\n",
        "If this file was opened from GitHub and you need to save only the current notebook, just follow these steps from the menu of Colab:\n",
        "- File / Save a copy in GitHub.\n",
        "\n",
        "If instead, in the process, other files of the repository were needed and were also modified, use the cells below.\n",
        "\n",
        "(Until there is the token, this section it's useless)"
      ],
      "metadata": {
        "id": "nTIJtu2k2-Dd"
      }
    },
    {
      "cell_type": "code",
      "source": [
        "# Clone the repository\n",
        "!git clone https://github.com/AngelicaBerdini/BD-ANALYSIS-TBDM.git repository\n",
        "%cd repository\n",
        "!ls"
      ],
      "metadata": {
        "colab": {
          "base_uri": "https://localhost:8080/"
        },
        "id": "Km8cxcjH3uPX",
        "outputId": "29023390-9ba9-4330-a139-ed0b7c97f8eb"
      },
      "execution_count": null,
      "outputs": [
        {
          "output_type": "stream",
          "name": "stdout",
          "text": [
            "fatal: destination path 'repository' already exists and is not an empty directory.\n",
            "/content/repository\n",
            "PySparkNotebook.ipynb  README.md\n"
          ]
        }
      ]
    },
    {
      "cell_type": "code",
      "source": [
        "# Pull all changes in case there has been some in the middle that hasn't been updated\n",
        "!git pull"
      ],
      "metadata": {
        "colab": {
          "base_uri": "https://localhost:8080/"
        },
        "id": "-wU6S4_b362a",
        "outputId": "d08ceff8-c8cb-49f5-a382-d00b39d56e9e"
      },
      "execution_count": null,
      "outputs": [
        {
          "output_type": "stream",
          "name": "stdout",
          "text": [
            "Already up to date.\n"
          ]
        }
      ]
    },
    {
      "cell_type": "code",
      "source": [
        "from google.colab import auth\n",
        "auth.authenticate_user()\n",
        "\n",
        "import requests\n",
        "gcloud_token = !gcloud auth print-access-token\n",
        "gcloud_tokeninfo = requests.get('https://www.googleapis.com/oauth2/v3/tokeninfo?access_token=' + gcloud_token[0]).json()\n",
        "EMAIL = str(gcloud_tokeninfo['email'])\n",
        "\n",
        "!echo $EMAIL\n",
        "\n",
        "#Usare per fare commit atomici e frequenti.\n",
        "#Ricordiamoci di usare mettere sempre dei messaggi di commit chiari in modo da\n",
        "#poter rollbackare o cherry-pickare in caso di bisogno.\n",
        "\n",
        "!git config --global user.email $EMAIL\n",
        "\n",
        "# Commented to prevent unwanted commits (uncomment to commit)\n",
        "# !git add .\n",
        "# # Change the message below between quotes \"...\" to modify the commit message\n",
        "# !git commit -m \"Modifying repo structure\"\n",
        "# !git push"
      ],
      "metadata": {
        "colab": {
          "base_uri": "https://localhost:8080/"
        },
        "id": "zYrV94FH4C-g",
        "outputId": "7f6d5532-2f1f-45bf-bda4-6cc68c46bc1b"
      },
      "execution_count": null,
      "outputs": [
        {
          "output_type": "stream",
          "name": "stdout",
          "text": [
            "luca.bianchi@studenti.unicam.it\n",
            "[main 8f66223] Modifying repo structure\n",
            " 1 file changed, 0 insertions(+), 0 deletions(-)\n",
            " rename PySparkNotebook.ipynb => PySparkNotebooks/PySparkNotebook.ipynb (100%)\n",
            "fatal: could not read Username for 'https://github.com': No such device or address\n"
          ]
        }
      ]
    },
    {
      "cell_type": "markdown",
      "source": [
        "# Recommender system using Pyspark (ALS algorithm)\n",
        "---\n",
        "\n",
        "\n",
        "#### Requirements:\n",
        "- Python\n",
        "- Apache Spark\n",
        "\n",
        "## Import Libraries and Initialize spark session"
      ],
      "metadata": {
        "id": "epNYwpDR1sL1"
      }
    },
    {
      "cell_type": "code",
      "source": [
        "!pip install pyspark"
      ],
      "metadata": {
        "execution": {
          "iopub.status.busy": "2024-02-16T16:46:41.053841Z",
          "iopub.execute_input": "2024-02-16T16:46:41.054256Z",
          "iopub.status.idle": "2024-02-16T16:47:39.073081Z",
          "shell.execute_reply.started": "2024-02-16T16:46:41.054209Z",
          "shell.execute_reply": "2024-02-16T16:47:39.07198Z"
        },
        "trusted": true,
        "colab": {
          "base_uri": "https://localhost:8080/"
        },
        "id": "-Ao570W21sL2",
        "outputId": "76dab9cb-25d6-4024-8589-388a59fe2aa2"
      },
      "execution_count": 23,
      "outputs": [
        {
          "output_type": "stream",
          "name": "stdout",
          "text": [
            "Requirement already satisfied: pyspark in /usr/local/lib/python3.10/dist-packages (3.5.1)\n",
            "Requirement already satisfied: py4j==0.10.9.7 in /usr/local/lib/python3.10/dist-packages (from pyspark) (0.10.9.7)\n"
          ]
        }
      ]
    },
    {
      "cell_type": "code",
      "source": [
        "#import libraries\n",
        "from pyspark import SparkContext\n",
        "from pyspark.ml.recommendation import ALS\n",
        "from pyspark.sql import SparkSession, Row, SQLContext\n",
        "from pyspark.sql.functions import explode, count, mean, split, col, to_timestamp, udf\n",
        "from pyspark.ml.feature import StringIndexer\n",
        "from pyspark.ml import Pipeline\n",
        "from pyspark.ml.evaluation import RegressionEvaluator\n",
        "from pyspark.sql.types import StructType, StructField, IntegerType, StringType\n",
        "import matplotlib.pyplot as plt\n",
        "%matplotlib inline"
      ],
      "metadata": {
        "execution": {
          "iopub.status.busy": "2024-02-16T16:47:39.075521Z",
          "iopub.execute_input": "2024-02-16T16:47:39.075886Z",
          "iopub.status.idle": "2024-02-16T16:47:39.530901Z",
          "shell.execute_reply.started": "2024-02-16T16:47:39.075849Z",
          "shell.execute_reply": "2024-02-16T16:47:39.529797Z"
        },
        "trusted": true,
        "id": "TxCkc3Uv1sL4"
      },
      "execution_count": 24,
      "outputs": []
    },
    {
      "cell_type": "code",
      "source": [
        "appName=\"Analysis Application with PySpark\"\n",
        "\n",
        "#initialize the spark session\n",
        "spark = SparkSession.builder.appName(appName).getOrCreate()\n",
        "\n",
        "#get sparkcontext from the sparksession\n",
        "sc = spark.sparkContext\n",
        "sqlContext = SQLContext(sc)"
      ],
      "metadata": {
        "execution": {
          "iopub.status.busy": "2024-02-16T16:49:54.000999Z",
          "iopub.execute_input": "2024-02-16T16:49:54.001446Z",
          "iopub.status.idle": "2024-02-16T16:49:55.20774Z",
          "shell.execute_reply.started": "2024-02-16T16:49:54.001403Z",
          "shell.execute_reply": "2024-02-16T16:49:55.206621Z"
        },
        "trusted": true,
        "id": "MR8aUqyX1sL5"
      },
      "execution_count": 25,
      "outputs": []
    },
    {
      "cell_type": "markdown",
      "source": [
        "## Load Dataset in Apache Spark\n"
      ],
      "metadata": {
        "id": "dEIgLyLt1sL6"
      }
    },
    {
      "cell_type": "code",
      "source": [
        "df_business = sqlContext.read.json('/kaggle/input/yelp-dataset/yelp_academic_dataset_business.json')"
      ],
      "metadata": {
        "execution": {
          "iopub.status.busy": "2024-02-16T16:50:00.322302Z",
          "iopub.execute_input": "2024-02-16T16:50:00.323127Z",
          "iopub.status.idle": "2024-02-16T16:51:30.148361Z",
          "shell.execute_reply.started": "2024-02-16T16:50:00.323064Z",
          "shell.execute_reply": "2024-02-16T16:51:30.147369Z"
        },
        "trusted": true,
        "id": "KOaV9Qj91sL7"
      },
      "execution_count": 26,
      "outputs": []
    },
    {
      "cell_type": "code",
      "source": [
        "df_review = sqlContext.read.json('/kaggle/input/yelp-dataset/yelp_academic_dataset_review.json')"
      ],
      "metadata": {
        "id": "zlash6LFq9xE"
      },
      "execution_count": 27,
      "outputs": []
    },
    {
      "cell_type": "code",
      "source": [
        "df_user = sqlContext.read.json('/kaggle/input/yelp-dataset/yelp_academic_dataset_user.json')"
      ],
      "metadata": {
        "id": "jAiPnTJ5rEMU"
      },
      "execution_count": 28,
      "outputs": []
    },
    {
      "cell_type": "markdown",
      "source": [
        "# Exploratory Data Analysis (EDA)"
      ],
      "metadata": {
        "id": "YMMdRv5y1sL8"
      }
    },
    {
      "cell_type": "markdown",
      "source": [
        "## Business Dataset"
      ],
      "metadata": {
        "id": "SCEboVFB1sL9"
      }
    },
    {
      "cell_type": "code",
      "source": [
        "df_business.printSchema()"
      ],
      "metadata": {
        "execution": {
          "iopub.status.busy": "2024-02-16T16:51:53.507992Z",
          "iopub.execute_input": "2024-02-16T16:51:53.508448Z",
          "iopub.status.idle": "2024-02-16T16:51:53.543913Z",
          "shell.execute_reply.started": "2024-02-16T16:51:53.508392Z",
          "shell.execute_reply": "2024-02-16T16:51:53.54284Z"
        },
        "trusted": true,
        "colab": {
          "base_uri": "https://localhost:8080/"
        },
        "id": "xSkhHvEX1sL9",
        "outputId": "fb13a63a-7999-4b01-e36f-244d49179f27"
      },
      "execution_count": 29,
      "outputs": [
        {
          "output_type": "stream",
          "name": "stdout",
          "text": [
            "root\n",
            " |-- address: string (nullable = true)\n",
            " |-- attributes: struct (nullable = true)\n",
            " |    |-- AcceptsInsurance: string (nullable = true)\n",
            " |    |-- AgesAllowed: string (nullable = true)\n",
            " |    |-- Alcohol: string (nullable = true)\n",
            " |    |-- Ambience: string (nullable = true)\n",
            " |    |-- BYOB: string (nullable = true)\n",
            " |    |-- BYOBCorkage: string (nullable = true)\n",
            " |    |-- BestNights: string (nullable = true)\n",
            " |    |-- BikeParking: string (nullable = true)\n",
            " |    |-- BusinessAcceptsBitcoin: string (nullable = true)\n",
            " |    |-- BusinessAcceptsCreditCards: string (nullable = true)\n",
            " |    |-- BusinessParking: string (nullable = true)\n",
            " |    |-- ByAppointmentOnly: string (nullable = true)\n",
            " |    |-- Caters: string (nullable = true)\n",
            " |    |-- CoatCheck: string (nullable = true)\n",
            " |    |-- Corkage: string (nullable = true)\n",
            " |    |-- DietaryRestrictions: string (nullable = true)\n",
            " |    |-- DogsAllowed: string (nullable = true)\n",
            " |    |-- DriveThru: string (nullable = true)\n",
            " |    |-- GoodForDancing: string (nullable = true)\n",
            " |    |-- GoodForKids: string (nullable = true)\n",
            " |    |-- GoodForMeal: string (nullable = true)\n",
            " |    |-- HairSpecializesIn: string (nullable = true)\n",
            " |    |-- HappyHour: string (nullable = true)\n",
            " |    |-- HasTV: string (nullable = true)\n",
            " |    |-- Music: string (nullable = true)\n",
            " |    |-- NoiseLevel: string (nullable = true)\n",
            " |    |-- Open24Hours: string (nullable = true)\n",
            " |    |-- OutdoorSeating: string (nullable = true)\n",
            " |    |-- RestaurantsAttire: string (nullable = true)\n",
            " |    |-- RestaurantsCounterService: string (nullable = true)\n",
            " |    |-- RestaurantsDelivery: string (nullable = true)\n",
            " |    |-- RestaurantsGoodForGroups: string (nullable = true)\n",
            " |    |-- RestaurantsPriceRange2: string (nullable = true)\n",
            " |    |-- RestaurantsReservations: string (nullable = true)\n",
            " |    |-- RestaurantsTableService: string (nullable = true)\n",
            " |    |-- RestaurantsTakeOut: string (nullable = true)\n",
            " |    |-- Smoking: string (nullable = true)\n",
            " |    |-- WheelchairAccessible: string (nullable = true)\n",
            " |    |-- WiFi: string (nullable = true)\n",
            " |-- business_id: string (nullable = true)\n",
            " |-- categories: string (nullable = true)\n",
            " |-- city: string (nullable = true)\n",
            " |-- hours: struct (nullable = true)\n",
            " |    |-- Friday: string (nullable = true)\n",
            " |    |-- Monday: string (nullable = true)\n",
            " |    |-- Saturday: string (nullable = true)\n",
            " |    |-- Sunday: string (nullable = true)\n",
            " |    |-- Thursday: string (nullable = true)\n",
            " |    |-- Tuesday: string (nullable = true)\n",
            " |    |-- Wednesday: string (nullable = true)\n",
            " |-- is_open: long (nullable = true)\n",
            " |-- latitude: double (nullable = true)\n",
            " |-- longitude: double (nullable = true)\n",
            " |-- name: string (nullable = true)\n",
            " |-- postal_code: string (nullable = true)\n",
            " |-- review_count: long (nullable = true)\n",
            " |-- stars: double (nullable = true)\n",
            " |-- state: string (nullable = true)\n",
            "\n"
          ]
        }
      ]
    },
    {
      "cell_type": "code",
      "source": [
        "df_business.show(5)"
      ],
      "metadata": {
        "execution": {
          "iopub.status.busy": "2024-02-16T16:53:12.212588Z",
          "iopub.execute_input": "2024-02-16T16:53:12.213427Z",
          "iopub.status.idle": "2024-02-16T16:53:12.778773Z",
          "shell.execute_reply.started": "2024-02-16T16:53:12.213362Z",
          "shell.execute_reply": "2024-02-16T16:53:12.777634Z"
        },
        "trusted": true,
        "colab": {
          "base_uri": "https://localhost:8080/"
        },
        "id": "uVTJnCtR1sL_",
        "outputId": "a34581bb-9e0c-4fda-ff85-5ba947194681"
      },
      "execution_count": 30,
      "outputs": [
        {
          "output_type": "stream",
          "name": "stdout",
          "text": [
            "+--------------------+--------------------+--------------------+--------------------+-------------+--------------------+-------+----------+------------+--------------------+-----------+------------+-----+-----+\n",
            "|             address|          attributes|         business_id|          categories|         city|               hours|is_open|  latitude|   longitude|                name|postal_code|review_count|stars|state|\n",
            "+--------------------+--------------------+--------------------+--------------------+-------------+--------------------+-------+----------+------------+--------------------+-----------+------------+-----+-----+\n",
            "|1616 Chapala St, ...|{NULL, NULL, NULL...|Pns2l4eNsfO8kk83d...|Doctors, Traditio...|Santa Barbara|                NULL|      0|34.4266787|-119.7111968|Abby Rappoport, L...|      93101|           7|  5.0|   CA|\n",
            "|87 Grasso Plaza S...|{NULL, NULL, NULL...|mpf3x-BjTdTEA3yCZ...|Shipping Centers,...|       Affton|{8:0-18:30, 0:0-0...|      1| 38.551126|  -90.335695|       The UPS Store|      63123|          15|  3.0|   MO|\n",
            "|5255 E Broadway Blvd|{NULL, NULL, NULL...|tUFrWirKiKi_TAnsV...|Department Stores...|       Tucson|{8:0-23:0, 8:0-22...|      0| 32.223236| -110.880452|              Target|      85711|          22|  3.5|   AZ|\n",
            "|         935 Race St|{NULL, NULL, u'no...|MTSW4McQd7CbVtyjq...|Restaurants, Food...| Philadelphia|{7:0-21:0, 7:0-20...|      1|39.9555052| -75.1555641|  St Honore Pastries|      19107|          80|  4.0|   PA|\n",
            "|       101 Walnut St|{NULL, NULL, NULL...|mWMc6_wTdE0EUBKIG...|Brewpubs, Breweri...|   Green Lane|{12:0-22:0, NULL,...|      1|40.3381827| -75.4716585|Perkiomen Valley ...|      18054|          13|  4.5|   PA|\n",
            "+--------------------+--------------------+--------------------+--------------------+-------------+--------------------+-------+----------+------------+--------------------+-----------+------------+-----+-----+\n",
            "only showing top 5 rows\n",
            "\n"
          ]
        }
      ]
    },
    {
      "cell_type": "code",
      "source": [
        "df_business.describe().show()"
      ],
      "metadata": {
        "id": "3J4Y3q2jMxbO",
        "outputId": "eba9dd62-94fc-41ee-da7c-5a428c70f8ee",
        "colab": {
          "base_uri": "https://localhost:8080/"
        }
      },
      "execution_count": 31,
      "outputs": [
        {
          "output_type": "stream",
          "name": "stdout",
          "text": [
            "+-------+-----------------+--------------------+--------------------+-----------+------------------+-----------------+------------------+--------------------+------------------+------------------+------------------+------+\n",
            "|summary|          address|         business_id|          categories|       city|           is_open|         latitude|         longitude|                name|       postal_code|      review_count|             stars| state|\n",
            "+-------+-----------------+--------------------+--------------------+-----------+------------------+-----------------+------------------+--------------------+------------------+------------------+------------------+------+\n",
            "|  count|           150346|              150346|              150243|     150346|            150346|           150346|            150346|              150346|            150346|            150346|            150346|150346|\n",
            "|   mean|7369.333333333333|                NULL|                NULL|       NULL|0.7961502135075094|36.67115006414526|-89.35733948971448|              1252.4| 45177.81755426108| 44.86656113232144|3.5967235576603303|  NULL|\n",
            "| stddev|8738.777641447725|                NULL|                NULL|       NULL| 0.402859939090063|5.872758917014039|14.918501679930593|   811.1275005954503|26395.882085856578|121.12013570117037|0.9744207509201411|  NULL|\n",
            "|    min|                 |---kPU91CF4Lq2-Wl...|3D Printing, Loca...|AB Edmonton|                 0|        27.555127|       -120.095137|        Grow Academy|                  |                 5|               1.0|    AB|\n",
            "|    max|  ​185 E State St|zzyx5x0Z7xXWWvWnZ...|Zoos, Tours, Arts...|    ​Lithia|                 1|       53.6791969|    -73.2004570502|​​Transformationa...|           T9E 0V3|              7568|               5.0|   XMS|\n",
            "+-------+-----------------+--------------------+--------------------+-----------+------------------+-----------------+------------------+--------------------+------------------+------------------+------------------+------+\n",
            "\n"
          ]
        }
      ]
    },
    {
      "cell_type": "code",
      "source": [
        "# Total number of businesses\n",
        "df_business.count()"
      ],
      "metadata": {
        "execution": {
          "iopub.status.busy": "2024-02-16T16:52:52.493202Z",
          "iopub.execute_input": "2024-02-16T16:52:52.495007Z",
          "iopub.status.idle": "2024-02-16T16:52:52.589941Z",
          "shell.execute_reply.started": "2024-02-16T16:52:52.494922Z",
          "shell.execute_reply": "2024-02-16T16:52:52.588689Z"
        },
        "trusted": true,
        "colab": {
          "base_uri": "https://localhost:8080/"
        },
        "id": "CU5N9MLZ1sL_",
        "outputId": "f09d0221-69ea-4a41-db2d-2d16716b3ffb"
      },
      "execution_count": 32,
      "outputs": [
        {
          "output_type": "execute_result",
          "data": {
            "text/plain": [
              "150346"
            ]
          },
          "metadata": {},
          "execution_count": 32
        }
      ]
    },
    {
      "cell_type": "code",
      "source": [
        "# Actual open businesses\n",
        "category_counts = df_business.groupBy(\"is_open\").count().show()"
      ],
      "metadata": {
        "id": "KSnqbvYDFfAg",
        "outputId": "68b72ad2-2c4a-4ce1-d368-b9bef9fd706f",
        "colab": {
          "base_uri": "https://localhost:8080/"
        }
      },
      "execution_count": 33,
      "outputs": [
        {
          "output_type": "stream",
          "name": "stdout",
          "text": [
            "+-------+------+\n",
            "|is_open| count|\n",
            "+-------+------+\n",
            "|      0| 30648|\n",
            "|      1|119698|\n",
            "+-------+------+\n",
            "\n"
          ]
        }
      ]
    },
    {
      "cell_type": "code",
      "source": [
        "average_stars = df_business.agg({\"stars\": \"avg\"}).collect()[0][0]\n",
        "print(f\"Average stars: {average_stars}\")"
      ],
      "metadata": {
        "id": "A7PxP1u_F4uM",
        "outputId": "dfb92479-c3da-4be9-c23f-42ce9320714a",
        "colab": {
          "base_uri": "https://localhost:8080/"
        }
      },
      "execution_count": 34,
      "outputs": [
        {
          "output_type": "stream",
          "name": "stdout",
          "text": [
            "Average stars: 3.5967235576603303\n"
          ]
        }
      ]
    },
    {
      "cell_type": "code",
      "source": [
        "# Stars distribution\n",
        "df_business.groupBy(\"stars\").count().sort(\"stars\").show()"
      ],
      "metadata": {
        "id": "lELNQb9GHYnh",
        "outputId": "35353ce3-a52e-431e-9f56-f758367d88be",
        "colab": {
          "base_uri": "https://localhost:8080/"
        }
      },
      "execution_count": 35,
      "outputs": [
        {
          "output_type": "stream",
          "name": "stdout",
          "text": [
            "+-----+-----+\n",
            "|stars|count|\n",
            "+-----+-----+\n",
            "|  1.0| 1986|\n",
            "|  1.5| 4932|\n",
            "|  2.0| 9527|\n",
            "|  2.5|14316|\n",
            "|  3.0|18453|\n",
            "|  3.5|26519|\n",
            "|  4.0|31125|\n",
            "|  4.5|27181|\n",
            "|  5.0|16307|\n",
            "+-----+-----+\n",
            "\n"
          ]
        }
      ]
    },
    {
      "cell_type": "code",
      "source": [
        "df_business.select(\"categories\").show(truncate=False)"
      ],
      "metadata": {
        "id": "YGeiAzq9GTl3",
        "outputId": "a8c3e3a7-8660-498f-c037-842f784db693",
        "colab": {
          "base_uri": "https://localhost:8080/"
        }
      },
      "execution_count": 36,
      "outputs": [
        {
          "output_type": "stream",
          "name": "stdout",
          "text": [
            "+----------------------------------------------------------------------------------------------------------+\n",
            "|categories                                                                                                |\n",
            "+----------------------------------------------------------------------------------------------------------+\n",
            "|Doctors, Traditional Chinese Medicine, Naturopathic/Holistic, Acupuncture, Health & Medical, Nutritionists|\n",
            "|Shipping Centers, Local Services, Notaries, Mailbox Centers, Printing Services                            |\n",
            "|Department Stores, Shopping, Fashion, Home & Garden, Electronics, Furniture Stores                        |\n",
            "|Restaurants, Food, Bubble Tea, Coffee & Tea, Bakeries                                                     |\n",
            "|Brewpubs, Breweries, Food                                                                                 |\n",
            "|Burgers, Fast Food, Sandwiches, Food, Ice Cream & Frozen Yogurt, Restaurants                              |\n",
            "|Sporting Goods, Fashion, Shoe Stores, Shopping, Sports Wear, Accessories                                  |\n",
            "|Synagogues, Religious Organizations                                                                       |\n",
            "|Pubs, Restaurants, Italian, Bars, American (Traditional), Nightlife, Greek                                |\n",
            "|Ice Cream & Frozen Yogurt, Fast Food, Burgers, Restaurants, Food                                          |\n",
            "|Department Stores, Shopping, Fashion                                                                      |\n",
            "|Vietnamese, Food, Restaurants, Food Trucks                                                                |\n",
            "|American (Traditional), Restaurants, Diners, Breakfast & Brunch                                           |\n",
            "|General Dentistry, Dentists, Health & Medical, Cosmetic Dentists                                          |\n",
            "|Food, Delis, Italian, Bakeries, Restaurants                                                               |\n",
            "|Sushi Bars, Restaurants, Japanese                                                                         |\n",
            "|Automotive, Auto Parts & Supplies, Auto Customization                                                     |\n",
            "|Vape Shops, Tobacco Shops, Personal Shopping, Vitamins & Supplements, Shopping                            |\n",
            "|Automotive, Car Rental, Hotels & Travel, Truck Rental                                                     |\n",
            "|Korean, Restaurants                                                                                       |\n",
            "+----------------------------------------------------------------------------------------------------------+\n",
            "only showing top 20 rows\n",
            "\n"
          ]
        }
      ]
    },
    {
      "cell_type": "code",
      "source": [
        "# Analysis over attributes\n",
        "attribute_columns = df_business.select(\"Attributes.*\").columns"
      ],
      "metadata": {
        "id": "DVWcJ8CYw9mY"
      },
      "execution_count": 37,
      "outputs": []
    },
    {
      "cell_type": "code",
      "source": [
        "for column in attribute_columns:\n",
        "  print(\"Distribution for column: Attribute.\" + column)\n",
        "  df_business.groupBy(\"Attributes.\" + column).count().show(truncate=False)"
      ],
      "metadata": {
        "id": "ZaLS_IMXxDXw",
        "outputId": "0306b92d-d09d-46d9-de6d-3f728aeeac2b",
        "colab": {
          "base_uri": "https://localhost:8080/"
        }
      },
      "execution_count": 38,
      "outputs": [
        {
          "output_type": "stream",
          "name": "stdout",
          "text": [
            "Distribution for column: Attribute.AcceptsInsurance\n",
            "+----------------+------+\n",
            "|AcceptsInsurance|count |\n",
            "+----------------+------+\n",
            "|None            |8     |\n",
            "|False           |1767  |\n",
            "|NULL            |144633|\n",
            "|True            |3938  |\n",
            "+----------------+------+\n",
            "\n",
            "Distribution for column: Attribute.AgesAllowed\n",
            "+-----------+------+\n",
            "|AgesAllowed|count |\n",
            "+-----------+------+\n",
            "|NULL       |150217|\n",
            "|u'18plus'  |6     |\n",
            "|u'21plus'  |46    |\n",
            "|u'allages' |77    |\n",
            "+-----------+------+\n",
            "\n",
            "Distribution for column: Attribute.Alcohol\n",
            "+----------------+------+\n",
            "|Alcohol         |count |\n",
            "+----------------+------+\n",
            "|None            |38    |\n",
            "|u'none'         |15977 |\n",
            "|NULL            |107157|\n",
            "|'beer_and_wine' |1369  |\n",
            "|'none'          |4933  |\n",
            "|u'beer_and_wine'|4880  |\n",
            "|u'full_bar'     |12968 |\n",
            "|'full_bar'      |3024  |\n",
            "+----------------+------+\n",
            "\n",
            "Distribution for column: Attribute.Ambience\n",
            "+----------------------------------------------------------------------------------------------------------------------------------------------------------------------+-----+\n",
            "|Ambience                                                                                                                                                              |count|\n",
            "+----------------------------------------------------------------------------------------------------------------------------------------------------------------------+-----+\n",
            "|{'romantic': False, 'intimate': False, 'classy': False, 'hipster': False, 'divey': False, 'touristy': False, 'trendy': False, 'casual': True}                         |14   |\n",
            "|{'touristy': False, 'hipster': None, 'romantic': False, 'divey': False, 'intimate': False, 'trendy': True, 'upscale': False, 'classy': True, 'casual': None}          |2    |\n",
            "|{u'divey': False, u'hipster': False, u'casual': True, u'touristy': None, u'trendy': None, u'intimate': None, u'romantic': None, u'classy': None, u'upscale': False}   |8    |\n",
            "|{u'divey': False, u'hipster': None, u'casual': True, u'touristy': None, u'trendy': None, u'intimate': False, u'romantic': None, u'classy': False, u'upscale': None}   |3    |\n",
            "|{u'divey': False, u'hipster': None, u'casual': None, u'touristy': False, u'trendy': None, u'intimate': None, u'romantic': None, u'classy': False, u'upscale': None}   |3    |\n",
            "|{'romantic': False, 'intimate': False, 'classy': True, 'hipster': False, 'divey': False, 'touristy': False, 'trendy': False, 'casual': False}                         |3    |\n",
            "|{u'divey': False, u'hipster': True, u'casual': True, u'touristy': False, u'trendy': True, u'intimate': True, u'romantic': None, u'classy': None, u'upscale': None}    |1    |\n",
            "|{u'divey': False, u'hipster': None, u'casual': True, u'touristy': False, u'trendy': False, u'intimate': False, u'romantic': False, u'classy': False, u'upscale': None}|2    |\n",
            "|{u'divey': False, u'hipster': False, u'casual': True, u'touristy': None, u'trendy': True, u'intimate': None, u'romantic': None, u'classy': None, u'upscale': None}    |4    |\n",
            "|{u'divey': None, u'hipster': True, u'casual': True, u'touristy': None, u'trendy': True, u'intimate': False, u'romantic': False, u'classy': None, u'upscale': None}    |1    |\n",
            "|{'touristy': False, 'hipster': True, 'romantic': False, 'divey': True, 'intimate': False, 'trendy': False, 'upscale': False, 'classy': False, 'casual': None}         |2    |\n",
            "|{'touristy': None, 'hipster': None, 'romantic': None, 'divey': False, 'intimate': True, 'trendy': None, 'upscale': None, 'classy': None, 'casual': None}              |2    |\n",
            "|{u'divey': None, u'hipster': False, u'casual': True, u'touristy': True, u'trendy': False, u'intimate': False, u'romantic': False, u'classy': False, u'upscale': False}|2    |\n",
            "|{'touristy': None, 'hipster': False, 'romantic': False, 'divey': False, 'intimate': None, 'trendy': None, 'upscale': False, 'classy': True, 'casual': True}           |1    |\n",
            "|{u'divey': False, u'hipster': None, u'casual': True, u'touristy': None, u'trendy': True, u'intimate': None, u'romantic': None, u'classy': True, u'upscale': False}    |1    |\n",
            "|{u'divey': True, u'hipster': True, u'casual': True, u'touristy': False, u'trendy': None, u'intimate': None, u'romantic': False, u'classy': False, u'upscale': False}  |1    |\n",
            "|{u'divey': False, u'hipster': True, u'casual': True, u'touristy': False, u'trendy': None, u'intimate': False, u'romantic': False, u'classy': False, u'upscale': False}|16   |\n",
            "|{u'divey': False, u'hipster': False, u'casual': True, u'touristy': False, u'trendy': False, u'intimate': None, u'romantic': None, u'classy': False, u'upscale': None} |5    |\n",
            "|{'touristy': None, 'hipster': False, 'romantic': None, 'divey': False, 'intimate': False, 'trendy': None, 'upscale': False, 'classy': False, 'casual': None}          |3    |\n",
            "|{'touristy': False, 'hipster': False, 'romantic': False, 'divey': False, 'intimate': False, 'trendy': False, 'upscale': None, 'classy': False, 'casual': None}        |2    |\n",
            "+----------------------------------------------------------------------------------------------------------------------------------------------------------------------+-----+\n",
            "only showing top 20 rows\n",
            "\n",
            "Distribution for column: Attribute.BYOB\n",
            "+-----+------+\n",
            "|BYOB |count |\n",
            "+-----+------+\n",
            "|None |12    |\n",
            "|False|3437  |\n",
            "|NULL |145895|\n",
            "|True |1002  |\n",
            "+-----+------+\n",
            "\n",
            "Distribution for column: Attribute.BYOBCorkage\n",
            "+--------------+------+\n",
            "|BYOBCorkage   |count |\n",
            "+--------------+------+\n",
            "|None          |5     |\n",
            "|NULL          |148902|\n",
            "|'no'          |730   |\n",
            "|u'yes_corkage'|9     |\n",
            "|u'no'         |17    |\n",
            "|'yes_free'    |572   |\n",
            "|'yes_corkage' |93    |\n",
            "|u'yes_free'   |18    |\n",
            "+--------------+------+\n",
            "\n",
            "Distribution for column: Attribute.BestNights\n",
            "+------------------------------------------------------------------------------------------------------------------------------------+-----+\n",
            "|BestNights                                                                                                                          |count|\n",
            "+------------------------------------------------------------------------------------------------------------------------------------+-----+\n",
            "|{u'monday': False, u'tuesday': False, u'wednesday': True, u'thursday': True, u'friday': True, u'saturday': False, u'sunday': False} |4    |\n",
            "|{u'monday': True, u'tuesday': True, u'wednesday': True, u'thursday': False, u'friday': False, u'saturday': False, u'sunday': False} |3    |\n",
            "|{'monday': True, 'tuesday': False, 'friday': False, 'wednesday': True, 'thursday': False, 'sunday': True, 'saturday': False}        |4    |\n",
            "|{'monday': False, 'tuesday': False, 'friday': False, 'wednesday': False, 'thursday': True, 'sunday': True, 'saturday': False}       |7    |\n",
            "|{'monday': False, 'tuesday': False, 'friday': False, 'wednesday': False, 'thursday': False, 'sunday': False, 'saturday': True}      |312  |\n",
            "|{'monday': False, 'tuesday': False, 'friday': True, 'wednesday': True, 'thursday': True, 'sunday': False, 'saturday': False}        |86   |\n",
            "|{'monday': False, 'tuesday': False, 'friday': False, 'wednesday': False, 'thursday': False, 'sunday': True, 'saturday': True}       |41   |\n",
            "|{u'monday': False, u'tuesday': False, u'wednesday': False, u'thursday': True, u'friday': False, u'saturday': True, u'sunday': True} |1    |\n",
            "|{'monday': False, 'tuesday': False, 'friday': False, 'wednesday': True, 'thursday': False, 'sunday': True, 'saturday': True}        |14   |\n",
            "|{'monday': False, 'tuesday': False, 'friday': True, 'wednesday': True, 'thursday': False, 'sunday': False, 'saturday': True}        |273  |\n",
            "|{'monday': False, 'tuesday': False, 'friday': False, 'wednesday': True, 'thursday': True, 'sunday': False, 'saturday': False}       |14   |\n",
            "|{u'monday': False, u'tuesday': False, u'wednesday': False, u'thursday': True, u'friday': True, u'saturday': False, u'sunday': False}|7    |\n",
            "|{u'monday': False, u'tuesday': True, u'wednesday': False, u'thursday': True, u'friday': False, u'saturday': False, u'sunday': True} |1    |\n",
            "|{'monday': True, 'tuesday': False, 'friday': True, 'wednesday': False, 'thursday': False, 'sunday': False, 'saturday': False}       |13   |\n",
            "|{'monday': False, 'tuesday': True, 'friday': False, 'wednesday': False, 'thursday': False, 'sunday': True, 'saturday': True}        |16   |\n",
            "|{'monday': True, 'tuesday': True, 'friday': False, 'wednesday': True, 'thursday': False, 'sunday': False, 'saturday': False}        |63   |\n",
            "|{'monday': True, 'tuesday': False, 'friday': False, 'wednesday': False, 'thursday': False, 'sunday': False, 'saturday': False}      |47   |\n",
            "|{u'monday': False, u'tuesday': False, u'wednesday': True, u'thursday': True, u'friday': False, u'saturday': True, u'sunday': False} |5    |\n",
            "|{'monday': False, 'tuesday': False, 'friday': True, 'wednesday': True, 'thursday': False, 'sunday': True, 'saturday': False}        |14   |\n",
            "|None                                                                                                                                |11   |\n",
            "+------------------------------------------------------------------------------------------------------------------------------------+-----+\n",
            "only showing top 20 rows\n",
            "\n",
            "Distribution for column: Attribute.BikeParking\n",
            "+-----------+-----+\n",
            "|BikeParking|count|\n",
            "+-----------+-----+\n",
            "|None       |80   |\n",
            "|False      |17518|\n",
            "|NULL       |77708|\n",
            "|True       |55040|\n",
            "+-----------+-----+\n",
            "\n",
            "Distribution for column: Attribute.BusinessAcceptsBitcoin\n",
            "+----------------------+------+\n",
            "|BusinessAcceptsBitcoin|count |\n",
            "+----------------------+------+\n",
            "|None                  |3     |\n",
            "|False                 |16957 |\n",
            "|NULL                  |132916|\n",
            "|True                  |470   |\n",
            "+----------------------+------+\n",
            "\n",
            "Distribution for column: Attribute.BusinessAcceptsCreditCards\n",
            "+--------------------------+------+\n",
            "|BusinessAcceptsCreditCards|count |\n",
            "+--------------------------+------+\n",
            "|None                      |73    |\n",
            "|False                     |6025  |\n",
            "|NULL                      |30581 |\n",
            "|True                      |113667|\n",
            "+--------------------------+------+\n",
            "\n",
            "Distribution for column: Attribute.BusinessParking\n",
            "+---------------------------------------------------------------------------------------+-----+\n",
            "|BusinessParking                                                                        |count|\n",
            "+---------------------------------------------------------------------------------------+-----+\n",
            "|{'garage': False, 'street': None, 'validated': False, 'lot': None, 'valet': False}     |268  |\n",
            "|{u'valet': False, u'garage': None, u'street': None, u'lot': None, u'validated': False} |121  |\n",
            "|{u'valet': False, u'garage': False, u'street': True, u'lot': None, u'validated': None} |32   |\n",
            "|{}                                                                                     |8    |\n",
            "|{u'valet': False, u'garage': False, u'street': None, u'lot': True, u'validated': None} |131  |\n",
            "|{u'valet': True, u'garage': False, u'street': False, u'lot': False, u'validated': True}|1    |\n",
            "|{'garage': True, 'street': False, 'validated': True, 'lot': False, 'valet': False}     |54   |\n",
            "|{'garage': True, 'street': True, 'validated': None, 'lot': False, 'valet': False}      |7    |\n",
            "|{u'valet': False, u'garage': True, u'street': None, u'lot': True, u'validated': False} |5    |\n",
            "|{'garage': False, 'street': True, 'validated': True, 'lot': False, 'valet': False}     |107  |\n",
            "|{u'valet': False, u'garage': True, u'street': True, u'lot': False, u'validated': False}|77   |\n",
            "|{'garage': None, 'street': True, 'validated': None, 'lot': True, 'valet': False}       |26   |\n",
            "|{'valet': False, 'garage': False, 'street': False, 'lot': True, 'validated': False}    |61   |\n",
            "|{'garage': True, 'street': None, 'validated': False, 'lot': True, 'valet': False}      |8    |\n",
            "|{'garage': False, 'street': None, 'validated': None, 'lot': None, 'valet': False}      |190  |\n",
            "|{'garage': False, 'street': None, 'validated': False, 'lot': False, 'valet': False}    |37   |\n",
            "|{'garage': False, 'street': False, 'validated': True, 'lot': True, 'valet': False}     |64   |\n",
            "|{u'valet': False, u'garage': None, u'street': False, u'lot': True, u'validated': False}|23   |\n",
            "|None                                                                                   |2271 |\n",
            "|{'garage': False, 'street': False, 'validated': True, 'lot': False, 'valet': False}    |114  |\n",
            "+---------------------------------------------------------------------------------------+-----+\n",
            "only showing top 20 rows\n",
            "\n",
            "Distribution for column: Attribute.ByAppointmentOnly\n",
            "+-----------------+------+\n",
            "|ByAppointmentOnly|count |\n",
            "+-----------------+------+\n",
            "|None             |40    |\n",
            "|False            |26690 |\n",
            "|NULL             |108007|\n",
            "|True             |15609 |\n",
            "+-----------------+------+\n",
            "\n",
            "Distribution for column: Attribute.Caters\n",
            "+------+------+\n",
            "|Caters|count |\n",
            "+------+------+\n",
            "|None  |60    |\n",
            "|False |17730 |\n",
            "|NULL  |110219|\n",
            "|True  |22337 |\n",
            "+------+------+\n",
            "\n",
            "Distribution for column: Attribute.CoatCheck\n",
            "+---------+------+\n",
            "|CoatCheck|count |\n",
            "+---------+------+\n",
            "|None     |4     |\n",
            "|False    |5141  |\n",
            "|NULL     |144762|\n",
            "|True     |439   |\n",
            "+---------+------+\n",
            "\n",
            "Distribution for column: Attribute.Corkage\n",
            "+-------+------+\n",
            "|Corkage|count |\n",
            "+-------+------+\n",
            "|None   |11    |\n",
            "|False  |2446  |\n",
            "|NULL   |146793|\n",
            "|True   |1096  |\n",
            "+-------+------+\n",
            "\n",
            "Distribution for column: Attribute.DietaryRestrictions\n",
            "+-----------------------------------------------------------------------------------------------------------------------------------+------+\n",
            "|DietaryRestrictions                                                                                                                |count |\n",
            "+-----------------------------------------------------------------------------------------------------------------------------------+------+\n",
            "|None                                                                                                                               |1     |\n",
            "|{'dairy-free': False, 'gluten-free': True, 'vegan': False, 'kosher': False, 'halal': False, 'soy-free': False, 'vegetarian': False}|12    |\n",
            "|NULL                                                                                                                               |150315|\n",
            "|{'dairy-free': False, 'gluten-free': False, 'vegan': True, 'kosher': False, 'halal': False, 'soy-free': False, 'vegetarian': True} |4     |\n",
            "|{'dairy-free': True, 'gluten-free': False, 'vegan': True, 'kosher': False, 'halal': False, 'soy-free': False, 'vegetarian': False} |1     |\n",
            "|{'dairy-free': False, 'gluten-free': False, 'vegan': False, 'kosher': False, 'halal': False, 'soy-free': False, 'vegetarian': True}|3     |\n",
            "|{'dairy-free': False, 'gluten-free': True, 'vegan': True, 'kosher': False, 'halal': False, 'soy-free': False, 'vegetarian': True}  |1     |\n",
            "|{'dairy-free': True, 'gluten-free': True, 'vegan': True, 'kosher': False, 'halal': False, 'soy-free': True, 'vegetarian': True}    |4     |\n",
            "|{'dairy-free': False, 'gluten-free': False, 'vegan': True, 'kosher': False, 'halal': False, 'soy-free': False, 'vegetarian': False}|2     |\n",
            "|{'dairy-free': False, 'gluten-free': True, 'vegan': False, 'kosher': False, 'halal': False, 'soy-free': False, 'vegetarian': True} |1     |\n",
            "|{'dairy-free': False, 'gluten-free': False, 'vegan': True, 'kosher': False, 'halal': True, 'soy-free': False, 'vegetarian': True}  |1     |\n",
            "|{'dairy-free': True, 'gluten-free': True, 'vegan': True, 'kosher': False, 'halal': False, 'soy-free': False, 'vegetarian': True}   |1     |\n",
            "+-----------------------------------------------------------------------------------------------------------------------------------+------+\n",
            "\n",
            "Distribution for column: Attribute.DogsAllowed\n",
            "+-----------+------+\n",
            "|DogsAllowed|count |\n",
            "+-----------+------+\n",
            "|None       |26    |\n",
            "|False      |12267 |\n",
            "|NULL       |132062|\n",
            "|True       |5991  |\n",
            "+-----------+------+\n",
            "\n",
            "Distribution for column: Attribute.DriveThru\n",
            "+---------+------+\n",
            "|DriveThru|count |\n",
            "+---------+------+\n",
            "|None     |755   |\n",
            "|False    |2631  |\n",
            "|NULL     |142586|\n",
            "|True     |4374  |\n",
            "+---------+------+\n",
            "\n",
            "Distribution for column: Attribute.GoodForDancing\n",
            "+--------------+------+\n",
            "|GoodForDancing|count |\n",
            "+--------------+------+\n",
            "|False         |3726  |\n",
            "|NULL          |145718|\n",
            "|True          |902   |\n",
            "+--------------+------+\n",
            "\n",
            "Distribution for column: Attribute.GoodForKids\n",
            "+-----------+-----+\n",
            "|GoodForKids|count|\n",
            "+-----------+-----+\n",
            "|None       |28   |\n",
            "|False      |9442 |\n",
            "|NULL       |96971|\n",
            "|True       |43905|\n",
            "+-----------+-----+\n",
            "\n",
            "Distribution for column: Attribute.GoodForMeal\n",
            "+--------------------------------------------------------------------------------------------------------------+-----+\n",
            "|GoodForMeal                                                                                                   |count|\n",
            "+--------------------------------------------------------------------------------------------------------------+-----+\n",
            "|{u'breakfast': True, u'brunch': None, u'lunch': None, u'dinner': True, u'latenight': True, u'dessert': None}  |2    |\n",
            "|{'dessert': True, 'latenight': True, 'lunch': None, 'dinner': True, 'brunch': None, 'breakfast': None}        |2    |\n",
            "|{'dessert': False, 'latenight': False, 'lunch': True, 'dinner': False, 'breakfast': False, 'brunch': False}   |12   |\n",
            "|{'dessert': False, 'latenight': True, 'lunch': False, 'dinner': True, 'brunch': None, 'breakfast': False}     |1    |\n",
            "|{'dessert': True, 'latenight': False, 'lunch': None, 'dinner': True, 'brunch': None, 'breakfast': False}      |3    |\n",
            "|{'dessert': False, 'latenight': None, 'lunch': None, 'dinner': True, 'brunch': False, 'breakfast': False}     |57   |\n",
            "|{'dessert': True, 'latenight': None, 'lunch': True, 'dinner': None, 'brunch': False, 'breakfast': False}      |1    |\n",
            "|{'dessert': False, 'latenight': False, 'lunch': True, 'dinner': None, 'brunch': None, 'breakfast': True}      |16   |\n",
            "|{'dessert': None, 'latenight': None, 'lunch': None, 'dinner': None, 'brunch': True, 'breakfast': True}        |36   |\n",
            "|{'dessert': None, 'latenight': False, 'lunch': True, 'dinner': True, 'brunch': True, 'breakfast': False}      |20   |\n",
            "|{'dessert': True, 'latenight': None, 'lunch': None, 'dinner': None, 'brunch': None, 'breakfast': True}        |1    |\n",
            "|{'dessert': None, 'latenight': True, 'lunch': True, 'dinner': None, 'brunch': None, 'breakfast': True}        |3    |\n",
            "|{'dessert': False, 'latenight': False, 'lunch': True, 'dinner': False, 'brunch': None, 'breakfast': None}     |4    |\n",
            "|{'dessert': True, 'latenight': True, 'lunch': True, 'dinner': False, 'brunch': True, 'breakfast': False}      |1    |\n",
            "|{'dessert': None, 'latenight': None, 'lunch': True, 'dinner': None, 'brunch': None, 'breakfast': None}        |139  |\n",
            "|{'dessert': True, 'latenight': None, 'lunch': None, 'dinner': None, 'brunch': False, 'breakfast': None}       |1    |\n",
            "|{u'breakfast': None, u'brunch': False, u'lunch': None, u'dinner': True, u'latenight': None, u'dessert': False}|1    |\n",
            "|{'dessert': None, 'latenight': None, 'lunch': True, 'dinner': False, 'brunch': True, 'breakfast': True}       |11   |\n",
            "|{'dessert': False, 'latenight': False, 'lunch': True, 'dinner': False, 'brunch': None, 'breakfast': True}     |15   |\n",
            "|{'dessert': False, 'latenight': False, 'lunch': False, 'dinner': True, 'brunch': True, 'breakfast': False}    |41   |\n",
            "+--------------------------------------------------------------------------------------------------------------+-----+\n",
            "only showing top 20 rows\n",
            "\n",
            "Distribution for column: Attribute.HairSpecializesIn\n",
            "+---------------------------------------------------------------------------------------------------------------------------------------------------------------+-----+\n",
            "|HairSpecializesIn                                                                                                                                              |count|\n",
            "+---------------------------------------------------------------------------------------------------------------------------------------------------------------+-----+\n",
            "|{u'africanamerican': False, u'asian': False, u'curly': False, u'perms': False, u'extensions': True, u'straightperms': False, u'coloring': True, u'kids': False}|4    |\n",
            "|{'straightperms': True, 'coloring': True, 'extensions': False, 'africanamerican': False, 'curly': True, 'kids': False, 'perms': False, 'asian': True}          |1    |\n",
            "|{'straightperms': False, 'coloring': True, 'extensions': False, 'africanamerican': False, 'curly': True, 'kids': True, 'perms': False, 'asian': False}         |5    |\n",
            "|{'straightperms': True, 'coloring': True, 'extensions': False, 'africanamerican': False, 'curly': True, 'kids': True, 'perms': False, 'asian': True}           |1    |\n",
            "|{'straightperms': False, 'coloring': True, 'extensions': False, 'africanamerican': True, 'curly': True, 'kids': True, 'perms': False, 'asian': True}           |14   |\n",
            "|{'straightperms': True, 'coloring': True, 'extensions': True, 'africanamerican': True, 'curly': True, 'kids': True, 'perms': False, 'asian': True}             |10   |\n",
            "|{'perms': True, 'coloring': True, 'extensions': False, 'curly': True, 'kids': False}                                                                           |2    |\n",
            "|{'straightperms': False, 'coloring': True, 'extensions': False, 'africanamerican': True, 'curly': True, 'kids': False, 'perms': False, 'asian': True}          |7    |\n",
            "|{u'africanamerican': False, u'asian': True, u'curly': False, u'perms': False, u'extensions': False, u'straightperms': True, u'coloring': True, u'kids': False} |1    |\n",
            "|{u'africanamerican': False, u'asian': True, u'curly': True, u'perms': False, u'extensions': True, u'straightperms': False, u'coloring': True, u'kids': False}  |3    |\n",
            "|{'straightperms': False, 'coloring': False, 'extensions': False, 'africanamerican': False, 'curly': True, 'kids': False, 'perms': False, 'asian': False}       |1    |\n",
            "|{'straightperms': False, 'coloring': False, 'extensions': False, 'africanamerican': True, 'curly': True, 'kids': False, 'perms': False, 'asian': True}         |3    |\n",
            "|None                                                                                                                                                           |30   |\n",
            "|{'straightperms': True, 'coloring': True, 'extensions': False, 'africanamerican': False, 'curly': True, 'kids': True, 'perms': True, 'asian': True}            |15   |\n",
            "|{'straightperms': False, 'coloring': True, 'extensions': True, 'africanamerican': True, 'curly': True, 'kids': False, 'perms': False, 'asian': False}          |3    |\n",
            "|{'straightperms': True, 'coloring': False, 'extensions': False, 'africanamerican': False, 'curly': False, 'kids': False, 'perms': False, 'asian': False}       |1    |\n",
            "|{'straightperms': False, 'coloring': True, 'extensions': False, 'africanamerican': True, 'curly': True, 'kids': True, 'perms': True, 'asian': True}            |5    |\n",
            "|{'straightperms': False, 'coloring': True, 'extensions': False, 'africanamerican': False, 'curly': False, 'kids': False, 'perms': False, 'asian': False}       |42   |\n",
            "|{'straightperms': False, 'coloring': True, 'extensions': True, 'africanamerican': True, 'curly': True, 'kids': False, 'perms': True, 'asian': True}            |6    |\n",
            "|{'straightperms': False, 'coloring': False, 'extensions': False, 'africanamerican': True, 'curly': True, 'kids': True, 'perms': False, 'asian': True}          |23   |\n",
            "+---------------------------------------------------------------------------------------------------------------------------------------------------------------+-----+\n",
            "only showing top 20 rows\n",
            "\n",
            "Distribution for column: Attribute.HappyHour\n",
            "+---------+------+\n",
            "|HappyHour|count |\n",
            "+---------+------+\n",
            "|False    |5448  |\n",
            "|NULL     |135175|\n",
            "|True     |9721  |\n",
            "|None     |2     |\n",
            "+---------+------+\n",
            "\n",
            "Distribution for column: Attribute.HasTV\n",
            "+-----+------+\n",
            "|HasTV|count |\n",
            "+-----+------+\n",
            "|None |19    |\n",
            "|False|10911 |\n",
            "|NULL |105262|\n",
            "|True |34154 |\n",
            "+-----+------+\n",
            "\n",
            "Distribution for column: Attribute.Music\n",
            "+------------------------------------------------------------------------------------------------------------------------------------+-----+\n",
            "|Music                                                                                                                               |count|\n",
            "+------------------------------------------------------------------------------------------------------------------------------------+-----+\n",
            "|{'dj': True, 'background_music': False, 'no_music': False, 'jukebox': False, 'live': True, 'video': False, 'karaoke': False}        |74   |\n",
            "|{'dj': True, 'background_music': False, 'jukebox': True, 'live': False, 'video': True, 'karaoke': True}                             |1    |\n",
            "|{'dj': None, 'background_music': False, 'no_music': False, 'jukebox': True, 'live': None, 'video': False, 'karaoke': None}          |7    |\n",
            "|{u'dj': True, u'live': False, u'jukebox': False, u'video': False, u'background_music': False, u'karaoke': None, u'no_music': False} |2    |\n",
            "|{}                                                                                                                                  |69   |\n",
            "|{'dj': False, 'background_music': False, 'no_music': False, 'jukebox': False, 'live': False, 'video': False, 'karaoke': None}       |205  |\n",
            "|{'dj': False, 'background_music': False, 'no_music': False, 'jukebox': True, 'live': None, 'video': False, 'karaoke': False}        |5    |\n",
            "|{'dj': False, 'background_music': True, 'no_music': False, 'jukebox': False, 'live': False, 'video': True, 'karaoke': False}        |1    |\n",
            "|{u'dj': False, u'live': False, u'jukebox': False, u'video': False, u'background_music': False, u'karaoke': True, u'no_music': False}|1    |\n",
            "|{'dj': False, 'background_music': False, 'no_music': False, 'jukebox': False, 'live': True, 'video': False, 'karaoke': None}        |3    |\n",
            "|{'dj': False, 'background_music': False, 'no_music': False, 'jukebox': False, 'live': False, 'video': False, 'karaoke': False}      |2836 |\n",
            "|{u'dj': False, u'live': False, u'jukebox': None, u'video': False, u'background_music': False, u'karaoke': False, u'no_music': False}|26   |\n",
            "|{'dj': False, 'background_music': True, 'jukebox': False, 'live': False, 'video': False, 'karaoke': True}                           |1    |\n",
            "|{u'dj': False, u'live': False, u'jukebox': True, u'video': False, u'background_music': False, u'karaoke': None, u'no_music': False} |20   |\n",
            "|None                                                                                                                                |35   |\n",
            "|{'dj': False, 'background_music': True, 'no_music': False, 'jukebox': True, 'live': True, 'video': False, 'karaoke': False}         |2    |\n",
            "|{u'dj': False, u'live': None, u'jukebox': None, u'video': False, u'background_music': False, u'karaoke': None, u'no_music': False}  |34   |\n",
            "|{'dj': False, 'background_music': False, 'jukebox': False, 'live': True, 'video': False, 'karaoke': False}                          |38   |\n",
            "|{'dj': True, 'background_music': False, 'no_music': False, 'jukebox': False, 'live': True, 'video': False, 'karaoke': True}         |3    |\n",
            "|{'dj': False, 'background_music': False, 'no_music': False, 'jukebox': None, 'live': True, 'video': False, 'karaoke': None}         |2    |\n",
            "+------------------------------------------------------------------------------------------------------------------------------------+-----+\n",
            "only showing top 20 rows\n",
            "\n",
            "Distribution for column: Attribute.NoiseLevel\n",
            "+------------+------+\n",
            "|NoiseLevel  |count |\n",
            "+------------+------+\n",
            "|'average'   |4607  |\n",
            "|None        |39    |\n",
            "|u'loud'     |2447  |\n",
            "|u'quiet'    |6460  |\n",
            "|NULL        |112353|\n",
            "|u'average'  |21581 |\n",
            "|'very_loud' |133   |\n",
            "|'quiet'     |1174  |\n",
            "|u'very_loud'|1067  |\n",
            "|'loud'      |485   |\n",
            "+------------+------+\n",
            "\n",
            "Distribution for column: Attribute.Open24Hours\n",
            "+-----------+------+\n",
            "|Open24Hours|count |\n",
            "+-----------+------+\n",
            "|False      |20    |\n",
            "|NULL       |150307|\n",
            "|True       |19    |\n",
            "+-----------+------+\n",
            "\n",
            "Distribution for column: Attribute.OutdoorSeating\n",
            "+--------------+------+\n",
            "|OutdoorSeating|count |\n",
            "+--------------+------+\n",
            "|None          |1882  |\n",
            "|False         |24371 |\n",
            "|NULL          |101544|\n",
            "|True          |22549 |\n",
            "+--------------+------+\n",
            "\n",
            "Distribution for column: Attribute.RestaurantsAttire\n",
            "+-----------------+------+\n",
            "|RestaurantsAttire|count |\n",
            "+-----------------+------+\n",
            "|'casual'         |15154 |\n",
            "|None             |38    |\n",
            "|u'casual'        |23190 |\n",
            "|NULL             |111091|\n",
            "|'dressy'         |273   |\n",
            "|'formal'         |38    |\n",
            "|u'formal'        |32    |\n",
            "|u'dressy'        |530   |\n",
            "+-----------------+------+\n",
            "\n",
            "Distribution for column: Attribute.RestaurantsCounterService\n",
            "+-------------------------+------+\n",
            "|RestaurantsCounterService|count |\n",
            "+-------------------------+------+\n",
            "|False                    |3     |\n",
            "|NULL                     |150327|\n",
            "|True                     |16    |\n",
            "+-------------------------+------+\n",
            "\n",
            "Distribution for column: Attribute.RestaurantsDelivery\n",
            "+-------------------+-----+\n",
            "|RestaurantsDelivery|count|\n",
            "+-------------------+-----+\n",
            "|None               |3948 |\n",
            "|False              |20188|\n",
            "|NULL               |94064|\n",
            "|True               |32146|\n",
            "+-------------------+-----+\n",
            "\n",
            "Distribution for column: Attribute.RestaurantsGoodForGroups\n",
            "+------------------------+------+\n",
            "|RestaurantsGoodForGroups|count |\n",
            "+------------------------+------+\n",
            "|None                    |21    |\n",
            "|False                   |6001  |\n",
            "|NULL                    |106176|\n",
            "|True                    |38148 |\n",
            "+------------------------+------+\n",
            "\n",
            "Distribution for column: Attribute.RestaurantsPriceRange2\n",
            "+----------------------+-----+\n",
            "|RestaurantsPriceRange2|count|\n",
            "+----------------------+-----+\n",
            "|3                     |6667 |\n",
            "|None                  |34   |\n",
            "|NULL                  |65032|\n",
            "|1                     |28840|\n",
            "|4                     |1192 |\n",
            "|2                     |48581|\n",
            "+----------------------+-----+\n",
            "\n",
            "Distribution for column: Attribute.RestaurantsReservations\n",
            "+-----------------------+------+\n",
            "|RestaurantsReservations|count |\n",
            "+-----------------------+------+\n",
            "|None                   |288   |\n",
            "|False                  |30105 |\n",
            "|NULL                   |105099|\n",
            "|True                   |14854 |\n",
            "+-----------------------+------+\n",
            "\n",
            "Distribution for column: Attribute.RestaurantsTableService\n",
            "+-----------------------+------+\n",
            "|RestaurantsTableService|count |\n",
            "+-----------------------+------+\n",
            "|None                   |15    |\n",
            "|False                  |7293  |\n",
            "|NULL                   |130364|\n",
            "|True                   |12674 |\n",
            "+-----------------------+------+\n",
            "\n",
            "Distribution for column: Attribute.RestaurantsTakeOut\n",
            "+------------------+-----+\n",
            "|RestaurantsTakeOut|count|\n",
            "+------------------+-----+\n",
            "|None              |2105 |\n",
            "|False             |4809 |\n",
            "|NULL              |90489|\n",
            "|True              |52943|\n",
            "+------------------+-----+\n",
            "\n",
            "Distribution for column: Attribute.Smoking\n",
            "+----------+------+\n",
            "|Smoking   |count |\n",
            "+----------+------+\n",
            "|u'outdoor'|1800  |\n",
            "|None      |14    |\n",
            "|NULL      |145779|\n",
            "|'no'      |30    |\n",
            "|u'no'     |2375  |\n",
            "|'outdoor' |17    |\n",
            "|u'yes'    |331   |\n",
            "+----------+------+\n",
            "\n",
            "Distribution for column: Attribute.WheelchairAccessible\n",
            "+--------------------+------+\n",
            "|WheelchairAccessible|count |\n",
            "+--------------------+------+\n",
            "|None                |27    |\n",
            "|False               |2933  |\n",
            "|NULL                |121393|\n",
            "|True                |25993 |\n",
            "+--------------------+------+\n",
            "\n",
            "Distribution for column: Attribute.WiFi\n",
            "+-------+-----+\n",
            "|WiFi   |count|\n",
            "+-------+-----+\n",
            "|None   |50   |\n",
            "|'paid' |133  |\n",
            "|NULL   |93432|\n",
            "|'no'   |6610 |\n",
            "|u'paid'|486  |\n",
            "|u'no'  |15221|\n",
            "|u'free'|27029|\n",
            "|'free' |7385 |\n",
            "+-------+-----+\n",
            "\n"
          ]
        }
      ]
    },
    {
      "cell_type": "markdown",
      "source": [
        "## Reviews Dataset"
      ],
      "metadata": {
        "id": "Mj9iqvEcCH9S"
      }
    },
    {
      "cell_type": "code",
      "source": [
        "df_review.printSchema()"
      ],
      "metadata": {
        "id": "Llxl7me4CN9C",
        "outputId": "bc73bfc2-1886-4c2f-9b57-2ab503dba443",
        "colab": {
          "base_uri": "https://localhost:8080/"
        }
      },
      "execution_count": 39,
      "outputs": [
        {
          "output_type": "stream",
          "name": "stdout",
          "text": [
            "root\n",
            " |-- business_id: string (nullable = true)\n",
            " |-- cool: long (nullable = true)\n",
            " |-- date: string (nullable = true)\n",
            " |-- funny: long (nullable = true)\n",
            " |-- review_id: string (nullable = true)\n",
            " |-- stars: double (nullable = true)\n",
            " |-- text: string (nullable = true)\n",
            " |-- useful: long (nullable = true)\n",
            " |-- user_id: string (nullable = true)\n",
            "\n"
          ]
        }
      ]
    },
    {
      "cell_type": "code",
      "source": [
        "df_review.show(5)"
      ],
      "metadata": {
        "id": "TUIdvBt-s99a",
        "outputId": "d5d65be2-81a1-4bb3-c20a-d7ff84c99d13",
        "colab": {
          "base_uri": "https://localhost:8080/"
        }
      },
      "execution_count": 40,
      "outputs": [
        {
          "output_type": "stream",
          "name": "stdout",
          "text": [
            "+--------------------+----+-------------------+-----+--------------------+-----+--------------------+------+--------------------+\n",
            "|         business_id|cool|               date|funny|           review_id|stars|                text|useful|             user_id|\n",
            "+--------------------+----+-------------------+-----+--------------------+-----+--------------------+------+--------------------+\n",
            "|XQfwVwDr-v0ZS3_Cb...|   0|2018-07-07 22:09:11|    0|KU_O5udG6zpxOg-Vc...|  3.0|If you decide to ...|     0|mh_-eMZ6K5RLWhZyI...|\n",
            "|7ATYjTIgM3jUlt4UM...|   1|2012-01-03 15:28:18|    0|BiTunyQ73aT9WBnpR...|  5.0|I've taken a lot ...|     1|OyoGAe7OKpv6SyGZT...|\n",
            "|YjUWPpI6HXG530lwP...|   0|2014-02-05 20:30:30|    0|saUsX_uimxRlCVr67...|  3.0|Family diner. Had...|     0|8g_iMtfSiwikVnbP2...|\n",
            "|kxX2SOes4o-D3ZQBk...|   1|2015-01-04 00:01:03|    0|AqPFMleE6RsU23_au...|  5.0|Wow!  Yummy, diff...|     1|_7bHUi9Uuf5__HHc_...|\n",
            "|e4Vwtrqf-wpJfwesg...|   1|2017-01-14 20:54:15|    0|Sx8TMOWLNuJBWer-0...|  4.0|Cute interior and...|     1|bcjbaE6dDog4jkNY9...|\n",
            "+--------------------+----+-------------------+-----+--------------------+-----+--------------------+------+--------------------+\n",
            "only showing top 5 rows\n",
            "\n"
          ]
        }
      ]
    },
    {
      "cell_type": "code",
      "source": [
        "df_review.count()"
      ],
      "metadata": {
        "id": "x89VHZBStZvD",
        "outputId": "b8b40f54-697a-4625-e92c-d0c9ce2cd4df",
        "colab": {
          "base_uri": "https://localhost:8080/"
        }
      },
      "execution_count": 41,
      "outputs": [
        {
          "output_type": "execute_result",
          "data": {
            "text/plain": [
              "6990280"
            ]
          },
          "metadata": {},
          "execution_count": 41
        }
      ]
    },
    {
      "cell_type": "code",
      "source": [
        "# Numerical columns, since they have similar structure and distribution,\n",
        "# the analysis will be the same\n",
        "for column in [\"cool\", \"funny\", \"useful\"]:\n",
        "  print(\"\\n\\nAnalysis for column: \" + column)\n",
        "  df_review.select(column).describe().show()\n",
        "  df_review.filter(col(column) < 0).show()\n",
        "  print(\"Number of -1 rows for the column \" + column + \" are: \" + str(df_review.filter(col(column) < 0).count()))"
      ],
      "metadata": {
        "id": "fzxfubzQ4fnI",
        "outputId": "d092aee1-07c7-4b90-f2f5-ed8a3027abe9",
        "colab": {
          "base_uri": "https://localhost:8080/"
        }
      },
      "execution_count": 42,
      "outputs": [
        {
          "output_type": "stream",
          "name": "stdout",
          "text": [
            "\n",
            "\n",
            "Analysis for column: cool\n",
            "+-------+------------------+\n",
            "|summary|              cool|\n",
            "+-------+------------------+\n",
            "|  count|           6990280|\n",
            "|   mean|0.4986175088837643|\n",
            "| stddev|2.1724598202111864|\n",
            "|    min|                -1|\n",
            "|    max|               404|\n",
            "+-------+------------------+\n",
            "\n",
            "+--------------------+----+-------------------+-----+--------------------+-----+--------------------+------+--------------------+\n",
            "|         business_id|cool|               date|funny|           review_id|stars|                text|useful|             user_id|\n",
            "+--------------------+----+-------------------+-----+--------------------+-----+--------------------+------+--------------------+\n",
            "|E3Qk7xTznkT0SABL2...|  -1|2017-10-05 02:47:33|   -1|JcWLycg0Hdsz6LBNA...|  5.0|The food was so m...|    -1|04j3r2Psfw_LxX1UX...|\n",
            "+--------------------+----+-------------------+-----+--------------------+-----+--------------------+------+--------------------+\n",
            "\n",
            "Number of -1 rows for the column cool are: 1\n",
            "\n",
            "\n",
            "Analysis for column: funny\n",
            "+-------+-------------------+\n",
            "|summary|              funny|\n",
            "+-------+-------------------+\n",
            "|  count|            6990280|\n",
            "|   mean|0.32655959417934616|\n",
            "| stddev| 1.6887290985540495|\n",
            "|    min|                 -1|\n",
            "|    max|                792|\n",
            "+-------+-------------------+\n",
            "\n",
            "+--------------------+----+-------------------+-----+--------------------+-----+--------------------+------+--------------------+\n",
            "|         business_id|cool|               date|funny|           review_id|stars|                text|useful|             user_id|\n",
            "+--------------------+----+-------------------+-----+--------------------+-----+--------------------+------+--------------------+\n",
            "|E3Qk7xTznkT0SABL2...|  -1|2017-10-05 02:47:33|   -1|JcWLycg0Hdsz6LBNA...|  5.0|The food was so m...|    -1|04j3r2Psfw_LxX1UX...|\n",
            "|qjstXewt23oCZnf86...|   2|2017-02-25 23:40:34|   -1|7tlF2NEDiFqMRjKBg...|  1.0|The most horrible...|     2|VKK7pPl6DfjL9H5b3...|\n",
            "+--------------------+----+-------------------+-----+--------------------+-----+--------------------+------+--------------------+\n",
            "\n",
            "Number of -1 rows for the column funny are: 2\n",
            "\n",
            "\n",
            "Analysis for column: useful\n",
            "+-------+------------------+\n",
            "|summary|            useful|\n",
            "+-------+------------------+\n",
            "|  count|           6990280|\n",
            "|   mean|1.1846089140921394|\n",
            "| stddev| 3.253766966933363|\n",
            "|    min|                -1|\n",
            "|    max|              1182|\n",
            "+-------+------------------+\n",
            "\n",
            "+--------------------+----+-------------------+-----+--------------------+-----+--------------------+------+--------------------+\n",
            "|         business_id|cool|               date|funny|           review_id|stars|                text|useful|             user_id|\n",
            "+--------------------+----+-------------------+-----+--------------------+-----+--------------------+------+--------------------+\n",
            "|SJQePJL1bkeEk-6gp...|   0|2018-12-23 01:35:31|    0|plhadSWfXZFKRAhEz...|  1.0|This complaint ha...|    -1|0Q4ouqkcwrVE_Im6a...|\n",
            "|SJQePJL1bkeEk-6gp...|   0|2016-01-17 00:21:53|    0|gk_9N_c-7oEgzrXVD...|  1.0|Only bounce play ...|    -1|lEOLrNxD4wknYyERp...|\n",
            "|SJQePJL1bkeEk-6gp...|   0|2017-01-18 18:11:15|    0|iYS4pfUCUPT_TEmW6...|  3.0|Having been to bo...|    -1|1p8Pu1pvAsuNtuZDt...|\n",
            "|E3Qk7xTznkT0SABL2...|  -1|2017-10-05 02:47:33|   -1|JcWLycg0Hdsz6LBNA...|  5.0|The food was so m...|    -1|04j3r2Psfw_LxX1UX...|\n",
            "+--------------------+----+-------------------+-----+--------------------+-----+--------------------+------+--------------------+\n",
            "\n",
            "Number of -1 rows for the column useful are: 4\n"
          ]
        }
      ]
    },
    {
      "cell_type": "code",
      "source": [
        "df_review.groupBy(\"stars\").count().sort(\"stars\").show()"
      ],
      "metadata": {
        "id": "FZbYN5D83i8h",
        "outputId": "3fed4e8b-0f78-4adb-8209-f8e143fe80f7",
        "colab": {
          "base_uri": "https://localhost:8080/"
        }
      },
      "execution_count": 43,
      "outputs": [
        {
          "output_type": "stream",
          "name": "stdout",
          "text": [
            "+-----+-------+\n",
            "|stars|  count|\n",
            "+-----+-------+\n",
            "|  1.0|1069561|\n",
            "|  2.0| 544240|\n",
            "|  3.0| 691934|\n",
            "|  4.0|1452918|\n",
            "|  5.0|3231627|\n",
            "+-----+-------+\n",
            "\n"
          ]
        }
      ]
    },
    {
      "cell_type": "code",
      "source": [
        "# Look for null values in foreign keys and empty reviews\n",
        "for column in [\"business_id\", \"user_id\", \"text\"]:\n",
        "  print(\"\\n\\nAnalysis for column: \" + column)\n",
        "  print(\"Number of NULL \" + column + \" rows: \" + str(df_review.filter(col(column).isNull()).count()))\n",
        "  print(\"Number of EMPTY ('') \" + column + \" rows: \" + str(df_review.filter(col(column) == \"\").count()))"
      ],
      "metadata": {
        "id": "qQtVsD-z_Ccn",
        "outputId": "49d21e9d-450c-4f32-b484-9b6e554eb0f0",
        "colab": {
          "base_uri": "https://localhost:8080/"
        }
      },
      "execution_count": 44,
      "outputs": [
        {
          "output_type": "stream",
          "name": "stdout",
          "text": [
            "\n",
            "\n",
            "Analysis for column: business_id\n",
            "Number of NULL business_id rows: 0\n",
            "Number of EMPTY ('') business_id rows: 0\n",
            "\n",
            "\n",
            "Analysis for column: user_id\n",
            "Number of NULL user_id rows: 0\n",
            "Number of EMPTY ('') user_id rows: 0\n",
            "\n",
            "\n",
            "Analysis for column: text\n",
            "Number of NULL text rows: 0\n",
            "Number of EMPTY ('') text rows: 0\n"
          ]
        }
      ]
    },
    {
      "cell_type": "markdown",
      "source": [
        "## User Dataset"
      ],
      "metadata": {
        "id": "TurcQam8COd_"
      }
    },
    {
      "cell_type": "code",
      "source": [
        "df_user.printSchema()"
      ],
      "metadata": {
        "id": "QRECWsJsCQcy",
        "outputId": "5fca4545-0007-48d7-f942-d32b71f45d65",
        "colab": {
          "base_uri": "https://localhost:8080/"
        }
      },
      "execution_count": 45,
      "outputs": [
        {
          "output_type": "stream",
          "name": "stdout",
          "text": [
            "root\n",
            " |-- average_stars: double (nullable = true)\n",
            " |-- compliment_cool: long (nullable = true)\n",
            " |-- compliment_cute: long (nullable = true)\n",
            " |-- compliment_funny: long (nullable = true)\n",
            " |-- compliment_hot: long (nullable = true)\n",
            " |-- compliment_list: long (nullable = true)\n",
            " |-- compliment_more: long (nullable = true)\n",
            " |-- compliment_note: long (nullable = true)\n",
            " |-- compliment_photos: long (nullable = true)\n",
            " |-- compliment_plain: long (nullable = true)\n",
            " |-- compliment_profile: long (nullable = true)\n",
            " |-- compliment_writer: long (nullable = true)\n",
            " |-- cool: long (nullable = true)\n",
            " |-- elite: string (nullable = true)\n",
            " |-- fans: long (nullable = true)\n",
            " |-- friends: string (nullable = true)\n",
            " |-- funny: long (nullable = true)\n",
            " |-- name: string (nullable = true)\n",
            " |-- review_count: long (nullable = true)\n",
            " |-- useful: long (nullable = true)\n",
            " |-- user_id: string (nullable = true)\n",
            " |-- yelping_since: string (nullable = true)\n",
            "\n"
          ]
        }
      ]
    },
    {
      "cell_type": "code",
      "source": [
        "df_user.show(5)"
      ],
      "metadata": {
        "id": "aqUSbzAytQrJ",
        "outputId": "6145317f-0c93-4cea-ca10-10b46f371c3a",
        "colab": {
          "base_uri": "https://localhost:8080/"
        }
      },
      "execution_count": 46,
      "outputs": [
        {
          "output_type": "stream",
          "name": "stdout",
          "text": [
            "+-------------+---------------+---------------+----------------+--------------+---------------+---------------+---------------+-----------------+----------------+------------------+-----------------+-----+--------------------+----+--------------------+-----+------+------------+------+--------------------+-------------------+\n",
            "|average_stars|compliment_cool|compliment_cute|compliment_funny|compliment_hot|compliment_list|compliment_more|compliment_note|compliment_photos|compliment_plain|compliment_profile|compliment_writer| cool|               elite|fans|             friends|funny|  name|review_count|useful|             user_id|      yelping_since|\n",
            "+-------------+---------------+---------------+----------------+--------------+---------------+---------------+---------------+-----------------+----------------+------------------+-----------------+-----+--------------------+----+--------------------+-----+------+------------+------+--------------------+-------------------+\n",
            "|         3.91|            467|             56|             467|           250|             18|             65|            232|              180|             844|                55|              239| 5994|                2007| 267|NSCy54eWehBJyZdG2...| 1259|Walker|         585|  7217|qVc8ODYU5SZjKXVBg...|2007-01-25 16:47:26|\n",
            "|         3.74|           3131|            157|            3131|          1145|            251|            264|           1847|             1946|            7054|               184|             1521|27281|2009,2010,2011,20...|3138|ueRPE0CX75ePGMqOF...|13066|Daniel|        4333| 43091|j14WgRoU_-2ZE1aw1...|2009-01-25 04:35:42|\n",
            "|         3.32|            119|             17|             119|            89|              3|             13|             66|               18|              96|                10|               35| 1003|2009,2010,2011,20...|  52|LuO3Bn4f3rlhyHIaN...| 1010| Steph|         665|  2086|2WnXYQFK0hXEoTxPt...|2008-07-25 10:41:00|\n",
            "|         4.27|             26|              6|              26|            24|              2|              4|             12|                9|              16|                 1|               10|  299|      2009,2010,2011|  28|enx1vVPnfdNUdPho6...|  330|  Gwen|         224|   512|SZDeASXq7o05mMNLs...|2005-11-29 04:38:33|\n",
            "|         3.54|              0|              0|               0|             1|              0|              1|              1|                0|               1|                 0|                0|    7|                    |   1|PBK4q9KEEBHhFvSXC...|   15| Karen|          79|    29|hA5lMy-EnncsH4JoR...|2007-01-05 19:40:59|\n",
            "+-------------+---------------+---------------+----------------+--------------+---------------+---------------+---------------+-----------------+----------------+------------------+-----------------+-----+--------------------+----+--------------------+-----+------+------------+------+--------------------+-------------------+\n",
            "only showing top 5 rows\n",
            "\n"
          ]
        }
      ]
    },
    {
      "cell_type": "code",
      "source": [
        "df_user.describe().show()"
      ],
      "metadata": {
        "id": "oZvIgcYOtTLB",
        "outputId": "8ffa6fb7-48bd-4ab1-da4e-64433f1d1939",
        "colab": {
          "base_uri": "https://localhost:8080/"
        }
      },
      "execution_count": 47,
      "outputs": [
        {
          "output_type": "stream",
          "name": "stdout",
          "text": [
            "+-------+------------------+------------------+-------------------+------------------+------------------+-------------------+-------------------+------------------+-----------------+------------------+-------------------+-----------------+------------------+-----------------+------------------+--------------------+------------------+------------+------------------+-----------------+--------------------+-------------------+\n",
            "|summary|     average_stars|   compliment_cool|    compliment_cute|  compliment_funny|    compliment_hot|    compliment_list|    compliment_more|   compliment_note|compliment_photos|  compliment_plain| compliment_profile|compliment_writer|              cool|            elite|              fans|             friends|             funny|        name|      review_count|           useful|             user_id|      yelping_since|\n",
            "+-------+------------------+------------------+-------------------+------------------+------------------+-------------------+-------------------+------------------+-----------------+------------------+-------------------+-----------------+------------------+-----------------+------------------+--------------------+------------------+------------+------------------+-----------------+--------------------+-------------------+\n",
            "|  count|           1987897|           1987897|            1987897|           1987897|           1987897|            1987897|            1987897|           1987897|          1987897|           1987897|            1987897|          1987897|           1987897|          1987897|           1987897|             1987897|           1987897|     1987897|           1987897|          1987897|             1987897|            1987897|\n",
            "|   mean|  3.63049415035087|2.8293080577112395|0.13364927860950543|2.8293080577112395|1.8070724992290847|0.06390723463036566|0.29226313033321144|1.4431346292086562|1.226859339291724|3.0118411567601338|0.17931764070271247|1.056448095650831|23.792913817969442|2017.220760233918|1.4657404282012598|                NULL|16.970536199813168|         NaN|23.394409267683386|42.29633527290398|                NULL|               NULL|\n",
            "| stddev|1.1833369995975145| 96.66385446471259| 11.356823097797161| 96.66385446471259| 73.60184094967366|  10.04362659411937| 12.824667119930178| 60.16790049259038| 95.1575129716489|119.38980389840354| 15.155253377853501|32.17972805346817| 565.3512954713351| 4.09363504648036| 18.13075272385579|                NULL| 407.8034374841018|         NaN| 82.56699161797889|641.4805967755902|                NULL|               NULL|\n",
            "|    min|               1.0|                 0|                  0|                 0|                 0|                  0|                  0|                 0|                0|                 0|                  0|                0|                 0|                 |                 0|---2PmXbF47D870st...|                 0|       Chris|                 0|                0|---1lKK3aKOuomHnw...|2004-10-12 08:46:11|\n",
            "|    max|               5.0|             49967|              13654|             49967|             25784|              12669|              13501|             59031|            82630|            101097|              14180|            15934|            199878|             2021|             12497|zzzOOwSYzuTPvsafS...|            185823|Ｊｏａｎｎｅ|             17473|           206296|zzzUFM4HFe0SFG0bP...|2022-01-19 17:15:47|\n",
            "+-------+------------------+------------------+-------------------+------------------+------------------+-------------------+-------------------+------------------+-----------------+------------------+-------------------+-----------------+------------------+-----------------+------------------+--------------------+------------------+------------+------------------+-----------------+--------------------+-------------------+\n",
            "\n"
          ]
        }
      ]
    },
    {
      "cell_type": "code",
      "source": [
        "df_user.count()"
      ],
      "metadata": {
        "id": "8VfmAFAktdl8",
        "outputId": "a7c8de82-5676-4d03-f785-459dccf86a79",
        "colab": {
          "base_uri": "https://localhost:8080/"
        }
      },
      "execution_count": 48,
      "outputs": [
        {
          "output_type": "execute_result",
          "data": {
            "text/plain": [
              "1987897"
            ]
          },
          "metadata": {},
          "execution_count": 48
        }
      ]
    },
    {
      "cell_type": "markdown",
      "source": [
        "# Feature Engineering\n",
        "Modify the datasets based on the analysis made"
      ],
      "metadata": {
        "id": "IGbGm9xnx1X-"
      }
    },
    {
      "cell_type": "code",
      "source": [
        "# Join all 3 datasets"
      ],
      "metadata": {
        "id": "qLGkX5lRBlRx"
      },
      "execution_count": 49,
      "outputs": []
    },
    {
      "cell_type": "markdown",
      "source": [
        "## Business Dataset"
      ],
      "metadata": {
        "id": "nmwavUwpyRFs"
      }
    },
    {
      "cell_type": "code",
      "source": [
        "# Discard useless attributes (that has more null values than actual usuful ones)"
      ],
      "metadata": {
        "id": "8nl4C1V2x-CD"
      },
      "execution_count": 50,
      "outputs": []
    },
    {
      "cell_type": "code",
      "source": [
        "# Uniform attributes (transforming them in Boolean and setting NULL = None = False)"
      ],
      "metadata": {
        "id": "35wkajVVyrry"
      },
      "execution_count": 51,
      "outputs": []
    },
    {
      "cell_type": "code",
      "source": [
        "# Transform \"categories\" column to split elements\n",
        "df_business = df_business.withColumn(\"categories_array\", split(\"categories\", \", \"))\n",
        "df_business.select(\"categories\", \"categories_array\").show(truncate=False)"
      ],
      "metadata": {
        "id": "hxPrkxQpyM3W",
        "outputId": "b6f479fa-3904-41f4-d815-238435c3da3e",
        "colab": {
          "base_uri": "https://localhost:8080/"
        }
      },
      "execution_count": 52,
      "outputs": [
        {
          "output_type": "stream",
          "name": "stdout",
          "text": [
            "+----------------------------------------------------------------------------------------------------------+------------------------------------------------------------------------------------------------------------+\n",
            "|categories                                                                                                |categories_array                                                                                            |\n",
            "+----------------------------------------------------------------------------------------------------------+------------------------------------------------------------------------------------------------------------+\n",
            "|Doctors, Traditional Chinese Medicine, Naturopathic/Holistic, Acupuncture, Health & Medical, Nutritionists|[Doctors, Traditional Chinese Medicine, Naturopathic/Holistic, Acupuncture, Health & Medical, Nutritionists]|\n",
            "|Shipping Centers, Local Services, Notaries, Mailbox Centers, Printing Services                            |[Shipping Centers, Local Services, Notaries, Mailbox Centers, Printing Services]                            |\n",
            "|Department Stores, Shopping, Fashion, Home & Garden, Electronics, Furniture Stores                        |[Department Stores, Shopping, Fashion, Home & Garden, Electronics, Furniture Stores]                        |\n",
            "|Restaurants, Food, Bubble Tea, Coffee & Tea, Bakeries                                                     |[Restaurants, Food, Bubble Tea, Coffee & Tea, Bakeries]                                                     |\n",
            "|Brewpubs, Breweries, Food                                                                                 |[Brewpubs, Breweries, Food]                                                                                 |\n",
            "|Burgers, Fast Food, Sandwiches, Food, Ice Cream & Frozen Yogurt, Restaurants                              |[Burgers, Fast Food, Sandwiches, Food, Ice Cream & Frozen Yogurt, Restaurants]                              |\n",
            "|Sporting Goods, Fashion, Shoe Stores, Shopping, Sports Wear, Accessories                                  |[Sporting Goods, Fashion, Shoe Stores, Shopping, Sports Wear, Accessories]                                  |\n",
            "|Synagogues, Religious Organizations                                                                       |[Synagogues, Religious Organizations]                                                                       |\n",
            "|Pubs, Restaurants, Italian, Bars, American (Traditional), Nightlife, Greek                                |[Pubs, Restaurants, Italian, Bars, American (Traditional), Nightlife, Greek]                                |\n",
            "|Ice Cream & Frozen Yogurt, Fast Food, Burgers, Restaurants, Food                                          |[Ice Cream & Frozen Yogurt, Fast Food, Burgers, Restaurants, Food]                                          |\n",
            "|Department Stores, Shopping, Fashion                                                                      |[Department Stores, Shopping, Fashion]                                                                      |\n",
            "|Vietnamese, Food, Restaurants, Food Trucks                                                                |[Vietnamese, Food, Restaurants, Food Trucks]                                                                |\n",
            "|American (Traditional), Restaurants, Diners, Breakfast & Brunch                                           |[American (Traditional), Restaurants, Diners, Breakfast & Brunch]                                           |\n",
            "|General Dentistry, Dentists, Health & Medical, Cosmetic Dentists                                          |[General Dentistry, Dentists, Health & Medical, Cosmetic Dentists]                                          |\n",
            "|Food, Delis, Italian, Bakeries, Restaurants                                                               |[Food, Delis, Italian, Bakeries, Restaurants]                                                               |\n",
            "|Sushi Bars, Restaurants, Japanese                                                                         |[Sushi Bars, Restaurants, Japanese]                                                                         |\n",
            "|Automotive, Auto Parts & Supplies, Auto Customization                                                     |[Automotive, Auto Parts & Supplies, Auto Customization]                                                     |\n",
            "|Vape Shops, Tobacco Shops, Personal Shopping, Vitamins & Supplements, Shopping                            |[Vape Shops, Tobacco Shops, Personal Shopping, Vitamins & Supplements, Shopping]                            |\n",
            "|Automotive, Car Rental, Hotels & Travel, Truck Rental                                                     |[Automotive, Car Rental, Hotels & Travel, Truck Rental]                                                     |\n",
            "|Korean, Restaurants                                                                                       |[Korean, Restaurants]                                                                                       |\n",
            "+----------------------------------------------------------------------------------------------------------+------------------------------------------------------------------------------------------------------------+\n",
            "only showing top 20 rows\n",
            "\n"
          ]
        }
      ]
    },
    {
      "cell_type": "code",
      "source": [
        "categories_distribution = df_business.select(\"business_id\", explode(\"categories_array\").alias(\"category\")).groupBy(\"category\").agg(count(\"business_id\").alias(\"count\"))"
      ],
      "metadata": {
        "id": "s-PpcNMcZ95b"
      },
      "execution_count": 53,
      "outputs": []
    },
    {
      "cell_type": "code",
      "source": [
        "categories_distribution.sort(\"count\", ascending=False).show(50, truncate=False)\n",
        "print(f\"Number of unique categories: {categories_distribution.count()}\")\n",
        "mean = categories_distribution.agg(mean(\"count\")).collect()[0][0]\n",
        "print(f\"Average occurences of a category: {mean}\")"
      ],
      "metadata": {
        "id": "oW1OrWv7Z-2D",
        "outputId": "dd108578-8d03-4b40-ff38-9e1703bc7139",
        "colab": {
          "base_uri": "https://localhost:8080/"
        }
      },
      "execution_count": 54,
      "outputs": [
        {
          "output_type": "stream",
          "name": "stdout",
          "text": [
            "+-------------------------+-----+\n",
            "|category                 |count|\n",
            "+-------------------------+-----+\n",
            "|Restaurants              |52268|\n",
            "|Food                     |27781|\n",
            "|Shopping                 |24395|\n",
            "|Home Services            |14356|\n",
            "|Beauty & Spas            |14292|\n",
            "|Nightlife                |12281|\n",
            "|Health & Medical         |11890|\n",
            "|Local Services           |11198|\n",
            "|Bars                     |11065|\n",
            "|Automotive               |10773|\n",
            "|Event Planning & Services|9895 |\n",
            "|Sandwiches               |8366 |\n",
            "|American (Traditional)   |8139 |\n",
            "|Active Life              |7687 |\n",
            "|Pizza                    |7093 |\n",
            "|Coffee & Tea             |6703 |\n",
            "|Fast Food                |6472 |\n",
            "|Breakfast & Brunch       |6239 |\n",
            "|American (New)           |6097 |\n",
            "|Hotels & Travel          |5857 |\n",
            "|Home & Garden            |5799 |\n",
            "|Fashion                  |5739 |\n",
            "|Burgers                  |5636 |\n",
            "|Arts & Entertainment     |5434 |\n",
            "|Auto Repair              |5433 |\n",
            "|Hair Salons              |5046 |\n",
            "|Nail Salons              |4621 |\n",
            "|Mexican                  |4600 |\n",
            "|Italian                  |4573 |\n",
            "|Specialty Food           |4233 |\n",
            "|Doctors                  |3763 |\n",
            "|Pets                     |3758 |\n",
            "|Real Estate              |3577 |\n",
            "|Seafood                  |3539 |\n",
            "|Fitness & Instruction    |3293 |\n",
            "|Professional Services    |3270 |\n",
            "|Hair Removal             |3239 |\n",
            "|Desserts                 |3186 |\n",
            "|Chinese                  |3169 |\n",
            "|Bakeries                 |3150 |\n",
            "|Grocery                  |3139 |\n",
            "|Salad                    |3064 |\n",
            "|Hotels                   |2977 |\n",
            "|Chicken Wings            |2966 |\n",
            "|Cafes                    |2756 |\n",
            "|Ice Cream & Frozen Yogurt|2657 |\n",
            "|Caterers                 |2645 |\n",
            "|Pet Services             |2626 |\n",
            "|Dentists                 |2528 |\n",
            "|Skin Care                |2498 |\n",
            "+-------------------------+-----+\n",
            "only showing top 50 rows\n",
            "\n",
            "Number of unique categories: 1311\n",
            "Average occurences of a category: 509.9862700228833\n"
          ]
        }
      ]
    },
    {
      "cell_type": "markdown",
      "source": [
        "## Review Dataset"
      ],
      "metadata": {
        "id": "oIU4varCyaVQ"
      }
    },
    {
      "cell_type": "code",
      "source": [
        "# Convert \"date\" column to date format\n",
        "df_review = df_review.withColumn(\"date\", to_timestamp(df_review.date, \"yyyy-MM-dd HH:mm:ss\"))"
      ],
      "metadata": {
        "id": "NIfU3ES_yh5c"
      },
      "execution_count": 55,
      "outputs": []
    },
    {
      "cell_type": "markdown",
      "source": [
        "## User Dataset"
      ],
      "metadata": {
        "id": "bALbjcNcyc7Q"
      }
    },
    {
      "cell_type": "code",
      "source": [],
      "metadata": {
        "id": "fXAiTiOMyhG_"
      },
      "execution_count": 55,
      "outputs": []
    },
    {
      "cell_type": "markdown",
      "source": [
        "# Sentiment Analysis"
      ],
      "metadata": {
        "id": "h_KfxEe4rxoq"
      }
    },
    {
      "cell_type": "markdown",
      "source": [
        "## Using HuggingFace"
      ],
      "metadata": {
        "id": "iIGM4R-71sMA"
      }
    },
    {
      "cell_type": "code",
      "source": [
        "!pip install torch"
      ],
      "metadata": {
        "execution": {
          "iopub.status.busy": "2024-01-10T11:55:59.437936Z",
          "iopub.execute_input": "2024-01-10T11:55:59.438271Z",
          "iopub.status.idle": "2024-01-10T11:56:09.242694Z",
          "shell.execute_reply.started": "2024-01-10T11:55:59.438238Z",
          "shell.execute_reply": "2024-01-10T11:56:09.240303Z"
        },
        "trusted": true,
        "id": "00bffGUJ1sMA",
        "outputId": "69e40867-ede7-400d-f18b-8942e243388a",
        "colab": {
          "base_uri": "https://localhost:8080/"
        }
      },
      "execution_count": 56,
      "outputs": [
        {
          "output_type": "stream",
          "name": "stdout",
          "text": [
            "Requirement already satisfied: torch in /usr/local/lib/python3.10/dist-packages (2.1.0+cu121)\n",
            "Requirement already satisfied: filelock in /usr/local/lib/python3.10/dist-packages (from torch) (3.13.1)\n",
            "Requirement already satisfied: typing-extensions in /usr/local/lib/python3.10/dist-packages (from torch) (4.9.0)\n",
            "Requirement already satisfied: sympy in /usr/local/lib/python3.10/dist-packages (from torch) (1.12)\n",
            "Requirement already satisfied: networkx in /usr/local/lib/python3.10/dist-packages (from torch) (3.2.1)\n",
            "Requirement already satisfied: jinja2 in /usr/local/lib/python3.10/dist-packages (from torch) (3.1.3)\n",
            "Requirement already satisfied: fsspec in /usr/local/lib/python3.10/dist-packages (from torch) (2023.6.0)\n",
            "Requirement already satisfied: triton==2.1.0 in /usr/local/lib/python3.10/dist-packages (from torch) (2.1.0)\n",
            "Requirement already satisfied: MarkupSafe>=2.0 in /usr/local/lib/python3.10/dist-packages (from jinja2->torch) (2.1.5)\n",
            "Requirement already satisfied: mpmath>=0.19 in /usr/local/lib/python3.10/dist-packages (from sympy->torch) (1.3.0)\n"
          ]
        }
      ]
    },
    {
      "cell_type": "code",
      "source": [
        "!pip install tensorflow"
      ],
      "metadata": {
        "execution": {
          "iopub.status.busy": "2024-01-10T11:56:09.246651Z",
          "iopub.execute_input": "2024-01-10T11:56:09.247186Z",
          "iopub.status.idle": "2024-01-10T11:56:19.551071Z",
          "shell.execute_reply.started": "2024-01-10T11:56:09.247125Z",
          "shell.execute_reply": "2024-01-10T11:56:19.549868Z"
        },
        "trusted": true,
        "id": "TOd1rgf_1sMA",
        "outputId": "2833148a-60a0-4237-b57f-d5c2493e4117",
        "colab": {
          "base_uri": "https://localhost:8080/"
        }
      },
      "execution_count": 57,
      "outputs": [
        {
          "output_type": "stream",
          "name": "stdout",
          "text": [
            "Requirement already satisfied: tensorflow in /usr/local/lib/python3.10/dist-packages (2.15.0)\n",
            "Requirement already satisfied: absl-py>=1.0.0 in /usr/local/lib/python3.10/dist-packages (from tensorflow) (1.4.0)\n",
            "Requirement already satisfied: astunparse>=1.6.0 in /usr/local/lib/python3.10/dist-packages (from tensorflow) (1.6.3)\n",
            "Requirement already satisfied: flatbuffers>=23.5.26 in /usr/local/lib/python3.10/dist-packages (from tensorflow) (23.5.26)\n",
            "Requirement already satisfied: gast!=0.5.0,!=0.5.1,!=0.5.2,>=0.2.1 in /usr/local/lib/python3.10/dist-packages (from tensorflow) (0.5.4)\n",
            "Requirement already satisfied: google-pasta>=0.1.1 in /usr/local/lib/python3.10/dist-packages (from tensorflow) (0.2.0)\n",
            "Requirement already satisfied: h5py>=2.9.0 in /usr/local/lib/python3.10/dist-packages (from tensorflow) (3.9.0)\n",
            "Requirement already satisfied: libclang>=13.0.0 in /usr/local/lib/python3.10/dist-packages (from tensorflow) (16.0.6)\n",
            "Requirement already satisfied: ml-dtypes~=0.2.0 in /usr/local/lib/python3.10/dist-packages (from tensorflow) (0.2.0)\n",
            "Requirement already satisfied: numpy<2.0.0,>=1.23.5 in /usr/local/lib/python3.10/dist-packages (from tensorflow) (1.25.2)\n",
            "Requirement already satisfied: opt-einsum>=2.3.2 in /usr/local/lib/python3.10/dist-packages (from tensorflow) (3.3.0)\n",
            "Requirement already satisfied: packaging in /usr/local/lib/python3.10/dist-packages (from tensorflow) (23.2)\n",
            "Requirement already satisfied: protobuf!=4.21.0,!=4.21.1,!=4.21.2,!=4.21.3,!=4.21.4,!=4.21.5,<5.0.0dev,>=3.20.3 in /usr/local/lib/python3.10/dist-packages (from tensorflow) (3.20.3)\n",
            "Requirement already satisfied: setuptools in /usr/local/lib/python3.10/dist-packages (from tensorflow) (67.7.2)\n",
            "Requirement already satisfied: six>=1.12.0 in /usr/local/lib/python3.10/dist-packages (from tensorflow) (1.16.0)\n",
            "Requirement already satisfied: termcolor>=1.1.0 in /usr/local/lib/python3.10/dist-packages (from tensorflow) (2.4.0)\n",
            "Requirement already satisfied: typing-extensions>=3.6.6 in /usr/local/lib/python3.10/dist-packages (from tensorflow) (4.9.0)\n",
            "Requirement already satisfied: wrapt<1.15,>=1.11.0 in /usr/local/lib/python3.10/dist-packages (from tensorflow) (1.14.1)\n",
            "Requirement already satisfied: tensorflow-io-gcs-filesystem>=0.23.1 in /usr/local/lib/python3.10/dist-packages (from tensorflow) (0.36.0)\n",
            "Requirement already satisfied: grpcio<2.0,>=1.24.3 in /usr/local/lib/python3.10/dist-packages (from tensorflow) (1.60.1)\n",
            "Requirement already satisfied: tensorboard<2.16,>=2.15 in /usr/local/lib/python3.10/dist-packages (from tensorflow) (2.15.2)\n",
            "Requirement already satisfied: tensorflow-estimator<2.16,>=2.15.0 in /usr/local/lib/python3.10/dist-packages (from tensorflow) (2.15.0)\n",
            "Requirement already satisfied: keras<2.16,>=2.15.0 in /usr/local/lib/python3.10/dist-packages (from tensorflow) (2.15.0)\n",
            "Requirement already satisfied: wheel<1.0,>=0.23.0 in /usr/local/lib/python3.10/dist-packages (from astunparse>=1.6.0->tensorflow) (0.42.0)\n",
            "Requirement already satisfied: google-auth<3,>=1.6.3 in /usr/local/lib/python3.10/dist-packages (from tensorboard<2.16,>=2.15->tensorflow) (2.27.0)\n",
            "Requirement already satisfied: google-auth-oauthlib<2,>=0.5 in /usr/local/lib/python3.10/dist-packages (from tensorboard<2.16,>=2.15->tensorflow) (1.2.0)\n",
            "Requirement already satisfied: markdown>=2.6.8 in /usr/local/lib/python3.10/dist-packages (from tensorboard<2.16,>=2.15->tensorflow) (3.5.2)\n",
            "Requirement already satisfied: requests<3,>=2.21.0 in /usr/local/lib/python3.10/dist-packages (from tensorboard<2.16,>=2.15->tensorflow) (2.31.0)\n",
            "Requirement already satisfied: tensorboard-data-server<0.8.0,>=0.7.0 in /usr/local/lib/python3.10/dist-packages (from tensorboard<2.16,>=2.15->tensorflow) (0.7.2)\n",
            "Requirement already satisfied: werkzeug>=1.0.1 in /usr/local/lib/python3.10/dist-packages (from tensorboard<2.16,>=2.15->tensorflow) (3.0.1)\n",
            "Requirement already satisfied: cachetools<6.0,>=2.0.0 in /usr/local/lib/python3.10/dist-packages (from google-auth<3,>=1.6.3->tensorboard<2.16,>=2.15->tensorflow) (5.3.2)\n",
            "Requirement already satisfied: pyasn1-modules>=0.2.1 in /usr/local/lib/python3.10/dist-packages (from google-auth<3,>=1.6.3->tensorboard<2.16,>=2.15->tensorflow) (0.3.0)\n",
            "Requirement already satisfied: rsa<5,>=3.1.4 in /usr/local/lib/python3.10/dist-packages (from google-auth<3,>=1.6.3->tensorboard<2.16,>=2.15->tensorflow) (4.9)\n",
            "Requirement already satisfied: requests-oauthlib>=0.7.0 in /usr/local/lib/python3.10/dist-packages (from google-auth-oauthlib<2,>=0.5->tensorboard<2.16,>=2.15->tensorflow) (1.3.1)\n",
            "Requirement already satisfied: charset-normalizer<4,>=2 in /usr/local/lib/python3.10/dist-packages (from requests<3,>=2.21.0->tensorboard<2.16,>=2.15->tensorflow) (3.3.2)\n",
            "Requirement already satisfied: idna<4,>=2.5 in /usr/local/lib/python3.10/dist-packages (from requests<3,>=2.21.0->tensorboard<2.16,>=2.15->tensorflow) (3.6)\n",
            "Requirement already satisfied: urllib3<3,>=1.21.1 in /usr/local/lib/python3.10/dist-packages (from requests<3,>=2.21.0->tensorboard<2.16,>=2.15->tensorflow) (2.0.7)\n",
            "Requirement already satisfied: certifi>=2017.4.17 in /usr/local/lib/python3.10/dist-packages (from requests<3,>=2.21.0->tensorboard<2.16,>=2.15->tensorflow) (2024.2.2)\n",
            "Requirement already satisfied: MarkupSafe>=2.1.1 in /usr/local/lib/python3.10/dist-packages (from werkzeug>=1.0.1->tensorboard<2.16,>=2.15->tensorflow) (2.1.5)\n",
            "Requirement already satisfied: pyasn1<0.6.0,>=0.4.6 in /usr/local/lib/python3.10/dist-packages (from pyasn1-modules>=0.2.1->google-auth<3,>=1.6.3->tensorboard<2.16,>=2.15->tensorflow) (0.5.1)\n",
            "Requirement already satisfied: oauthlib>=3.0.0 in /usr/local/lib/python3.10/dist-packages (from requests-oauthlib>=0.7.0->google-auth-oauthlib<2,>=0.5->tensorboard<2.16,>=2.15->tensorflow) (3.2.2)\n"
          ]
        }
      ]
    },
    {
      "cell_type": "code",
      "source": [
        "!pip install transformers"
      ],
      "metadata": {
        "execution": {
          "iopub.status.busy": "2024-01-10T11:56:19.553014Z",
          "iopub.execute_input": "2024-01-10T11:56:19.55351Z",
          "iopub.status.idle": "2024-01-10T11:56:27.897671Z",
          "shell.execute_reply.started": "2024-01-10T11:56:19.553378Z",
          "shell.execute_reply": "2024-01-10T11:56:27.896286Z"
        },
        "trusted": true,
        "id": "fa3Fk5Re1sMB",
        "outputId": "29eb0624-860f-4426-a91d-9587f07e6cc7",
        "colab": {
          "base_uri": "https://localhost:8080/"
        }
      },
      "execution_count": 58,
      "outputs": [
        {
          "output_type": "stream",
          "name": "stdout",
          "text": [
            "Requirement already satisfied: transformers in /usr/local/lib/python3.10/dist-packages (4.37.2)\n",
            "Requirement already satisfied: filelock in /usr/local/lib/python3.10/dist-packages (from transformers) (3.13.1)\n",
            "Requirement already satisfied: huggingface-hub<1.0,>=0.19.3 in /usr/local/lib/python3.10/dist-packages (from transformers) (0.20.3)\n",
            "Requirement already satisfied: numpy>=1.17 in /usr/local/lib/python3.10/dist-packages (from transformers) (1.25.2)\n",
            "Requirement already satisfied: packaging>=20.0 in /usr/local/lib/python3.10/dist-packages (from transformers) (23.2)\n",
            "Requirement already satisfied: pyyaml>=5.1 in /usr/local/lib/python3.10/dist-packages (from transformers) (6.0.1)\n",
            "Requirement already satisfied: regex!=2019.12.17 in /usr/local/lib/python3.10/dist-packages (from transformers) (2023.12.25)\n",
            "Requirement already satisfied: requests in /usr/local/lib/python3.10/dist-packages (from transformers) (2.31.0)\n",
            "Requirement already satisfied: tokenizers<0.19,>=0.14 in /usr/local/lib/python3.10/dist-packages (from transformers) (0.15.2)\n",
            "Requirement already satisfied: safetensors>=0.4.1 in /usr/local/lib/python3.10/dist-packages (from transformers) (0.4.2)\n",
            "Requirement already satisfied: tqdm>=4.27 in /usr/local/lib/python3.10/dist-packages (from transformers) (4.66.2)\n",
            "Requirement already satisfied: fsspec>=2023.5.0 in /usr/local/lib/python3.10/dist-packages (from huggingface-hub<1.0,>=0.19.3->transformers) (2023.6.0)\n",
            "Requirement already satisfied: typing-extensions>=3.7.4.3 in /usr/local/lib/python3.10/dist-packages (from huggingface-hub<1.0,>=0.19.3->transformers) (4.9.0)\n",
            "Requirement already satisfied: charset-normalizer<4,>=2 in /usr/local/lib/python3.10/dist-packages (from requests->transformers) (3.3.2)\n",
            "Requirement already satisfied: idna<4,>=2.5 in /usr/local/lib/python3.10/dist-packages (from requests->transformers) (3.6)\n",
            "Requirement already satisfied: urllib3<3,>=1.21.1 in /usr/local/lib/python3.10/dist-packages (from requests->transformers) (2.0.7)\n",
            "Requirement already satisfied: certifi>=2017.4.17 in /usr/local/lib/python3.10/dist-packages (from requests->transformers) (2024.2.2)\n"
          ]
        }
      ]
    },
    {
      "cell_type": "code",
      "source": [
        "from transformers import pipeline\n",
        "\n",
        "classifier = pipeline(\"sentiment-analysis\")"
      ],
      "metadata": {
        "execution": {
          "iopub.status.busy": "2024-01-10T12:00:17.045994Z",
          "iopub.execute_input": "2024-01-10T12:00:17.04648Z",
          "iopub.status.idle": "2024-01-10T12:00:23.379933Z",
          "shell.execute_reply.started": "2024-01-10T12:00:17.04644Z",
          "shell.execute_reply": "2024-01-10T12:00:23.378887Z"
        },
        "trusted": true,
        "id": "I_fS-C371sMB",
        "outputId": "40c25240-4ef2-4db0-cf3a-664807ed3b0b",
        "colab": {
          "base_uri": "https://localhost:8080/",
          "height": 284,
          "referenced_widgets": [
            "f5cb13668d2b4608bc7819a2ee62c840",
            "c6eef241172d4937840a9686900291f6",
            "140a500a6beb488ba7ab46fa608033c0",
            "32b5b950aef84aa58ca0609f00e940a4",
            "ad0141f96c58453bb7dc5b6efa47ecc0",
            "80e0b146270a48d2b156a98a4f13eb0a",
            "8540ed20a3ad45d2839a2167dc55f3dc",
            "7a15109300c441c3909a5e77ef7c7c15",
            "c1e6f5fac2bd4216bd6a2bbf1575865c",
            "5a727a7ca41f4bcc823ca1e837dc198b",
            "b55fc655f6a547fd979ae50056daab8c",
            "4e320d4f566c4d6f8f07ca1c4a5072b0",
            "88c197fa27de4401b4aa3fa5e5e9fee3",
            "ded369f70b4f4e5cbd40e71a862d8567",
            "e26f5c9140724e3589755ce06f7afa1c",
            "2945a02d639647c6b5e5d3c276d96e36",
            "d6d61c23d55c462792cde2ac3db3fe02",
            "b7d3046655e048d9b21aeaabf3c5a270",
            "3385321ca49546d6972dcae5a5c0f72b",
            "8203c37b462d4b15884e948aaff01262",
            "a91d6166382e4887ad031224d3df9674",
            "69aa1b25bf8344e685894eaecff888a0",
            "4d5d9f7135524a2d9f001c93cb1dbacf",
            "73b5720f59bd43069b794773820bb8e5",
            "337f3942c5c84a59b688d6531383f393",
            "2aa76abe4a2344cd8334a01bb753b989",
            "7348816a2e24425eacf537c7184bdb6f",
            "f2ee22ef49dc494399b5a62db5c5b1c6",
            "2d9b31ac4f9c459aa23bc627f5f2d339",
            "34d7f5cb03104feeac42b3dd01fb4e44",
            "ea2dd48c9ed94d2fa4f538f5f06c98d7",
            "50e6d397b24945acadd76d4707ee5fb3",
            "d96e8e4214bc4374bbf9aa5d947ae26c",
            "1e89c29a7ef8421e89f900ae557b12e8",
            "a7b1519419aa467fb608a7014365e577",
            "6c5809ba0c6a498286f36a3129b01574",
            "8d52f4cde03c4b5ebdcb90c66302759f",
            "1c8986c7fbad42598eef4c1504555fe5",
            "e36f6653b8ef4658b8837f13ba612e3e",
            "9ac12125514b49939b5519b0b45ac972",
            "899eae178bef41e6ba0d4c4a96f10442",
            "1b34e7c314b34829a759e70b1a6d28e4",
            "651a24cf6db54c1cae90aa0fc353d14d",
            "b82b2c4fddb349d698454adc5831da42"
          ]
        }
      },
      "execution_count": 59,
      "outputs": [
        {
          "output_type": "stream",
          "name": "stderr",
          "text": [
            "No model was supplied, defaulted to distilbert-base-uncased-finetuned-sst-2-english and revision af0f99b (https://huggingface.co/distilbert-base-uncased-finetuned-sst-2-english).\n",
            "Using a pipeline without specifying a model name and revision in production is not recommended.\n",
            "/usr/local/lib/python3.10/dist-packages/huggingface_hub/utils/_token.py:88: UserWarning: \n",
            "The secret `HF_TOKEN` does not exist in your Colab secrets.\n",
            "To authenticate with the Hugging Face Hub, create a token in your settings tab (https://huggingface.co/settings/tokens), set it as secret in your Google Colab and restart your session.\n",
            "You will be able to reuse this secret in all of your notebooks.\n",
            "Please note that authentication is recommended but still optional to access public models or datasets.\n",
            "  warnings.warn(\n"
          ]
        },
        {
          "output_type": "display_data",
          "data": {
            "text/plain": [
              "config.json:   0%|          | 0.00/629 [00:00<?, ?B/s]"
            ],
            "application/vnd.jupyter.widget-view+json": {
              "version_major": 2,
              "version_minor": 0,
              "model_id": "f5cb13668d2b4608bc7819a2ee62c840"
            }
          },
          "metadata": {}
        },
        {
          "output_type": "display_data",
          "data": {
            "text/plain": [
              "model.safetensors:   0%|          | 0.00/268M [00:00<?, ?B/s]"
            ],
            "application/vnd.jupyter.widget-view+json": {
              "version_major": 2,
              "version_minor": 0,
              "model_id": "4e320d4f566c4d6f8f07ca1c4a5072b0"
            }
          },
          "metadata": {}
        },
        {
          "output_type": "display_data",
          "data": {
            "text/plain": [
              "tokenizer_config.json:   0%|          | 0.00/48.0 [00:00<?, ?B/s]"
            ],
            "application/vnd.jupyter.widget-view+json": {
              "version_major": 2,
              "version_minor": 0,
              "model_id": "4d5d9f7135524a2d9f001c93cb1dbacf"
            }
          },
          "metadata": {}
        },
        {
          "output_type": "display_data",
          "data": {
            "text/plain": [
              "vocab.txt:   0%|          | 0.00/232k [00:00<?, ?B/s]"
            ],
            "application/vnd.jupyter.widget-view+json": {
              "version_major": 2,
              "version_minor": 0,
              "model_id": "1e89c29a7ef8421e89f900ae557b12e8"
            }
          },
          "metadata": {}
        }
      ]
    },
    {
      "cell_type": "code",
      "source": [
        "sub_df_review = df_review.limit(10)"
      ],
      "metadata": {
        "execution": {
          "iopub.status.busy": "2024-01-10T11:50:29.314221Z",
          "iopub.execute_input": "2024-01-10T11:50:29.315146Z",
          "iopub.status.idle": "2024-01-10T11:50:29.575066Z",
          "shell.execute_reply.started": "2024-01-10T11:50:29.315089Z",
          "shell.execute_reply": "2024-01-10T11:50:29.573927Z"
        },
        "trusted": true,
        "id": "QhZIMz1J1sMB"
      },
      "execution_count": 60,
      "outputs": []
    },
    {
      "cell_type": "code",
      "source": [
        "def one_row_predict(x):\n",
        "    print(x)\n",
        "    prediction = classifier(x)\n",
        "    return prediction[0]['label']"
      ],
      "metadata": {
        "id": "zEraUvkGNgPE"
      },
      "execution_count": 61,
      "outputs": []
    },
    {
      "cell_type": "code",
      "source": [
        "one_row_udf = udf(one_row_predict, StringType())"
      ],
      "metadata": {
        "id": "RjR8FnPHOU9T"
      },
      "execution_count": 62,
      "outputs": []
    },
    {
      "cell_type": "code",
      "source": [
        "sub_df_review = sub_df_review.withColumn(\"result\", one_row_udf(col(\"text\")))"
      ],
      "metadata": {
        "id": "KWEDHdV8LWhv"
      },
      "execution_count": 63,
      "outputs": []
    },
    {
      "cell_type": "code",
      "source": [
        "sub_df_review.select(\"text\", \"result\").show(truncate=False)"
      ],
      "metadata": {
        "id": "dG4s0slpO0_n",
        "outputId": "7c53fed6-b0fe-4552-df59-cc4e21a32e7a",
        "colab": {
          "base_uri": "https://localhost:8080/"
        }
      },
      "execution_count": 64,
      "outputs": [
        {
          "output_type": "stream",
          "name": "stdout",
          "text": [
            "+-----------------------------------------------------------------------------------------------------------------------------------------------------------------------------------------------------------------------------------------------------------------------------------------------------------------------------------------------------------------------------------------------------------------------------------------------------------------------------------------------------------------------------------------------------------------------------------------------------------------------------------------------------------------------------------------------------------------------------------------------------------------------------------------------------------------------------------------------------------------+--------+\n",
            "|text                                                                                                                                                                                                                                                                                                                                                                                                                                                                                                                                                                                                                                                                                                                                                                                                                                                             |result  |\n",
            "+-----------------------------------------------------------------------------------------------------------------------------------------------------------------------------------------------------------------------------------------------------------------------------------------------------------------------------------------------------------------------------------------------------------------------------------------------------------------------------------------------------------------------------------------------------------------------------------------------------------------------------------------------------------------------------------------------------------------------------------------------------------------------------------------------------------------------------------------------------------------+--------+\n",
            "|If you decide to eat here, just be aware it is going to take about 2 hours from beginning to end. We have tried it multiple times, because I want to like it! I have been to it's other locations in NJ and never had a bad experience. \\n\\nThe food is good, but it takes a very long time to come out. The waitstaff is very young, but usually pleasant. We have just had too many experiences where we spent way too long waiting. We usually opt for another diner or restaurant on the weekends, in order to be done quicker.                                                                                                                                                                                                                                                                                                                              |POSITIVE|\n",
            "|I've taken a lot of spin classes over the years, and nothing compares to the classes at Body Cycle. From the nice, clean space and amazing bikes, to the welcoming and motivating instructors, every class is a top notch work out.\\n\\nFor anyone who struggles to fit workouts in, the online scheduling system makes it easy to plan ahead (and there's no need to line up way in advanced like many gyms make you do).\\n\\nThere is no way I can write this review without giving Russell, the owner of Body Cycle, a shout out. Russell's passion for fitness and cycling is so evident, as is his desire for all of his clients to succeed. He is always dropping in to classes to check in/provide encouragement, and is open to ideas and recommendations from anyone. Russell always wears a smile on his face, even when he's kicking your butt in class!|POSITIVE|\n",
            "|Family diner. Had the buffet. Eclectic assortment: a large chicken leg, fried jalapeño, tamale, two rolled grape leaves, fresh melon. All good. Lots of Mexican choices there. Also has a menu with breakfast served all day long. Friendly, attentive staff. Good place for a casual relaxed meal with no expectations. Next to the Clarion Hotel.                                                                                                                                                                                                                                                                                                                                                                                                                                                                                                              |POSITIVE|\n",
            "|Wow!  Yummy, different,  delicious.   Our favorite is the lamb curry and korma.  With 10 different kinds of naan!!!  Don't let the outside deter you (because we almost changed our minds)...go in and try something new!   You'll be glad you did!                                                                                                                                                                                                                                                                                                                                                                                                                                                                                                                                                                                                              |POSITIVE|\n",
            "|Cute interior and owner (?) gave us tour of upcoming patio/rooftop area which will be great on beautiful days like today. Cheese curds were very good and very filling. Really like that sandwiches come w salad, esp after eating too many curds! Had the onion, gruyere, tomato sandwich. Wasn't too much cheese which I liked. Needed something else...pepper jelly maybe. Would like to see more menu options added such as salads w fun cheeses. Lots of beer and wine as well as limited cocktails. Next time I will try one of the draft wines.                                                                                                                                                                                                                                                                                                           |POSITIVE|\n",
            "|I am a long term frequent customer of this establishment. I just went in to order take out (3 apps) and was told they're too busy to do it. Really? The place is maybe half full at best. Does your dick reach your ass? Yes? Go fuck yourself! I'm a frequent customer AND great tipper. Glad that Kanella just opened. NEVER going back to dmitris!                                                                                                                                                                                                                                                                                                                                                                                                                                                                                                            |NEGATIVE|\n",
            "|Loved this tour! I grabbed a groupon and the price was great. It was the perfect way to explore New Orleans for someone who'd never been there before and didn't know a lot about the history of the city. Our tour guide had tons of interesting tidbits about the city, and I really enjoyed the experience. Highly recommended tour. I actually thought we were just going to tour through the cemetery, but she took us around the French Quarter for the first hour, and the cemetery for the second half of the tour. You'll meet up in front of a grocery store (seems strange at first, but it's not terribly hard to find, and it'll give you a chance to get some water), and you'll stop at a visitor center part way through the tour for a bathroom break if needed. This tour was one of my favorite parts of my trip!                             |POSITIVE|\n",
            "|Amazingly amazing wings and homemade bleu cheese. Had the ribeye: tender, perfectly prepared, delicious. Nice selection of craft beers. Would DEFINITELY recommend checking out this hidden gem.                                                                                                                                                                                                                                                                                                                                                                                                                                                                                                                                                                                                                                                                 |POSITIVE|\n",
            "|This easter instead of going to Lopez Lake we went to Los Padres National Forest which is really pretty but if you go to white rock the staff needs to cut down all the dead grass that invades the rock and the water. I would wish the staff would also clean or get rid of the dead grass that's also living by the water. The water is really green and dirty. Los padres national forest staff need to work hard to maintain this forest looking pretty and not like a dumpster. Even Cachuma lake looks like they put a bit more effort.                                                                                                                                                                                                                                                                                                                   |NEGATIVE|\n",
            "|Had a party of 6 here for hibachi. Our waitress brought our separate sushi orders on one plate so we couldn't really tell who's was who's and forgot several items on an order. I understand making mistakes but the restaraunt was really quiet so we were kind of surprised. Usually hibachi is a fun lively experience and our  cook  said maybe three words, but he cooked very well his name was Francisco. Service was fishy, food was pretty good, and im hoping it was just an off night here. But for the money I wouldn't go back.                                                                                                                                                                                                                                                                                                                     |POSITIVE|\n",
            "+-----------------------------------------------------------------------------------------------------------------------------------------------------------------------------------------------------------------------------------------------------------------------------------------------------------------------------------------------------------------------------------------------------------------------------------------------------------------------------------------------------------------------------------------------------------------------------------------------------------------------------------------------------------------------------------------------------------------------------------------------------------------------------------------------------------------------------------------------------------------+--------+\n",
            "\n"
          ]
        }
      ]
    },
    {
      "cell_type": "code",
      "source": [
        "sub_df_review.write.json(\"sentiment-results\")"
      ],
      "metadata": {
        "id": "7PJc9XJWgMso",
        "outputId": "d900d515-1d5f-411e-f944-ab537a6c9cee",
        "colab": {
          "base_uri": "https://localhost:8080/",
          "height": 842
        }
      },
      "execution_count": 65,
      "outputs": [
        {
          "output_type": "error",
          "ename": "PythonException",
          "evalue": "\n  An exception was thrown from the Python worker. Please see the stack trace below.\nTraceback (most recent call last):\n  File \"<ipython-input-61-3023fa1ec3fd>\", line 3, in one_row_predict\n  File \"/usr/local/lib/python3.10/dist-packages/transformers/pipelines/text_classification.py\", line 156, in __call__\n    result = super().__call__(*args, **kwargs)\n  File \"/usr/local/lib/python3.10/dist-packages/transformers/pipelines/base.py\", line 1162, in __call__\n    return self.run_single(inputs, preprocess_params, forward_params, postprocess_params)\n  File \"/usr/local/lib/python3.10/dist-packages/transformers/pipelines/base.py\", line 1169, in run_single\n    model_outputs = self.forward(model_inputs, **forward_params)\n  File \"/usr/local/lib/python3.10/dist-packages/transformers/pipelines/base.py\", line 1068, in forward\n    model_outputs = self._forward(model_inputs, **forward_params)\n  File \"/usr/local/lib/python3.10/dist-packages/transformers/pipelines/text_classification.py\", line 187, in _forward\n    return self.model(**model_inputs)\n  File \"/usr/local/lib/python3.10/dist-packages/torch/nn/modules/module.py\", line 1518, in _wrapped_call_impl\n    return self._call_impl(*args, **kwargs)\n  File \"/usr/local/lib/python3.10/dist-packages/torch/nn/modules/module.py\", line 1527, in _call_impl\n    return forward_call(*args, **kwargs)\n  File \"/usr/local/lib/python3.10/dist-packages/transformers/models/distilbert/modeling_distilbert.py\", line 1002, in forward\n    distilbert_output = self.distilbert(\n  File \"/usr/local/lib/python3.10/dist-packages/torch/nn/modules/module.py\", line 1518, in _wrapped_call_impl\n    return self._call_impl(*args, **kwargs)\n  File \"/usr/local/lib/python3.10/dist-packages/torch/nn/modules/module.py\", line 1527, in _call_impl\n    return forward_call(*args, **kwargs)\n  File \"/usr/local/lib/python3.10/dist-packages/transformers/models/distilbert/modeling_distilbert.py\", line 814, in forward\n    embeddings = self.embeddings(input_ids, inputs_embeds)  # (bs, seq_length, dim)\n  File \"/usr/local/lib/python3.10/dist-packages/torch/nn/modules/module.py\", line 1518, in _wrapped_call_impl\n    return self._call_impl(*args, **kwargs)\n  File \"/usr/local/lib/python3.10/dist-packages/torch/nn/modules/module.py\", line 1527, in _call_impl\n    return forward_call(*args, **kwargs)\n  File \"/usr/local/lib/python3.10/dist-packages/transformers/models/distilbert/modeling_distilbert.py\", line 156, in forward\n    embeddings = input_embeds + position_embeddings  # (bs, max_seq_length, dim)\nRuntimeError: The size of tensor a (659) must match the size of tensor b (512) at non-singleton dimension 1\n",
          "traceback": [
            "\u001b[0;31m---------------------------------------------------------------------------\u001b[0m",
            "\u001b[0;31mPythonException\u001b[0m                           Traceback (most recent call last)",
            "\u001b[0;32m<ipython-input-65-7ad051a0d46d>\u001b[0m in \u001b[0;36m<cell line: 1>\u001b[0;34m()\u001b[0m\n\u001b[0;32m----> 1\u001b[0;31m \u001b[0msub_df_review\u001b[0m\u001b[0;34m.\u001b[0m\u001b[0mwrite\u001b[0m\u001b[0;34m.\u001b[0m\u001b[0mjson\u001b[0m\u001b[0;34m(\u001b[0m\u001b[0;34m\"sentiment-results\"\u001b[0m\u001b[0;34m)\u001b[0m\u001b[0;34m\u001b[0m\u001b[0;34m\u001b[0m\u001b[0m\n\u001b[0m",
            "\u001b[0;32m/usr/local/lib/python3.10/dist-packages/pyspark/sql/readwriter.py\u001b[0m in \u001b[0;36mjson\u001b[0;34m(self, path, mode, compression, dateFormat, timestampFormat, lineSep, encoding, ignoreNullFields)\u001b[0m\n\u001b[1;32m   1656\u001b[0m             \u001b[0mignoreNullFields\u001b[0m\u001b[0;34m=\u001b[0m\u001b[0mignoreNullFields\u001b[0m\u001b[0;34m,\u001b[0m\u001b[0;34m\u001b[0m\u001b[0;34m\u001b[0m\u001b[0m\n\u001b[1;32m   1657\u001b[0m         )\n\u001b[0;32m-> 1658\u001b[0;31m         \u001b[0mself\u001b[0m\u001b[0;34m.\u001b[0m\u001b[0m_jwrite\u001b[0m\u001b[0;34m.\u001b[0m\u001b[0mjson\u001b[0m\u001b[0;34m(\u001b[0m\u001b[0mpath\u001b[0m\u001b[0;34m)\u001b[0m\u001b[0;34m\u001b[0m\u001b[0;34m\u001b[0m\u001b[0m\n\u001b[0m\u001b[1;32m   1659\u001b[0m \u001b[0;34m\u001b[0m\u001b[0m\n\u001b[1;32m   1660\u001b[0m     def parquet(\n",
            "\u001b[0;32m/usr/local/lib/python3.10/dist-packages/py4j/java_gateway.py\u001b[0m in \u001b[0;36m__call__\u001b[0;34m(self, *args)\u001b[0m\n\u001b[1;32m   1320\u001b[0m \u001b[0;34m\u001b[0m\u001b[0m\n\u001b[1;32m   1321\u001b[0m         \u001b[0manswer\u001b[0m \u001b[0;34m=\u001b[0m \u001b[0mself\u001b[0m\u001b[0;34m.\u001b[0m\u001b[0mgateway_client\u001b[0m\u001b[0;34m.\u001b[0m\u001b[0msend_command\u001b[0m\u001b[0;34m(\u001b[0m\u001b[0mcommand\u001b[0m\u001b[0;34m)\u001b[0m\u001b[0;34m\u001b[0m\u001b[0;34m\u001b[0m\u001b[0m\n\u001b[0;32m-> 1322\u001b[0;31m         return_value = get_return_value(\n\u001b[0m\u001b[1;32m   1323\u001b[0m             answer, self.gateway_client, self.target_id, self.name)\n\u001b[1;32m   1324\u001b[0m \u001b[0;34m\u001b[0m\u001b[0m\n",
            "\u001b[0;32m/usr/local/lib/python3.10/dist-packages/pyspark/errors/exceptions/captured.py\u001b[0m in \u001b[0;36mdeco\u001b[0;34m(*a, **kw)\u001b[0m\n\u001b[1;32m    183\u001b[0m                 \u001b[0;31m# Hide where the exception came from that shows a non-Pythonic\u001b[0m\u001b[0;34m\u001b[0m\u001b[0;34m\u001b[0m\u001b[0m\n\u001b[1;32m    184\u001b[0m                 \u001b[0;31m# JVM exception message.\u001b[0m\u001b[0;34m\u001b[0m\u001b[0;34m\u001b[0m\u001b[0m\n\u001b[0;32m--> 185\u001b[0;31m                 \u001b[0;32mraise\u001b[0m \u001b[0mconverted\u001b[0m \u001b[0;32mfrom\u001b[0m \u001b[0;32mNone\u001b[0m\u001b[0;34m\u001b[0m\u001b[0;34m\u001b[0m\u001b[0m\n\u001b[0m\u001b[1;32m    186\u001b[0m             \u001b[0;32melse\u001b[0m\u001b[0;34m:\u001b[0m\u001b[0;34m\u001b[0m\u001b[0;34m\u001b[0m\u001b[0m\n\u001b[1;32m    187\u001b[0m                 \u001b[0;32mraise\u001b[0m\u001b[0;34m\u001b[0m\u001b[0;34m\u001b[0m\u001b[0m\n",
            "\u001b[0;31mPythonException\u001b[0m: \n  An exception was thrown from the Python worker. Please see the stack trace below.\nTraceback (most recent call last):\n  File \"<ipython-input-61-3023fa1ec3fd>\", line 3, in one_row_predict\n  File \"/usr/local/lib/python3.10/dist-packages/transformers/pipelines/text_classification.py\", line 156, in __call__\n    result = super().__call__(*args, **kwargs)\n  File \"/usr/local/lib/python3.10/dist-packages/transformers/pipelines/base.py\", line 1162, in __call__\n    return self.run_single(inputs, preprocess_params, forward_params, postprocess_params)\n  File \"/usr/local/lib/python3.10/dist-packages/transformers/pipelines/base.py\", line 1169, in run_single\n    model_outputs = self.forward(model_inputs, **forward_params)\n  File \"/usr/local/lib/python3.10/dist-packages/transformers/pipelines/base.py\", line 1068, in forward\n    model_outputs = self._forward(model_inputs, **forward_params)\n  File \"/usr/local/lib/python3.10/dist-packages/transformers/pipelines/text_classification.py\", line 187, in _forward\n    return self.model(**model_inputs)\n  File \"/usr/local/lib/python3.10/dist-packages/torch/nn/modules/module.py\", line 1518, in _wrapped_call_impl\n    return self._call_impl(*args, **kwargs)\n  File \"/usr/local/lib/python3.10/dist-packages/torch/nn/modules/module.py\", line 1527, in _call_impl\n    return forward_call(*args, **kwargs)\n  File \"/usr/local/lib/python3.10/dist-packages/transformers/models/distilbert/modeling_distilbert.py\", line 1002, in forward\n    distilbert_output = self.distilbert(\n  File \"/usr/local/lib/python3.10/dist-packages/torch/nn/modules/module.py\", line 1518, in _wrapped_call_impl\n    return self._call_impl(*args, **kwargs)\n  File \"/usr/local/lib/python3.10/dist-packages/torch/nn/modules/module.py\", line 1527, in _call_impl\n    return forward_call(*args, **kwargs)\n  File \"/usr/local/lib/python3.10/dist-packages/transformers/models/distilbert/modeling_distilbert.py\", line 814, in forward\n    embeddings = self.embeddings(input_ids, inputs_embeds)  # (bs, seq_length, dim)\n  File \"/usr/local/lib/python3.10/dist-packages/torch/nn/modules/module.py\", line 1518, in _wrapped_call_impl\n    return self._call_impl(*args, **kwargs)\n  File \"/usr/local/lib/python3.10/dist-packages/torch/nn/modules/module.py\", line 1527, in _call_impl\n    return forward_call(*args, **kwargs)\n  File \"/usr/local/lib/python3.10/dist-packages/transformers/models/distilbert/modeling_distilbert.py\", line 156, in forward\n    embeddings = input_embeds + position_embeddings  # (bs, max_seq_length, dim)\nRuntimeError: The size of tensor a (659) must match the size of tensor b (512) at non-singleton dimension 1\n"
          ]
        }
      ]
    },
    {
      "cell_type": "markdown",
      "source": [
        "# Code already written in the notebook (old)"
      ],
      "metadata": {
        "id": "aEW70e561sMC"
      }
    },
    {
      "cell_type": "markdown",
      "source": [
        "## Filter Rows and columns\n",
        "\n"
      ],
      "metadata": {
        "id": "QloOQW9s1sMC"
      }
    },
    {
      "cell_type": "code",
      "source": [
        "df_business = df_business.select(\"business_id\",\"name\", \"stars\",\n",
        "                                 \"review_count\", \"attributes\",\n",
        "                                 \"categories\", \"city\").withColumnRenamed(\"stars\", \"stars_restaurant\")\n",
        "\n",
        "df_business = df_business.filter((df_business['city'] == 'Toronto') & (df_business.categories.contains('Restaurants'))).drop('city')"
      ],
      "metadata": {
        "trusted": true,
        "id": "ry6e-J5m1sMC"
      },
      "execution_count": null,
      "outputs": []
    },
    {
      "cell_type": "code",
      "source": [
        "df_review = df_review.join(df_business, on='business_id', how='inner')"
      ],
      "metadata": {
        "trusted": true,
        "id": "gxTA1FFO1sMC"
      },
      "execution_count": null,
      "outputs": []
    },
    {
      "cell_type": "markdown",
      "source": [
        "Lets make a quick visualisation to the basic elements of our review table."
      ],
      "metadata": {
        "id": "KfR_WXVA1sMC"
      }
    },
    {
      "cell_type": "code",
      "source": [
        "df_review.select(['business_id', 'user_id', 'stars']).show()"
      ],
      "metadata": {
        "trusted": true,
        "id": "nqN2svW71sMD"
      },
      "execution_count": null,
      "outputs": []
    },
    {
      "cell_type": "markdown",
      "source": [
        "## Exploratory Data Analysis\n",
        "\n"
      ],
      "metadata": {
        "id": "G8vyWfrz1sMD"
      }
    },
    {
      "cell_type": "code",
      "source": [
        "reviews = df_review.select('stars').collect()\n",
        "review_list = [reviews[i][0] for i in range(len(reviews))]\n",
        "\n",
        "plt.hist(review_list, bins=[0.5,1.5,2.5,3.5,4.5,5.5], alpha=0.5,\n",
        "         histtype='stepfilled', color='steelblue',\n",
        "         edgecolor='none')\n",
        "plt.ylabel('Frequency')\n",
        "plt.xlabel('Rating')\n",
        "plt.style.use('seaborn-white')"
      ],
      "metadata": {
        "trusted": true,
        "id": "PILaOwNv1sMD"
      },
      "execution_count": null,
      "outputs": []
    },
    {
      "cell_type": "markdown",
      "source": [
        "Quite generous public from Toronto. Most ratings are above 3. Now lets see the the distrubtion of ratings of each restaurants."
      ],
      "metadata": {
        "id": "W8Ynbk2B1sMD"
      }
    },
    {
      "cell_type": "code",
      "source": [
        "restaurant_reviews = df_business.select('stars_restaurant').collect()\n",
        "restaurant_reviews_list = [restaurant_reviews[i][0] for i in range(len(restaurant_reviews))]\n",
        "\n",
        "\n",
        "plt.hist(restaurant_reviews_list, bins=[0.5,1.5,2.5,3.5,4.5,5.5], alpha=0.5,\n",
        "         histtype='stepfilled', color='steelblue',\n",
        "         edgecolor='none')\n",
        "plt.ylabel('Frequency')\n",
        "plt.xlabel('Rating')\n",
        "plt.style.use('seaborn-white')"
      ],
      "metadata": {
        "trusted": true,
        "id": "cp8virW41sMD"
      },
      "execution_count": null,
      "outputs": []
    },
    {
      "cell_type": "markdown",
      "source": [
        "Here were see a more normally distributed curve. Nevertheless most restaurants do pretty well.\n",
        "Now lets visualize what are the most popular type of restaurants in Toronto. What kind of food do they serve? We will create a wordcloud."
      ],
      "metadata": {
        "id": "m9YQV__N1sME"
      }
    },
    {
      "cell_type": "code",
      "source": [
        "restaurant_categories = df_business.select('categories').collect()\n",
        "restaurant_categories_list = [restaurant_categories[i][0] for i in range(len(restaurant_categories))]"
      ],
      "metadata": {
        "trusted": true,
        "id": "KIcAfYrf1sME"
      },
      "execution_count": null,
      "outputs": []
    },
    {
      "cell_type": "code",
      "source": [
        "text = \" \".join(review for review in restaurant_categories_list)"
      ],
      "metadata": {
        "trusted": true,
        "id": "y5h447a21sME"
      },
      "execution_count": null,
      "outputs": []
    },
    {
      "cell_type": "code",
      "source": [
        "from wordcloud import WordCloud, STOPWORDS, ImageColorGenerator\n",
        "\n",
        "# eliminate useless words\n",
        "text = text.replace('Restaurants', \"\")\n",
        "text = text.replace('bars', \"\")\n",
        "text = text.replace('food', \"\")\n",
        "\n",
        "\n",
        "# Generate a word cloud image\n",
        "wordcloud = WordCloud(background_color=\"white\").generate(text)\n",
        "\n",
        "# Display the generated image:\n",
        "# the matplotlib way:\n",
        "plt.figure(figsize=(10,8))\n",
        "plt.imshow(wordcloud, interpolation='bilinear')\n",
        "plt.axis(\"off\")\n",
        "plt.show()"
      ],
      "metadata": {
        "trusted": true,
        "id": "B55JDbiA1sME"
      },
      "execution_count": null,
      "outputs": []
    },
    {
      "cell_type": "markdown",
      "source": [
        "> ## Convert String to index\n"
      ],
      "metadata": {
        "id": "jLq_mVAL1sME"
      }
    },
    {
      "cell_type": "code",
      "source": [
        "indexer = [StringIndexer(inputCol=column, outputCol=column+\"_index\") for column in ['business_id', 'user_id']]\n",
        "pipeline = Pipeline(stages=indexer)\n",
        "transformed = pipeline.fit(df_review).transform(df_review)\n",
        "transformed.select(['business_id', 'user_id','business_id_index', 'user_id_index'])"
      ],
      "metadata": {
        "trusted": true,
        "id": "Xr5ZT3se1sMF"
      },
      "execution_count": null,
      "outputs": []
    },
    {
      "cell_type": "markdown",
      "source": [
        "## Split Dataset in train and test\n"
      ],
      "metadata": {
        "id": "N6ky59cN1sMF"
      }
    },
    {
      "cell_type": "code",
      "source": [
        "(training, test) = transformed.randomSplit([0.8, 0.2])"
      ],
      "metadata": {
        "trusted": true,
        "id": "7rtPew9h1sMF"
      },
      "execution_count": null,
      "outputs": []
    },
    {
      "cell_type": "markdown",
      "source": [
        "## Create ALS model\n"
      ],
      "metadata": {
        "id": "URJ7P5q71sMF"
      }
    },
    {
      "cell_type": "code",
      "source": [
        "als=ALS(maxIter=5,\n",
        "        regParam=0.09,\n",
        "        rank=25,\n",
        "        userCol=\"user_id_index\",\n",
        "        itemCol=\"business_id_index\",\n",
        "        ratingCol=\"stars\",\n",
        "        coldStartStrategy=\"drop\",\n",
        "        nonnegative=True)\n",
        "\n",
        "model=als.fit(training)"
      ],
      "metadata": {
        "trusted": true,
        "id": "SRNn37931sMJ"
      },
      "execution_count": null,
      "outputs": []
    },
    {
      "cell_type": "markdown",
      "source": [
        "## Evaluate RMSE"
      ],
      "metadata": {
        "id": "3rq8Lg9L1sMK"
      }
    },
    {
      "cell_type": "code",
      "source": [
        "evaluator=RegressionEvaluator(metricName=\"rmse\",labelCol=\"stars\",predictionCol=\"prediction\")\n",
        "predictions=model.transform(test)\n",
        "rmse=evaluator.evaluate(predictions)\n",
        "print(\"RMSE=\"+str(rmse))"
      ],
      "metadata": {
        "trusted": true,
        "id": "n0yjedn21sMK"
      },
      "execution_count": null,
      "outputs": []
    },
    {
      "cell_type": "markdown",
      "source": [
        "## Visualize Recommendations\n",
        "\n"
      ],
      "metadata": {
        "id": "zCE_tAf01sMK"
      }
    },
    {
      "cell_type": "code",
      "source": [
        "test = model.recommendForAllUsers(20).filter(col('user_id_index')==30).select(\"recommendations\").collect()\n",
        "topRestaurants = []\n",
        "for item in test[0][0]:\n",
        "    topRestaurants.append(item.business_id_index)\n",
        "\n",
        "schema = StructType([StructField(\"business_id_index\",IntegerType(),True)])\n",
        "restaurants = spark.createDataFrame(topRestaurants,IntegerType()).toDF(\"business_id_index\")\n",
        "\n",
        "\n",
        "transformed\\\n",
        ".select(['business_id', 'user_id', 'stars', 'categories'])\\\n",
        ".filter(col('user_id_index')==30)\\\n",
        ".show()\n",
        "\n",
        "restaurants\\\n",
        ".join(transformed, on = 'business_id_index', how = 'inner')\\\n",
        ".select(['business_id', 'stars', 'categories', 'name'])\\\n",
        ".drop_duplicates(subset=['name'])\\\n",
        ".show()\n",
        "\n"
      ],
      "metadata": {
        "trusted": true,
        "id": "DktqkU-o1sMK"
      },
      "execution_count": null,
      "outputs": []
    }
  ]
}