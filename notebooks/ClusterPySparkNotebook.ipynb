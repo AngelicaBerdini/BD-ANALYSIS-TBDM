{
 "cells": [
  {
   "cell_type": "markdown",
   "metadata": {
    "id": "epNYwpDR1sL1"
   },
   "source": [
    "# Recommender system using Pyspark (ALS algorithm)\n",
    "---\n",
    "\n",
    "\n",
    "#### Requirements:\n",
    "- Python\n",
    "- Apache Spark\n",
    "\n",
    "## Import Libraries and Initialize spark session"
   ]
  },
  {
   "cell_type": "code",
   "execution_count": 1,
   "metadata": {
    "id": "TxCkc3Uv1sL4"
   },
   "outputs": [],
   "source": [
    "# import libraries\n",
    "from pyspark import SparkContext\n",
    "from pyspark.ml.recommendation import ALS\n",
    "from pyspark.sql import SparkSession, Row, SQLContext\n",
    "from pyspark.sql.functions import explode, count, mean, split, col, to_timestamp, udf\n",
    "import pyspark.sql.functions as F\n",
    "from pyspark.ml.feature import StringIndexer\n",
    "from pyspark.ml import Pipeline\n",
    "from pyspark.ml.evaluation import RegressionEvaluator\n",
    "from pyspark.sql.types import StructType, StructField, IntegerType, StringType\n",
    "\n",
    "%matplotlib inline\n",
    "import pandas as pd\n",
    "import matplotlib.pyplot as plt"
   ]
  },
  {
   "cell_type": "code",
   "execution_count": 2,
   "metadata": {},
   "outputs": [],
   "source": [
    "from pyspark import SparkContext\n",
    "from pyspark.sql import SparkSession, Row, SQLContext"
   ]
  },
  {
   "cell_type": "code",
   "execution_count": 3,
   "metadata": {
    "colab": {
     "base_uri": "https://localhost:8080/"
    },
    "id": "MR8aUqyX1sL5",
    "outputId": "0a653c0f-7080-4547-e7c9-d97c4e6978fb"
   },
   "outputs": [
    {
     "name": "stderr",
     "output_type": "stream",
     "text": [
      "24/03/20 08:13:39 WARN NativeCodeLoader: Unable to load native-hadoop library for your platform... using builtin-java classes where applicable\n",
      "Using Spark's default log4j profile: org/apache/spark/log4j-defaults.properties\n",
      "Setting default log level to \"WARN\".\n",
      "To adjust logging level use sc.setLogLevel(newLevel). For SparkR, use setLogLevel(newLevel).\n"
     ]
    }
   ],
   "source": [
    "appName = \"Analysis Application with PySpark\"\n",
    "\n",
    "#initialize the spark session\n",
    "spark = SparkSession.\\\n",
    "        builder.\\\n",
    "        appName(\"pyspark-notebook\").\\\n",
    "        master(\"spark://spark-master:7077\").\\\n",
    "        config(\"spark.executor.memory\", \"2048m\").\\\n",
    "        getOrCreate()\n",
    "\n",
    "#get sparkcontext from the sparksession\n",
    "sc = spark.sparkContext\n",
    "sqlContext = SQLContext(sc)"
   ]
  },
  {
   "cell_type": "markdown",
   "metadata": {
    "id": "dEIgLyLt1sL6"
   },
   "source": [
    "## Load Dataset in Apache Spark\n"
   ]
  },
  {
   "cell_type": "code",
   "execution_count": 4,
   "metadata": {
    "id": "KOaV9Qj91sL7"
   },
   "outputs": [
    {
     "name": "stderr",
     "output_type": "stream",
     "text": [
      "24/03/20 08:14:27 WARN package: Truncated the string representation of a plan since it was too large. This behavior can be adjusted by setting 'spark.sql.debug.maxToStringFields'.\n"
     ]
    }
   ],
   "source": [
    "df_business = sqlContext.read.json('dataset/yelp_academic_dataset_business.json')"
   ]
  },
  {
   "cell_type": "code",
   "execution_count": 5,
   "metadata": {
    "id": "zlash6LFq9xE"
   },
   "outputs": [
    {
     "name": "stderr",
     "output_type": "stream",
     "text": [
      "                                                                                \r"
     ]
    }
   ],
   "source": [
    "df_review = sqlContext.read.json('dataset/yelp_academic_dataset_review.json')"
   ]
  },
  {
   "cell_type": "code",
   "execution_count": null,
   "metadata": {
    "id": "jAiPnTJ5rEMU"
   },
   "outputs": [],
   "source": [
    "df_user = sqlContext.read.json('dataset/yelp_academic_dataset_user.json')"
   ]
  },
  {
   "cell_type": "markdown",
   "metadata": {
    "id": "YMMdRv5y1sL8"
   },
   "source": [
    "# Exploratory Data Analysis (EDA)"
   ]
  },
  {
   "cell_type": "markdown",
   "metadata": {
    "id": "SCEboVFB1sL9"
   },
   "source": [
    "## Business Dataset"
   ]
  },
  {
   "cell_type": "code",
   "execution_count": 6,
   "metadata": {
    "colab": {
     "base_uri": "https://localhost:8080/"
    },
    "id": "xSkhHvEX1sL9",
    "outputId": "025940fd-185a-4a17-ead9-33cf76882c59"
   },
   "outputs": [
    {
     "name": "stdout",
     "output_type": "stream",
     "text": [
      "root\n",
      " |-- address: string (nullable = true)\n",
      " |-- attributes: struct (nullable = true)\n",
      " |    |-- AcceptsInsurance: string (nullable = true)\n",
      " |    |-- AgesAllowed: string (nullable = true)\n",
      " |    |-- Alcohol: string (nullable = true)\n",
      " |    |-- Ambience: string (nullable = true)\n",
      " |    |-- BYOB: string (nullable = true)\n",
      " |    |-- BYOBCorkage: string (nullable = true)\n",
      " |    |-- BestNights: string (nullable = true)\n",
      " |    |-- BikeParking: string (nullable = true)\n",
      " |    |-- BusinessAcceptsBitcoin: string (nullable = true)\n",
      " |    |-- BusinessAcceptsCreditCards: string (nullable = true)\n",
      " |    |-- BusinessParking: string (nullable = true)\n",
      " |    |-- ByAppointmentOnly: string (nullable = true)\n",
      " |    |-- Caters: string (nullable = true)\n",
      " |    |-- CoatCheck: string (nullable = true)\n",
      " |    |-- Corkage: string (nullable = true)\n",
      " |    |-- DietaryRestrictions: string (nullable = true)\n",
      " |    |-- DogsAllowed: string (nullable = true)\n",
      " |    |-- DriveThru: string (nullable = true)\n",
      " |    |-- GoodForDancing: string (nullable = true)\n",
      " |    |-- GoodForKids: string (nullable = true)\n",
      " |    |-- GoodForMeal: string (nullable = true)\n",
      " |    |-- HairSpecializesIn: string (nullable = true)\n",
      " |    |-- HappyHour: string (nullable = true)\n",
      " |    |-- HasTV: string (nullable = true)\n",
      " |    |-- Music: string (nullable = true)\n",
      " |    |-- NoiseLevel: string (nullable = true)\n",
      " |    |-- Open24Hours: string (nullable = true)\n",
      " |    |-- OutdoorSeating: string (nullable = true)\n",
      " |    |-- RestaurantsAttire: string (nullable = true)\n",
      " |    |-- RestaurantsCounterService: string (nullable = true)\n",
      " |    |-- RestaurantsDelivery: string (nullable = true)\n",
      " |    |-- RestaurantsGoodForGroups: string (nullable = true)\n",
      " |    |-- RestaurantsPriceRange2: string (nullable = true)\n",
      " |    |-- RestaurantsReservations: string (nullable = true)\n",
      " |    |-- RestaurantsTableService: string (nullable = true)\n",
      " |    |-- RestaurantsTakeOut: string (nullable = true)\n",
      " |    |-- Smoking: string (nullable = true)\n",
      " |    |-- WheelchairAccessible: string (nullable = true)\n",
      " |    |-- WiFi: string (nullable = true)\n",
      " |-- business_id: string (nullable = true)\n",
      " |-- categories: string (nullable = true)\n",
      " |-- city: string (nullable = true)\n",
      " |-- hours: struct (nullable = true)\n",
      " |    |-- Friday: string (nullable = true)\n",
      " |    |-- Monday: string (nullable = true)\n",
      " |    |-- Saturday: string (nullable = true)\n",
      " |    |-- Sunday: string (nullable = true)\n",
      " |    |-- Thursday: string (nullable = true)\n",
      " |    |-- Tuesday: string (nullable = true)\n",
      " |    |-- Wednesday: string (nullable = true)\n",
      " |-- is_open: long (nullable = true)\n",
      " |-- latitude: double (nullable = true)\n",
      " |-- longitude: double (nullable = true)\n",
      " |-- name: string (nullable = true)\n",
      " |-- postal_code: string (nullable = true)\n",
      " |-- review_count: long (nullable = true)\n",
      " |-- stars: double (nullable = true)\n",
      " |-- state: string (nullable = true)\n",
      "\n"
     ]
    }
   ],
   "source": [
    "df_business.printSchema()"
   ]
  },
  {
   "cell_type": "code",
   "execution_count": 7,
   "metadata": {
    "colab": {
     "base_uri": "https://localhost:8080/"
    },
    "id": "uVTJnCtR1sL_",
    "outputId": "1b297772-3c52-4741-a5ad-a0e8f0a90cdb"
   },
   "outputs": [
    {
     "name": "stdout",
     "output_type": "stream",
     "text": [
      "+--------------------+--------------------+--------------------+--------------------+-------------+--------------------+-------+----------+------------+--------------------+-----------+------------+-----+-----+\n",
      "|             address|          attributes|         business_id|          categories|         city|               hours|is_open|  latitude|   longitude|                name|postal_code|review_count|stars|state|\n",
      "+--------------------+--------------------+--------------------+--------------------+-------------+--------------------+-------+----------+------------+--------------------+-----------+------------+-----+-----+\n",
      "|1616 Chapala St, ...|[,,,,,,,,,,, True...|Pns2l4eNsfO8kk83d...|Doctors, Traditio...|Santa Barbara|                null|      0|34.4266787|-119.7111968|Abby Rappoport, L...|      93101|           7|  5.0|   CA|\n",
      "|87 Grasso Plaza S...|[,,,,,,,,, True,,...|mpf3x-BjTdTEA3yCZ...|Shipping Centers,...|       Affton|[8:0-18:30, 0:0-0...|      1| 38.551126|  -90.335695|       The UPS Store|      63123|          15|  3.0|   MO|\n",
      "|5255 E Broadway Blvd|[,,,,,,, True,, T...|tUFrWirKiKi_TAnsV...|Department Stores...|       Tucson|[8:0-23:0, 8:0-22...|      0| 32.223236| -110.880452|              Target|      85711|          22|  3.5|   AZ|\n",
      "|         935 Race St|[,, u'none',,,,, ...|MTSW4McQd7CbVtyjq...|Restaurants, Food...| Philadelphia|[7:0-21:0, 7:0-20...|      1|39.9555052| -75.1555641|  St Honore Pastries|      19107|          80|  4.0|   PA|\n",
      "|       101 Walnut St|[,,,,,,, True,, T...|mWMc6_wTdE0EUBKIG...|Brewpubs, Breweri...|   Green Lane|[12:0-22:0,, 12:0...|      1|40.3381827| -75.4716585|Perkiomen Valley ...|      18054|          13|  4.5|   PA|\n",
      "+--------------------+--------------------+--------------------+--------------------+-------------+--------------------+-------+----------+------------+--------------------+-----------+------------+-----+-----+\n",
      "only showing top 5 rows\n",
      "\n"
     ]
    }
   ],
   "source": [
    "df_business.show(5)"
   ]
  },
  {
   "cell_type": "code",
   "execution_count": 8,
   "metadata": {
    "colab": {
     "base_uri": "https://localhost:8080/"
    },
    "id": "3J4Y3q2jMxbO",
    "outputId": "2f97e420-8579-4710-d975-7cdbeecdde4d"
   },
   "outputs": [
    {
     "name": "stderr",
     "output_type": "stream",
     "text": [
      "                                                                                \r"
     ]
    },
    {
     "name": "stdout",
     "output_type": "stream",
     "text": [
      "+-------+-----------------+--------------------+--------------------+-----------+------------------+-----------------+------------------+--------------------+------------------+------------------+------------------+------+\n",
      "|summary|          address|         business_id|          categories|       city|           is_open|         latitude|         longitude|                name|       postal_code|      review_count|             stars| state|\n",
      "+-------+-----------------+--------------------+--------------------+-----------+------------------+-----------------+------------------+--------------------+------------------+------------------+------------------+------+\n",
      "|  count|           150346|              150346|              150243|     150346|            150346|           150346|            150346|              150346|            150346|            150346|            150346|150346|\n",
      "|   mean|7369.333333333333|                null|                null|       null|0.7961502135075094|36.67115006414555|-89.35733948971414|              1252.4| 45177.81755426108| 44.86656113232144|3.5967235576603303|  null|\n",
      "| stddev|8738.777641447725|                null|                null|       null|0.4028599390900641|5.872758917014038|14.918501679930618|   811.1275005954502|26395.882085856545|121.12013570117061|0.9744207509201364|  null|\n",
      "|    min|                 |---kPU91CF4Lq2-Wl...|3D Printing, Loca...|AB Edmonton|                 0|        27.555127|       -120.095137|        Grow Academy|                  |                 5|               1.0|    AB|\n",
      "|    max|  ​185 E State St|zzyx5x0Z7xXWWvWnZ...|Zoos, Tours, Arts...|    ​Lithia|                 1|       53.6791969|    -73.2004570502|​​Transformationa...|           T9E 0V3|              7568|               5.0|   XMS|\n",
      "+-------+-----------------+--------------------+--------------------+-----------+------------------+-----------------+------------------+--------------------+------------------+------------------+------------------+------+\n",
      "\n"
     ]
    }
   ],
   "source": [
    "df_business.describe().show()"
   ]
  },
  {
   "cell_type": "code",
   "execution_count": 9,
   "metadata": {
    "colab": {
     "base_uri": "https://localhost:8080/"
    },
    "id": "CU5N9MLZ1sL_",
    "outputId": "18383630-9eb8-49c7-c7f8-9675f04598be"
   },
   "outputs": [
    {
     "name": "stderr",
     "output_type": "stream",
     "text": [
      "                                                                                \r"
     ]
    },
    {
     "data": {
      "text/plain": [
       "150346"
      ]
     },
     "execution_count": 9,
     "metadata": {},
     "output_type": "execute_result"
    }
   ],
   "source": [
    "# Total number of businesses\n",
    "df_business.count()"
   ]
  },
  {
   "cell_type": "code",
   "execution_count": 10,
   "metadata": {
    "colab": {
     "base_uri": "https://localhost:8080/"
    },
    "id": "KSnqbvYDFfAg",
    "outputId": "a0890bd4-97e8-46a4-f8fb-11ad1d2b0c7a"
   },
   "outputs": [
    {
     "name": "stderr",
     "output_type": "stream",
     "text": [
      "                                                                                \r"
     ]
    },
    {
     "name": "stdout",
     "output_type": "stream",
     "text": [
      "+-------+------+\n",
      "|is_open| count|\n",
      "+-------+------+\n",
      "|      0| 30648|\n",
      "|      1|119698|\n",
      "+-------+------+\n",
      "\n"
     ]
    }
   ],
   "source": [
    "# Actual open businesses\n",
    "category_counts = df_business.groupBy(\"is_open\").count().show()"
   ]
  },
  {
   "cell_type": "code",
   "execution_count": 11,
   "metadata": {
    "colab": {
     "base_uri": "https://localhost:8080/"
    },
    "id": "A7PxP1u_F4uM",
    "outputId": "6f98ff11-cbae-439b-8b97-7381e98ed01e"
   },
   "outputs": [
    {
     "name": "stderr",
     "output_type": "stream",
     "text": [
      "                                                                                \r"
     ]
    },
    {
     "name": "stdout",
     "output_type": "stream",
     "text": [
      "Average stars: 3.5967235576603303\n"
     ]
    }
   ],
   "source": [
    "average_stars = df_business.agg({\"stars\": \"avg\"}).collect()[0][0]\n",
    "print(f\"Average stars: {average_stars}\")"
   ]
  },
  {
   "cell_type": "code",
   "execution_count": 12,
   "metadata": {
    "colab": {
     "base_uri": "https://localhost:8080/"
    },
    "id": "lELNQb9GHYnh",
    "outputId": "7fdf7e86-b7a4-4de1-a678-32375c01a42a"
   },
   "outputs": [
    {
     "name": "stderr",
     "output_type": "stream",
     "text": [
      "[Stage 20:=======================================>              (148 + 5) / 200]\r"
     ]
    },
    {
     "name": "stdout",
     "output_type": "stream",
     "text": [
      "+-----+-----+\n",
      "|stars|count|\n",
      "+-----+-----+\n",
      "|  1.0| 1986|\n",
      "|  1.5| 4932|\n",
      "|  2.0| 9527|\n",
      "|  2.5|14316|\n",
      "|  3.0|18453|\n",
      "|  3.5|26519|\n",
      "|  4.0|31125|\n",
      "|  4.5|27181|\n",
      "|  5.0|16307|\n",
      "+-----+-----+\n",
      "\n"
     ]
    },
    {
     "name": "stderr",
     "output_type": "stream",
     "text": [
      "                                                                                \r"
     ]
    }
   ],
   "source": [
    "# Stars distribution\n",
    "df_business.groupBy(\"stars\").count().sort(\"stars\").show()"
   ]
  },
  {
   "cell_type": "code",
   "execution_count": 13,
   "metadata": {
    "colab": {
     "base_uri": "https://localhost:8080/"
    },
    "id": "YGeiAzq9GTl3",
    "outputId": "b4483b42-6c7f-4ca4-d320-83e74b0d587f"
   },
   "outputs": [
    {
     "name": "stdout",
     "output_type": "stream",
     "text": [
      "+----------------------------------------------------------------------------------------------------------+\n",
      "|categories                                                                                                |\n",
      "+----------------------------------------------------------------------------------------------------------+\n",
      "|Doctors, Traditional Chinese Medicine, Naturopathic/Holistic, Acupuncture, Health & Medical, Nutritionists|\n",
      "|Shipping Centers, Local Services, Notaries, Mailbox Centers, Printing Services                            |\n",
      "|Department Stores, Shopping, Fashion, Home & Garden, Electronics, Furniture Stores                        |\n",
      "|Restaurants, Food, Bubble Tea, Coffee & Tea, Bakeries                                                     |\n",
      "|Brewpubs, Breweries, Food                                                                                 |\n",
      "|Burgers, Fast Food, Sandwiches, Food, Ice Cream & Frozen Yogurt, Restaurants                              |\n",
      "|Sporting Goods, Fashion, Shoe Stores, Shopping, Sports Wear, Accessories                                  |\n",
      "|Synagogues, Religious Organizations                                                                       |\n",
      "|Pubs, Restaurants, Italian, Bars, American (Traditional), Nightlife, Greek                                |\n",
      "|Ice Cream & Frozen Yogurt, Fast Food, Burgers, Restaurants, Food                                          |\n",
      "|Department Stores, Shopping, Fashion                                                                      |\n",
      "|Vietnamese, Food, Restaurants, Food Trucks                                                                |\n",
      "|American (Traditional), Restaurants, Diners, Breakfast & Brunch                                           |\n",
      "|General Dentistry, Dentists, Health & Medical, Cosmetic Dentists                                          |\n",
      "|Food, Delis, Italian, Bakeries, Restaurants                                                               |\n",
      "|Sushi Bars, Restaurants, Japanese                                                                         |\n",
      "|Automotive, Auto Parts & Supplies, Auto Customization                                                     |\n",
      "|Vape Shops, Tobacco Shops, Personal Shopping, Vitamins & Supplements, Shopping                            |\n",
      "|Automotive, Car Rental, Hotels & Travel, Truck Rental                                                     |\n",
      "|Korean, Restaurants                                                                                       |\n",
      "+----------------------------------------------------------------------------------------------------------+\n",
      "only showing top 20 rows\n",
      "\n"
     ]
    }
   ],
   "source": [
    "df_business.select(\"categories\").show(truncate=False)"
   ]
  },
  {
   "cell_type": "code",
   "execution_count": 14,
   "metadata": {
    "id": "DVWcJ8CYw9mY"
   },
   "outputs": [],
   "source": [
    "# Analysis over attributes\n",
    "attribute_columns = df_business.select(\"Attributes.*\").columns"
   ]
  },
  {
   "cell_type": "code",
   "execution_count": 15,
   "metadata": {
    "colab": {
     "base_uri": "https://localhost:8080/"
    },
    "id": "ZaLS_IMXxDXw",
    "outputId": "f54a0873-1e20-4e2f-e084-6d256638f82f"
   },
   "outputs": [
    {
     "name": "stdout",
     "output_type": "stream",
     "text": [
      "Distribution for column: Attribute.AcceptsInsurance\n"
     ]
    },
    {
     "name": "stderr",
     "output_type": "stream",
     "text": [
      "                                                                                \r"
     ]
    },
    {
     "name": "stdout",
     "output_type": "stream",
     "text": [
      "+----------------+------+\n",
      "|AcceptsInsurance|count |\n",
      "+----------------+------+\n",
      "|None            |8     |\n",
      "|False           |1767  |\n",
      "|null            |144633|\n",
      "|True            |3938  |\n",
      "+----------------+------+\n",
      "\n",
      "Distribution for column: Attribute.AgesAllowed\n"
     ]
    },
    {
     "name": "stderr",
     "output_type": "stream",
     "text": [
      "                                                                                \r"
     ]
    },
    {
     "name": "stdout",
     "output_type": "stream",
     "text": [
      "+-----------+------+\n",
      "|AgesAllowed|count |\n",
      "+-----------+------+\n",
      "|null       |150217|\n",
      "|u'18plus'  |6     |\n",
      "|u'21plus'  |46    |\n",
      "|u'allages' |77    |\n",
      "+-----------+------+\n",
      "\n",
      "Distribution for column: Attribute.Alcohol\n"
     ]
    },
    {
     "name": "stderr",
     "output_type": "stream",
     "text": [
      "                                                                                \r"
     ]
    },
    {
     "name": "stdout",
     "output_type": "stream",
     "text": [
      "+----------------+------+\n",
      "|Alcohol         |count |\n",
      "+----------------+------+\n",
      "|None            |38    |\n",
      "|u'none'         |15977 |\n",
      "|null            |107157|\n",
      "|'beer_and_wine' |1369  |\n",
      "|'none'          |4933  |\n",
      "|u'beer_and_wine'|4880  |\n",
      "|u'full_bar'     |12968 |\n",
      "|'full_bar'      |3024  |\n",
      "+----------------+------+\n",
      "\n",
      "Distribution for column: Attribute.Ambience\n"
     ]
    },
    {
     "name": "stderr",
     "output_type": "stream",
     "text": [
      "                                                                                \r"
     ]
    },
    {
     "name": "stdout",
     "output_type": "stream",
     "text": [
      "+----------------------------------------------------------------------------------------------------------------------------------------------------------------------+-----+\n",
      "|Ambience                                                                                                                                                              |count|\n",
      "+----------------------------------------------------------------------------------------------------------------------------------------------------------------------+-----+\n",
      "|{'romantic': False, 'intimate': False, 'classy': False, 'hipster': False, 'divey': False, 'touristy': False, 'trendy': False, 'casual': True}                         |14   |\n",
      "|{u'divey': False, u'hipster': False, u'casual': True, u'touristy': None, u'trendy': None, u'intimate': None, u'romantic': None, u'classy': None, u'upscale': False}   |8    |\n",
      "|{u'divey': None, u'hipster': True, u'casual': True, u'touristy': None, u'trendy': True, u'intimate': False, u'romantic': False, u'classy': None, u'upscale': None}    |1    |\n",
      "|{u'divey': False, u'hipster': None, u'casual': None, u'touristy': False, u'trendy': None, u'intimate': None, u'romantic': None, u'classy': False, u'upscale': None}   |3    |\n",
      "|{'touristy': False, 'hipster': True, 'romantic': False, 'divey': True, 'intimate': False, 'trendy': False, 'upscale': False, 'classy': False, 'casual': None}         |2    |\n",
      "|{'touristy': None, 'hipster': None, 'romantic': None, 'divey': False, 'intimate': True, 'trendy': None, 'upscale': None, 'classy': None, 'casual': None}              |2    |\n",
      "|{u'divey': None, u'hipster': False, u'casual': True, u'touristy': True, u'trendy': False, u'intimate': False, u'romantic': False, u'classy': False, u'upscale': False}|2    |\n",
      "|{'touristy': None, 'hipster': False, 'romantic': False, 'divey': False, 'intimate': None, 'trendy': None, 'upscale': False, 'classy': True, 'casual': True}           |1    |\n",
      "|{u'divey': False, u'hipster': None, u'casual': True, u'touristy': None, u'trendy': True, u'intimate': None, u'romantic': None, u'classy': True, u'upscale': False}    |1    |\n",
      "|{u'divey': True, u'hipster': True, u'casual': True, u'touristy': False, u'trendy': None, u'intimate': None, u'romantic': False, u'classy': False, u'upscale': False}  |1    |\n",
      "|{u'divey': None, u'hipster': None, u'casual': True, u'touristy': False, u'trendy': None, u'intimate': False, u'romantic': None, u'classy': True, u'upscale': False}   |1    |\n",
      "|{u'divey': False, u'hipster': False, u'casual': True, u'touristy': None, u'trendy': True, u'intimate': None, u'romantic': None, u'classy': None, u'upscale': None}    |4    |\n",
      "|{'touristy': False, 'hipster': None, 'romantic': False, 'divey': False, 'intimate': False, 'trendy': True, 'upscale': False, 'classy': True, 'casual': None}          |2    |\n",
      "|{u'divey': False, u'hipster': None, u'casual': True, u'touristy': None, u'trendy': None, u'intimate': False, u'romantic': None, u'classy': False, u'upscale': None}   |3    |\n",
      "|{'romantic': False, 'intimate': False, 'classy': True, 'hipster': False, 'divey': False, 'touristy': False, 'trendy': False, 'casual': False}                         |3    |\n",
      "|{u'divey': False, u'hipster': True, u'casual': True, u'touristy': False, u'trendy': True, u'intimate': True, u'romantic': None, u'classy': None, u'upscale': None}    |1    |\n",
      "|{u'divey': False, u'hipster': None, u'casual': True, u'touristy': False, u'trendy': False, u'intimate': False, u'romantic': False, u'classy': False, u'upscale': None}|2    |\n",
      "|{'touristy': True, 'hipster': None, 'romantic': False, 'divey': None, 'intimate': False, 'trendy': False, 'upscale': False, 'classy': False, 'casual': True}          |1    |\n",
      "|{u'divey': None, u'hipster': True, u'casual': True, u'touristy': None, u'trendy': True, u'intimate': None, u'romantic': False, u'classy': None, u'upscale': False}    |2    |\n",
      "|{u'divey': False, u'hipster': True, u'casual': True, u'touristy': False, u'trendy': None, u'intimate': False, u'romantic': False, u'classy': False, u'upscale': False}|16   |\n",
      "+----------------------------------------------------------------------------------------------------------------------------------------------------------------------+-----+\n",
      "only showing top 20 rows\n",
      "\n",
      "Distribution for column: Attribute.BYOB\n"
     ]
    },
    {
     "name": "stderr",
     "output_type": "stream",
     "text": [
      "                                                                                \r"
     ]
    },
    {
     "name": "stdout",
     "output_type": "stream",
     "text": [
      "+-----+------+\n",
      "|BYOB |count |\n",
      "+-----+------+\n",
      "|None |12    |\n",
      "|False|3437  |\n",
      "|null |145895|\n",
      "|True |1002  |\n",
      "+-----+------+\n",
      "\n",
      "Distribution for column: Attribute.BYOBCorkage\n"
     ]
    },
    {
     "name": "stderr",
     "output_type": "stream",
     "text": [
      "                                                                                \r"
     ]
    },
    {
     "name": "stdout",
     "output_type": "stream",
     "text": [
      "+--------------+------+\n",
      "|BYOBCorkage   |count |\n",
      "+--------------+------+\n",
      "|None          |5     |\n",
      "|null          |148902|\n",
      "|'no'          |730   |\n",
      "|u'yes_corkage'|9     |\n",
      "|u'no'         |17    |\n",
      "|'yes_free'    |572   |\n",
      "|'yes_corkage' |93    |\n",
      "|u'yes_free'   |18    |\n",
      "+--------------+------+\n",
      "\n",
      "Distribution for column: Attribute.BestNights\n"
     ]
    },
    {
     "name": "stderr",
     "output_type": "stream",
     "text": [
      "                                                                                \r"
     ]
    },
    {
     "name": "stdout",
     "output_type": "stream",
     "text": [
      "+------------------------------------------------------------------------------------------------------------------------------------+-----+\n",
      "|BestNights                                                                                                                          |count|\n",
      "+------------------------------------------------------------------------------------------------------------------------------------+-----+\n",
      "|{u'monday': False, u'tuesday': False, u'wednesday': True, u'thursday': True, u'friday': True, u'saturday': False, u'sunday': False} |4    |\n",
      "|{u'monday': True, u'tuesday': True, u'wednesday': True, u'thursday': False, u'friday': False, u'saturday': False, u'sunday': False} |3    |\n",
      "|{u'monday': True, u'tuesday': False, u'wednesday': False, u'thursday': False, u'friday': False, u'saturday': False, u'sunday': True}|1    |\n",
      "|{'monday': True, 'tuesday': False, 'friday': False, 'wednesday': True, 'thursday': False, 'sunday': True, 'saturday': False}        |4    |\n",
      "|{'monday': False, 'tuesday': False, 'friday': False, 'wednesday': False, 'thursday': True, 'sunday': True, 'saturday': False}       |7    |\n",
      "|{u'monday': False, u'tuesday': True, u'wednesday': False, u'thursday': False, u'friday': False, u'saturday': False, u'sunday': True}|1    |\n",
      "|{'monday': False, 'tuesday': False, 'friday': False, 'wednesday': False, 'thursday': False, 'sunday': False, 'saturday': True}      |312  |\n",
      "|{'monday': False, 'tuesday': False, 'friday': True, 'wednesday': True, 'thursday': True, 'sunday': False, 'saturday': False}        |86   |\n",
      "|{'monday': False, 'tuesday': False, 'friday': False, 'wednesday': False, 'thursday': False, 'sunday': True, 'saturday': True}       |41   |\n",
      "|{u'monday': False, u'tuesday': False, u'wednesday': False, u'thursday': True, u'friday': False, u'saturday': True, u'sunday': True} |1    |\n",
      "|{u'monday': False, u'tuesday': False, u'wednesday': False, u'thursday': True, u'friday': False, u'saturday': True, u'sunday': False}|3    |\n",
      "|{'monday': False, 'tuesday': False, 'friday': False, 'wednesday': True, 'thursday': False, 'sunday': True, 'saturday': True}        |14   |\n",
      "|{'monday': False, 'tuesday': False, 'friday': True, 'wednesday': True, 'thursday': False, 'sunday': False, 'saturday': True}        |273  |\n",
      "|{'monday': False, 'tuesday': False, 'friday': False, 'wednesday': True, 'thursday': True, 'sunday': False, 'saturday': False}       |14   |\n",
      "|{u'monday': False, u'tuesday': False, u'wednesday': False, u'thursday': True, u'friday': True, u'saturday': False, u'sunday': False}|7    |\n",
      "|{u'monday': False, u'tuesday': True, u'wednesday': False, u'thursday': True, u'friday': False, u'saturday': False, u'sunday': True} |1    |\n",
      "|{'monday': True, 'tuesday': False, 'friday': True, 'wednesday': False, 'thursday': False, 'sunday': False, 'saturday': False}       |13   |\n",
      "|{'monday': False, 'tuesday': True, 'friday': False, 'wednesday': False, 'thursday': False, 'sunday': True, 'saturday': True}        |16   |\n",
      "|{'monday': True, 'tuesday': True, 'friday': False, 'wednesday': True, 'thursday': False, 'sunday': False, 'saturday': False}        |63   |\n",
      "|{'monday': True, 'tuesday': False, 'friday': False, 'wednesday': False, 'thursday': False, 'sunday': False, 'saturday': False}      |47   |\n",
      "+------------------------------------------------------------------------------------------------------------------------------------+-----+\n",
      "only showing top 20 rows\n",
      "\n",
      "Distribution for column: Attribute.BikeParking\n"
     ]
    },
    {
     "name": "stderr",
     "output_type": "stream",
     "text": [
      "                                                                                \r"
     ]
    },
    {
     "name": "stdout",
     "output_type": "stream",
     "text": [
      "+-----------+-----+\n",
      "|BikeParking|count|\n",
      "+-----------+-----+\n",
      "|None       |80   |\n",
      "|False      |17518|\n",
      "|null       |77708|\n",
      "|True       |55040|\n",
      "+-----------+-----+\n",
      "\n",
      "Distribution for column: Attribute.BusinessAcceptsBitcoin\n"
     ]
    },
    {
     "name": "stderr",
     "output_type": "stream",
     "text": [
      "                                                                                \r"
     ]
    },
    {
     "name": "stdout",
     "output_type": "stream",
     "text": [
      "+----------------------+------+\n",
      "|BusinessAcceptsBitcoin|count |\n",
      "+----------------------+------+\n",
      "|None                  |3     |\n",
      "|False                 |16957 |\n",
      "|null                  |132916|\n",
      "|True                  |470   |\n",
      "+----------------------+------+\n",
      "\n",
      "Distribution for column: Attribute.BusinessAcceptsCreditCards\n"
     ]
    },
    {
     "name": "stderr",
     "output_type": "stream",
     "text": [
      "                                                                                \r"
     ]
    },
    {
     "name": "stdout",
     "output_type": "stream",
     "text": [
      "+--------------------------+------+\n",
      "|BusinessAcceptsCreditCards|count |\n",
      "+--------------------------+------+\n",
      "|None                      |73    |\n",
      "|False                     |6025  |\n",
      "|null                      |30581 |\n",
      "|True                      |113667|\n",
      "+--------------------------+------+\n",
      "\n",
      "Distribution for column: Attribute.BusinessParking\n"
     ]
    },
    {
     "name": "stderr",
     "output_type": "stream",
     "text": [
      "                                                                                \r"
     ]
    },
    {
     "name": "stdout",
     "output_type": "stream",
     "text": [
      "+---------------------------------------------------------------------------------------+-----+\n",
      "|BusinessParking                                                                        |count|\n",
      "+---------------------------------------------------------------------------------------+-----+\n",
      "|{'garage': False, 'street': None, 'validated': False, 'lot': None, 'valet': False}     |268  |\n",
      "|{u'valet': False, u'garage': None, u'street': None, u'lot': None, u'validated': False} |121  |\n",
      "|{u'valet': False, u'garage': False, u'street': True, u'lot': None, u'validated': None} |32   |\n",
      "|{}                                                                                     |8    |\n",
      "|{'garage': True, 'street': None, 'validated': True, 'lot': True, 'valet': False}       |1    |\n",
      "|{u'valet': False, u'garage': False, u'street': None, u'lot': True, u'validated': None} |131  |\n",
      "|{u'valet': True, u'garage': False, u'street': False, u'lot': False, u'validated': True}|1    |\n",
      "|{'garage': True, 'street': False, 'validated': True, 'lot': False, 'valet': False}     |54   |\n",
      "|{'garage': True, 'street': True, 'validated': None, 'lot': False, 'valet': False}      |7    |\n",
      "|{u'valet': False, u'garage': True, u'street': None, u'lot': True, u'validated': False} |5    |\n",
      "|{'garage': False, 'street': True, 'validated': True, 'lot': False, 'valet': False}     |107  |\n",
      "|{'valet': False, 'garage': False, 'street': False, 'lot': True, 'validated': False}    |61   |\n",
      "|{u'valet': False, u'garage': True, u'street': True, u'lot': False, u'validated': False}|77   |\n",
      "|{'garage': True, 'street': None, 'validated': False, 'lot': True, 'valet': False}      |8    |\n",
      "|{'garage': None, 'street': True, 'validated': None, 'lot': True, 'valet': False}       |26   |\n",
      "|{'garage': False, 'street': False, 'validated': True, 'lot': True, 'valet': False}     |64   |\n",
      "|{'garage': False, 'street': None, 'validated': None, 'lot': None, 'valet': False}      |190  |\n",
      "|{u'valet': False, u'garage': None, u'street': False, u'lot': True, u'validated': False}|23   |\n",
      "|{'garage': False, 'street': None, 'validated': False, 'lot': False, 'valet': False}    |37   |\n",
      "|None                                                                                   |2271 |\n",
      "+---------------------------------------------------------------------------------------+-----+\n",
      "only showing top 20 rows\n",
      "\n",
      "Distribution for column: Attribute.ByAppointmentOnly\n"
     ]
    },
    {
     "name": "stderr",
     "output_type": "stream",
     "text": [
      "                                                                                \r"
     ]
    },
    {
     "name": "stdout",
     "output_type": "stream",
     "text": [
      "+-----------------+------+\n",
      "|ByAppointmentOnly|count |\n",
      "+-----------------+------+\n",
      "|None             |40    |\n",
      "|False            |26690 |\n",
      "|null             |108007|\n",
      "|True             |15609 |\n",
      "+-----------------+------+\n",
      "\n",
      "Distribution for column: Attribute.Caters\n"
     ]
    },
    {
     "name": "stderr",
     "output_type": "stream",
     "text": [
      "                                                                                \r"
     ]
    },
    {
     "name": "stdout",
     "output_type": "stream",
     "text": [
      "+------+------+\n",
      "|Caters|count |\n",
      "+------+------+\n",
      "|None  |60    |\n",
      "|False |17730 |\n",
      "|null  |110219|\n",
      "|True  |22337 |\n",
      "+------+------+\n",
      "\n",
      "Distribution for column: Attribute.CoatCheck\n"
     ]
    },
    {
     "name": "stderr",
     "output_type": "stream",
     "text": [
      "                                                                                \r"
     ]
    },
    {
     "name": "stdout",
     "output_type": "stream",
     "text": [
      "+---------+------+\n",
      "|CoatCheck|count |\n",
      "+---------+------+\n",
      "|None     |4     |\n",
      "|False    |5141  |\n",
      "|null     |144762|\n",
      "|True     |439   |\n",
      "+---------+------+\n",
      "\n",
      "Distribution for column: Attribute.Corkage\n"
     ]
    },
    {
     "name": "stderr",
     "output_type": "stream",
     "text": [
      "                                                                                \r"
     ]
    },
    {
     "name": "stdout",
     "output_type": "stream",
     "text": [
      "+-------+------+\n",
      "|Corkage|count |\n",
      "+-------+------+\n",
      "|None   |11    |\n",
      "|False  |2446  |\n",
      "|null   |146793|\n",
      "|True   |1096  |\n",
      "+-------+------+\n",
      "\n",
      "Distribution for column: Attribute.DietaryRestrictions\n"
     ]
    },
    {
     "name": "stderr",
     "output_type": "stream",
     "text": [
      "                                                                                \r"
     ]
    },
    {
     "name": "stdout",
     "output_type": "stream",
     "text": [
      "+-----------------------------------------------------------------------------------------------------------------------------------+------+\n",
      "|DietaryRestrictions                                                                                                                |count |\n",
      "+-----------------------------------------------------------------------------------------------------------------------------------+------+\n",
      "|{'dairy-free': False, 'gluten-free': True, 'vegan': False, 'kosher': False, 'halal': False, 'soy-free': False, 'vegetarian': True} |1     |\n",
      "|None                                                                                                                               |1     |\n",
      "|{'dairy-free': False, 'gluten-free': False, 'vegan': True, 'kosher': False, 'halal': True, 'soy-free': False, 'vegetarian': True}  |1     |\n",
      "|{'dairy-free': False, 'gluten-free': True, 'vegan': False, 'kosher': False, 'halal': False, 'soy-free': False, 'vegetarian': False}|12    |\n",
      "|null                                                                                                                               |150315|\n",
      "|{'dairy-free': False, 'gluten-free': False, 'vegan': True, 'kosher': False, 'halal': False, 'soy-free': False, 'vegetarian': True} |4     |\n",
      "|{'dairy-free': True, 'gluten-free': False, 'vegan': True, 'kosher': False, 'halal': False, 'soy-free': False, 'vegetarian': False} |1     |\n",
      "|{'dairy-free': True, 'gluten-free': True, 'vegan': True, 'kosher': False, 'halal': False, 'soy-free': False, 'vegetarian': True}   |1     |\n",
      "|{'dairy-free': False, 'gluten-free': False, 'vegan': False, 'kosher': False, 'halal': False, 'soy-free': False, 'vegetarian': True}|3     |\n",
      "|{'dairy-free': False, 'gluten-free': True, 'vegan': True, 'kosher': False, 'halal': False, 'soy-free': False, 'vegetarian': True}  |1     |\n",
      "|{'dairy-free': True, 'gluten-free': True, 'vegan': True, 'kosher': False, 'halal': False, 'soy-free': True, 'vegetarian': True}    |4     |\n",
      "|{'dairy-free': False, 'gluten-free': False, 'vegan': True, 'kosher': False, 'halal': False, 'soy-free': False, 'vegetarian': False}|2     |\n",
      "+-----------------------------------------------------------------------------------------------------------------------------------+------+\n",
      "\n",
      "Distribution for column: Attribute.DogsAllowed\n"
     ]
    },
    {
     "name": "stderr",
     "output_type": "stream",
     "text": [
      "                                                                                \r"
     ]
    },
    {
     "name": "stdout",
     "output_type": "stream",
     "text": [
      "+-----------+------+\n",
      "|DogsAllowed|count |\n",
      "+-----------+------+\n",
      "|None       |26    |\n",
      "|False      |12267 |\n",
      "|null       |132062|\n",
      "|True       |5991  |\n",
      "+-----------+------+\n",
      "\n",
      "Distribution for column: Attribute.DriveThru\n"
     ]
    },
    {
     "name": "stderr",
     "output_type": "stream",
     "text": [
      "                                                                                \r"
     ]
    },
    {
     "name": "stdout",
     "output_type": "stream",
     "text": [
      "+---------+------+\n",
      "|DriveThru|count |\n",
      "+---------+------+\n",
      "|None     |755   |\n",
      "|False    |2631  |\n",
      "|null     |142586|\n",
      "|True     |4374  |\n",
      "+---------+------+\n",
      "\n",
      "Distribution for column: Attribute.GoodForDancing\n"
     ]
    },
    {
     "name": "stderr",
     "output_type": "stream",
     "text": [
      "                                                                                \r"
     ]
    },
    {
     "name": "stdout",
     "output_type": "stream",
     "text": [
      "+--------------+------+\n",
      "|GoodForDancing|count |\n",
      "+--------------+------+\n",
      "|False         |3726  |\n",
      "|null          |145718|\n",
      "|True          |902   |\n",
      "+--------------+------+\n",
      "\n",
      "Distribution for column: Attribute.GoodForKids\n"
     ]
    },
    {
     "name": "stderr",
     "output_type": "stream",
     "text": [
      "                                                                                \r"
     ]
    },
    {
     "name": "stdout",
     "output_type": "stream",
     "text": [
      "+-----------+-----+\n",
      "|GoodForKids|count|\n",
      "+-----------+-----+\n",
      "|None       |28   |\n",
      "|False      |9442 |\n",
      "|null       |96971|\n",
      "|True       |43905|\n",
      "+-----------+-----+\n",
      "\n",
      "Distribution for column: Attribute.GoodForMeal\n"
     ]
    },
    {
     "name": "stderr",
     "output_type": "stream",
     "text": [
      "                                                                                \r"
     ]
    },
    {
     "name": "stdout",
     "output_type": "stream",
     "text": [
      "+-----------------------------------------------------------------------------------------------------------------+-----+\n",
      "|GoodForMeal                                                                                                      |count|\n",
      "+-----------------------------------------------------------------------------------------------------------------+-----+\n",
      "|{u'breakfast': True, u'brunch': None, u'lunch': None, u'dinner': True, u'latenight': True, u'dessert': None}     |2    |\n",
      "|{u'breakfast': None, u'brunch': False, u'lunch': True, u'dinner': None, u'latenight': None, u'dessert': False}   |2    |\n",
      "|{'dessert': True, 'latenight': True, 'lunch': None, 'dinner': True, 'brunch': None, 'breakfast': None}           |2    |\n",
      "|{'dessert': False, 'latenight': False, 'lunch': True, 'dinner': False, 'breakfast': False, 'brunch': False}      |12   |\n",
      "|{'dessert': False, 'latenight': True, 'lunch': False, 'dinner': True, 'brunch': None, 'breakfast': False}        |1    |\n",
      "|{'dessert': True, 'latenight': False, 'lunch': None, 'dinner': True, 'brunch': None, 'breakfast': False}         |3    |\n",
      "|{'dessert': False, 'latenight': None, 'lunch': None, 'dinner': True, 'brunch': False, 'breakfast': False}        |57   |\n",
      "|{'dessert': True, 'latenight': None, 'lunch': True, 'dinner': None, 'brunch': False, 'breakfast': False}         |1    |\n",
      "|{'dessert': False, 'latenight': False, 'lunch': True, 'dinner': None, 'brunch': None, 'breakfast': True}         |16   |\n",
      "|{'dessert': None, 'latenight': False, 'lunch': True, 'dinner': True, 'brunch': True, 'breakfast': False}         |20   |\n",
      "|{'dessert': None, 'latenight': None, 'lunch': None, 'dinner': None, 'brunch': True, 'breakfast': True}           |36   |\n",
      "|{'dessert': True, 'latenight': None, 'lunch': None, 'dinner': None, 'brunch': None, 'breakfast': True}           |1    |\n",
      "|{u'breakfast': False, u'brunch': False, u'lunch': False, u'dinner': True, u'latenight': False, u'dessert': False}|1    |\n",
      "|{'dessert': True, 'latenight': False, 'lunch': None, 'dinner': None, 'brunch': None, 'breakfast': None}          |1    |\n",
      "|{'dessert': None, 'latenight': True, 'lunch': True, 'dinner': None, 'brunch': None, 'breakfast': True}           |3    |\n",
      "|{'dessert': False, 'latenight': False, 'lunch': True, 'dinner': False, 'brunch': None, 'breakfast': None}        |4    |\n",
      "|{'dessert': True, 'latenight': True, 'lunch': True, 'dinner': False, 'brunch': True, 'breakfast': False}         |1    |\n",
      "|{'dessert': False, 'latenight': True, 'lunch': None, 'dinner': True, 'brunch': None, 'breakfast': None}          |1    |\n",
      "|{'dessert': None, 'latenight': None, 'lunch': True, 'dinner': None, 'brunch': None, 'breakfast': None}           |139  |\n",
      "|{'dessert': True, 'latenight': None, 'lunch': None, 'dinner': None, 'brunch': False, 'breakfast': None}          |1    |\n",
      "+-----------------------------------------------------------------------------------------------------------------+-----+\n",
      "only showing top 20 rows\n",
      "\n",
      "Distribution for column: Attribute.HairSpecializesIn\n"
     ]
    },
    {
     "name": "stderr",
     "output_type": "stream",
     "text": [
      "                                                                                \r"
     ]
    },
    {
     "name": "stdout",
     "output_type": "stream",
     "text": [
      "+---------------------------------------------------------------------------------------------------------------------------------------------------------------+-----+\n",
      "|HairSpecializesIn                                                                                                                                              |count|\n",
      "+---------------------------------------------------------------------------------------------------------------------------------------------------------------+-----+\n",
      "|{u'africanamerican': False, u'asian': False, u'curly': False, u'perms': False, u'extensions': True, u'straightperms': False, u'coloring': True, u'kids': False}|4    |\n",
      "|{'straightperms': True, 'coloring': True, 'extensions': True, 'africanamerican': False, 'curly': False, 'kids': True, 'perms': True, 'asian': False}           |2    |\n",
      "|{'straightperms': True, 'coloring': True, 'extensions': False, 'africanamerican': False, 'curly': True, 'kids': False, 'perms': False, 'asian': True}          |1    |\n",
      "|{'straightperms': False, 'coloring': True, 'extensions': False, 'africanamerican': False, 'curly': True, 'kids': True, 'perms': False, 'asian': False}         |5    |\n",
      "|{'straightperms': True, 'coloring': True, 'extensions': False, 'africanamerican': False, 'curly': True, 'kids': True, 'perms': False, 'asian': True}           |1    |\n",
      "|{'straightperms': False, 'coloring': True, 'extensions': False, 'africanamerican': True, 'curly': True, 'kids': True, 'perms': False, 'asian': True}           |14   |\n",
      "|{'straightperms': True, 'coloring': True, 'extensions': True, 'africanamerican': True, 'curly': True, 'kids': True, 'perms': False, 'asian': True}             |10   |\n",
      "|{'perms': True, 'coloring': True, 'extensions': False, 'curly': True, 'kids': False}                                                                           |2    |\n",
      "|{u'africanamerican': True, u'asian': True, u'curly': True, u'perms': False, u'extensions': True, u'straightperms': False, u'coloring': False, u'kids': False}  |1    |\n",
      "|{'perms': False, 'coloring': True, 'extensions': False, 'curly': True, 'kids': True}                                                                           |1    |\n",
      "|{'straightperms': False, 'coloring': True, 'extensions': False, 'africanamerican': True, 'curly': True, 'kids': False, 'perms': False, 'asian': True}          |7    |\n",
      "|{u'africanamerican': False, u'asian': True, u'curly': False, u'perms': False, u'extensions': False, u'straightperms': True, u'coloring': True, u'kids': False} |1    |\n",
      "|{'straightperms': True, 'coloring': True, 'extensions': False, 'africanamerican': False, 'curly': False, 'kids': True, 'perms': False, 'asian': False}         |1    |\n",
      "|{'straightperms': True, 'coloring': True, 'extensions': False, 'africanamerican': False, 'curly': False, 'kids': False, 'perms': True, 'asian': False}         |1    |\n",
      "|{u'africanamerican': False, u'asian': True, u'curly': True, u'perms': False, u'extensions': True, u'straightperms': False, u'coloring': True, u'kids': False}  |3    |\n",
      "|{'straightperms': False, 'coloring': False, 'extensions': False, 'africanamerican': False, 'curly': True, 'kids': False, 'perms': False, 'asian': False}       |1    |\n",
      "|{'straightperms': False, 'coloring': False, 'extensions': False, 'africanamerican': True, 'curly': True, 'kids': False, 'perms': False, 'asian': True}         |3    |\n",
      "|None                                                                                                                                                           |30   |\n",
      "|{u'africanamerican': False, u'asian': False, u'curly': True, u'perms': True, u'extensions': False, u'straightperms': True, u'coloring': True, u'kids': True}   |1    |\n",
      "|{'straightperms': True, 'coloring': True, 'extensions': False, 'africanamerican': False, 'curly': True, 'kids': True, 'perms': True, 'asian': True}            |15   |\n",
      "+---------------------------------------------------------------------------------------------------------------------------------------------------------------+-----+\n",
      "only showing top 20 rows\n",
      "\n",
      "Distribution for column: Attribute.HappyHour\n"
     ]
    },
    {
     "name": "stderr",
     "output_type": "stream",
     "text": [
      "                                                                                \r"
     ]
    },
    {
     "name": "stdout",
     "output_type": "stream",
     "text": [
      "+---------+------+\n",
      "|HappyHour|count |\n",
      "+---------+------+\n",
      "|None     |2     |\n",
      "|False    |5448  |\n",
      "|null     |135175|\n",
      "|True     |9721  |\n",
      "+---------+------+\n",
      "\n",
      "Distribution for column: Attribute.HasTV\n"
     ]
    },
    {
     "name": "stderr",
     "output_type": "stream",
     "text": [
      "                                                                                \r"
     ]
    },
    {
     "name": "stdout",
     "output_type": "stream",
     "text": [
      "+-----+------+\n",
      "|HasTV|count |\n",
      "+-----+------+\n",
      "|None |19    |\n",
      "|False|10911 |\n",
      "|null |105262|\n",
      "|True |34154 |\n",
      "+-----+------+\n",
      "\n",
      "Distribution for column: Attribute.Music\n"
     ]
    },
    {
     "name": "stderr",
     "output_type": "stream",
     "text": [
      "                                                                                \r"
     ]
    },
    {
     "name": "stdout",
     "output_type": "stream",
     "text": [
      "+------------------------------------------------------------------------------------------------------------------------------------+-----+\n",
      "|Music                                                                                                                               |count|\n",
      "+------------------------------------------------------------------------------------------------------------------------------------+-----+\n",
      "|{'dj': True, 'background_music': False, 'no_music': False, 'jukebox': False, 'live': True, 'video': False, 'karaoke': False}        |74   |\n",
      "|{'dj': True, 'background_music': True, 'no_music': False, 'jukebox': True, 'live': True, 'video': False, 'karaoke': True}           |1    |\n",
      "|{'dj': True, 'background_music': False, 'jukebox': True, 'live': False, 'video': True, 'karaoke': True}                             |1    |\n",
      "|{'dj': True, 'background_music': False, 'no_music': False, 'jukebox': True, 'live': True, 'video': True, 'karaoke': True}           |1    |\n",
      "|{'dj': None, 'background_music': False, 'no_music': False, 'jukebox': True, 'live': None, 'video': False, 'karaoke': None}          |7    |\n",
      "|{u'dj': True, u'live': False, u'jukebox': False, u'video': False, u'background_music': False, u'karaoke': None, u'no_music': False} |2    |\n",
      "|{}                                                                                                                                  |69   |\n",
      "|{'dj': False, 'background_music': False, 'no_music': False, 'jukebox': False, 'live': False, 'video': False, 'karaoke': None}       |205  |\n",
      "|{'dj': None, 'background_music': False, 'no_music': False, 'jukebox': None, 'live': True, 'video': False, 'karaoke': True}          |1    |\n",
      "|{'dj': False, 'background_music': True, 'no_music': False, 'jukebox': False, 'live': False, 'video': True, 'karaoke': False}        |1    |\n",
      "|{'dj': False, 'background_music': False, 'no_music': False, 'jukebox': True, 'live': None, 'video': False, 'karaoke': False}        |5    |\n",
      "|{'dj': True, 'background_music': False, 'jukebox': True, 'live': False, 'video': False, 'karaoke': True}                            |2    |\n",
      "|{u'dj': False, u'live': False, u'jukebox': False, u'video': False, u'background_music': False, u'karaoke': True, u'no_music': False}|1    |\n",
      "|{'dj': False, 'background_music': False, 'no_music': False, 'jukebox': False, 'live': True, 'video': False, 'karaoke': None}        |3    |\n",
      "|{'dj': False, 'background_music': False, 'no_music': False, 'jukebox': False, 'live': False, 'video': False, 'karaoke': False}      |2836 |\n",
      "|{u'dj': False, u'live': False, u'jukebox': None, u'video': False, u'background_music': False, u'karaoke': False, u'no_music': False}|26   |\n",
      "|{'dj': False, 'background_music': True, 'jukebox': False, 'live': False, 'video': False, 'karaoke': True}                           |1    |\n",
      "|{'dj': True, 'background_music': False, 'no_music': False, 'jukebox': None, 'live': None, 'video': False, 'karaoke': False}         |1    |\n",
      "|{u'dj': False, u'live': False, u'jukebox': True, u'video': False, u'background_music': False, u'karaoke': None, u'no_music': False} |20   |\n",
      "|None                                                                                                                                |35   |\n",
      "+------------------------------------------------------------------------------------------------------------------------------------+-----+\n",
      "only showing top 20 rows\n",
      "\n",
      "Distribution for column: Attribute.NoiseLevel\n"
     ]
    },
    {
     "name": "stderr",
     "output_type": "stream",
     "text": [
      "                                                                                \r"
     ]
    },
    {
     "name": "stdout",
     "output_type": "stream",
     "text": [
      "+------------+------+\n",
      "|NoiseLevel  |count |\n",
      "+------------+------+\n",
      "|'average'   |4607  |\n",
      "|None        |39    |\n",
      "|u'loud'     |2447  |\n",
      "|u'quiet'    |6460  |\n",
      "|null        |112353|\n",
      "|u'average'  |21581 |\n",
      "|'very_loud' |133   |\n",
      "|'quiet'     |1174  |\n",
      "|u'very_loud'|1067  |\n",
      "|'loud'      |485   |\n",
      "+------------+------+\n",
      "\n",
      "Distribution for column: Attribute.Open24Hours\n"
     ]
    },
    {
     "name": "stderr",
     "output_type": "stream",
     "text": [
      "                                                                                \r"
     ]
    },
    {
     "name": "stdout",
     "output_type": "stream",
     "text": [
      "+-----------+------+\n",
      "|Open24Hours|count |\n",
      "+-----------+------+\n",
      "|False      |20    |\n",
      "|null       |150307|\n",
      "|True       |19    |\n",
      "+-----------+------+\n",
      "\n",
      "Distribution for column: Attribute.OutdoorSeating\n"
     ]
    },
    {
     "name": "stderr",
     "output_type": "stream",
     "text": [
      "                                                                                \r"
     ]
    },
    {
     "name": "stdout",
     "output_type": "stream",
     "text": [
      "+--------------+------+\n",
      "|OutdoorSeating|count |\n",
      "+--------------+------+\n",
      "|None          |1882  |\n",
      "|False         |24371 |\n",
      "|null          |101544|\n",
      "|True          |22549 |\n",
      "+--------------+------+\n",
      "\n",
      "Distribution for column: Attribute.RestaurantsAttire\n"
     ]
    },
    {
     "name": "stderr",
     "output_type": "stream",
     "text": [
      "                                                                                \r"
     ]
    },
    {
     "name": "stdout",
     "output_type": "stream",
     "text": [
      "+-----------------+------+\n",
      "|RestaurantsAttire|count |\n",
      "+-----------------+------+\n",
      "|'casual'         |15154 |\n",
      "|None             |38    |\n",
      "|u'casual'        |23190 |\n",
      "|null             |111091|\n",
      "|'dressy'         |273   |\n",
      "|'formal'         |38    |\n",
      "|u'formal'        |32    |\n",
      "|u'dressy'        |530   |\n",
      "+-----------------+------+\n",
      "\n",
      "Distribution for column: Attribute.RestaurantsCounterService\n"
     ]
    },
    {
     "name": "stderr",
     "output_type": "stream",
     "text": [
      "                                                                                \r"
     ]
    },
    {
     "name": "stdout",
     "output_type": "stream",
     "text": [
      "+-------------------------+------+\n",
      "|RestaurantsCounterService|count |\n",
      "+-------------------------+------+\n",
      "|False                    |3     |\n",
      "|null                     |150327|\n",
      "|True                     |16    |\n",
      "+-------------------------+------+\n",
      "\n",
      "Distribution for column: Attribute.RestaurantsDelivery\n"
     ]
    },
    {
     "name": "stderr",
     "output_type": "stream",
     "text": [
      "                                                                                \r"
     ]
    },
    {
     "name": "stdout",
     "output_type": "stream",
     "text": [
      "+-------------------+-----+\n",
      "|RestaurantsDelivery|count|\n",
      "+-------------------+-----+\n",
      "|None               |3948 |\n",
      "|False              |20188|\n",
      "|null               |94064|\n",
      "|True               |32146|\n",
      "+-------------------+-----+\n",
      "\n",
      "Distribution for column: Attribute.RestaurantsGoodForGroups\n"
     ]
    },
    {
     "name": "stderr",
     "output_type": "stream",
     "text": [
      "                                                                                \r"
     ]
    },
    {
     "name": "stdout",
     "output_type": "stream",
     "text": [
      "+------------------------+------+\n",
      "|RestaurantsGoodForGroups|count |\n",
      "+------------------------+------+\n",
      "|None                    |21    |\n",
      "|False                   |6001  |\n",
      "|null                    |106176|\n",
      "|True                    |38148 |\n",
      "+------------------------+------+\n",
      "\n",
      "Distribution for column: Attribute.RestaurantsPriceRange2\n"
     ]
    },
    {
     "name": "stderr",
     "output_type": "stream",
     "text": [
      "                                                                                \r"
     ]
    },
    {
     "name": "stdout",
     "output_type": "stream",
     "text": [
      "+----------------------+-----+\n",
      "|RestaurantsPriceRange2|count|\n",
      "+----------------------+-----+\n",
      "|3                     |6667 |\n",
      "|None                  |34   |\n",
      "|null                  |65032|\n",
      "|1                     |28840|\n",
      "|4                     |1192 |\n",
      "|2                     |48581|\n",
      "+----------------------+-----+\n",
      "\n",
      "Distribution for column: Attribute.RestaurantsReservations\n"
     ]
    },
    {
     "name": "stderr",
     "output_type": "stream",
     "text": [
      "                                                                                \r"
     ]
    },
    {
     "name": "stdout",
     "output_type": "stream",
     "text": [
      "+-----------------------+------+\n",
      "|RestaurantsReservations|count |\n",
      "+-----------------------+------+\n",
      "|None                   |288   |\n",
      "|False                  |30105 |\n",
      "|null                   |105099|\n",
      "|True                   |14854 |\n",
      "+-----------------------+------+\n",
      "\n",
      "Distribution for column: Attribute.RestaurantsTableService\n"
     ]
    },
    {
     "name": "stderr",
     "output_type": "stream",
     "text": [
      "                                                                                \r"
     ]
    },
    {
     "name": "stdout",
     "output_type": "stream",
     "text": [
      "+-----------------------+------+\n",
      "|RestaurantsTableService|count |\n",
      "+-----------------------+------+\n",
      "|None                   |15    |\n",
      "|False                  |7293  |\n",
      "|null                   |130364|\n",
      "|True                   |12674 |\n",
      "+-----------------------+------+\n",
      "\n",
      "Distribution for column: Attribute.RestaurantsTakeOut\n"
     ]
    },
    {
     "name": "stderr",
     "output_type": "stream",
     "text": [
      "                                                                                \r"
     ]
    },
    {
     "name": "stdout",
     "output_type": "stream",
     "text": [
      "+------------------+-----+\n",
      "|RestaurantsTakeOut|count|\n",
      "+------------------+-----+\n",
      "|None              |2105 |\n",
      "|False             |4809 |\n",
      "|null              |90489|\n",
      "|True              |52943|\n",
      "+------------------+-----+\n",
      "\n",
      "Distribution for column: Attribute.Smoking\n"
     ]
    },
    {
     "name": "stderr",
     "output_type": "stream",
     "text": [
      "                                                                                \r"
     ]
    },
    {
     "name": "stdout",
     "output_type": "stream",
     "text": [
      "+----------+------+\n",
      "|Smoking   |count |\n",
      "+----------+------+\n",
      "|u'outdoor'|1800  |\n",
      "|None      |14    |\n",
      "|null      |145779|\n",
      "|'no'      |30    |\n",
      "|u'no'     |2375  |\n",
      "|'outdoor' |17    |\n",
      "|u'yes'    |331   |\n",
      "+----------+------+\n",
      "\n",
      "Distribution for column: Attribute.WheelchairAccessible\n"
     ]
    },
    {
     "name": "stderr",
     "output_type": "stream",
     "text": [
      "                                                                                \r"
     ]
    },
    {
     "name": "stdout",
     "output_type": "stream",
     "text": [
      "+--------------------+------+\n",
      "|WheelchairAccessible|count |\n",
      "+--------------------+------+\n",
      "|None                |27    |\n",
      "|False               |2933  |\n",
      "|null                |121393|\n",
      "|True                |25993 |\n",
      "+--------------------+------+\n",
      "\n",
      "Distribution for column: Attribute.WiFi\n"
     ]
    },
    {
     "name": "stderr",
     "output_type": "stream",
     "text": [
      "                                                                                \r"
     ]
    },
    {
     "name": "stdout",
     "output_type": "stream",
     "text": [
      "+-------+-----+\n",
      "|WiFi   |count|\n",
      "+-------+-----+\n",
      "|None   |50   |\n",
      "|'paid' |133  |\n",
      "|null   |93432|\n",
      "|'no'   |6610 |\n",
      "|u'paid'|486  |\n",
      "|u'no'  |15221|\n",
      "|u'free'|27029|\n",
      "|'free' |7385 |\n",
      "+-------+-----+\n",
      "\n"
     ]
    }
   ],
   "source": [
    "for column in attribute_columns:\n",
    "  print(\"Distribution for column: Attribute.\" + column)\n",
    "  df_business.groupBy(\"Attributes.\" + column).count().show(truncate=False)"
   ]
  },
  {
   "cell_type": "markdown",
   "metadata": {
    "id": "Mj9iqvEcCH9S"
   },
   "source": [
    "## Reviews Dataset"
   ]
  },
  {
   "cell_type": "code",
   "execution_count": 16,
   "metadata": {
    "colab": {
     "base_uri": "https://localhost:8080/"
    },
    "id": "Llxl7me4CN9C",
    "outputId": "a1f3d06f-5035-4ef9-d03d-594f8e95b682"
   },
   "outputs": [
    {
     "name": "stdout",
     "output_type": "stream",
     "text": [
      "root\n",
      " |-- business_id: string (nullable = true)\n",
      " |-- cool: long (nullable = true)\n",
      " |-- date: string (nullable = true)\n",
      " |-- funny: long (nullable = true)\n",
      " |-- review_id: string (nullable = true)\n",
      " |-- stars: double (nullable = true)\n",
      " |-- text: string (nullable = true)\n",
      " |-- useful: long (nullable = true)\n",
      " |-- user_id: string (nullable = true)\n",
      "\n"
     ]
    }
   ],
   "source": [
    "df_review.printSchema()"
   ]
  },
  {
   "cell_type": "code",
   "execution_count": 17,
   "metadata": {
    "colab": {
     "base_uri": "https://localhost:8080/"
    },
    "id": "TUIdvBt-s99a",
    "outputId": "c35fba5a-d7e0-4385-973f-2f80df18e15f"
   },
   "outputs": [
    {
     "name": "stdout",
     "output_type": "stream",
     "text": [
      "+--------------------+----+-------------------+-----+--------------------+-----+--------------------+------+--------------------+\n",
      "|         business_id|cool|               date|funny|           review_id|stars|                text|useful|             user_id|\n",
      "+--------------------+----+-------------------+-----+--------------------+-----+--------------------+------+--------------------+\n",
      "|XQfwVwDr-v0ZS3_Cb...|   0|2018-07-07 22:09:11|    0|KU_O5udG6zpxOg-Vc...|  3.0|If you decide to ...|     0|mh_-eMZ6K5RLWhZyI...|\n",
      "|7ATYjTIgM3jUlt4UM...|   1|2012-01-03 15:28:18|    0|BiTunyQ73aT9WBnpR...|  5.0|I've taken a lot ...|     1|OyoGAe7OKpv6SyGZT...|\n",
      "|YjUWPpI6HXG530lwP...|   0|2014-02-05 20:30:30|    0|saUsX_uimxRlCVr67...|  3.0|Family diner. Had...|     0|8g_iMtfSiwikVnbP2...|\n",
      "|kxX2SOes4o-D3ZQBk...|   1|2015-01-04 00:01:03|    0|AqPFMleE6RsU23_au...|  5.0|Wow!  Yummy, diff...|     1|_7bHUi9Uuf5__HHc_...|\n",
      "|e4Vwtrqf-wpJfwesg...|   1|2017-01-14 20:54:15|    0|Sx8TMOWLNuJBWer-0...|  4.0|Cute interior and...|     1|bcjbaE6dDog4jkNY9...|\n",
      "+--------------------+----+-------------------+-----+--------------------+-----+--------------------+------+--------------------+\n",
      "only showing top 5 rows\n",
      "\n"
     ]
    }
   ],
   "source": [
    "df_review.show(5)"
   ]
  },
  {
   "cell_type": "code",
   "execution_count": 18,
   "metadata": {
    "colab": {
     "base_uri": "https://localhost:8080/"
    },
    "id": "x89VHZBStZvD",
    "outputId": "c8c8da26-f025-4b3f-d4be-9caaa2fe45ab"
   },
   "outputs": [
    {
     "name": "stderr",
     "output_type": "stream",
     "text": [
      "                                                                                \r"
     ]
    },
    {
     "data": {
      "text/plain": [
       "6990280"
      ]
     },
     "execution_count": 18,
     "metadata": {},
     "output_type": "execute_result"
    }
   ],
   "source": [
    "df_review.count()"
   ]
  },
  {
   "cell_type": "code",
   "execution_count": 19,
   "metadata": {
    "colab": {
     "base_uri": "https://localhost:8080/"
    },
    "id": "fzxfubzQ4fnI",
    "outputId": "cf21433b-f46f-4714-ddd3-66a4af1e95bf"
   },
   "outputs": [
    {
     "name": "stdout",
     "output_type": "stream",
     "text": [
      "\n",
      "\n",
      "Analysis for column: cool\n"
     ]
    },
    {
     "name": "stderr",
     "output_type": "stream",
     "text": [
      "                                                                                \r"
     ]
    },
    {
     "name": "stdout",
     "output_type": "stream",
     "text": [
      "+-------+------------------+\n",
      "|summary|              cool|\n",
      "+-------+------------------+\n",
      "|  count|           6990280|\n",
      "|   mean|0.4986175088837643|\n",
      "| stddev| 2.172459820211187|\n",
      "|    min|                -1|\n",
      "|    max|               404|\n",
      "+-------+------------------+\n",
      "\n"
     ]
    },
    {
     "name": "stderr",
     "output_type": "stream",
     "text": [
      "                                                                                \r"
     ]
    },
    {
     "name": "stdout",
     "output_type": "stream",
     "text": [
      "+--------------------+----+-------------------+-----+--------------------+-----+--------------------+------+--------------------+\n",
      "|         business_id|cool|               date|funny|           review_id|stars|                text|useful|             user_id|\n",
      "+--------------------+----+-------------------+-----+--------------------+-----+--------------------+------+--------------------+\n",
      "|E3Qk7xTznkT0SABL2...|  -1|2017-10-05 02:47:33|   -1|JcWLycg0Hdsz6LBNA...|  5.0|The food was so m...|    -1|04j3r2Psfw_LxX1UX...|\n",
      "+--------------------+----+-------------------+-----+--------------------+-----+--------------------+------+--------------------+\n",
      "\n"
     ]
    },
    {
     "name": "stderr",
     "output_type": "stream",
     "text": [
      "                                                                                \r"
     ]
    },
    {
     "name": "stdout",
     "output_type": "stream",
     "text": [
      "Number of -1 rows for the column cool are: 1\n",
      "\n",
      "\n",
      "Analysis for column: funny\n"
     ]
    },
    {
     "name": "stderr",
     "output_type": "stream",
     "text": [
      "                                                                                \r"
     ]
    },
    {
     "name": "stdout",
     "output_type": "stream",
     "text": [
      "+-------+-------------------+\n",
      "|summary|              funny|\n",
      "+-------+-------------------+\n",
      "|  count|            6990280|\n",
      "|   mean|0.32655959417934616|\n",
      "| stddev| 1.6887290985540495|\n",
      "|    min|                 -1|\n",
      "|    max|                792|\n",
      "+-------+-------------------+\n",
      "\n"
     ]
    },
    {
     "name": "stderr",
     "output_type": "stream",
     "text": [
      "                                                                                \r"
     ]
    },
    {
     "name": "stdout",
     "output_type": "stream",
     "text": [
      "+--------------------+----+-------------------+-----+--------------------+-----+--------------------+------+--------------------+\n",
      "|         business_id|cool|               date|funny|           review_id|stars|                text|useful|             user_id|\n",
      "+--------------------+----+-------------------+-----+--------------------+-----+--------------------+------+--------------------+\n",
      "|E3Qk7xTznkT0SABL2...|  -1|2017-10-05 02:47:33|   -1|JcWLycg0Hdsz6LBNA...|  5.0|The food was so m...|    -1|04j3r2Psfw_LxX1UX...|\n",
      "|qjstXewt23oCZnf86...|   2|2017-02-25 23:40:34|   -1|7tlF2NEDiFqMRjKBg...|  1.0|The most horrible...|     2|VKK7pPl6DfjL9H5b3...|\n",
      "+--------------------+----+-------------------+-----+--------------------+-----+--------------------+------+--------------------+\n",
      "\n"
     ]
    },
    {
     "name": "stderr",
     "output_type": "stream",
     "text": [
      "                                                                                \r"
     ]
    },
    {
     "name": "stdout",
     "output_type": "stream",
     "text": [
      "Number of -1 rows for the column funny are: 2\n",
      "\n",
      "\n",
      "Analysis for column: useful\n"
     ]
    },
    {
     "name": "stderr",
     "output_type": "stream",
     "text": [
      "                                                                                \r"
     ]
    },
    {
     "name": "stdout",
     "output_type": "stream",
     "text": [
      "+-------+------------------+\n",
      "|summary|            useful|\n",
      "+-------+------------------+\n",
      "|  count|           6990280|\n",
      "|   mean|1.1846089140921394|\n",
      "| stddev| 3.253766966933363|\n",
      "|    min|                -1|\n",
      "|    max|              1182|\n",
      "+-------+------------------+\n",
      "\n"
     ]
    },
    {
     "name": "stderr",
     "output_type": "stream",
     "text": [
      "                                                                                \r"
     ]
    },
    {
     "name": "stdout",
     "output_type": "stream",
     "text": [
      "+--------------------+----+-------------------+-----+--------------------+-----+--------------------+------+--------------------+\n",
      "|         business_id|cool|               date|funny|           review_id|stars|                text|useful|             user_id|\n",
      "+--------------------+----+-------------------+-----+--------------------+-----+--------------------+------+--------------------+\n",
      "|SJQePJL1bkeEk-6gp...|   0|2018-12-23 01:35:31|    0|plhadSWfXZFKRAhEz...|  1.0|This complaint ha...|    -1|0Q4ouqkcwrVE_Im6a...|\n",
      "|SJQePJL1bkeEk-6gp...|   0|2016-01-17 00:21:53|    0|gk_9N_c-7oEgzrXVD...|  1.0|Only bounce play ...|    -1|lEOLrNxD4wknYyERp...|\n",
      "|SJQePJL1bkeEk-6gp...|   0|2017-01-18 18:11:15|    0|iYS4pfUCUPT_TEmW6...|  3.0|Having been to bo...|    -1|1p8Pu1pvAsuNtuZDt...|\n",
      "|E3Qk7xTznkT0SABL2...|  -1|2017-10-05 02:47:33|   -1|JcWLycg0Hdsz6LBNA...|  5.0|The food was so m...|    -1|04j3r2Psfw_LxX1UX...|\n",
      "+--------------------+----+-------------------+-----+--------------------+-----+--------------------+------+--------------------+\n",
      "\n"
     ]
    },
    {
     "name": "stderr",
     "output_type": "stream",
     "text": [
      "[Stage 411:====================================================>  (38 + 2) / 40]\r"
     ]
    },
    {
     "name": "stdout",
     "output_type": "stream",
     "text": [
      "Number of -1 rows for the column useful are: 4\n"
     ]
    },
    {
     "name": "stderr",
     "output_type": "stream",
     "text": [
      "                                                                                \r"
     ]
    }
   ],
   "source": [
    "# Numerical columns, since they have similar structure and distribution,\n",
    "# the analysis will be the same\n",
    "for column in [\"cool\", \"funny\", \"useful\"]:\n",
    "  print(\"\\n\\nAnalysis for column: \" + column)\n",
    "  df_review.select(column).describe().show()\n",
    "  df_review.filter(col(column) < 0).show()\n",
    "  print(\"Number of -1 rows for the column \" + column + \" are: \" + str(df_review.filter(col(column) < 0).count()))"
   ]
  },
  {
   "cell_type": "code",
   "execution_count": 20,
   "metadata": {
    "colab": {
     "base_uri": "https://localhost:8080/"
    },
    "id": "FZbYN5D83i8h",
    "outputId": "9800574c-b426-4624-b1b3-715ba213aee5"
   },
   "outputs": [
    {
     "name": "stderr",
     "output_type": "stream",
     "text": [
      "[Stage 413:=====================================================> (39 + 1) / 40]\r"
     ]
    },
    {
     "name": "stdout",
     "output_type": "stream",
     "text": [
      "+-----+-------+\n",
      "|stars|  count|\n",
      "+-----+-------+\n",
      "|  1.0|1069561|\n",
      "|  2.0| 544240|\n",
      "|  3.0| 691934|\n",
      "|  4.0|1452918|\n",
      "|  5.0|3231627|\n",
      "+-----+-------+\n",
      "\n"
     ]
    },
    {
     "name": "stderr",
     "output_type": "stream",
     "text": [
      "                                                                                \r"
     ]
    }
   ],
   "source": [
    "df_review.groupBy(\"stars\").count().sort(\"stars\").show()"
   ]
  },
  {
   "cell_type": "code",
   "execution_count": 21,
   "metadata": {
    "colab": {
     "base_uri": "https://localhost:8080/"
    },
    "id": "qQtVsD-z_Ccn",
    "outputId": "ea6f22db-8381-4fa5-e464-cb1c5603d97b"
   },
   "outputs": [
    {
     "name": "stdout",
     "output_type": "stream",
     "text": [
      "\n",
      "\n",
      "Analysis for column: business_id\n"
     ]
    },
    {
     "name": "stderr",
     "output_type": "stream",
     "text": [
      "                                                                                \r"
     ]
    },
    {
     "name": "stdout",
     "output_type": "stream",
     "text": [
      "Number of NULL business_id rows: 0\n"
     ]
    },
    {
     "name": "stderr",
     "output_type": "stream",
     "text": [
      "                                                                                \r"
     ]
    },
    {
     "name": "stdout",
     "output_type": "stream",
     "text": [
      "Number of EMPTY ('') business_id rows: 0\n",
      "\n",
      "\n",
      "Analysis for column: user_id\n"
     ]
    },
    {
     "name": "stderr",
     "output_type": "stream",
     "text": [
      "                                                                                \r"
     ]
    },
    {
     "name": "stdout",
     "output_type": "stream",
     "text": [
      "Number of NULL user_id rows: 0\n"
     ]
    },
    {
     "name": "stderr",
     "output_type": "stream",
     "text": [
      "                                                                                \r"
     ]
    },
    {
     "name": "stdout",
     "output_type": "stream",
     "text": [
      "Number of EMPTY ('') user_id rows: 0\n",
      "\n",
      "\n",
      "Analysis for column: text\n"
     ]
    },
    {
     "name": "stderr",
     "output_type": "stream",
     "text": [
      "                                                                                \r"
     ]
    },
    {
     "name": "stdout",
     "output_type": "stream",
     "text": [
      "Number of NULL text rows: 0\n"
     ]
    },
    {
     "name": "stderr",
     "output_type": "stream",
     "text": [
      "[Stage 425:=====================================================> (39 + 1) / 40]\r"
     ]
    },
    {
     "name": "stdout",
     "output_type": "stream",
     "text": [
      "Number of EMPTY ('') text rows: 0\n"
     ]
    },
    {
     "name": "stderr",
     "output_type": "stream",
     "text": [
      "                                                                                \r"
     ]
    }
   ],
   "source": [
    "# Look for null values in foreign keys and empty reviews\n",
    "for column in [\"business_id\", \"user_id\", \"text\"]:\n",
    "  print(\"\\n\\nAnalysis for column: \" + column)\n",
    "  print(\"Number of NULL \" + column + \" rows: \" + str(df_review.filter(col(column).isNull()).count()))\n",
    "  print(\"Number of EMPTY ('') \" + column + \" rows: \" + str(df_review.filter(col(column) == \"\").count()))"
   ]
  },
  {
   "cell_type": "markdown",
   "metadata": {
    "id": "TurcQam8COd_"
   },
   "source": [
    "## User Dataset"
   ]
  },
  {
   "cell_type": "code",
   "execution_count": null,
   "metadata": {
    "colab": {
     "base_uri": "https://localhost:8080/"
    },
    "id": "QRECWsJsCQcy",
    "outputId": "2fed33a6-83d5-4c70-b0ac-afbab8283f52"
   },
   "outputs": [],
   "source": [
    "df_user.printSchema()"
   ]
  },
  {
   "cell_type": "code",
   "execution_count": null,
   "metadata": {
    "colab": {
     "base_uri": "https://localhost:8080/"
    },
    "id": "aqUSbzAytQrJ",
    "outputId": "55fdfaf1-04fe-4aeb-b998-e9170b220088"
   },
   "outputs": [],
   "source": [
    "df_user.show(5)"
   ]
  },
  {
   "cell_type": "code",
   "execution_count": null,
   "metadata": {
    "colab": {
     "base_uri": "https://localhost:8080/"
    },
    "id": "oZvIgcYOtTLB",
    "outputId": "aac98281-d2a6-4cf4-defa-749848ae789f"
   },
   "outputs": [],
   "source": [
    "df_user.describe().show()"
   ]
  },
  {
   "cell_type": "code",
   "execution_count": null,
   "metadata": {
    "colab": {
     "base_uri": "https://localhost:8080/"
    },
    "id": "8VfmAFAktdl8",
    "outputId": "65fcb193-9bdd-496a-a1bb-2957fb7f4af0"
   },
   "outputs": [],
   "source": [
    "df_user.count()"
   ]
  },
  {
   "cell_type": "markdown",
   "metadata": {
    "id": "IGbGm9xnx1X-"
   },
   "source": [
    "# Feature Engineering\n",
    "Modify the datasets based on the analysis made"
   ]
  },
  {
   "cell_type": "code",
   "execution_count": null,
   "metadata": {
    "id": "qLGkX5lRBlRx"
   },
   "outputs": [],
   "source": [
    "# Join all 3 datasets"
   ]
  },
  {
   "cell_type": "markdown",
   "metadata": {
    "id": "nmwavUwpyRFs"
   },
   "source": [
    "## Business Dataset"
   ]
  },
  {
   "cell_type": "code",
   "execution_count": null,
   "metadata": {
    "id": "8nl4C1V2x-CD"
   },
   "outputs": [],
   "source": [
    "# Discard useless attributes (that has more null values than actual usuful ones)"
   ]
  },
  {
   "cell_type": "code",
   "execution_count": null,
   "metadata": {
    "id": "35wkajVVyrry"
   },
   "outputs": [],
   "source": [
    "# Uniform attributes (transforming them in Boolean and setting NULL = None = False)"
   ]
  },
  {
   "cell_type": "code",
   "execution_count": 23,
   "metadata": {
    "colab": {
     "base_uri": "https://localhost:8080/"
    },
    "id": "hxPrkxQpyM3W",
    "outputId": "271b5859-2a22-49cf-8c7d-f9f6d602c8dc"
   },
   "outputs": [
    {
     "name": "stdout",
     "output_type": "stream",
     "text": [
      "+----------------------------------------------------------------------------------------------------------+------------------------------------------------------------------------------------------------------------+\n",
      "|categories                                                                                                |categories_array                                                                                            |\n",
      "+----------------------------------------------------------------------------------------------------------+------------------------------------------------------------------------------------------------------------+\n",
      "|Doctors, Traditional Chinese Medicine, Naturopathic/Holistic, Acupuncture, Health & Medical, Nutritionists|[Doctors, Traditional Chinese Medicine, Naturopathic/Holistic, Acupuncture, Health & Medical, Nutritionists]|\n",
      "|Shipping Centers, Local Services, Notaries, Mailbox Centers, Printing Services                            |[Shipping Centers, Local Services, Notaries, Mailbox Centers, Printing Services]                            |\n",
      "|Department Stores, Shopping, Fashion, Home & Garden, Electronics, Furniture Stores                        |[Department Stores, Shopping, Fashion, Home & Garden, Electronics, Furniture Stores]                        |\n",
      "|Restaurants, Food, Bubble Tea, Coffee & Tea, Bakeries                                                     |[Restaurants, Food, Bubble Tea, Coffee & Tea, Bakeries]                                                     |\n",
      "|Brewpubs, Breweries, Food                                                                                 |[Brewpubs, Breweries, Food]                                                                                 |\n",
      "|Burgers, Fast Food, Sandwiches, Food, Ice Cream & Frozen Yogurt, Restaurants                              |[Burgers, Fast Food, Sandwiches, Food, Ice Cream & Frozen Yogurt, Restaurants]                              |\n",
      "|Sporting Goods, Fashion, Shoe Stores, Shopping, Sports Wear, Accessories                                  |[Sporting Goods, Fashion, Shoe Stores, Shopping, Sports Wear, Accessories]                                  |\n",
      "|Synagogues, Religious Organizations                                                                       |[Synagogues, Religious Organizations]                                                                       |\n",
      "|Pubs, Restaurants, Italian, Bars, American (Traditional), Nightlife, Greek                                |[Pubs, Restaurants, Italian, Bars, American (Traditional), Nightlife, Greek]                                |\n",
      "|Ice Cream & Frozen Yogurt, Fast Food, Burgers, Restaurants, Food                                          |[Ice Cream & Frozen Yogurt, Fast Food, Burgers, Restaurants, Food]                                          |\n",
      "|Department Stores, Shopping, Fashion                                                                      |[Department Stores, Shopping, Fashion]                                                                      |\n",
      "|Vietnamese, Food, Restaurants, Food Trucks                                                                |[Vietnamese, Food, Restaurants, Food Trucks]                                                                |\n",
      "|American (Traditional), Restaurants, Diners, Breakfast & Brunch                                           |[American (Traditional), Restaurants, Diners, Breakfast & Brunch]                                           |\n",
      "|General Dentistry, Dentists, Health & Medical, Cosmetic Dentists                                          |[General Dentistry, Dentists, Health & Medical, Cosmetic Dentists]                                          |\n",
      "|Food, Delis, Italian, Bakeries, Restaurants                                                               |[Food, Delis, Italian, Bakeries, Restaurants]                                                               |\n",
      "|Sushi Bars, Restaurants, Japanese                                                                         |[Sushi Bars, Restaurants, Japanese]                                                                         |\n",
      "|Automotive, Auto Parts & Supplies, Auto Customization                                                     |[Automotive, Auto Parts & Supplies, Auto Customization]                                                     |\n",
      "|Vape Shops, Tobacco Shops, Personal Shopping, Vitamins & Supplements, Shopping                            |[Vape Shops, Tobacco Shops, Personal Shopping, Vitamins & Supplements, Shopping]                            |\n",
      "|Automotive, Car Rental, Hotels & Travel, Truck Rental                                                     |[Automotive, Car Rental, Hotels & Travel, Truck Rental]                                                     |\n",
      "|Korean, Restaurants                                                                                       |[Korean, Restaurants]                                                                                       |\n",
      "+----------------------------------------------------------------------------------------------------------+------------------------------------------------------------------------------------------------------------+\n",
      "only showing top 20 rows\n",
      "\n"
     ]
    }
   ],
   "source": [
    "# Transform \"categories\" column to split elements\n",
    "df_business = df_business.withColumn(\"categories_array\", split(\"categories\", \", \"))\n",
    "df_business.select(\"categories\", \"categories_array\").show(truncate=False)"
   ]
  },
  {
   "cell_type": "code",
   "execution_count": 24,
   "metadata": {
    "id": "s-PpcNMcZ95b"
   },
   "outputs": [],
   "source": [
    "categories_distribution = df_business.select(\"business_id\", explode(\"categories_array\").alias(\"category\")).groupBy(\"category\").agg(count(\"business_id\").alias(\"count\"))"
   ]
  },
  {
   "cell_type": "code",
   "execution_count": 25,
   "metadata": {
    "colab": {
     "base_uri": "https://localhost:8080/"
    },
    "id": "oW1OrWv7Z-2D",
    "outputId": "45728b64-3ca3-4fd8-e0c7-91c849b9c58c"
   },
   "outputs": [
    {
     "name": "stderr",
     "output_type": "stream",
     "text": [
      "                                                                                \r"
     ]
    },
    {
     "name": "stdout",
     "output_type": "stream",
     "text": [
      "+-------------------------+-----+\n",
      "|category                 |count|\n",
      "+-------------------------+-----+\n",
      "|Restaurants              |52268|\n",
      "|Food                     |27781|\n",
      "|Shopping                 |24395|\n",
      "|Home Services            |14356|\n",
      "|Beauty & Spas            |14292|\n",
      "|Nightlife                |12281|\n",
      "|Health & Medical         |11890|\n",
      "|Local Services           |11198|\n",
      "|Bars                     |11065|\n",
      "|Automotive               |10773|\n",
      "|Event Planning & Services|9895 |\n",
      "|Sandwiches               |8366 |\n",
      "|American (Traditional)   |8139 |\n",
      "|Active Life              |7687 |\n",
      "|Pizza                    |7093 |\n",
      "|Coffee & Tea             |6703 |\n",
      "|Fast Food                |6472 |\n",
      "|Breakfast & Brunch       |6239 |\n",
      "|American (New)           |6097 |\n",
      "|Hotels & Travel          |5857 |\n",
      "|Home & Garden            |5799 |\n",
      "|Fashion                  |5739 |\n",
      "|Burgers                  |5636 |\n",
      "|Arts & Entertainment     |5434 |\n",
      "|Auto Repair              |5433 |\n",
      "|Hair Salons              |5046 |\n",
      "|Nail Salons              |4621 |\n",
      "|Mexican                  |4600 |\n",
      "|Italian                  |4573 |\n",
      "|Specialty Food           |4233 |\n",
      "|Doctors                  |3763 |\n",
      "|Pets                     |3758 |\n",
      "|Real Estate              |3577 |\n",
      "|Seafood                  |3539 |\n",
      "|Fitness & Instruction    |3293 |\n",
      "|Professional Services    |3270 |\n",
      "|Hair Removal             |3239 |\n",
      "|Desserts                 |3186 |\n",
      "|Chinese                  |3169 |\n",
      "|Bakeries                 |3150 |\n",
      "|Grocery                  |3139 |\n",
      "|Salad                    |3064 |\n",
      "|Hotels                   |2977 |\n",
      "|Chicken Wings            |2966 |\n",
      "|Cafes                    |2756 |\n",
      "|Ice Cream & Frozen Yogurt|2657 |\n",
      "|Caterers                 |2645 |\n",
      "|Pet Services             |2626 |\n",
      "|Dentists                 |2528 |\n",
      "|Skin Care                |2498 |\n",
      "+-------------------------+-----+\n",
      "only showing top 50 rows\n",
      "\n"
     ]
    },
    {
     "name": "stderr",
     "output_type": "stream",
     "text": [
      "                                                                                \r"
     ]
    },
    {
     "name": "stdout",
     "output_type": "stream",
     "text": [
      "Number of unique categories: 1311\n"
     ]
    },
    {
     "name": "stderr",
     "output_type": "stream",
     "text": [
      "[Stage 433:>                                                        (0 + 4) / 4]\r"
     ]
    },
    {
     "name": "stdout",
     "output_type": "stream",
     "text": [
      "Average occurences of a category: 509.9862700228833\n"
     ]
    },
    {
     "name": "stderr",
     "output_type": "stream",
     "text": [
      "                                                                                \r"
     ]
    }
   ],
   "source": [
    "categories_distribution.sort(\"count\", ascending=False).show(50, truncate=False)\n",
    "print(f\"Number of unique categories: {categories_distribution.count()}\")\n",
    "mean = categories_distribution.agg(mean(\"count\")).collect()[0][0]\n",
    "print(f\"Average occurences of a category: {mean}\")"
   ]
  },
  {
   "cell_type": "markdown",
   "metadata": {
    "id": "oIU4varCyaVQ"
   },
   "source": [
    "## Review Dataset"
   ]
  },
  {
   "cell_type": "code",
   "execution_count": 26,
   "metadata": {
    "id": "NIfU3ES_yh5c"
   },
   "outputs": [],
   "source": [
    "# Convert \"date\" column to date format\n",
    "df_review = df_review.withColumn(\"date\", to_timestamp(df_review.date, \"yyyy-MM-dd HH:mm:ss\"))"
   ]
  },
  {
   "cell_type": "markdown",
   "metadata": {
    "id": "bALbjcNcyc7Q"
   },
   "source": [
    "## User Dataset"
   ]
  },
  {
   "cell_type": "code",
   "execution_count": null,
   "metadata": {
    "id": "fXAiTiOMyhG_"
   },
   "outputs": [],
   "source": []
  },
  {
   "cell_type": "markdown",
   "metadata": {
    "id": "h_KfxEe4rxoq"
   },
   "source": [
    "# Sentiment Analysis"
   ]
  },
  {
   "cell_type": "markdown",
   "metadata": {
    "id": "HlZMVE8ZmGEy"
   },
   "source": [
    "## Using trained model with stars"
   ]
  },
  {
   "cell_type": "code",
   "execution_count": 27,
   "metadata": {
    "id": "QuYWsWw1nElD"
   },
   "outputs": [],
   "source": [
    "from pyspark.ml.feature import HashingTF, IDF, RegexTokenizer, StopWordsRemover, StringIndexer, IndexToString\n",
    "from pyspark.ml.classification import LogisticRegression, DecisionTreeClassifier, RandomForestClassifier\n",
    "from pyspark.ml import Pipeline, PipelineModel\n",
    "from pyspark.ml.evaluation import MulticlassClassificationEvaluator"
   ]
  },
  {
   "cell_type": "code",
   "execution_count": 28,
   "metadata": {
    "id": "aoX9c92rmFfe"
   },
   "outputs": [],
   "source": [
    "def stars_transformer(stars):\n",
    "  if stars >= 4:\n",
    "    return \"positive\"\n",
    "  if stars == 3:\n",
    "    return \"neutral\"\n",
    "  else:\n",
    "    return \"negative\"\n",
    "\n",
    "stars_transf_udf = udf(lambda x: stars_transformer(x), StringType())\n",
    "\n",
    "# Pass from stars to sentiment\n",
    "df_review_sa = df_review.withColumn(\"sentiment\", stars_transf_udf(col(\"stars\")))"
   ]
  },
  {
   "cell_type": "code",
   "execution_count": 29,
   "metadata": {
    "colab": {
     "base_uri": "https://localhost:8080/"
    },
    "id": "OOfE2QEJn9cL",
    "outputId": "392166e8-ce92-4e7a-e397-0f9b95a94296"
   },
   "outputs": [
    {
     "name": "stderr",
     "output_type": "stream",
     "text": [
      "[Stage 436:=====================================================> (39 + 1) / 40]\r"
     ]
    },
    {
     "name": "stdout",
     "output_type": "stream",
     "text": [
      "+---------+-------+\n",
      "|sentiment|  count|\n",
      "+---------+-------+\n",
      "| positive|4684545|\n",
      "| negative|1613801|\n",
      "|  neutral| 691934|\n",
      "+---------+-------+\n",
      "\n"
     ]
    },
    {
     "name": "stderr",
     "output_type": "stream",
     "text": [
      "                                                                                \r"
     ]
    }
   ],
   "source": [
    "df_review_sa.groupBy(\"sentiment\").count().orderBy(col(\"count\").desc()).show()"
   ]
  },
  {
   "cell_type": "code",
   "execution_count": 30,
   "metadata": {
    "id": "PDxIMr66y_tI"
   },
   "outputs": [
    {
     "name": "stderr",
     "output_type": "stream",
     "text": [
      "                                                                                \r"
     ]
    }
   ],
   "source": [
    "# Calculate class weights to balance the dataset\n",
    "class_weights = df_review_sa.groupBy(\"sentiment\").count()\n",
    "total_count = df_review_sa.count()\n",
    "class_weights = class_weights.withColumn(\"classWeights\", total_count / (class_weights[\"count\"] * class_weights.count()))"
   ]
  },
  {
   "cell_type": "code",
   "execution_count": 31,
   "metadata": {
    "id": "stceYLtNm2Cp"
   },
   "outputs": [
    {
     "name": "stderr",
     "output_type": "stream",
     "text": [
      "                                                                                \r"
     ]
    }
   ],
   "source": [
    "# RegexTokenizer for more advanced tokenization\n",
    "tokenizer = RegexTokenizer(inputCol=\"text\", outputCol=\"words\", pattern=\"\\\\W\")\n",
    "\n",
    "# StopWordsRemover to remove common words\n",
    "add_stopwords = [\"http\",\"https\",\"amp\",\"rt\",\"t\",\"c\",\"the\"]\n",
    "stop_words_remover = StopWordsRemover(inputCol=\"words\", outputCol=\"filtered_words\").setStopWords(add_stopwords)\n",
    "\n",
    "# Apply TF-IDF\n",
    "hashingTF = HashingTF(inputCol=\"filtered_words\", outputCol=\"rawFeatures\", numFeatures=10000)\n",
    "idf = IDF(inputCol=\"rawFeatures\", outputCol=\"features\")\n",
    "\n",
    "# StringIndexer for converting text labels to numerical values\n",
    "label_indexer = StringIndexer(inputCol=\"sentiment\", outputCol=\"label\", handleInvalid=\"skip\")\n",
    "\n",
    "# # Create a Logistic Regression model\n",
    "# lr = LogisticRegression(labelCol=\"label\", featuresCol=\"features\", maxIter=10, regParam=0.3, elasticNetParam=0.8, family=\"multinomial\")\n",
    "\n",
    "# # Create a Decision Tree classifier\n",
    "# dt = DecisionTreeClassifier(labelCol=\"label\", featuresCol=\"features\", maxDepth=5)\n",
    "\n",
    "# Create a Gradient Boost classifier\n",
    "rf = RandomForestClassifier(labelCol=\"label\", featuresCol=\"features\", numTrees=100, maxDepth=5, seed=42, weightCol=\"classWeights\")\n",
    "\n",
    "# Train the StringIndexer on the entire dataset to obtain the labels\n",
    "label_model = label_indexer.fit(df_review_sa)\n",
    "labels = label_model.labels\n",
    "\n",
    "# IndexToString to convert predicted labels back to text\n",
    "label_converter = IndexToString(inputCol=\"prediction\", outputCol=\"prediction_text\", labels=labels)"
   ]
  },
  {
   "cell_type": "code",
   "execution_count": 32,
   "metadata": {
    "id": "lOv_PArZnXf2"
   },
   "outputs": [],
   "source": [
    "# Create a pipeline with all stages\n",
    "pipeline = Pipeline(stages=[tokenizer,\n",
    "                            stop_words_remover,\n",
    "                            hashingTF,\n",
    "                            idf,\n",
    "                            label_indexer,\n",
    "                            rf,\n",
    "                            label_converter])"
   ]
  },
  {
   "cell_type": "code",
   "execution_count": 33,
   "metadata": {
    "id": "bibBv8G9r2Na"
   },
   "outputs": [],
   "source": [
    "# Split the dataset\n",
    "(trainingData, testData) = df_review_sa.randomSplit([0.8, 0.2], seed=42)"
   ]
  },
  {
   "cell_type": "code",
   "execution_count": 34,
   "metadata": {
    "id": "25Q5XMDXuqfG"
   },
   "outputs": [],
   "source": [
    "# Adding weights to the training dataset to train the model\n",
    "trainingData_weighted = trainingData.join(class_weights, \"sentiment\")"
   ]
  },
  {
   "cell_type": "code",
   "execution_count": 35,
   "metadata": {
    "id": "N4dvdRijorLa"
   },
   "outputs": [
    {
     "name": "stderr",
     "output_type": "stream",
     "text": [
      "24/03/20 08:52:40 WARN HeartbeatReceiver: Removing executor 1 with no recent heartbeats: 139422 ms exceeds timeout 120000 ms\n",
      "24/03/20 08:52:41 ERROR TaskSchedulerImpl: Lost executor 1 on 172.25.0.4: Executor heartbeat timed out after 139422 ms\n",
      "24/03/20 08:52:41 WARN TaskSetManager: Lost task 70.0 in stage 461.0 (TID 10083, 172.25.0.4, executor 1): ExecutorLostFailure (executor 1 exited caused by one of the running tasks) Reason: Executor heartbeat timed out after 139422 ms\n",
      "24/03/20 08:52:52 WARN TaskSetManager: Lost task 70.1 in stage 461.0 (TID 10282, 172.25.0.4, executor 2): FetchFailed(null, shuffleId=76, mapIndex=-1, mapId=-1, reduceId=70, message=\n",
      "org.apache.spark.shuffle.MetadataFetchFailedException: Missing an output location for shuffle 76\n",
      "\tat org.apache.spark.MapOutputTracker$.$anonfun$convertMapStatuses$2(MapOutputTracker.scala:1010)\n",
      "\tat org.apache.spark.MapOutputTracker$.$anonfun$convertMapStatuses$2$adapted(MapOutputTracker.scala:1006)\n",
      "\tat scala.collection.Iterator.foreach(Iterator.scala:941)\n",
      "\tat scala.collection.Iterator.foreach$(Iterator.scala:941)\n",
      "\tat scala.collection.AbstractIterator.foreach(Iterator.scala:1429)\n",
      "\tat org.apache.spark.MapOutputTracker$.convertMapStatuses(MapOutputTracker.scala:1006)\n",
      "\tat org.apache.spark.MapOutputTrackerWorker.getMapSizesByExecutorId(MapOutputTracker.scala:811)\n",
      "\tat org.apache.spark.shuffle.sort.SortShuffleManager.getReader(SortShuffleManager.scala:128)\n",
      "\tat org.apache.spark.sql.execution.ShuffledRowRDD.compute(ShuffledRowRDD.scala:185)\n",
      "\tat org.apache.spark.rdd.RDD.computeOrReadCheckpoint(RDD.scala:349)\n",
      "\tat org.apache.spark.rdd.RDD.iterator(RDD.scala:313)\n",
      "\tat org.apache.spark.rdd.MapPartitionsRDD.compute(MapPartitionsRDD.scala:52)\n",
      "\tat org.apache.spark.rdd.RDD.computeOrReadCheckpoint(RDD.scala:349)\n",
      "\tat org.apache.spark.rdd.RDD.iterator(RDD.scala:313)\n",
      "\tat org.apache.spark.rdd.ZippedPartitionsRDD2.compute(ZippedPartitionsRDD.scala:89)\n",
      "\tat org.apache.spark.rdd.RDD.computeOrReadCheckpoint(RDD.scala:349)\n",
      "\tat org.apache.spark.rdd.RDD.iterator(RDD.scala:313)\n",
      "\tat org.apache.spark.rdd.MapPartitionsRDD.compute(MapPartitionsRDD.scala:52)\n",
      "\tat org.apache.spark.rdd.RDD.computeOrReadCheckpoint(RDD.scala:349)\n",
      "\tat org.apache.spark.rdd.RDD.iterator(RDD.scala:313)\n",
      "\tat org.apache.spark.rdd.MapPartitionsRDD.compute(MapPartitionsRDD.scala:52)\n",
      "\tat org.apache.spark.rdd.RDD.computeOrReadCheckpoint(RDD.scala:349)\n",
      "\tat org.apache.spark.rdd.RDD.iterator(RDD.scala:313)\n",
      "\tat org.apache.spark.sql.execution.SQLExecutionRDD.$anonfun$compute$1(SQLExecutionRDD.scala:52)\n",
      "\tat org.apache.spark.sql.internal.SQLConf$.withExistingConf(SQLConf.scala:99)\n",
      "\tat org.apache.spark.sql.execution.SQLExecutionRDD.compute(SQLExecutionRDD.scala:52)\n",
      "\tat org.apache.spark.rdd.RDD.computeOrReadCheckpoint(RDD.scala:349)\n",
      "\tat org.apache.spark.rdd.RDD.iterator(RDD.scala:313)\n",
      "\tat org.apache.spark.rdd.MapPartitionsRDD.compute(MapPartitionsRDD.scala:52)\n",
      "\tat org.apache.spark.rdd.RDD.computeOrReadCheckpoint(RDD.scala:349)\n",
      "\tat org.apache.spark.rdd.RDD.iterator(RDD.scala:313)\n",
      "\tat org.apache.spark.rdd.MapPartitionsRDD.compute(MapPartitionsRDD.scala:52)\n",
      "\tat org.apache.spark.rdd.RDD.computeOrReadCheckpoint(RDD.scala:349)\n",
      "\tat org.apache.spark.rdd.RDD.iterator(RDD.scala:313)\n",
      "\tat org.apache.spark.rdd.MapPartitionsRDD.compute(MapPartitionsRDD.scala:52)\n",
      "\tat org.apache.spark.rdd.RDD.computeOrReadCheckpoint(RDD.scala:349)\n",
      "\tat org.apache.spark.rdd.RDD.iterator(RDD.scala:313)\n",
      "\tat org.apache.spark.rdd.MapPartitionsRDD.compute(MapPartitionsRDD.scala:52)\n",
      "\tat org.apache.spark.rdd.RDD.computeOrReadCheckpoint(RDD.scala:349)\n",
      "\tat org.apache.spark.rdd.RDD.iterator(RDD.scala:313)\n",
      "\tat org.apache.spark.scheduler.ResultTask.runTask(ResultTask.scala:90)\n",
      "\tat org.apache.spark.scheduler.Task.run(Task.scala:127)\n",
      "\tat org.apache.spark.executor.Executor$TaskRunner.$anonfun$run$3(Executor.scala:444)\n",
      "\tat org.apache.spark.util.Utils$.tryWithSafeFinally(Utils.scala:1377)\n",
      "\tat org.apache.spark.executor.Executor$TaskRunner.run(Executor.scala:447)\n",
      "\tat java.util.concurrent.ThreadPoolExecutor.runWorker(ThreadPoolExecutor.java:1149)\n",
      "\tat java.util.concurrent.ThreadPoolExecutor$Worker.run(ThreadPoolExecutor.java:624)\n",
      "\tat java.lang.Thread.run(Thread.java:750)\n",
      "\n",
      ")\n",
      "24/03/20 09:03:56 WARN TaskSetManager: Lost task 0.0 in stage 461.1 (TID 10322, 172.25.0.4, executor 2): TaskKilled (Stage finished)\n",
      "[Stage 468:====================================================>(198 + 2) / 200]\r"
     ]
    },
    {
     "ename": "KeyboardInterrupt",
     "evalue": "",
     "output_type": "error",
     "traceback": [
      "\u001b[0;31m---------------------------------------------------------------------------\u001b[0m",
      "\u001b[0;31mKeyboardInterrupt\u001b[0m                         Traceback (most recent call last)",
      "Cell \u001b[0;32mIn[35], line 2\u001b[0m\n\u001b[1;32m      1\u001b[0m \u001b[38;5;66;03m# Train the pipeline\u001b[39;00m\n\u001b[0;32m----> 2\u001b[0m model \u001b[38;5;241m=\u001b[39m \u001b[43mpipeline\u001b[49m\u001b[38;5;241;43m.\u001b[39;49m\u001b[43mfit\u001b[49m\u001b[43m(\u001b[49m\u001b[43mtrainingData_weighted\u001b[49m\u001b[43m)\u001b[49m\n",
      "File \u001b[0;32m/usr/local/lib/python3.9/dist-packages/pyspark/ml/base.py:129\u001b[0m, in \u001b[0;36mEstimator.fit\u001b[0;34m(self, dataset, params)\u001b[0m\n\u001b[1;32m    127\u001b[0m         \u001b[38;5;28;01mreturn\u001b[39;00m \u001b[38;5;28mself\u001b[39m\u001b[38;5;241m.\u001b[39mcopy(params)\u001b[38;5;241m.\u001b[39m_fit(dataset)\n\u001b[1;32m    128\u001b[0m     \u001b[38;5;28;01melse\u001b[39;00m:\n\u001b[0;32m--> 129\u001b[0m         \u001b[38;5;28;01mreturn\u001b[39;00m \u001b[38;5;28;43mself\u001b[39;49m\u001b[38;5;241;43m.\u001b[39;49m\u001b[43m_fit\u001b[49m\u001b[43m(\u001b[49m\u001b[43mdataset\u001b[49m\u001b[43m)\u001b[49m\n\u001b[1;32m    130\u001b[0m \u001b[38;5;28;01melse\u001b[39;00m:\n\u001b[1;32m    131\u001b[0m     \u001b[38;5;28;01mraise\u001b[39;00m \u001b[38;5;167;01mValueError\u001b[39;00m(\u001b[38;5;124m\"\u001b[39m\u001b[38;5;124mParams must be either a param map or a list/tuple of param maps, \u001b[39m\u001b[38;5;124m\"\u001b[39m\n\u001b[1;32m    132\u001b[0m                      \u001b[38;5;124m\"\u001b[39m\u001b[38;5;124mbut got \u001b[39m\u001b[38;5;132;01m%s\u001b[39;00m\u001b[38;5;124m.\u001b[39m\u001b[38;5;124m\"\u001b[39m \u001b[38;5;241m%\u001b[39m \u001b[38;5;28mtype\u001b[39m(params))\n",
      "File \u001b[0;32m/usr/local/lib/python3.9/dist-packages/pyspark/ml/pipeline.py:109\u001b[0m, in \u001b[0;36mPipeline._fit\u001b[0;34m(self, dataset)\u001b[0m\n\u001b[1;32m    107\u001b[0m     dataset \u001b[38;5;241m=\u001b[39m stage\u001b[38;5;241m.\u001b[39mtransform(dataset)\n\u001b[1;32m    108\u001b[0m \u001b[38;5;28;01melse\u001b[39;00m:  \u001b[38;5;66;03m# must be an Estimator\u001b[39;00m\n\u001b[0;32m--> 109\u001b[0m     model \u001b[38;5;241m=\u001b[39m \u001b[43mstage\u001b[49m\u001b[38;5;241;43m.\u001b[39;49m\u001b[43mfit\u001b[49m\u001b[43m(\u001b[49m\u001b[43mdataset\u001b[49m\u001b[43m)\u001b[49m\n\u001b[1;32m    110\u001b[0m     transformers\u001b[38;5;241m.\u001b[39mappend(model)\n\u001b[1;32m    111\u001b[0m     \u001b[38;5;28;01mif\u001b[39;00m i \u001b[38;5;241m<\u001b[39m indexOfLastEstimator:\n",
      "File \u001b[0;32m/usr/local/lib/python3.9/dist-packages/pyspark/ml/base.py:129\u001b[0m, in \u001b[0;36mEstimator.fit\u001b[0;34m(self, dataset, params)\u001b[0m\n\u001b[1;32m    127\u001b[0m         \u001b[38;5;28;01mreturn\u001b[39;00m \u001b[38;5;28mself\u001b[39m\u001b[38;5;241m.\u001b[39mcopy(params)\u001b[38;5;241m.\u001b[39m_fit(dataset)\n\u001b[1;32m    128\u001b[0m     \u001b[38;5;28;01melse\u001b[39;00m:\n\u001b[0;32m--> 129\u001b[0m         \u001b[38;5;28;01mreturn\u001b[39;00m \u001b[38;5;28;43mself\u001b[39;49m\u001b[38;5;241;43m.\u001b[39;49m\u001b[43m_fit\u001b[49m\u001b[43m(\u001b[49m\u001b[43mdataset\u001b[49m\u001b[43m)\u001b[49m\n\u001b[1;32m    130\u001b[0m \u001b[38;5;28;01melse\u001b[39;00m:\n\u001b[1;32m    131\u001b[0m     \u001b[38;5;28;01mraise\u001b[39;00m \u001b[38;5;167;01mValueError\u001b[39;00m(\u001b[38;5;124m\"\u001b[39m\u001b[38;5;124mParams must be either a param map or a list/tuple of param maps, \u001b[39m\u001b[38;5;124m\"\u001b[39m\n\u001b[1;32m    132\u001b[0m                      \u001b[38;5;124m\"\u001b[39m\u001b[38;5;124mbut got \u001b[39m\u001b[38;5;132;01m%s\u001b[39;00m\u001b[38;5;124m.\u001b[39m\u001b[38;5;124m\"\u001b[39m \u001b[38;5;241m%\u001b[39m \u001b[38;5;28mtype\u001b[39m(params))\n",
      "File \u001b[0;32m/usr/local/lib/python3.9/dist-packages/pyspark/ml/wrapper.py:321\u001b[0m, in \u001b[0;36mJavaEstimator._fit\u001b[0;34m(self, dataset)\u001b[0m\n\u001b[1;32m    320\u001b[0m \u001b[38;5;28;01mdef\u001b[39;00m \u001b[38;5;21m_fit\u001b[39m(\u001b[38;5;28mself\u001b[39m, dataset):\n\u001b[0;32m--> 321\u001b[0m     java_model \u001b[38;5;241m=\u001b[39m \u001b[38;5;28;43mself\u001b[39;49m\u001b[38;5;241;43m.\u001b[39;49m\u001b[43m_fit_java\u001b[49m\u001b[43m(\u001b[49m\u001b[43mdataset\u001b[49m\u001b[43m)\u001b[49m\n\u001b[1;32m    322\u001b[0m     model \u001b[38;5;241m=\u001b[39m \u001b[38;5;28mself\u001b[39m\u001b[38;5;241m.\u001b[39m_create_model(java_model)\n\u001b[1;32m    323\u001b[0m     \u001b[38;5;28;01mreturn\u001b[39;00m \u001b[38;5;28mself\u001b[39m\u001b[38;5;241m.\u001b[39m_copyValues(model)\n",
      "File \u001b[0;32m/usr/local/lib/python3.9/dist-packages/pyspark/ml/wrapper.py:318\u001b[0m, in \u001b[0;36mJavaEstimator._fit_java\u001b[0;34m(self, dataset)\u001b[0m\n\u001b[1;32m    309\u001b[0m \u001b[38;5;250m\u001b[39m\u001b[38;5;124;03m\"\"\"\u001b[39;00m\n\u001b[1;32m    310\u001b[0m \u001b[38;5;124;03mFits a Java model to the input dataset.\u001b[39;00m\n\u001b[1;32m    311\u001b[0m \n\u001b[0;32m   (...)\u001b[0m\n\u001b[1;32m    315\u001b[0m \u001b[38;5;124;03m:return: fitted Java model\u001b[39;00m\n\u001b[1;32m    316\u001b[0m \u001b[38;5;124;03m\"\"\"\u001b[39;00m\n\u001b[1;32m    317\u001b[0m \u001b[38;5;28mself\u001b[39m\u001b[38;5;241m.\u001b[39m_transfer_params_to_java()\n\u001b[0;32m--> 318\u001b[0m \u001b[38;5;28;01mreturn\u001b[39;00m \u001b[38;5;28;43mself\u001b[39;49m\u001b[38;5;241;43m.\u001b[39;49m\u001b[43m_java_obj\u001b[49m\u001b[38;5;241;43m.\u001b[39;49m\u001b[43mfit\u001b[49m\u001b[43m(\u001b[49m\u001b[43mdataset\u001b[49m\u001b[38;5;241;43m.\u001b[39;49m\u001b[43m_jdf\u001b[49m\u001b[43m)\u001b[49m\n",
      "File \u001b[0;32m/usr/local/lib/python3.9/dist-packages/py4j/java_gateway.py:1303\u001b[0m, in \u001b[0;36mJavaMember.__call__\u001b[0;34m(self, *args)\u001b[0m\n\u001b[1;32m   1296\u001b[0m args_command, temp_args \u001b[38;5;241m=\u001b[39m \u001b[38;5;28mself\u001b[39m\u001b[38;5;241m.\u001b[39m_build_args(\u001b[38;5;241m*\u001b[39margs)\n\u001b[1;32m   1298\u001b[0m command \u001b[38;5;241m=\u001b[39m proto\u001b[38;5;241m.\u001b[39mCALL_COMMAND_NAME \u001b[38;5;241m+\u001b[39m\\\n\u001b[1;32m   1299\u001b[0m     \u001b[38;5;28mself\u001b[39m\u001b[38;5;241m.\u001b[39mcommand_header \u001b[38;5;241m+\u001b[39m\\\n\u001b[1;32m   1300\u001b[0m     args_command \u001b[38;5;241m+\u001b[39m\\\n\u001b[1;32m   1301\u001b[0m     proto\u001b[38;5;241m.\u001b[39mEND_COMMAND_PART\n\u001b[0;32m-> 1303\u001b[0m answer \u001b[38;5;241m=\u001b[39m \u001b[38;5;28;43mself\u001b[39;49m\u001b[38;5;241;43m.\u001b[39;49m\u001b[43mgateway_client\u001b[49m\u001b[38;5;241;43m.\u001b[39;49m\u001b[43msend_command\u001b[49m\u001b[43m(\u001b[49m\u001b[43mcommand\u001b[49m\u001b[43m)\u001b[49m\n\u001b[1;32m   1304\u001b[0m return_value \u001b[38;5;241m=\u001b[39m get_return_value(\n\u001b[1;32m   1305\u001b[0m     answer, \u001b[38;5;28mself\u001b[39m\u001b[38;5;241m.\u001b[39mgateway_client, \u001b[38;5;28mself\u001b[39m\u001b[38;5;241m.\u001b[39mtarget_id, \u001b[38;5;28mself\u001b[39m\u001b[38;5;241m.\u001b[39mname)\n\u001b[1;32m   1307\u001b[0m \u001b[38;5;28;01mfor\u001b[39;00m temp_arg \u001b[38;5;129;01min\u001b[39;00m temp_args:\n",
      "File \u001b[0;32m/usr/local/lib/python3.9/dist-packages/py4j/java_gateway.py:1033\u001b[0m, in \u001b[0;36mGatewayClient.send_command\u001b[0;34m(self, command, retry, binary)\u001b[0m\n\u001b[1;32m   1031\u001b[0m connection \u001b[38;5;241m=\u001b[39m \u001b[38;5;28mself\u001b[39m\u001b[38;5;241m.\u001b[39m_get_connection()\n\u001b[1;32m   1032\u001b[0m \u001b[38;5;28;01mtry\u001b[39;00m:\n\u001b[0;32m-> 1033\u001b[0m     response \u001b[38;5;241m=\u001b[39m \u001b[43mconnection\u001b[49m\u001b[38;5;241;43m.\u001b[39;49m\u001b[43msend_command\u001b[49m\u001b[43m(\u001b[49m\u001b[43mcommand\u001b[49m\u001b[43m)\u001b[49m\n\u001b[1;32m   1034\u001b[0m     \u001b[38;5;28;01mif\u001b[39;00m binary:\n\u001b[1;32m   1035\u001b[0m         \u001b[38;5;28;01mreturn\u001b[39;00m response, \u001b[38;5;28mself\u001b[39m\u001b[38;5;241m.\u001b[39m_create_connection_guard(connection)\n",
      "File \u001b[0;32m/usr/local/lib/python3.9/dist-packages/py4j/java_gateway.py:1200\u001b[0m, in \u001b[0;36mGatewayConnection.send_command\u001b[0;34m(self, command)\u001b[0m\n\u001b[1;32m   1196\u001b[0m     \u001b[38;5;28;01mraise\u001b[39;00m Py4JNetworkError(\n\u001b[1;32m   1197\u001b[0m         \u001b[38;5;124m\"\u001b[39m\u001b[38;5;124mError while sending\u001b[39m\u001b[38;5;124m\"\u001b[39m, e, proto\u001b[38;5;241m.\u001b[39mERROR_ON_SEND)\n\u001b[1;32m   1199\u001b[0m \u001b[38;5;28;01mtry\u001b[39;00m:\n\u001b[0;32m-> 1200\u001b[0m     answer \u001b[38;5;241m=\u001b[39m smart_decode(\u001b[38;5;28;43mself\u001b[39;49m\u001b[38;5;241;43m.\u001b[39;49m\u001b[43mstream\u001b[49m\u001b[38;5;241;43m.\u001b[39;49m\u001b[43mreadline\u001b[49m\u001b[43m(\u001b[49m\u001b[43m)\u001b[49m[:\u001b[38;5;241m-\u001b[39m\u001b[38;5;241m1\u001b[39m])\n\u001b[1;32m   1201\u001b[0m     logger\u001b[38;5;241m.\u001b[39mdebug(\u001b[38;5;124m\"\u001b[39m\u001b[38;5;124mAnswer received: \u001b[39m\u001b[38;5;132;01m{0}\u001b[39;00m\u001b[38;5;124m\"\u001b[39m\u001b[38;5;241m.\u001b[39mformat(answer))\n\u001b[1;32m   1202\u001b[0m     \u001b[38;5;28;01mif\u001b[39;00m answer\u001b[38;5;241m.\u001b[39mstartswith(proto\u001b[38;5;241m.\u001b[39mRETURN_MESSAGE):\n",
      "File \u001b[0;32m/usr/lib/python3.9/socket.py:704\u001b[0m, in \u001b[0;36mSocketIO.readinto\u001b[0;34m(self, b)\u001b[0m\n\u001b[1;32m    702\u001b[0m \u001b[38;5;28;01mwhile\u001b[39;00m \u001b[38;5;28;01mTrue\u001b[39;00m:\n\u001b[1;32m    703\u001b[0m     \u001b[38;5;28;01mtry\u001b[39;00m:\n\u001b[0;32m--> 704\u001b[0m         \u001b[38;5;28;01mreturn\u001b[39;00m \u001b[38;5;28;43mself\u001b[39;49m\u001b[38;5;241;43m.\u001b[39;49m\u001b[43m_sock\u001b[49m\u001b[38;5;241;43m.\u001b[39;49m\u001b[43mrecv_into\u001b[49m\u001b[43m(\u001b[49m\u001b[43mb\u001b[49m\u001b[43m)\u001b[49m\n\u001b[1;32m    705\u001b[0m     \u001b[38;5;28;01mexcept\u001b[39;00m timeout:\n\u001b[1;32m    706\u001b[0m         \u001b[38;5;28mself\u001b[39m\u001b[38;5;241m.\u001b[39m_timeout_occurred \u001b[38;5;241m=\u001b[39m \u001b[38;5;28;01mTrue\u001b[39;00m\n",
      "\u001b[0;31mKeyboardInterrupt\u001b[0m: "
     ]
    }
   ],
   "source": [
    "# Train the pipeline\n",
    "model = pipeline.fit(trainingData_weighted)"
   ]
  },
  {
   "cell_type": "code",
   "execution_count": null,
   "metadata": {
    "id": "gPqvQsJL7jV3"
   },
   "outputs": [],
   "source": [
    "# Save the model\n",
    "model.write().overwrite().save(\"models/cluster_models/sentiment_analysis_rf\")"
   ]
  },
  {
   "cell_type": "code",
   "execution_count": null,
   "metadata": {
    "id": "7tpxoe-dsklN"
   },
   "outputs": [],
   "source": [
    "model = PipelineModel.load(\"models/cluster_models/sentiment_analysis_rf\")"
   ]
  },
  {
   "cell_type": "code",
   "execution_count": null,
   "metadata": {
    "id": "2pbtoeuLot0A"
   },
   "outputs": [],
   "source": [
    "# Make predictions on the test data\n",
    "predictions = model.transform(testData)"
   ]
  },
  {
   "cell_type": "code",
   "execution_count": null,
   "metadata": {
    "colab": {
     "base_uri": "https://localhost:8080/"
    },
    "id": "9-IMevGUDoyJ",
    "outputId": "04639924-df40-4deb-9e35-ae50cf914e87"
   },
   "outputs": [],
   "source": [
    "predictions.groupBy(\"prediction_text\").count().show()"
   ]
  },
  {
   "cell_type": "code",
   "execution_count": null,
   "metadata": {
    "colab": {
     "base_uri": "https://localhost:8080/"
    },
    "id": "C4KrS9YBovmW",
    "outputId": "a763b2b7-2ff2-4421-c054-c1bd35649142"
   },
   "outputs": [],
   "source": [
    "# Evaluate the model\n",
    "evaluator = MulticlassClassificationEvaluator(labelCol=\"label\", predictionCol=\"prediction\", metricName=\"accuracy\")\n",
    "accuracy = evaluator.evaluate(predictions)\n",
    "precision = evaluator.evaluate(predictions, {evaluator.metricName: \"weightedPrecision\"})\n",
    "recall = evaluator.evaluate(predictions, {evaluator.metricName: \"weightedRecall\"})\n",
    "f1_score = evaluator.evaluate(predictions, {evaluator.metricName: \"f1\"})\n",
    "print(f\"Accuracy: {accuracy}, Precision: {precision}, Recall: {recall}, F1 Score: {f1_score}\")"
   ]
  },
  {
   "cell_type": "markdown",
   "metadata": {
    "id": "iIGM4R-71sMA"
   },
   "source": [
    "## Using HuggingFace"
   ]
  },
  {
   "cell_type": "code",
   "execution_count": null,
   "metadata": {
    "colab": {
     "base_uri": "https://localhost:8080/",
     "height": 365,
     "referenced_widgets": [
      "63d152dffe95452f917e12386ba76f29",
      "99322646fcda4b8bbc2753ec02db298c",
      "39cafd22b11a41389629a3adcebc18f3",
      "818406d9b5a14219b4b4eca87ce587ae",
      "c512869b4464410291f54a29ea7ca03c",
      "5cdc339afcc34f7098eb757ae89de2ca",
      "df765570ccba4176ac362f7e71cb730d",
      "5ddd2a3165894a81b75bdb5c2c4e1d5e",
      "b07066c9bfd048529aa8293f7d26d7f8",
      "b302c5199c0a475e8ef508f70bc40fbb",
      "4d3fbd8aa2b4448c8cf1d57310b8bdbc",
      "b0aa48ff1e3c4e788cd5cf2e2bb5e27c",
      "5d1ee43c5aa745fbaa483612cb209332",
      "b866c42a9756494e93bb75a0bfcbd007",
      "5fb03a8f33e14ccd8e34a79218177d43",
      "51a4fbab99f74252b9139e6c21bf5cf8",
      "aa6834e61d554d34bc4bb70b8c5f7a3f",
      "aedddbc845464830a8939139ebba29c7",
      "7e8e2fe723844c30beeeeaae054e6019",
      "49511874209f4775a7c9936569dd7703",
      "930f2bc711864e3fbb4eafac5ebac552",
      "1f992e8089214824b3898a570d35533a",
      "5cdd8c0953c24ec6b71d860efb4c1a38",
      "08fb58217ac740d1b4c34960fc449841",
      "212c94996c1b4cdfac6d1e3c09b15156",
      "ef10b666915c44b7867cc0bb7b62f664",
      "ba3a803e40ed407e97dab43a4d29270e",
      "cde3632cee104598b05ebb0b91174c72",
      "6310cfc50e514c27a937c582299afa9d",
      "c2e95758020546569d410b667d99e96b",
      "355d26389b0645659582d7d998bb0214",
      "f6668f96a513461682e8d845b0077480",
      "e4639c7cf0934f1ab7aa6bb3f37ab64a",
      "79a8a101960b4ae781f393b923c1806e",
      "cff9b28e95e646a4afeda36353fcc3cd",
      "fc2219c8b3724f258e55e0eb2ac79e4d",
      "9f59040a3a9f45d9ac8e71293e2f6649",
      "415e6e30fd7942e980452321116889b0",
      "c7697e904a6345ff90626a17b1f34263",
      "05d69e5aa008488cb496e35ae471c258",
      "a87ba901e9ee4f86a6e97b67bdfe0270",
      "a75b5e90b0f64aa19366133f3e91029c",
      "f8eb3886760947019d23cefd18b70544",
      "b027c1cdb2cd47259d2a4d2c169dc6ba",
      "49e01b86b06c440497fb466b4389a0ae",
      "1ed9600d469747d783e9d03e73e9202f",
      "0041853f89844a66b0af8306324d100e",
      "c7f6e8b8a5904a058d1d743ea0c41095",
      "e30498a246dd4ec78f1f582b065d984d",
      "828cdbe33b8346efa1a724a7cae2611f",
      "4fbefead50594f4aa5b974a1d88ec945",
      "c7c9017695a842b7aca635c0dad3859c",
      "90a6b5fa2cc04f3b9a0f3d65c95ac4d2",
      "a12a39c698154e199b97377dcc2d5b3e",
      "10888c4e1d3f4148920c4cd325fda62a",
      "a9121ee3c01e4e6b9102a5a1ee2fb0e2",
      "1ea95bfc524d4605a4b0c931e6c4933a",
      "fc9f65ccdd3f4d8886af6ab0e25daa53",
      "2bf0142ea53d47f6a4b46b398d914b6f",
      "1f5c21f731c94584939f55c98ee4bd09",
      "20cb78fbc58c431882c6d47b8e6d9d8f",
      "ccc98894992142d78df60589f3ffe0d4",
      "328f2612adb144fe97e9243778304246",
      "4b6f2b766a8c42b99838145c0bf4e240",
      "db138ab164cb40c0a5309ca6d3fe4996",
      "bfc904d07ae6474b95ab0b0b5e09e961",
      "f19c96bed94543918c221cb017a3d87d",
      "727d5c917bdb4acfaa912c7ae669b8b5",
      "7e81ec7c9a8648caa77b602311114aba",
      "f4c15194774f476c9caf00b39ca40c14",
      "df00ef2234f94f6b8be1f4b9d4bb855a",
      "4fd5527b084a46b5aacb7d0790a5dad0",
      "db01dd9de5f043feaf9c87daa9758dda",
      "ad5ce418e8fb423a81a6c98beeae7bff",
      "b9a005cfe07b4a1399c1ff9fbe0f8732",
      "7fc72565314c452f99630ecbacf98ef6",
      "3f32b75b5cac4a82ae9ca98cba69a765"
     ]
    },
    "id": "I_fS-C371sMB",
    "outputId": "e7d49253-c16f-48fc-8600-a931255ff4a7"
   },
   "outputs": [],
   "source": [
    "# Use a pipeline as a high-level helper\n",
    "from transformers import pipeline\n",
    "\n",
    "sentiment_analysis = pipeline(\"text-classification\", model=\"mrm8488/distilroberta-finetuned-financial-news-sentiment-analysis\", max_length=512, truncation=True)"
   ]
  },
  {
   "cell_type": "code",
   "execution_count": null,
   "metadata": {
    "id": "zEraUvkGNgPE"
   },
   "outputs": [],
   "source": [
    "@F.pandas_udf('string')\n",
    "def sentiment_udf(texts: pd.Series) -> pd.Series:\n",
    "  translations = [result['label'] for result in sentiment_analysis(texts.to_list())]\n",
    "  return pd.Series(translations)"
   ]
  },
  {
   "cell_type": "code",
   "execution_count": null,
   "metadata": {
    "colab": {
     "base_uri": "https://localhost:8080/"
    },
    "id": "rnZcp0Mjsoys",
    "outputId": "e926723b-3ced-4fc3-bbd8-919df9808277"
   },
   "outputs": [],
   "source": [
    "predictions.show()"
   ]
  },
  {
   "cell_type": "code",
   "execution_count": null,
   "metadata": {
    "id": "AksM0NaVqFJK"
   },
   "outputs": [],
   "source": [
    "predictions = predictions.withColumn(\"bert-sentiment\", sentiment_udf(predictions.text))"
   ]
  },
  {
   "cell_type": "code",
   "execution_count": null,
   "metadata": {
    "colab": {
     "base_uri": "https://localhost:8080/"
    },
    "id": "I5FP4_fU3dzw",
    "outputId": "ecf5d290-4a27-498e-dab3-3d1d7288398a"
   },
   "outputs": [],
   "source": [
    "predictions.show()"
   ]
  },
  {
   "cell_type": "markdown",
   "metadata": {
    "id": "MR5XXEo6rGXm"
   },
   "source": [
    "# Recommandation System with ALS algorithm"
   ]
  },
  {
   "cell_type": "code",
   "execution_count": null,
   "metadata": {
    "id": "GluQd4G3rFYs"
   },
   "outputs": [],
   "source": []
  },
  {
   "cell_type": "markdown",
   "metadata": {
    "id": "aEW70e561sMC"
   },
   "source": [
    "# Code already written in the notebook (old)"
   ]
  },
  {
   "cell_type": "markdown",
   "metadata": {
    "id": "QloOQW9s1sMC"
   },
   "source": [
    "## Filter Rows and columns\n",
    "\n"
   ]
  },
  {
   "cell_type": "code",
   "execution_count": null,
   "metadata": {
    "id": "ry6e-J5m1sMC"
   },
   "outputs": [],
   "source": [
    "df_business = df_business.select(\"business_id\",\"name\", \"stars\",\n",
    "                                 \"review_count\", \"attributes\",\n",
    "                                 \"categories\", \"city\").withColumnRenamed(\"stars\", \"stars_restaurant\")\n",
    "\n",
    "df_business = df_business.filter((df_business['city'] == 'Toronto') & (df_business.categories.contains('Restaurants'))).drop('city')"
   ]
  },
  {
   "cell_type": "code",
   "execution_count": null,
   "metadata": {
    "id": "gxTA1FFO1sMC"
   },
   "outputs": [],
   "source": [
    "df_review = df_review.join(df_business, on='business_id', how='inner')"
   ]
  },
  {
   "cell_type": "markdown",
   "metadata": {
    "id": "KfR_WXVA1sMC"
   },
   "source": [
    "Lets make a quick visualisation to the basic elements of our review table."
   ]
  },
  {
   "cell_type": "code",
   "execution_count": null,
   "metadata": {
    "id": "nqN2svW71sMD"
   },
   "outputs": [],
   "source": [
    "df_review.select(['business_id', 'user_id', 'stars']).show()"
   ]
  },
  {
   "cell_type": "markdown",
   "metadata": {
    "id": "G8vyWfrz1sMD"
   },
   "source": [
    "## Exploratory Data Analysis\n",
    "\n"
   ]
  },
  {
   "cell_type": "code",
   "execution_count": null,
   "metadata": {
    "id": "PILaOwNv1sMD"
   },
   "outputs": [],
   "source": [
    "reviews = df_review.select('stars').collect()\n",
    "review_list = [reviews[i][0] for i in range(len(reviews))]\n",
    "\n",
    "plt.hist(review_list, bins=[0.5,1.5,2.5,3.5,4.5,5.5], alpha=0.5,\n",
    "         histtype='stepfilled', color='steelblue',\n",
    "         edgecolor='none')\n",
    "plt.ylabel('Frequency')\n",
    "plt.xlabel('Rating')\n",
    "plt.style.use('seaborn-white')"
   ]
  },
  {
   "cell_type": "markdown",
   "metadata": {
    "id": "W8Ynbk2B1sMD"
   },
   "source": [
    "Quite generous public from Toronto. Most ratings are above 3. Now lets see the the distrubtion of ratings of each restaurants."
   ]
  },
  {
   "cell_type": "code",
   "execution_count": null,
   "metadata": {
    "id": "cp8virW41sMD"
   },
   "outputs": [],
   "source": [
    "restaurant_reviews = df_business.select('stars_restaurant').collect()\n",
    "restaurant_reviews_list = [restaurant_reviews[i][0] for i in range(len(restaurant_reviews))]\n",
    "\n",
    "\n",
    "plt.hist(restaurant_reviews_list, bins=[0.5,1.5,2.5,3.5,4.5,5.5], alpha=0.5,\n",
    "         histtype='stepfilled', color='steelblue',\n",
    "         edgecolor='none')\n",
    "plt.ylabel('Frequency')\n",
    "plt.xlabel('Rating')\n",
    "plt.style.use('seaborn-white')"
   ]
  },
  {
   "cell_type": "markdown",
   "metadata": {
    "id": "m9YQV__N1sME"
   },
   "source": [
    "Here were see a more normally distributed curve. Nevertheless most restaurants do pretty well.\n",
    "Now lets visualize what are the most popular type of restaurants in Toronto. What kind of food do they serve? We will create a wordcloud."
   ]
  },
  {
   "cell_type": "code",
   "execution_count": null,
   "metadata": {
    "id": "KIcAfYrf1sME"
   },
   "outputs": [],
   "source": [
    "restaurant_categories = df_business.select('categories').collect()\n",
    "restaurant_categories_list = [restaurant_categories[i][0] for i in range(len(restaurant_categories))]"
   ]
  },
  {
   "cell_type": "code",
   "execution_count": null,
   "metadata": {
    "id": "y5h447a21sME"
   },
   "outputs": [],
   "source": [
    "text = \" \".join(review for review in restaurant_categories_list)"
   ]
  },
  {
   "cell_type": "code",
   "execution_count": null,
   "metadata": {
    "id": "B55JDbiA1sME"
   },
   "outputs": [],
   "source": [
    "from wordcloud import WordCloud, STOPWORDS, ImageColorGenerator\n",
    "\n",
    "# eliminate useless words\n",
    "text = text.replace('Restaurants', \"\")\n",
    "text = text.replace('bars', \"\")\n",
    "text = text.replace('food', \"\")\n",
    "\n",
    "\n",
    "# Generate a word cloud image\n",
    "wordcloud = WordCloud(background_color=\"white\").generate(text)\n",
    "\n",
    "# Display the generated image:\n",
    "# the matplotlib way:\n",
    "plt.figure(figsize=(10,8))\n",
    "plt.imshow(wordcloud, interpolation='bilinear')\n",
    "plt.axis(\"off\")\n",
    "plt.show()"
   ]
  },
  {
   "cell_type": "markdown",
   "metadata": {
    "id": "jLq_mVAL1sME"
   },
   "source": [
    "> ## Convert String to index\n"
   ]
  },
  {
   "cell_type": "code",
   "execution_count": null,
   "metadata": {
    "id": "Xr5ZT3se1sMF"
   },
   "outputs": [],
   "source": [
    "indexer = [StringIndexer(inputCol=column, outputCol=column+\"_index\") for column in ['business_id', 'user_id']]\n",
    "pipeline = Pipeline(stages=indexer)\n",
    "transformed = pipeline.fit(df_review).transform(df_review)\n",
    "transformed.select(['business_id', 'user_id','business_id_index', 'user_id_index'])"
   ]
  },
  {
   "cell_type": "markdown",
   "metadata": {
    "id": "N6ky59cN1sMF"
   },
   "source": [
    "## Split Dataset in train and test\n"
   ]
  },
  {
   "cell_type": "code",
   "execution_count": null,
   "metadata": {
    "id": "7rtPew9h1sMF"
   },
   "outputs": [],
   "source": [
    "(training, test) = transformed.randomSplit([0.8, 0.2])"
   ]
  },
  {
   "cell_type": "markdown",
   "metadata": {
    "id": "URJ7P5q71sMF"
   },
   "source": [
    "## Create ALS model\n"
   ]
  },
  {
   "cell_type": "code",
   "execution_count": null,
   "metadata": {
    "id": "SRNn37931sMJ"
   },
   "outputs": [],
   "source": [
    "als=ALS(maxIter=5,\n",
    "        regParam=0.09,\n",
    "        rank=25,\n",
    "        userCol=\"user_id_index\",\n",
    "        itemCol=\"business_id_index\",\n",
    "        ratingCol=\"stars\",\n",
    "        coldStartStrategy=\"drop\",\n",
    "        nonnegative=True)\n",
    "\n",
    "model=als.fit(training)"
   ]
  },
  {
   "cell_type": "markdown",
   "metadata": {
    "id": "3rq8Lg9L1sMK"
   },
   "source": [
    "## Evaluate RMSE"
   ]
  },
  {
   "cell_type": "code",
   "execution_count": null,
   "metadata": {
    "id": "n0yjedn21sMK"
   },
   "outputs": [],
   "source": [
    "evaluator=RegressionEvaluator(metricName=\"rmse\",labelCol=\"stars\",predictionCol=\"prediction\")\n",
    "predictions=model.transform(test)\n",
    "rmse=evaluator.evaluate(predictions)\n",
    "print(\"RMSE=\"+str(rmse))"
   ]
  },
  {
   "cell_type": "markdown",
   "metadata": {
    "id": "zCE_tAf01sMK"
   },
   "source": [
    "## Visualize Recommendations\n",
    "\n"
   ]
  },
  {
   "cell_type": "code",
   "execution_count": null,
   "metadata": {
    "id": "DktqkU-o1sMK"
   },
   "outputs": [],
   "source": [
    "test = model.recommendForAllUsers(20).filter(col('user_id_index')==30).select(\"recommendations\").collect()\n",
    "topRestaurants = []\n",
    "for item in test[0][0]:\n",
    "    topRestaurants.append(item.business_id_index)\n",
    "\n",
    "schema = StructType([StructField(\"business_id_index\",IntegerType(),True)])\n",
    "restaurants = spark.createDataFrame(topRestaurants,IntegerType()).toDF(\"business_id_index\")\n",
    "\n",
    "\n",
    "transformed\\\n",
    ".select(['business_id', 'user_id', 'stars', 'categories'])\\\n",
    ".filter(col('user_id_index')==30)\\\n",
    ".show()\n",
    "\n",
    "restaurants\\\n",
    ".join(transformed, on = 'business_id_index', how = 'inner')\\\n",
    ".select(['business_id', 'stars', 'categories', 'name'])\\\n",
    ".drop_duplicates(subset=['name'])\\\n",
    ".show()\n",
    "\n"
   ]
  }
 ],
 "metadata": {
  "accelerator": "GPU",
  "colab": {
   "gpuType": "T4",
   "include_colab_link": true,
   "name": "ALS Model in PySpark",
   "provenance": [],
   "toc_visible": true
  },
  "kaggle": {
   "accelerator": "none",
   "dataSources": [
    {
     "datasetId": 776642,
     "sourceId": 1337131,
     "sourceType": "datasetVersion"
    },
    {
     "datasetId": 776647,
     "sourceId": 1337140,
     "sourceType": "datasetVersion"
    },
    {
     "datasetId": 10100,
     "sourceId": 3316532,
     "sourceType": "datasetVersion"
    }
   ],
   "dockerImageVersionId": 29980,
   "isGpuEnabled": false,
   "isInternetEnabled": true,
   "language": "python",
   "sourceType": "notebook"
  },
  "kernelspec": {
   "display_name": "Python 3 (ipykernel)",
   "language": "python",
   "name": "python3"
  },
  "language_info": {
   "codemirror_mode": {
    "name": "ipython",
    "version": 3
   },
   "file_extension": ".py",
   "mimetype": "text/x-python",
   "name": "python",
   "nbconvert_exporter": "python",
   "pygments_lexer": "ipython3",
   "version": "3.9.2"
  },
  "widgets": {
   "application/vnd.jupyter.widget-state+json": {
    "0041853f89844a66b0af8306324d100e": {
     "model_module": "@jupyter-widgets/controls",
     "model_module_version": "1.5.0",
     "model_name": "FloatProgressModel",
     "state": {
      "_dom_classes": [],
      "_model_module": "@jupyter-widgets/controls",
      "_model_module_version": "1.5.0",
      "_model_name": "FloatProgressModel",
      "_view_count": null,
      "_view_module": "@jupyter-widgets/controls",
      "_view_module_version": "1.5.0",
      "_view_name": "ProgressView",
      "bar_style": "success",
      "description": "",
      "description_tooltip": null,
      "layout": "IPY_MODEL_c7c9017695a842b7aca635c0dad3859c",
      "max": 456356,
      "min": 0,
      "orientation": "horizontal",
      "style": "IPY_MODEL_90a6b5fa2cc04f3b9a0f3d65c95ac4d2",
      "value": 456356
     }
    },
    "05d69e5aa008488cb496e35ae471c258": {
     "model_module": "@jupyter-widgets/controls",
     "model_module_version": "1.5.0",
     "model_name": "DescriptionStyleModel",
     "state": {
      "_model_module": "@jupyter-widgets/controls",
      "_model_module_version": "1.5.0",
      "_model_name": "DescriptionStyleModel",
      "_view_count": null,
      "_view_module": "@jupyter-widgets/base",
      "_view_module_version": "1.2.0",
      "_view_name": "StyleView",
      "description_width": ""
     }
    },
    "08fb58217ac740d1b4c34960fc449841": {
     "model_module": "@jupyter-widgets/controls",
     "model_module_version": "1.5.0",
     "model_name": "HTMLModel",
     "state": {
      "_dom_classes": [],
      "_model_module": "@jupyter-widgets/controls",
      "_model_module_version": "1.5.0",
      "_model_name": "HTMLModel",
      "_view_count": null,
      "_view_module": "@jupyter-widgets/controls",
      "_view_module_version": "1.5.0",
      "_view_name": "HTMLView",
      "description": "",
      "description_tooltip": null,
      "layout": "IPY_MODEL_cde3632cee104598b05ebb0b91174c72",
      "placeholder": "​",
      "style": "IPY_MODEL_6310cfc50e514c27a937c582299afa9d",
      "value": "tokenizer_config.json: 100%"
     }
    },
    "10888c4e1d3f4148920c4cd325fda62a": {
     "model_module": "@jupyter-widgets/controls",
     "model_module_version": "1.5.0",
     "model_name": "DescriptionStyleModel",
     "state": {
      "_model_module": "@jupyter-widgets/controls",
      "_model_module_version": "1.5.0",
      "_model_name": "DescriptionStyleModel",
      "_view_count": null,
      "_view_module": "@jupyter-widgets/base",
      "_view_module_version": "1.2.0",
      "_view_name": "StyleView",
      "description_width": ""
     }
    },
    "1ea95bfc524d4605a4b0c931e6c4933a": {
     "model_module": "@jupyter-widgets/controls",
     "model_module_version": "1.5.0",
     "model_name": "HTMLModel",
     "state": {
      "_dom_classes": [],
      "_model_module": "@jupyter-widgets/controls",
      "_model_module_version": "1.5.0",
      "_model_name": "HTMLModel",
      "_view_count": null,
      "_view_module": "@jupyter-widgets/controls",
      "_view_module_version": "1.5.0",
      "_view_name": "HTMLView",
      "description": "",
      "description_tooltip": null,
      "layout": "IPY_MODEL_20cb78fbc58c431882c6d47b8e6d9d8f",
      "placeholder": "​",
      "style": "IPY_MODEL_ccc98894992142d78df60589f3ffe0d4",
      "value": "tokenizer.json: 100%"
     }
    },
    "1ed9600d469747d783e9d03e73e9202f": {
     "model_module": "@jupyter-widgets/controls",
     "model_module_version": "1.5.0",
     "model_name": "HTMLModel",
     "state": {
      "_dom_classes": [],
      "_model_module": "@jupyter-widgets/controls",
      "_model_module_version": "1.5.0",
      "_model_name": "HTMLModel",
      "_view_count": null,
      "_view_module": "@jupyter-widgets/controls",
      "_view_module_version": "1.5.0",
      "_view_name": "HTMLView",
      "description": "",
      "description_tooltip": null,
      "layout": "IPY_MODEL_828cdbe33b8346efa1a724a7cae2611f",
      "placeholder": "​",
      "style": "IPY_MODEL_4fbefead50594f4aa5b974a1d88ec945",
      "value": "merges.txt: 100%"
     }
    },
    "1f5c21f731c94584939f55c98ee4bd09": {
     "model_module": "@jupyter-widgets/base",
     "model_module_version": "1.2.0",
     "model_name": "LayoutModel",
     "state": {
      "_model_module": "@jupyter-widgets/base",
      "_model_module_version": "1.2.0",
      "_model_name": "LayoutModel",
      "_view_count": null,
      "_view_module": "@jupyter-widgets/base",
      "_view_module_version": "1.2.0",
      "_view_name": "LayoutView",
      "align_content": null,
      "align_items": null,
      "align_self": null,
      "border": null,
      "bottom": null,
      "display": null,
      "flex": null,
      "flex_flow": null,
      "grid_area": null,
      "grid_auto_columns": null,
      "grid_auto_flow": null,
      "grid_auto_rows": null,
      "grid_column": null,
      "grid_gap": null,
      "grid_row": null,
      "grid_template_areas": null,
      "grid_template_columns": null,
      "grid_template_rows": null,
      "height": null,
      "justify_content": null,
      "justify_items": null,
      "left": null,
      "margin": null,
      "max_height": null,
      "max_width": null,
      "min_height": null,
      "min_width": null,
      "object_fit": null,
      "object_position": null,
      "order": null,
      "overflow": null,
      "overflow_x": null,
      "overflow_y": null,
      "padding": null,
      "right": null,
      "top": null,
      "visibility": null,
      "width": null
     }
    },
    "1f992e8089214824b3898a570d35533a": {
     "model_module": "@jupyter-widgets/controls",
     "model_module_version": "1.5.0",
     "model_name": "DescriptionStyleModel",
     "state": {
      "_model_module": "@jupyter-widgets/controls",
      "_model_module_version": "1.5.0",
      "_model_name": "DescriptionStyleModel",
      "_view_count": null,
      "_view_module": "@jupyter-widgets/base",
      "_view_module_version": "1.2.0",
      "_view_name": "StyleView",
      "description_width": ""
     }
    },
    "20cb78fbc58c431882c6d47b8e6d9d8f": {
     "model_module": "@jupyter-widgets/base",
     "model_module_version": "1.2.0",
     "model_name": "LayoutModel",
     "state": {
      "_model_module": "@jupyter-widgets/base",
      "_model_module_version": "1.2.0",
      "_model_name": "LayoutModel",
      "_view_count": null,
      "_view_module": "@jupyter-widgets/base",
      "_view_module_version": "1.2.0",
      "_view_name": "LayoutView",
      "align_content": null,
      "align_items": null,
      "align_self": null,
      "border": null,
      "bottom": null,
      "display": null,
      "flex": null,
      "flex_flow": null,
      "grid_area": null,
      "grid_auto_columns": null,
      "grid_auto_flow": null,
      "grid_auto_rows": null,
      "grid_column": null,
      "grid_gap": null,
      "grid_row": null,
      "grid_template_areas": null,
      "grid_template_columns": null,
      "grid_template_rows": null,
      "height": null,
      "justify_content": null,
      "justify_items": null,
      "left": null,
      "margin": null,
      "max_height": null,
      "max_width": null,
      "min_height": null,
      "min_width": null,
      "object_fit": null,
      "object_position": null,
      "order": null,
      "overflow": null,
      "overflow_x": null,
      "overflow_y": null,
      "padding": null,
      "right": null,
      "top": null,
      "visibility": null,
      "width": null
     }
    },
    "212c94996c1b4cdfac6d1e3c09b15156": {
     "model_module": "@jupyter-widgets/controls",
     "model_module_version": "1.5.0",
     "model_name": "FloatProgressModel",
     "state": {
      "_dom_classes": [],
      "_model_module": "@jupyter-widgets/controls",
      "_model_module_version": "1.5.0",
      "_model_name": "FloatProgressModel",
      "_view_count": null,
      "_view_module": "@jupyter-widgets/controls",
      "_view_module_version": "1.5.0",
      "_view_name": "ProgressView",
      "bar_style": "success",
      "description": "",
      "description_tooltip": null,
      "layout": "IPY_MODEL_c2e95758020546569d410b667d99e96b",
      "max": 333,
      "min": 0,
      "orientation": "horizontal",
      "style": "IPY_MODEL_355d26389b0645659582d7d998bb0214",
      "value": 333
     }
    },
    "2bf0142ea53d47f6a4b46b398d914b6f": {
     "model_module": "@jupyter-widgets/controls",
     "model_module_version": "1.5.0",
     "model_name": "HTMLModel",
     "state": {
      "_dom_classes": [],
      "_model_module": "@jupyter-widgets/controls",
      "_model_module_version": "1.5.0",
      "_model_name": "HTMLModel",
      "_view_count": null,
      "_view_module": "@jupyter-widgets/controls",
      "_view_module_version": "1.5.0",
      "_view_name": "HTMLView",
      "description": "",
      "description_tooltip": null,
      "layout": "IPY_MODEL_db138ab164cb40c0a5309ca6d3fe4996",
      "placeholder": "​",
      "style": "IPY_MODEL_bfc904d07ae6474b95ab0b0b5e09e961",
      "value": " 1.36M/1.36M [00:00&lt;00:00, 26.4MB/s]"
     }
    },
    "328f2612adb144fe97e9243778304246": {
     "model_module": "@jupyter-widgets/base",
     "model_module_version": "1.2.0",
     "model_name": "LayoutModel",
     "state": {
      "_model_module": "@jupyter-widgets/base",
      "_model_module_version": "1.2.0",
      "_model_name": "LayoutModel",
      "_view_count": null,
      "_view_module": "@jupyter-widgets/base",
      "_view_module_version": "1.2.0",
      "_view_name": "LayoutView",
      "align_content": null,
      "align_items": null,
      "align_self": null,
      "border": null,
      "bottom": null,
      "display": null,
      "flex": null,
      "flex_flow": null,
      "grid_area": null,
      "grid_auto_columns": null,
      "grid_auto_flow": null,
      "grid_auto_rows": null,
      "grid_column": null,
      "grid_gap": null,
      "grid_row": null,
      "grid_template_areas": null,
      "grid_template_columns": null,
      "grid_template_rows": null,
      "height": null,
      "justify_content": null,
      "justify_items": null,
      "left": null,
      "margin": null,
      "max_height": null,
      "max_width": null,
      "min_height": null,
      "min_width": null,
      "object_fit": null,
      "object_position": null,
      "order": null,
      "overflow": null,
      "overflow_x": null,
      "overflow_y": null,
      "padding": null,
      "right": null,
      "top": null,
      "visibility": null,
      "width": null
     }
    },
    "355d26389b0645659582d7d998bb0214": {
     "model_module": "@jupyter-widgets/controls",
     "model_module_version": "1.5.0",
     "model_name": "ProgressStyleModel",
     "state": {
      "_model_module": "@jupyter-widgets/controls",
      "_model_module_version": "1.5.0",
      "_model_name": "ProgressStyleModel",
      "_view_count": null,
      "_view_module": "@jupyter-widgets/base",
      "_view_module_version": "1.2.0",
      "_view_name": "StyleView",
      "bar_color": null,
      "description_width": ""
     }
    },
    "39cafd22b11a41389629a3adcebc18f3": {
     "model_module": "@jupyter-widgets/controls",
     "model_module_version": "1.5.0",
     "model_name": "FloatProgressModel",
     "state": {
      "_dom_classes": [],
      "_model_module": "@jupyter-widgets/controls",
      "_model_module_version": "1.5.0",
      "_model_name": "FloatProgressModel",
      "_view_count": null,
      "_view_module": "@jupyter-widgets/controls",
      "_view_module_version": "1.5.0",
      "_view_name": "ProgressView",
      "bar_style": "success",
      "description": "",
      "description_tooltip": null,
      "layout": "IPY_MODEL_5ddd2a3165894a81b75bdb5c2c4e1d5e",
      "max": 933,
      "min": 0,
      "orientation": "horizontal",
      "style": "IPY_MODEL_b07066c9bfd048529aa8293f7d26d7f8",
      "value": 933
     }
    },
    "3f32b75b5cac4a82ae9ca98cba69a765": {
     "model_module": "@jupyter-widgets/controls",
     "model_module_version": "1.5.0",
     "model_name": "DescriptionStyleModel",
     "state": {
      "_model_module": "@jupyter-widgets/controls",
      "_model_module_version": "1.5.0",
      "_model_name": "DescriptionStyleModel",
      "_view_count": null,
      "_view_module": "@jupyter-widgets/base",
      "_view_module_version": "1.2.0",
      "_view_name": "StyleView",
      "description_width": ""
     }
    },
    "415e6e30fd7942e980452321116889b0": {
     "model_module": "@jupyter-widgets/base",
     "model_module_version": "1.2.0",
     "model_name": "LayoutModel",
     "state": {
      "_model_module": "@jupyter-widgets/base",
      "_model_module_version": "1.2.0",
      "_model_name": "LayoutModel",
      "_view_count": null,
      "_view_module": "@jupyter-widgets/base",
      "_view_module_version": "1.2.0",
      "_view_name": "LayoutView",
      "align_content": null,
      "align_items": null,
      "align_self": null,
      "border": null,
      "bottom": null,
      "display": null,
      "flex": null,
      "flex_flow": null,
      "grid_area": null,
      "grid_auto_columns": null,
      "grid_auto_flow": null,
      "grid_auto_rows": null,
      "grid_column": null,
      "grid_gap": null,
      "grid_row": null,
      "grid_template_areas": null,
      "grid_template_columns": null,
      "grid_template_rows": null,
      "height": null,
      "justify_content": null,
      "justify_items": null,
      "left": null,
      "margin": null,
      "max_height": null,
      "max_width": null,
      "min_height": null,
      "min_width": null,
      "object_fit": null,
      "object_position": null,
      "order": null,
      "overflow": null,
      "overflow_x": null,
      "overflow_y": null,
      "padding": null,
      "right": null,
      "top": null,
      "visibility": null,
      "width": null
     }
    },
    "49511874209f4775a7c9936569dd7703": {
     "model_module": "@jupyter-widgets/controls",
     "model_module_version": "1.5.0",
     "model_name": "ProgressStyleModel",
     "state": {
      "_model_module": "@jupyter-widgets/controls",
      "_model_module_version": "1.5.0",
      "_model_name": "ProgressStyleModel",
      "_view_count": null,
      "_view_module": "@jupyter-widgets/base",
      "_view_module_version": "1.2.0",
      "_view_name": "StyleView",
      "bar_color": null,
      "description_width": ""
     }
    },
    "49e01b86b06c440497fb466b4389a0ae": {
     "model_module": "@jupyter-widgets/controls",
     "model_module_version": "1.5.0",
     "model_name": "HBoxModel",
     "state": {
      "_dom_classes": [],
      "_model_module": "@jupyter-widgets/controls",
      "_model_module_version": "1.5.0",
      "_model_name": "HBoxModel",
      "_view_count": null,
      "_view_module": "@jupyter-widgets/controls",
      "_view_module_version": "1.5.0",
      "_view_name": "HBoxView",
      "box_style": "",
      "children": [
       "IPY_MODEL_1ed9600d469747d783e9d03e73e9202f",
       "IPY_MODEL_0041853f89844a66b0af8306324d100e",
       "IPY_MODEL_c7f6e8b8a5904a058d1d743ea0c41095"
      ],
      "layout": "IPY_MODEL_e30498a246dd4ec78f1f582b065d984d"
     }
    },
    "4b6f2b766a8c42b99838145c0bf4e240": {
     "model_module": "@jupyter-widgets/controls",
     "model_module_version": "1.5.0",
     "model_name": "ProgressStyleModel",
     "state": {
      "_model_module": "@jupyter-widgets/controls",
      "_model_module_version": "1.5.0",
      "_model_name": "ProgressStyleModel",
      "_view_count": null,
      "_view_module": "@jupyter-widgets/base",
      "_view_module_version": "1.2.0",
      "_view_name": "StyleView",
      "bar_color": null,
      "description_width": ""
     }
    },
    "4d3fbd8aa2b4448c8cf1d57310b8bdbc": {
     "model_module": "@jupyter-widgets/controls",
     "model_module_version": "1.5.0",
     "model_name": "DescriptionStyleModel",
     "state": {
      "_model_module": "@jupyter-widgets/controls",
      "_model_module_version": "1.5.0",
      "_model_name": "DescriptionStyleModel",
      "_view_count": null,
      "_view_module": "@jupyter-widgets/base",
      "_view_module_version": "1.2.0",
      "_view_name": "StyleView",
      "description_width": ""
     }
    },
    "4fbefead50594f4aa5b974a1d88ec945": {
     "model_module": "@jupyter-widgets/controls",
     "model_module_version": "1.5.0",
     "model_name": "DescriptionStyleModel",
     "state": {
      "_model_module": "@jupyter-widgets/controls",
      "_model_module_version": "1.5.0",
      "_model_name": "DescriptionStyleModel",
      "_view_count": null,
      "_view_module": "@jupyter-widgets/base",
      "_view_module_version": "1.2.0",
      "_view_name": "StyleView",
      "description_width": ""
     }
    },
    "4fd5527b084a46b5aacb7d0790a5dad0": {
     "model_module": "@jupyter-widgets/base",
     "model_module_version": "1.2.0",
     "model_name": "LayoutModel",
     "state": {
      "_model_module": "@jupyter-widgets/base",
      "_model_module_version": "1.2.0",
      "_model_name": "LayoutModel",
      "_view_count": null,
      "_view_module": "@jupyter-widgets/base",
      "_view_module_version": "1.2.0",
      "_view_name": "LayoutView",
      "align_content": null,
      "align_items": null,
      "align_self": null,
      "border": null,
      "bottom": null,
      "display": null,
      "flex": null,
      "flex_flow": null,
      "grid_area": null,
      "grid_auto_columns": null,
      "grid_auto_flow": null,
      "grid_auto_rows": null,
      "grid_column": null,
      "grid_gap": null,
      "grid_row": null,
      "grid_template_areas": null,
      "grid_template_columns": null,
      "grid_template_rows": null,
      "height": null,
      "justify_content": null,
      "justify_items": null,
      "left": null,
      "margin": null,
      "max_height": null,
      "max_width": null,
      "min_height": null,
      "min_width": null,
      "object_fit": null,
      "object_position": null,
      "order": null,
      "overflow": null,
      "overflow_x": null,
      "overflow_y": null,
      "padding": null,
      "right": null,
      "top": null,
      "visibility": null,
      "width": null
     }
    },
    "51a4fbab99f74252b9139e6c21bf5cf8": {
     "model_module": "@jupyter-widgets/base",
     "model_module_version": "1.2.0",
     "model_name": "LayoutModel",
     "state": {
      "_model_module": "@jupyter-widgets/base",
      "_model_module_version": "1.2.0",
      "_model_name": "LayoutModel",
      "_view_count": null,
      "_view_module": "@jupyter-widgets/base",
      "_view_module_version": "1.2.0",
      "_view_name": "LayoutView",
      "align_content": null,
      "align_items": null,
      "align_self": null,
      "border": null,
      "bottom": null,
      "display": null,
      "flex": null,
      "flex_flow": null,
      "grid_area": null,
      "grid_auto_columns": null,
      "grid_auto_flow": null,
      "grid_auto_rows": null,
      "grid_column": null,
      "grid_gap": null,
      "grid_row": null,
      "grid_template_areas": null,
      "grid_template_columns": null,
      "grid_template_rows": null,
      "height": null,
      "justify_content": null,
      "justify_items": null,
      "left": null,
      "margin": null,
      "max_height": null,
      "max_width": null,
      "min_height": null,
      "min_width": null,
      "object_fit": null,
      "object_position": null,
      "order": null,
      "overflow": null,
      "overflow_x": null,
      "overflow_y": null,
      "padding": null,
      "right": null,
      "top": null,
      "visibility": null,
      "width": null
     }
    },
    "5cdc339afcc34f7098eb757ae89de2ca": {
     "model_module": "@jupyter-widgets/base",
     "model_module_version": "1.2.0",
     "model_name": "LayoutModel",
     "state": {
      "_model_module": "@jupyter-widgets/base",
      "_model_module_version": "1.2.0",
      "_model_name": "LayoutModel",
      "_view_count": null,
      "_view_module": "@jupyter-widgets/base",
      "_view_module_version": "1.2.0",
      "_view_name": "LayoutView",
      "align_content": null,
      "align_items": null,
      "align_self": null,
      "border": null,
      "bottom": null,
      "display": null,
      "flex": null,
      "flex_flow": null,
      "grid_area": null,
      "grid_auto_columns": null,
      "grid_auto_flow": null,
      "grid_auto_rows": null,
      "grid_column": null,
      "grid_gap": null,
      "grid_row": null,
      "grid_template_areas": null,
      "grid_template_columns": null,
      "grid_template_rows": null,
      "height": null,
      "justify_content": null,
      "justify_items": null,
      "left": null,
      "margin": null,
      "max_height": null,
      "max_width": null,
      "min_height": null,
      "min_width": null,
      "object_fit": null,
      "object_position": null,
      "order": null,
      "overflow": null,
      "overflow_x": null,
      "overflow_y": null,
      "padding": null,
      "right": null,
      "top": null,
      "visibility": null,
      "width": null
     }
    },
    "5cdd8c0953c24ec6b71d860efb4c1a38": {
     "model_module": "@jupyter-widgets/controls",
     "model_module_version": "1.5.0",
     "model_name": "HBoxModel",
     "state": {
      "_dom_classes": [],
      "_model_module": "@jupyter-widgets/controls",
      "_model_module_version": "1.5.0",
      "_model_name": "HBoxModel",
      "_view_count": null,
      "_view_module": "@jupyter-widgets/controls",
      "_view_module_version": "1.5.0",
      "_view_name": "HBoxView",
      "box_style": "",
      "children": [
       "IPY_MODEL_08fb58217ac740d1b4c34960fc449841",
       "IPY_MODEL_212c94996c1b4cdfac6d1e3c09b15156",
       "IPY_MODEL_ef10b666915c44b7867cc0bb7b62f664"
      ],
      "layout": "IPY_MODEL_ba3a803e40ed407e97dab43a4d29270e"
     }
    },
    "5d1ee43c5aa745fbaa483612cb209332": {
     "model_module": "@jupyter-widgets/controls",
     "model_module_version": "1.5.0",
     "model_name": "HTMLModel",
     "state": {
      "_dom_classes": [],
      "_model_module": "@jupyter-widgets/controls",
      "_model_module_version": "1.5.0",
      "_model_name": "HTMLModel",
      "_view_count": null,
      "_view_module": "@jupyter-widgets/controls",
      "_view_module_version": "1.5.0",
      "_view_name": "HTMLView",
      "description": "",
      "description_tooltip": null,
      "layout": "IPY_MODEL_aa6834e61d554d34bc4bb70b8c5f7a3f",
      "placeholder": "​",
      "style": "IPY_MODEL_aedddbc845464830a8939139ebba29c7",
      "value": "model.safetensors: 100%"
     }
    },
    "5ddd2a3165894a81b75bdb5c2c4e1d5e": {
     "model_module": "@jupyter-widgets/base",
     "model_module_version": "1.2.0",
     "model_name": "LayoutModel",
     "state": {
      "_model_module": "@jupyter-widgets/base",
      "_model_module_version": "1.2.0",
      "_model_name": "LayoutModel",
      "_view_count": null,
      "_view_module": "@jupyter-widgets/base",
      "_view_module_version": "1.2.0",
      "_view_name": "LayoutView",
      "align_content": null,
      "align_items": null,
      "align_self": null,
      "border": null,
      "bottom": null,
      "display": null,
      "flex": null,
      "flex_flow": null,
      "grid_area": null,
      "grid_auto_columns": null,
      "grid_auto_flow": null,
      "grid_auto_rows": null,
      "grid_column": null,
      "grid_gap": null,
      "grid_row": null,
      "grid_template_areas": null,
      "grid_template_columns": null,
      "grid_template_rows": null,
      "height": null,
      "justify_content": null,
      "justify_items": null,
      "left": null,
      "margin": null,
      "max_height": null,
      "max_width": null,
      "min_height": null,
      "min_width": null,
      "object_fit": null,
      "object_position": null,
      "order": null,
      "overflow": null,
      "overflow_x": null,
      "overflow_y": null,
      "padding": null,
      "right": null,
      "top": null,
      "visibility": null,
      "width": null
     }
    },
    "5fb03a8f33e14ccd8e34a79218177d43": {
     "model_module": "@jupyter-widgets/controls",
     "model_module_version": "1.5.0",
     "model_name": "HTMLModel",
     "state": {
      "_dom_classes": [],
      "_model_module": "@jupyter-widgets/controls",
      "_model_module_version": "1.5.0",
      "_model_name": "HTMLModel",
      "_view_count": null,
      "_view_module": "@jupyter-widgets/controls",
      "_view_module_version": "1.5.0",
      "_view_name": "HTMLView",
      "description": "",
      "description_tooltip": null,
      "layout": "IPY_MODEL_930f2bc711864e3fbb4eafac5ebac552",
      "placeholder": "​",
      "style": "IPY_MODEL_1f992e8089214824b3898a570d35533a",
      "value": " 328M/328M [00:05&lt;00:00, 55.1MB/s]"
     }
    },
    "6310cfc50e514c27a937c582299afa9d": {
     "model_module": "@jupyter-widgets/controls",
     "model_module_version": "1.5.0",
     "model_name": "DescriptionStyleModel",
     "state": {
      "_model_module": "@jupyter-widgets/controls",
      "_model_module_version": "1.5.0",
      "_model_name": "DescriptionStyleModel",
      "_view_count": null,
      "_view_module": "@jupyter-widgets/base",
      "_view_module_version": "1.2.0",
      "_view_name": "StyleView",
      "description_width": ""
     }
    },
    "63d152dffe95452f917e12386ba76f29": {
     "model_module": "@jupyter-widgets/controls",
     "model_module_version": "1.5.0",
     "model_name": "HBoxModel",
     "state": {
      "_dom_classes": [],
      "_model_module": "@jupyter-widgets/controls",
      "_model_module_version": "1.5.0",
      "_model_name": "HBoxModel",
      "_view_count": null,
      "_view_module": "@jupyter-widgets/controls",
      "_view_module_version": "1.5.0",
      "_view_name": "HBoxView",
      "box_style": "",
      "children": [
       "IPY_MODEL_99322646fcda4b8bbc2753ec02db298c",
       "IPY_MODEL_39cafd22b11a41389629a3adcebc18f3",
       "IPY_MODEL_818406d9b5a14219b4b4eca87ce587ae"
      ],
      "layout": "IPY_MODEL_c512869b4464410291f54a29ea7ca03c"
     }
    },
    "727d5c917bdb4acfaa912c7ae669b8b5": {
     "model_module": "@jupyter-widgets/controls",
     "model_module_version": "1.5.0",
     "model_name": "HTMLModel",
     "state": {
      "_dom_classes": [],
      "_model_module": "@jupyter-widgets/controls",
      "_model_module_version": "1.5.0",
      "_model_name": "HTMLModel",
      "_view_count": null,
      "_view_module": "@jupyter-widgets/controls",
      "_view_module_version": "1.5.0",
      "_view_name": "HTMLView",
      "description": "",
      "description_tooltip": null,
      "layout": "IPY_MODEL_4fd5527b084a46b5aacb7d0790a5dad0",
      "placeholder": "​",
      "style": "IPY_MODEL_db01dd9de5f043feaf9c87daa9758dda",
      "value": "special_tokens_map.json: 100%"
     }
    },
    "79a8a101960b4ae781f393b923c1806e": {
     "model_module": "@jupyter-widgets/controls",
     "model_module_version": "1.5.0",
     "model_name": "HBoxModel",
     "state": {
      "_dom_classes": [],
      "_model_module": "@jupyter-widgets/controls",
      "_model_module_version": "1.5.0",
      "_model_name": "HBoxModel",
      "_view_count": null,
      "_view_module": "@jupyter-widgets/controls",
      "_view_module_version": "1.5.0",
      "_view_name": "HBoxView",
      "box_style": "",
      "children": [
       "IPY_MODEL_cff9b28e95e646a4afeda36353fcc3cd",
       "IPY_MODEL_fc2219c8b3724f258e55e0eb2ac79e4d",
       "IPY_MODEL_9f59040a3a9f45d9ac8e71293e2f6649"
      ],
      "layout": "IPY_MODEL_415e6e30fd7942e980452321116889b0"
     }
    },
    "7e81ec7c9a8648caa77b602311114aba": {
     "model_module": "@jupyter-widgets/controls",
     "model_module_version": "1.5.0",
     "model_name": "FloatProgressModel",
     "state": {
      "_dom_classes": [],
      "_model_module": "@jupyter-widgets/controls",
      "_model_module_version": "1.5.0",
      "_model_name": "FloatProgressModel",
      "_view_count": null,
      "_view_module": "@jupyter-widgets/controls",
      "_view_module_version": "1.5.0",
      "_view_name": "ProgressView",
      "bar_style": "success",
      "description": "",
      "description_tooltip": null,
      "layout": "IPY_MODEL_ad5ce418e8fb423a81a6c98beeae7bff",
      "max": 239,
      "min": 0,
      "orientation": "horizontal",
      "style": "IPY_MODEL_b9a005cfe07b4a1399c1ff9fbe0f8732",
      "value": 239
     }
    },
    "7e8e2fe723844c30beeeeaae054e6019": {
     "model_module": "@jupyter-widgets/base",
     "model_module_version": "1.2.0",
     "model_name": "LayoutModel",
     "state": {
      "_model_module": "@jupyter-widgets/base",
      "_model_module_version": "1.2.0",
      "_model_name": "LayoutModel",
      "_view_count": null,
      "_view_module": "@jupyter-widgets/base",
      "_view_module_version": "1.2.0",
      "_view_name": "LayoutView",
      "align_content": null,
      "align_items": null,
      "align_self": null,
      "border": null,
      "bottom": null,
      "display": null,
      "flex": null,
      "flex_flow": null,
      "grid_area": null,
      "grid_auto_columns": null,
      "grid_auto_flow": null,
      "grid_auto_rows": null,
      "grid_column": null,
      "grid_gap": null,
      "grid_row": null,
      "grid_template_areas": null,
      "grid_template_columns": null,
      "grid_template_rows": null,
      "height": null,
      "justify_content": null,
      "justify_items": null,
      "left": null,
      "margin": null,
      "max_height": null,
      "max_width": null,
      "min_height": null,
      "min_width": null,
      "object_fit": null,
      "object_position": null,
      "order": null,
      "overflow": null,
      "overflow_x": null,
      "overflow_y": null,
      "padding": null,
      "right": null,
      "top": null,
      "visibility": null,
      "width": null
     }
    },
    "7fc72565314c452f99630ecbacf98ef6": {
     "model_module": "@jupyter-widgets/base",
     "model_module_version": "1.2.0",
     "model_name": "LayoutModel",
     "state": {
      "_model_module": "@jupyter-widgets/base",
      "_model_module_version": "1.2.0",
      "_model_name": "LayoutModel",
      "_view_count": null,
      "_view_module": "@jupyter-widgets/base",
      "_view_module_version": "1.2.0",
      "_view_name": "LayoutView",
      "align_content": null,
      "align_items": null,
      "align_self": null,
      "border": null,
      "bottom": null,
      "display": null,
      "flex": null,
      "flex_flow": null,
      "grid_area": null,
      "grid_auto_columns": null,
      "grid_auto_flow": null,
      "grid_auto_rows": null,
      "grid_column": null,
      "grid_gap": null,
      "grid_row": null,
      "grid_template_areas": null,
      "grid_template_columns": null,
      "grid_template_rows": null,
      "height": null,
      "justify_content": null,
      "justify_items": null,
      "left": null,
      "margin": null,
      "max_height": null,
      "max_width": null,
      "min_height": null,
      "min_width": null,
      "object_fit": null,
      "object_position": null,
      "order": null,
      "overflow": null,
      "overflow_x": null,
      "overflow_y": null,
      "padding": null,
      "right": null,
      "top": null,
      "visibility": null,
      "width": null
     }
    },
    "818406d9b5a14219b4b4eca87ce587ae": {
     "model_module": "@jupyter-widgets/controls",
     "model_module_version": "1.5.0",
     "model_name": "HTMLModel",
     "state": {
      "_dom_classes": [],
      "_model_module": "@jupyter-widgets/controls",
      "_model_module_version": "1.5.0",
      "_model_name": "HTMLModel",
      "_view_count": null,
      "_view_module": "@jupyter-widgets/controls",
      "_view_module_version": "1.5.0",
      "_view_name": "HTMLView",
      "description": "",
      "description_tooltip": null,
      "layout": "IPY_MODEL_b302c5199c0a475e8ef508f70bc40fbb",
      "placeholder": "​",
      "style": "IPY_MODEL_4d3fbd8aa2b4448c8cf1d57310b8bdbc",
      "value": " 933/933 [00:00&lt;00:00, 23.7kB/s]"
     }
    },
    "828cdbe33b8346efa1a724a7cae2611f": {
     "model_module": "@jupyter-widgets/base",
     "model_module_version": "1.2.0",
     "model_name": "LayoutModel",
     "state": {
      "_model_module": "@jupyter-widgets/base",
      "_model_module_version": "1.2.0",
      "_model_name": "LayoutModel",
      "_view_count": null,
      "_view_module": "@jupyter-widgets/base",
      "_view_module_version": "1.2.0",
      "_view_name": "LayoutView",
      "align_content": null,
      "align_items": null,
      "align_self": null,
      "border": null,
      "bottom": null,
      "display": null,
      "flex": null,
      "flex_flow": null,
      "grid_area": null,
      "grid_auto_columns": null,
      "grid_auto_flow": null,
      "grid_auto_rows": null,
      "grid_column": null,
      "grid_gap": null,
      "grid_row": null,
      "grid_template_areas": null,
      "grid_template_columns": null,
      "grid_template_rows": null,
      "height": null,
      "justify_content": null,
      "justify_items": null,
      "left": null,
      "margin": null,
      "max_height": null,
      "max_width": null,
      "min_height": null,
      "min_width": null,
      "object_fit": null,
      "object_position": null,
      "order": null,
      "overflow": null,
      "overflow_x": null,
      "overflow_y": null,
      "padding": null,
      "right": null,
      "top": null,
      "visibility": null,
      "width": null
     }
    },
    "90a6b5fa2cc04f3b9a0f3d65c95ac4d2": {
     "model_module": "@jupyter-widgets/controls",
     "model_module_version": "1.5.0",
     "model_name": "ProgressStyleModel",
     "state": {
      "_model_module": "@jupyter-widgets/controls",
      "_model_module_version": "1.5.0",
      "_model_name": "ProgressStyleModel",
      "_view_count": null,
      "_view_module": "@jupyter-widgets/base",
      "_view_module_version": "1.2.0",
      "_view_name": "StyleView",
      "bar_color": null,
      "description_width": ""
     }
    },
    "930f2bc711864e3fbb4eafac5ebac552": {
     "model_module": "@jupyter-widgets/base",
     "model_module_version": "1.2.0",
     "model_name": "LayoutModel",
     "state": {
      "_model_module": "@jupyter-widgets/base",
      "_model_module_version": "1.2.0",
      "_model_name": "LayoutModel",
      "_view_count": null,
      "_view_module": "@jupyter-widgets/base",
      "_view_module_version": "1.2.0",
      "_view_name": "LayoutView",
      "align_content": null,
      "align_items": null,
      "align_self": null,
      "border": null,
      "bottom": null,
      "display": null,
      "flex": null,
      "flex_flow": null,
      "grid_area": null,
      "grid_auto_columns": null,
      "grid_auto_flow": null,
      "grid_auto_rows": null,
      "grid_column": null,
      "grid_gap": null,
      "grid_row": null,
      "grid_template_areas": null,
      "grid_template_columns": null,
      "grid_template_rows": null,
      "height": null,
      "justify_content": null,
      "justify_items": null,
      "left": null,
      "margin": null,
      "max_height": null,
      "max_width": null,
      "min_height": null,
      "min_width": null,
      "object_fit": null,
      "object_position": null,
      "order": null,
      "overflow": null,
      "overflow_x": null,
      "overflow_y": null,
      "padding": null,
      "right": null,
      "top": null,
      "visibility": null,
      "width": null
     }
    },
    "99322646fcda4b8bbc2753ec02db298c": {
     "model_module": "@jupyter-widgets/controls",
     "model_module_version": "1.5.0",
     "model_name": "HTMLModel",
     "state": {
      "_dom_classes": [],
      "_model_module": "@jupyter-widgets/controls",
      "_model_module_version": "1.5.0",
      "_model_name": "HTMLModel",
      "_view_count": null,
      "_view_module": "@jupyter-widgets/controls",
      "_view_module_version": "1.5.0",
      "_view_name": "HTMLView",
      "description": "",
      "description_tooltip": null,
      "layout": "IPY_MODEL_5cdc339afcc34f7098eb757ae89de2ca",
      "placeholder": "​",
      "style": "IPY_MODEL_df765570ccba4176ac362f7e71cb730d",
      "value": "config.json: 100%"
     }
    },
    "9f59040a3a9f45d9ac8e71293e2f6649": {
     "model_module": "@jupyter-widgets/controls",
     "model_module_version": "1.5.0",
     "model_name": "HTMLModel",
     "state": {
      "_dom_classes": [],
      "_model_module": "@jupyter-widgets/controls",
      "_model_module_version": "1.5.0",
      "_model_name": "HTMLModel",
      "_view_count": null,
      "_view_module": "@jupyter-widgets/controls",
      "_view_module_version": "1.5.0",
      "_view_name": "HTMLView",
      "description": "",
      "description_tooltip": null,
      "layout": "IPY_MODEL_f8eb3886760947019d23cefd18b70544",
      "placeholder": "​",
      "style": "IPY_MODEL_b027c1cdb2cd47259d2a4d2c169dc6ba",
      "value": " 798k/798k [00:00&lt;00:00, 7.93MB/s]"
     }
    },
    "a12a39c698154e199b97377dcc2d5b3e": {
     "model_module": "@jupyter-widgets/base",
     "model_module_version": "1.2.0",
     "model_name": "LayoutModel",
     "state": {
      "_model_module": "@jupyter-widgets/base",
      "_model_module_version": "1.2.0",
      "_model_name": "LayoutModel",
      "_view_count": null,
      "_view_module": "@jupyter-widgets/base",
      "_view_module_version": "1.2.0",
      "_view_name": "LayoutView",
      "align_content": null,
      "align_items": null,
      "align_self": null,
      "border": null,
      "bottom": null,
      "display": null,
      "flex": null,
      "flex_flow": null,
      "grid_area": null,
      "grid_auto_columns": null,
      "grid_auto_flow": null,
      "grid_auto_rows": null,
      "grid_column": null,
      "grid_gap": null,
      "grid_row": null,
      "grid_template_areas": null,
      "grid_template_columns": null,
      "grid_template_rows": null,
      "height": null,
      "justify_content": null,
      "justify_items": null,
      "left": null,
      "margin": null,
      "max_height": null,
      "max_width": null,
      "min_height": null,
      "min_width": null,
      "object_fit": null,
      "object_position": null,
      "order": null,
      "overflow": null,
      "overflow_x": null,
      "overflow_y": null,
      "padding": null,
      "right": null,
      "top": null,
      "visibility": null,
      "width": null
     }
    },
    "a75b5e90b0f64aa19366133f3e91029c": {
     "model_module": "@jupyter-widgets/controls",
     "model_module_version": "1.5.0",
     "model_name": "ProgressStyleModel",
     "state": {
      "_model_module": "@jupyter-widgets/controls",
      "_model_module_version": "1.5.0",
      "_model_name": "ProgressStyleModel",
      "_view_count": null,
      "_view_module": "@jupyter-widgets/base",
      "_view_module_version": "1.2.0",
      "_view_name": "StyleView",
      "bar_color": null,
      "description_width": ""
     }
    },
    "a87ba901e9ee4f86a6e97b67bdfe0270": {
     "model_module": "@jupyter-widgets/base",
     "model_module_version": "1.2.0",
     "model_name": "LayoutModel",
     "state": {
      "_model_module": "@jupyter-widgets/base",
      "_model_module_version": "1.2.0",
      "_model_name": "LayoutModel",
      "_view_count": null,
      "_view_module": "@jupyter-widgets/base",
      "_view_module_version": "1.2.0",
      "_view_name": "LayoutView",
      "align_content": null,
      "align_items": null,
      "align_self": null,
      "border": null,
      "bottom": null,
      "display": null,
      "flex": null,
      "flex_flow": null,
      "grid_area": null,
      "grid_auto_columns": null,
      "grid_auto_flow": null,
      "grid_auto_rows": null,
      "grid_column": null,
      "grid_gap": null,
      "grid_row": null,
      "grid_template_areas": null,
      "grid_template_columns": null,
      "grid_template_rows": null,
      "height": null,
      "justify_content": null,
      "justify_items": null,
      "left": null,
      "margin": null,
      "max_height": null,
      "max_width": null,
      "min_height": null,
      "min_width": null,
      "object_fit": null,
      "object_position": null,
      "order": null,
      "overflow": null,
      "overflow_x": null,
      "overflow_y": null,
      "padding": null,
      "right": null,
      "top": null,
      "visibility": null,
      "width": null
     }
    },
    "a9121ee3c01e4e6b9102a5a1ee2fb0e2": {
     "model_module": "@jupyter-widgets/controls",
     "model_module_version": "1.5.0",
     "model_name": "HBoxModel",
     "state": {
      "_dom_classes": [],
      "_model_module": "@jupyter-widgets/controls",
      "_model_module_version": "1.5.0",
      "_model_name": "HBoxModel",
      "_view_count": null,
      "_view_module": "@jupyter-widgets/controls",
      "_view_module_version": "1.5.0",
      "_view_name": "HBoxView",
      "box_style": "",
      "children": [
       "IPY_MODEL_1ea95bfc524d4605a4b0c931e6c4933a",
       "IPY_MODEL_fc9f65ccdd3f4d8886af6ab0e25daa53",
       "IPY_MODEL_2bf0142ea53d47f6a4b46b398d914b6f"
      ],
      "layout": "IPY_MODEL_1f5c21f731c94584939f55c98ee4bd09"
     }
    },
    "aa6834e61d554d34bc4bb70b8c5f7a3f": {
     "model_module": "@jupyter-widgets/base",
     "model_module_version": "1.2.0",
     "model_name": "LayoutModel",
     "state": {
      "_model_module": "@jupyter-widgets/base",
      "_model_module_version": "1.2.0",
      "_model_name": "LayoutModel",
      "_view_count": null,
      "_view_module": "@jupyter-widgets/base",
      "_view_module_version": "1.2.0",
      "_view_name": "LayoutView",
      "align_content": null,
      "align_items": null,
      "align_self": null,
      "border": null,
      "bottom": null,
      "display": null,
      "flex": null,
      "flex_flow": null,
      "grid_area": null,
      "grid_auto_columns": null,
      "grid_auto_flow": null,
      "grid_auto_rows": null,
      "grid_column": null,
      "grid_gap": null,
      "grid_row": null,
      "grid_template_areas": null,
      "grid_template_columns": null,
      "grid_template_rows": null,
      "height": null,
      "justify_content": null,
      "justify_items": null,
      "left": null,
      "margin": null,
      "max_height": null,
      "max_width": null,
      "min_height": null,
      "min_width": null,
      "object_fit": null,
      "object_position": null,
      "order": null,
      "overflow": null,
      "overflow_x": null,
      "overflow_y": null,
      "padding": null,
      "right": null,
      "top": null,
      "visibility": null,
      "width": null
     }
    },
    "ad5ce418e8fb423a81a6c98beeae7bff": {
     "model_module": "@jupyter-widgets/base",
     "model_module_version": "1.2.0",
     "model_name": "LayoutModel",
     "state": {
      "_model_module": "@jupyter-widgets/base",
      "_model_module_version": "1.2.0",
      "_model_name": "LayoutModel",
      "_view_count": null,
      "_view_module": "@jupyter-widgets/base",
      "_view_module_version": "1.2.0",
      "_view_name": "LayoutView",
      "align_content": null,
      "align_items": null,
      "align_self": null,
      "border": null,
      "bottom": null,
      "display": null,
      "flex": null,
      "flex_flow": null,
      "grid_area": null,
      "grid_auto_columns": null,
      "grid_auto_flow": null,
      "grid_auto_rows": null,
      "grid_column": null,
      "grid_gap": null,
      "grid_row": null,
      "grid_template_areas": null,
      "grid_template_columns": null,
      "grid_template_rows": null,
      "height": null,
      "justify_content": null,
      "justify_items": null,
      "left": null,
      "margin": null,
      "max_height": null,
      "max_width": null,
      "min_height": null,
      "min_width": null,
      "object_fit": null,
      "object_position": null,
      "order": null,
      "overflow": null,
      "overflow_x": null,
      "overflow_y": null,
      "padding": null,
      "right": null,
      "top": null,
      "visibility": null,
      "width": null
     }
    },
    "aedddbc845464830a8939139ebba29c7": {
     "model_module": "@jupyter-widgets/controls",
     "model_module_version": "1.5.0",
     "model_name": "DescriptionStyleModel",
     "state": {
      "_model_module": "@jupyter-widgets/controls",
      "_model_module_version": "1.5.0",
      "_model_name": "DescriptionStyleModel",
      "_view_count": null,
      "_view_module": "@jupyter-widgets/base",
      "_view_module_version": "1.2.0",
      "_view_name": "StyleView",
      "description_width": ""
     }
    },
    "b027c1cdb2cd47259d2a4d2c169dc6ba": {
     "model_module": "@jupyter-widgets/controls",
     "model_module_version": "1.5.0",
     "model_name": "DescriptionStyleModel",
     "state": {
      "_model_module": "@jupyter-widgets/controls",
      "_model_module_version": "1.5.0",
      "_model_name": "DescriptionStyleModel",
      "_view_count": null,
      "_view_module": "@jupyter-widgets/base",
      "_view_module_version": "1.2.0",
      "_view_name": "StyleView",
      "description_width": ""
     }
    },
    "b07066c9bfd048529aa8293f7d26d7f8": {
     "model_module": "@jupyter-widgets/controls",
     "model_module_version": "1.5.0",
     "model_name": "ProgressStyleModel",
     "state": {
      "_model_module": "@jupyter-widgets/controls",
      "_model_module_version": "1.5.0",
      "_model_name": "ProgressStyleModel",
      "_view_count": null,
      "_view_module": "@jupyter-widgets/base",
      "_view_module_version": "1.2.0",
      "_view_name": "StyleView",
      "bar_color": null,
      "description_width": ""
     }
    },
    "b0aa48ff1e3c4e788cd5cf2e2bb5e27c": {
     "model_module": "@jupyter-widgets/controls",
     "model_module_version": "1.5.0",
     "model_name": "HBoxModel",
     "state": {
      "_dom_classes": [],
      "_model_module": "@jupyter-widgets/controls",
      "_model_module_version": "1.5.0",
      "_model_name": "HBoxModel",
      "_view_count": null,
      "_view_module": "@jupyter-widgets/controls",
      "_view_module_version": "1.5.0",
      "_view_name": "HBoxView",
      "box_style": "",
      "children": [
       "IPY_MODEL_5d1ee43c5aa745fbaa483612cb209332",
       "IPY_MODEL_b866c42a9756494e93bb75a0bfcbd007",
       "IPY_MODEL_5fb03a8f33e14ccd8e34a79218177d43"
      ],
      "layout": "IPY_MODEL_51a4fbab99f74252b9139e6c21bf5cf8"
     }
    },
    "b302c5199c0a475e8ef508f70bc40fbb": {
     "model_module": "@jupyter-widgets/base",
     "model_module_version": "1.2.0",
     "model_name": "LayoutModel",
     "state": {
      "_model_module": "@jupyter-widgets/base",
      "_model_module_version": "1.2.0",
      "_model_name": "LayoutModel",
      "_view_count": null,
      "_view_module": "@jupyter-widgets/base",
      "_view_module_version": "1.2.0",
      "_view_name": "LayoutView",
      "align_content": null,
      "align_items": null,
      "align_self": null,
      "border": null,
      "bottom": null,
      "display": null,
      "flex": null,
      "flex_flow": null,
      "grid_area": null,
      "grid_auto_columns": null,
      "grid_auto_flow": null,
      "grid_auto_rows": null,
      "grid_column": null,
      "grid_gap": null,
      "grid_row": null,
      "grid_template_areas": null,
      "grid_template_columns": null,
      "grid_template_rows": null,
      "height": null,
      "justify_content": null,
      "justify_items": null,
      "left": null,
      "margin": null,
      "max_height": null,
      "max_width": null,
      "min_height": null,
      "min_width": null,
      "object_fit": null,
      "object_position": null,
      "order": null,
      "overflow": null,
      "overflow_x": null,
      "overflow_y": null,
      "padding": null,
      "right": null,
      "top": null,
      "visibility": null,
      "width": null
     }
    },
    "b866c42a9756494e93bb75a0bfcbd007": {
     "model_module": "@jupyter-widgets/controls",
     "model_module_version": "1.5.0",
     "model_name": "FloatProgressModel",
     "state": {
      "_dom_classes": [],
      "_model_module": "@jupyter-widgets/controls",
      "_model_module_version": "1.5.0",
      "_model_name": "FloatProgressModel",
      "_view_count": null,
      "_view_module": "@jupyter-widgets/controls",
      "_view_module_version": "1.5.0",
      "_view_name": "ProgressView",
      "bar_style": "success",
      "description": "",
      "description_tooltip": null,
      "layout": "IPY_MODEL_7e8e2fe723844c30beeeeaae054e6019",
      "max": 328499560,
      "min": 0,
      "orientation": "horizontal",
      "style": "IPY_MODEL_49511874209f4775a7c9936569dd7703",
      "value": 328499560
     }
    },
    "b9a005cfe07b4a1399c1ff9fbe0f8732": {
     "model_module": "@jupyter-widgets/controls",
     "model_module_version": "1.5.0",
     "model_name": "ProgressStyleModel",
     "state": {
      "_model_module": "@jupyter-widgets/controls",
      "_model_module_version": "1.5.0",
      "_model_name": "ProgressStyleModel",
      "_view_count": null,
      "_view_module": "@jupyter-widgets/base",
      "_view_module_version": "1.2.0",
      "_view_name": "StyleView",
      "bar_color": null,
      "description_width": ""
     }
    },
    "ba3a803e40ed407e97dab43a4d29270e": {
     "model_module": "@jupyter-widgets/base",
     "model_module_version": "1.2.0",
     "model_name": "LayoutModel",
     "state": {
      "_model_module": "@jupyter-widgets/base",
      "_model_module_version": "1.2.0",
      "_model_name": "LayoutModel",
      "_view_count": null,
      "_view_module": "@jupyter-widgets/base",
      "_view_module_version": "1.2.0",
      "_view_name": "LayoutView",
      "align_content": null,
      "align_items": null,
      "align_self": null,
      "border": null,
      "bottom": null,
      "display": null,
      "flex": null,
      "flex_flow": null,
      "grid_area": null,
      "grid_auto_columns": null,
      "grid_auto_flow": null,
      "grid_auto_rows": null,
      "grid_column": null,
      "grid_gap": null,
      "grid_row": null,
      "grid_template_areas": null,
      "grid_template_columns": null,
      "grid_template_rows": null,
      "height": null,
      "justify_content": null,
      "justify_items": null,
      "left": null,
      "margin": null,
      "max_height": null,
      "max_width": null,
      "min_height": null,
      "min_width": null,
      "object_fit": null,
      "object_position": null,
      "order": null,
      "overflow": null,
      "overflow_x": null,
      "overflow_y": null,
      "padding": null,
      "right": null,
      "top": null,
      "visibility": null,
      "width": null
     }
    },
    "bfc904d07ae6474b95ab0b0b5e09e961": {
     "model_module": "@jupyter-widgets/controls",
     "model_module_version": "1.5.0",
     "model_name": "DescriptionStyleModel",
     "state": {
      "_model_module": "@jupyter-widgets/controls",
      "_model_module_version": "1.5.0",
      "_model_name": "DescriptionStyleModel",
      "_view_count": null,
      "_view_module": "@jupyter-widgets/base",
      "_view_module_version": "1.2.0",
      "_view_name": "StyleView",
      "description_width": ""
     }
    },
    "c2e95758020546569d410b667d99e96b": {
     "model_module": "@jupyter-widgets/base",
     "model_module_version": "1.2.0",
     "model_name": "LayoutModel",
     "state": {
      "_model_module": "@jupyter-widgets/base",
      "_model_module_version": "1.2.0",
      "_model_name": "LayoutModel",
      "_view_count": null,
      "_view_module": "@jupyter-widgets/base",
      "_view_module_version": "1.2.0",
      "_view_name": "LayoutView",
      "align_content": null,
      "align_items": null,
      "align_self": null,
      "border": null,
      "bottom": null,
      "display": null,
      "flex": null,
      "flex_flow": null,
      "grid_area": null,
      "grid_auto_columns": null,
      "grid_auto_flow": null,
      "grid_auto_rows": null,
      "grid_column": null,
      "grid_gap": null,
      "grid_row": null,
      "grid_template_areas": null,
      "grid_template_columns": null,
      "grid_template_rows": null,
      "height": null,
      "justify_content": null,
      "justify_items": null,
      "left": null,
      "margin": null,
      "max_height": null,
      "max_width": null,
      "min_height": null,
      "min_width": null,
      "object_fit": null,
      "object_position": null,
      "order": null,
      "overflow": null,
      "overflow_x": null,
      "overflow_y": null,
      "padding": null,
      "right": null,
      "top": null,
      "visibility": null,
      "width": null
     }
    },
    "c512869b4464410291f54a29ea7ca03c": {
     "model_module": "@jupyter-widgets/base",
     "model_module_version": "1.2.0",
     "model_name": "LayoutModel",
     "state": {
      "_model_module": "@jupyter-widgets/base",
      "_model_module_version": "1.2.0",
      "_model_name": "LayoutModel",
      "_view_count": null,
      "_view_module": "@jupyter-widgets/base",
      "_view_module_version": "1.2.0",
      "_view_name": "LayoutView",
      "align_content": null,
      "align_items": null,
      "align_self": null,
      "border": null,
      "bottom": null,
      "display": null,
      "flex": null,
      "flex_flow": null,
      "grid_area": null,
      "grid_auto_columns": null,
      "grid_auto_flow": null,
      "grid_auto_rows": null,
      "grid_column": null,
      "grid_gap": null,
      "grid_row": null,
      "grid_template_areas": null,
      "grid_template_columns": null,
      "grid_template_rows": null,
      "height": null,
      "justify_content": null,
      "justify_items": null,
      "left": null,
      "margin": null,
      "max_height": null,
      "max_width": null,
      "min_height": null,
      "min_width": null,
      "object_fit": null,
      "object_position": null,
      "order": null,
      "overflow": null,
      "overflow_x": null,
      "overflow_y": null,
      "padding": null,
      "right": null,
      "top": null,
      "visibility": null,
      "width": null
     }
    },
    "c7697e904a6345ff90626a17b1f34263": {
     "model_module": "@jupyter-widgets/base",
     "model_module_version": "1.2.0",
     "model_name": "LayoutModel",
     "state": {
      "_model_module": "@jupyter-widgets/base",
      "_model_module_version": "1.2.0",
      "_model_name": "LayoutModel",
      "_view_count": null,
      "_view_module": "@jupyter-widgets/base",
      "_view_module_version": "1.2.0",
      "_view_name": "LayoutView",
      "align_content": null,
      "align_items": null,
      "align_self": null,
      "border": null,
      "bottom": null,
      "display": null,
      "flex": null,
      "flex_flow": null,
      "grid_area": null,
      "grid_auto_columns": null,
      "grid_auto_flow": null,
      "grid_auto_rows": null,
      "grid_column": null,
      "grid_gap": null,
      "grid_row": null,
      "grid_template_areas": null,
      "grid_template_columns": null,
      "grid_template_rows": null,
      "height": null,
      "justify_content": null,
      "justify_items": null,
      "left": null,
      "margin": null,
      "max_height": null,
      "max_width": null,
      "min_height": null,
      "min_width": null,
      "object_fit": null,
      "object_position": null,
      "order": null,
      "overflow": null,
      "overflow_x": null,
      "overflow_y": null,
      "padding": null,
      "right": null,
      "top": null,
      "visibility": null,
      "width": null
     }
    },
    "c7c9017695a842b7aca635c0dad3859c": {
     "model_module": "@jupyter-widgets/base",
     "model_module_version": "1.2.0",
     "model_name": "LayoutModel",
     "state": {
      "_model_module": "@jupyter-widgets/base",
      "_model_module_version": "1.2.0",
      "_model_name": "LayoutModel",
      "_view_count": null,
      "_view_module": "@jupyter-widgets/base",
      "_view_module_version": "1.2.0",
      "_view_name": "LayoutView",
      "align_content": null,
      "align_items": null,
      "align_self": null,
      "border": null,
      "bottom": null,
      "display": null,
      "flex": null,
      "flex_flow": null,
      "grid_area": null,
      "grid_auto_columns": null,
      "grid_auto_flow": null,
      "grid_auto_rows": null,
      "grid_column": null,
      "grid_gap": null,
      "grid_row": null,
      "grid_template_areas": null,
      "grid_template_columns": null,
      "grid_template_rows": null,
      "height": null,
      "justify_content": null,
      "justify_items": null,
      "left": null,
      "margin": null,
      "max_height": null,
      "max_width": null,
      "min_height": null,
      "min_width": null,
      "object_fit": null,
      "object_position": null,
      "order": null,
      "overflow": null,
      "overflow_x": null,
      "overflow_y": null,
      "padding": null,
      "right": null,
      "top": null,
      "visibility": null,
      "width": null
     }
    },
    "c7f6e8b8a5904a058d1d743ea0c41095": {
     "model_module": "@jupyter-widgets/controls",
     "model_module_version": "1.5.0",
     "model_name": "HTMLModel",
     "state": {
      "_dom_classes": [],
      "_model_module": "@jupyter-widgets/controls",
      "_model_module_version": "1.5.0",
      "_model_name": "HTMLModel",
      "_view_count": null,
      "_view_module": "@jupyter-widgets/controls",
      "_view_module_version": "1.5.0",
      "_view_name": "HTMLView",
      "description": "",
      "description_tooltip": null,
      "layout": "IPY_MODEL_a12a39c698154e199b97377dcc2d5b3e",
      "placeholder": "​",
      "style": "IPY_MODEL_10888c4e1d3f4148920c4cd325fda62a",
      "value": " 456k/456k [00:00&lt;00:00, 7.87MB/s]"
     }
    },
    "ccc98894992142d78df60589f3ffe0d4": {
     "model_module": "@jupyter-widgets/controls",
     "model_module_version": "1.5.0",
     "model_name": "DescriptionStyleModel",
     "state": {
      "_model_module": "@jupyter-widgets/controls",
      "_model_module_version": "1.5.0",
      "_model_name": "DescriptionStyleModel",
      "_view_count": null,
      "_view_module": "@jupyter-widgets/base",
      "_view_module_version": "1.2.0",
      "_view_name": "StyleView",
      "description_width": ""
     }
    },
    "cde3632cee104598b05ebb0b91174c72": {
     "model_module": "@jupyter-widgets/base",
     "model_module_version": "1.2.0",
     "model_name": "LayoutModel",
     "state": {
      "_model_module": "@jupyter-widgets/base",
      "_model_module_version": "1.2.0",
      "_model_name": "LayoutModel",
      "_view_count": null,
      "_view_module": "@jupyter-widgets/base",
      "_view_module_version": "1.2.0",
      "_view_name": "LayoutView",
      "align_content": null,
      "align_items": null,
      "align_self": null,
      "border": null,
      "bottom": null,
      "display": null,
      "flex": null,
      "flex_flow": null,
      "grid_area": null,
      "grid_auto_columns": null,
      "grid_auto_flow": null,
      "grid_auto_rows": null,
      "grid_column": null,
      "grid_gap": null,
      "grid_row": null,
      "grid_template_areas": null,
      "grid_template_columns": null,
      "grid_template_rows": null,
      "height": null,
      "justify_content": null,
      "justify_items": null,
      "left": null,
      "margin": null,
      "max_height": null,
      "max_width": null,
      "min_height": null,
      "min_width": null,
      "object_fit": null,
      "object_position": null,
      "order": null,
      "overflow": null,
      "overflow_x": null,
      "overflow_y": null,
      "padding": null,
      "right": null,
      "top": null,
      "visibility": null,
      "width": null
     }
    },
    "cff9b28e95e646a4afeda36353fcc3cd": {
     "model_module": "@jupyter-widgets/controls",
     "model_module_version": "1.5.0",
     "model_name": "HTMLModel",
     "state": {
      "_dom_classes": [],
      "_model_module": "@jupyter-widgets/controls",
      "_model_module_version": "1.5.0",
      "_model_name": "HTMLModel",
      "_view_count": null,
      "_view_module": "@jupyter-widgets/controls",
      "_view_module_version": "1.5.0",
      "_view_name": "HTMLView",
      "description": "",
      "description_tooltip": null,
      "layout": "IPY_MODEL_c7697e904a6345ff90626a17b1f34263",
      "placeholder": "​",
      "style": "IPY_MODEL_05d69e5aa008488cb496e35ae471c258",
      "value": "vocab.json: 100%"
     }
    },
    "db01dd9de5f043feaf9c87daa9758dda": {
     "model_module": "@jupyter-widgets/controls",
     "model_module_version": "1.5.0",
     "model_name": "DescriptionStyleModel",
     "state": {
      "_model_module": "@jupyter-widgets/controls",
      "_model_module_version": "1.5.0",
      "_model_name": "DescriptionStyleModel",
      "_view_count": null,
      "_view_module": "@jupyter-widgets/base",
      "_view_module_version": "1.2.0",
      "_view_name": "StyleView",
      "description_width": ""
     }
    },
    "db138ab164cb40c0a5309ca6d3fe4996": {
     "model_module": "@jupyter-widgets/base",
     "model_module_version": "1.2.0",
     "model_name": "LayoutModel",
     "state": {
      "_model_module": "@jupyter-widgets/base",
      "_model_module_version": "1.2.0",
      "_model_name": "LayoutModel",
      "_view_count": null,
      "_view_module": "@jupyter-widgets/base",
      "_view_module_version": "1.2.0",
      "_view_name": "LayoutView",
      "align_content": null,
      "align_items": null,
      "align_self": null,
      "border": null,
      "bottom": null,
      "display": null,
      "flex": null,
      "flex_flow": null,
      "grid_area": null,
      "grid_auto_columns": null,
      "grid_auto_flow": null,
      "grid_auto_rows": null,
      "grid_column": null,
      "grid_gap": null,
      "grid_row": null,
      "grid_template_areas": null,
      "grid_template_columns": null,
      "grid_template_rows": null,
      "height": null,
      "justify_content": null,
      "justify_items": null,
      "left": null,
      "margin": null,
      "max_height": null,
      "max_width": null,
      "min_height": null,
      "min_width": null,
      "object_fit": null,
      "object_position": null,
      "order": null,
      "overflow": null,
      "overflow_x": null,
      "overflow_y": null,
      "padding": null,
      "right": null,
      "top": null,
      "visibility": null,
      "width": null
     }
    },
    "df00ef2234f94f6b8be1f4b9d4bb855a": {
     "model_module": "@jupyter-widgets/base",
     "model_module_version": "1.2.0",
     "model_name": "LayoutModel",
     "state": {
      "_model_module": "@jupyter-widgets/base",
      "_model_module_version": "1.2.0",
      "_model_name": "LayoutModel",
      "_view_count": null,
      "_view_module": "@jupyter-widgets/base",
      "_view_module_version": "1.2.0",
      "_view_name": "LayoutView",
      "align_content": null,
      "align_items": null,
      "align_self": null,
      "border": null,
      "bottom": null,
      "display": null,
      "flex": null,
      "flex_flow": null,
      "grid_area": null,
      "grid_auto_columns": null,
      "grid_auto_flow": null,
      "grid_auto_rows": null,
      "grid_column": null,
      "grid_gap": null,
      "grid_row": null,
      "grid_template_areas": null,
      "grid_template_columns": null,
      "grid_template_rows": null,
      "height": null,
      "justify_content": null,
      "justify_items": null,
      "left": null,
      "margin": null,
      "max_height": null,
      "max_width": null,
      "min_height": null,
      "min_width": null,
      "object_fit": null,
      "object_position": null,
      "order": null,
      "overflow": null,
      "overflow_x": null,
      "overflow_y": null,
      "padding": null,
      "right": null,
      "top": null,
      "visibility": null,
      "width": null
     }
    },
    "df765570ccba4176ac362f7e71cb730d": {
     "model_module": "@jupyter-widgets/controls",
     "model_module_version": "1.5.0",
     "model_name": "DescriptionStyleModel",
     "state": {
      "_model_module": "@jupyter-widgets/controls",
      "_model_module_version": "1.5.0",
      "_model_name": "DescriptionStyleModel",
      "_view_count": null,
      "_view_module": "@jupyter-widgets/base",
      "_view_module_version": "1.2.0",
      "_view_name": "StyleView",
      "description_width": ""
     }
    },
    "e30498a246dd4ec78f1f582b065d984d": {
     "model_module": "@jupyter-widgets/base",
     "model_module_version": "1.2.0",
     "model_name": "LayoutModel",
     "state": {
      "_model_module": "@jupyter-widgets/base",
      "_model_module_version": "1.2.0",
      "_model_name": "LayoutModel",
      "_view_count": null,
      "_view_module": "@jupyter-widgets/base",
      "_view_module_version": "1.2.0",
      "_view_name": "LayoutView",
      "align_content": null,
      "align_items": null,
      "align_self": null,
      "border": null,
      "bottom": null,
      "display": null,
      "flex": null,
      "flex_flow": null,
      "grid_area": null,
      "grid_auto_columns": null,
      "grid_auto_flow": null,
      "grid_auto_rows": null,
      "grid_column": null,
      "grid_gap": null,
      "grid_row": null,
      "grid_template_areas": null,
      "grid_template_columns": null,
      "grid_template_rows": null,
      "height": null,
      "justify_content": null,
      "justify_items": null,
      "left": null,
      "margin": null,
      "max_height": null,
      "max_width": null,
      "min_height": null,
      "min_width": null,
      "object_fit": null,
      "object_position": null,
      "order": null,
      "overflow": null,
      "overflow_x": null,
      "overflow_y": null,
      "padding": null,
      "right": null,
      "top": null,
      "visibility": null,
      "width": null
     }
    },
    "e4639c7cf0934f1ab7aa6bb3f37ab64a": {
     "model_module": "@jupyter-widgets/controls",
     "model_module_version": "1.5.0",
     "model_name": "DescriptionStyleModel",
     "state": {
      "_model_module": "@jupyter-widgets/controls",
      "_model_module_version": "1.5.0",
      "_model_name": "DescriptionStyleModel",
      "_view_count": null,
      "_view_module": "@jupyter-widgets/base",
      "_view_module_version": "1.2.0",
      "_view_name": "StyleView",
      "description_width": ""
     }
    },
    "ef10b666915c44b7867cc0bb7b62f664": {
     "model_module": "@jupyter-widgets/controls",
     "model_module_version": "1.5.0",
     "model_name": "HTMLModel",
     "state": {
      "_dom_classes": [],
      "_model_module": "@jupyter-widgets/controls",
      "_model_module_version": "1.5.0",
      "_model_name": "HTMLModel",
      "_view_count": null,
      "_view_module": "@jupyter-widgets/controls",
      "_view_module_version": "1.5.0",
      "_view_name": "HTMLView",
      "description": "",
      "description_tooltip": null,
      "layout": "IPY_MODEL_f6668f96a513461682e8d845b0077480",
      "placeholder": "​",
      "style": "IPY_MODEL_e4639c7cf0934f1ab7aa6bb3f37ab64a",
      "value": " 333/333 [00:00&lt;00:00, 7.16kB/s]"
     }
    },
    "f19c96bed94543918c221cb017a3d87d": {
     "model_module": "@jupyter-widgets/controls",
     "model_module_version": "1.5.0",
     "model_name": "HBoxModel",
     "state": {
      "_dom_classes": [],
      "_model_module": "@jupyter-widgets/controls",
      "_model_module_version": "1.5.0",
      "_model_name": "HBoxModel",
      "_view_count": null,
      "_view_module": "@jupyter-widgets/controls",
      "_view_module_version": "1.5.0",
      "_view_name": "HBoxView",
      "box_style": "",
      "children": [
       "IPY_MODEL_727d5c917bdb4acfaa912c7ae669b8b5",
       "IPY_MODEL_7e81ec7c9a8648caa77b602311114aba",
       "IPY_MODEL_f4c15194774f476c9caf00b39ca40c14"
      ],
      "layout": "IPY_MODEL_df00ef2234f94f6b8be1f4b9d4bb855a"
     }
    },
    "f4c15194774f476c9caf00b39ca40c14": {
     "model_module": "@jupyter-widgets/controls",
     "model_module_version": "1.5.0",
     "model_name": "HTMLModel",
     "state": {
      "_dom_classes": [],
      "_model_module": "@jupyter-widgets/controls",
      "_model_module_version": "1.5.0",
      "_model_name": "HTMLModel",
      "_view_count": null,
      "_view_module": "@jupyter-widgets/controls",
      "_view_module_version": "1.5.0",
      "_view_name": "HTMLView",
      "description": "",
      "description_tooltip": null,
      "layout": "IPY_MODEL_7fc72565314c452f99630ecbacf98ef6",
      "placeholder": "​",
      "style": "IPY_MODEL_3f32b75b5cac4a82ae9ca98cba69a765",
      "value": " 239/239 [00:00&lt;00:00, 5.82kB/s]"
     }
    },
    "f6668f96a513461682e8d845b0077480": {
     "model_module": "@jupyter-widgets/base",
     "model_module_version": "1.2.0",
     "model_name": "LayoutModel",
     "state": {
      "_model_module": "@jupyter-widgets/base",
      "_model_module_version": "1.2.0",
      "_model_name": "LayoutModel",
      "_view_count": null,
      "_view_module": "@jupyter-widgets/base",
      "_view_module_version": "1.2.0",
      "_view_name": "LayoutView",
      "align_content": null,
      "align_items": null,
      "align_self": null,
      "border": null,
      "bottom": null,
      "display": null,
      "flex": null,
      "flex_flow": null,
      "grid_area": null,
      "grid_auto_columns": null,
      "grid_auto_flow": null,
      "grid_auto_rows": null,
      "grid_column": null,
      "grid_gap": null,
      "grid_row": null,
      "grid_template_areas": null,
      "grid_template_columns": null,
      "grid_template_rows": null,
      "height": null,
      "justify_content": null,
      "justify_items": null,
      "left": null,
      "margin": null,
      "max_height": null,
      "max_width": null,
      "min_height": null,
      "min_width": null,
      "object_fit": null,
      "object_position": null,
      "order": null,
      "overflow": null,
      "overflow_x": null,
      "overflow_y": null,
      "padding": null,
      "right": null,
      "top": null,
      "visibility": null,
      "width": null
     }
    },
    "f8eb3886760947019d23cefd18b70544": {
     "model_module": "@jupyter-widgets/base",
     "model_module_version": "1.2.0",
     "model_name": "LayoutModel",
     "state": {
      "_model_module": "@jupyter-widgets/base",
      "_model_module_version": "1.2.0",
      "_model_name": "LayoutModel",
      "_view_count": null,
      "_view_module": "@jupyter-widgets/base",
      "_view_module_version": "1.2.0",
      "_view_name": "LayoutView",
      "align_content": null,
      "align_items": null,
      "align_self": null,
      "border": null,
      "bottom": null,
      "display": null,
      "flex": null,
      "flex_flow": null,
      "grid_area": null,
      "grid_auto_columns": null,
      "grid_auto_flow": null,
      "grid_auto_rows": null,
      "grid_column": null,
      "grid_gap": null,
      "grid_row": null,
      "grid_template_areas": null,
      "grid_template_columns": null,
      "grid_template_rows": null,
      "height": null,
      "justify_content": null,
      "justify_items": null,
      "left": null,
      "margin": null,
      "max_height": null,
      "max_width": null,
      "min_height": null,
      "min_width": null,
      "object_fit": null,
      "object_position": null,
      "order": null,
      "overflow": null,
      "overflow_x": null,
      "overflow_y": null,
      "padding": null,
      "right": null,
      "top": null,
      "visibility": null,
      "width": null
     }
    },
    "fc2219c8b3724f258e55e0eb2ac79e4d": {
     "model_module": "@jupyter-widgets/controls",
     "model_module_version": "1.5.0",
     "model_name": "FloatProgressModel",
     "state": {
      "_dom_classes": [],
      "_model_module": "@jupyter-widgets/controls",
      "_model_module_version": "1.5.0",
      "_model_name": "FloatProgressModel",
      "_view_count": null,
      "_view_module": "@jupyter-widgets/controls",
      "_view_module_version": "1.5.0",
      "_view_name": "ProgressView",
      "bar_style": "success",
      "description": "",
      "description_tooltip": null,
      "layout": "IPY_MODEL_a87ba901e9ee4f86a6e97b67bdfe0270",
      "max": 798293,
      "min": 0,
      "orientation": "horizontal",
      "style": "IPY_MODEL_a75b5e90b0f64aa19366133f3e91029c",
      "value": 798293
     }
    },
    "fc9f65ccdd3f4d8886af6ab0e25daa53": {
     "model_module": "@jupyter-widgets/controls",
     "model_module_version": "1.5.0",
     "model_name": "FloatProgressModel",
     "state": {
      "_dom_classes": [],
      "_model_module": "@jupyter-widgets/controls",
      "_model_module_version": "1.5.0",
      "_model_name": "FloatProgressModel",
      "_view_count": null,
      "_view_module": "@jupyter-widgets/controls",
      "_view_module_version": "1.5.0",
      "_view_name": "ProgressView",
      "bar_style": "success",
      "description": "",
      "description_tooltip": null,
      "layout": "IPY_MODEL_328f2612adb144fe97e9243778304246",
      "max": 1355932,
      "min": 0,
      "orientation": "horizontal",
      "style": "IPY_MODEL_4b6f2b766a8c42b99838145c0bf4e240",
      "value": 1355932
     }
    }
   }
  }
 },
 "nbformat": 4,
 "nbformat_minor": 4
}
